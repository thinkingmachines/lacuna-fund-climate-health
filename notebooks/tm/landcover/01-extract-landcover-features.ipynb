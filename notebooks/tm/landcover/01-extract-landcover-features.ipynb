{
 "cells": [
  {
   "cell_type": "code",
   "execution_count": 1,
   "metadata": {},
   "outputs": [
    {
     "name": "stderr",
     "output_type": "stream",
     "text": [
      "/home/abbymoreno/miniconda3/envs/lacuna-fund/lib/python3.9/site-packages/geopandas/_compat.py:111: UserWarning: The Shapely GEOS version (3.11.1-CAPI-1.17.1) is incompatible with the GEOS version PyGEOS was compiled with (3.10.4-CAPI-1.16.2). Conversions between both will be slow.\n",
      "  warnings.warn(\n"
     ]
    }
   ],
   "source": [
    "import pandas as pd\n",
    "import geopandas as gpd\n",
    "from shapely.wkb import loads as wkb_loads\n",
    "from shapely.geometry import Polygon\n",
    "from shapely import wkt\n",
    "from geowrangler.validation import GeometryValidation\n",
    "import rasterio\n",
    "from rasterio.features import shapes\n",
    "\n",
    "import os\n",
    "from pathlib import Path"
   ]
  },
  {
   "cell_type": "markdown",
   "metadata": {},
   "source": [
    "# Generating Landcover features\n",
    "\n",
    "The Landcover dataset we will be using is from [ESA WorldCover 2021](https://worldcover2021.esa.int/downloader). Extract the rasters for the lacuna cities before beginning this notebook."
   ]
  },
  {
   "cell_type": "markdown",
   "metadata": {},
   "source": [
    "## Set input parameters"
   ]
  },
  {
   "cell_type": "code",
   "execution_count": 2,
   "metadata": {},
   "outputs": [],
   "source": [
    "RASTERS_PATH = Path(\"../../../data/02-raw/esa/\")\n",
    "\n",
    "PROJ_CRS = \"EPSG:4326\"\n",
    "LOCAL_CRS = \"EPSG:3123\""
   ]
  },
  {
   "cell_type": "code",
   "execution_count": 3,
   "metadata": {},
   "outputs": [
    {
     "name": "stdout",
     "output_type": "stream",
     "text": [
      "['esa-mandaluyong.tif', 'esa-davao.tif', 'esa-navotas.tif', 'esa-zamboanga.tif', 'esa-muntinlupa.tif', 'esa-palayan.tif', 'esa-dagupan.tif', 'esa-mandaue.tif', 'esa-iloilo.tif', 'esa-cdo.tif', 'esa-legazpi.tif', 'esa-tacloban.tif']\n"
     ]
    }
   ],
   "source": [
    "# load raster filenames\n",
    "esa_rasters = os.listdir(RASTERS_PATH)\n",
    "print(esa_rasters)"
   ]
  },
  {
   "cell_type": "markdown",
   "metadata": {},
   "source": [
    "## Utils"
   ]
  },
  {
   "cell_type": "code",
   "execution_count": 4,
   "metadata": {},
   "outputs": [],
   "source": [
    "def convert_tif_to_polygon(raster_file):\n",
    "    # open the raster file\n",
    "    with rasterio.open(raster_file) as src:\n",
    "        # read the raster data as a numpy array\n",
    "        raster_data = src.read(1)\n",
    "        # get the metadata for the raster\n",
    "        raster_meta = src.meta\n",
    "    # print(raster_meta)\n",
    "\n",
    "    # # convert the raster data into polygons\n",
    "    polygons = []\n",
    "    for shape, value in shapes(raster_data, transform=raster_meta[\"transform\"]):\n",
    "        polygons.append({\"geometry\": shape, \"label\": value})\n",
    "\n",
    "    # # convert the polygons to a geopandas dataframe\n",
    "    gdf = gpd.GeoDataFrame(polygons)\n",
    "\n",
    "    # # drop NaN values\n",
    "    gdf = gdf.dropna(subset=[\"label\"])\n",
    "\n",
    "    # # extract coordinates from the 'geometry' column and convert them into Shapely geometries\n",
    "    gdf[\"geometry\"] = gdf[\"geometry\"].apply(lambda x: Polygon(x[\"coordinates\"][0]))\n",
    "\n",
    "    # # reorganize columns\n",
    "    gdf = gdf[[\"label\", \"geometry\"]]\n",
    "\n",
    "    return gdf"
   ]
  },
  {
   "cell_type": "markdown",
   "metadata": {},
   "source": [
    "## Convert rasters to polygons"
   ]
  },
  {
   "cell_type": "code",
   "execution_count": 5,
   "metadata": {},
   "outputs": [
    {
     "name": "stdout",
     "output_type": "stream",
     "text": [
      "CPU times: user 36 s, sys: 826 ms, total: 36.8 s\n",
      "Wall time: 37.5 s\n"
     ]
    }
   ],
   "source": [
    "%%time\n",
    "\n",
    "gdf_list = []\n",
    "for tif_file in esa_rasters:\n",
    "    gdf = convert_tif_to_polygon(RASTERS_PATH / tif_file)\n",
    "    gdf = gdf.set_crs(PROJ_CRS)\n",
    "    gdf_list.append(gdf)"
   ]
  },
  {
   "cell_type": "code",
   "execution_count": 6,
   "metadata": {},
   "outputs": [
    {
     "data": {
      "text/html": [
       "<div>\n",
       "<style scoped>\n",
       "    .dataframe tbody tr th:only-of-type {\n",
       "        vertical-align: middle;\n",
       "    }\n",
       "\n",
       "    .dataframe tbody tr th {\n",
       "        vertical-align: top;\n",
       "    }\n",
       "\n",
       "    .dataframe thead th {\n",
       "        text-align: right;\n",
       "    }\n",
       "</style>\n",
       "<table border=\"1\" class=\"dataframe\">\n",
       "  <thead>\n",
       "    <tr style=\"text-align: right;\">\n",
       "      <th></th>\n",
       "      <th>label</th>\n",
       "      <th>geometry</th>\n",
       "    </tr>\n",
       "  </thead>\n",
       "  <tbody>\n",
       "    <tr>\n",
       "      <th>0</th>\n",
       "      <td>30.0</td>\n",
       "      <td>POLYGON ((122.10433 7.51375, 122.10433 7.51358...</td>\n",
       "    </tr>\n",
       "    <tr>\n",
       "      <th>1</th>\n",
       "      <td>60.0</td>\n",
       "      <td>POLYGON ((122.10442 7.51375, 122.10442 7.51367...</td>\n",
       "    </tr>\n",
       "    <tr>\n",
       "      <th>2</th>\n",
       "      <td>10.0</td>\n",
       "      <td>POLYGON ((122.10450 7.51375, 122.10450 7.51367...</td>\n",
       "    </tr>\n",
       "    <tr>\n",
       "      <th>3</th>\n",
       "      <td>60.0</td>\n",
       "      <td>POLYGON ((122.10475 7.51375, 122.10475 7.51367...</td>\n",
       "    </tr>\n",
       "    <tr>\n",
       "      <th>4</th>\n",
       "      <td>60.0</td>\n",
       "      <td>POLYGON ((122.10692 7.51375, 122.10692 7.51367...</td>\n",
       "    </tr>\n",
       "    <tr>\n",
       "      <th>...</th>\n",
       "      <td>...</td>\n",
       "      <td>...</td>\n",
       "    </tr>\n",
       "    <tr>\n",
       "      <th>51131</th>\n",
       "      <td>95.0</td>\n",
       "      <td>POLYGON ((122.06183 6.85850, 122.06183 6.85842...</td>\n",
       "    </tr>\n",
       "    <tr>\n",
       "      <th>51132</th>\n",
       "      <td>30.0</td>\n",
       "      <td>POLYGON ((122.06108 6.85842, 122.06108 6.85833...</td>\n",
       "    </tr>\n",
       "    <tr>\n",
       "      <th>51133</th>\n",
       "      <td>30.0</td>\n",
       "      <td>POLYGON ((122.06175 6.85850, 122.06183 6.85850...</td>\n",
       "    </tr>\n",
       "    <tr>\n",
       "      <th>51134</th>\n",
       "      <td>30.0</td>\n",
       "      <td>POLYGON ((122.06208 6.85842, 122.06208 6.85833...</td>\n",
       "    </tr>\n",
       "    <tr>\n",
       "      <th>51135</th>\n",
       "      <td>80.0</td>\n",
       "      <td>POLYGON ((122.42542 7.51375, 122.42583 7.51375...</td>\n",
       "    </tr>\n",
       "  </tbody>\n",
       "</table>\n",
       "<p>51136 rows × 2 columns</p>\n",
       "</div>"
      ],
      "text/plain": [
       "       label                                           geometry\n",
       "0       30.0  POLYGON ((122.10433 7.51375, 122.10433 7.51358...\n",
       "1       60.0  POLYGON ((122.10442 7.51375, 122.10442 7.51367...\n",
       "2       10.0  POLYGON ((122.10450 7.51375, 122.10450 7.51367...\n",
       "3       60.0  POLYGON ((122.10475 7.51375, 122.10475 7.51367...\n",
       "4       60.0  POLYGON ((122.10692 7.51375, 122.10692 7.51367...\n",
       "...      ...                                                ...\n",
       "51131   95.0  POLYGON ((122.06183 6.85850, 122.06183 6.85842...\n",
       "51132   30.0  POLYGON ((122.06108 6.85842, 122.06108 6.85833...\n",
       "51133   30.0  POLYGON ((122.06175 6.85850, 122.06183 6.85850...\n",
       "51134   30.0  POLYGON ((122.06208 6.85842, 122.06208 6.85833...\n",
       "51135   80.0  POLYGON ((122.42542 7.51375, 122.42583 7.51375...\n",
       "\n",
       "[51136 rows x 2 columns]"
      ]
     },
     "execution_count": 6,
     "metadata": {},
     "output_type": "execute_result"
    }
   ],
   "source": [
    "gdf_list[3]"
   ]
  },
  {
   "cell_type": "code",
   "execution_count": 7,
   "metadata": {},
   "outputs": [
    {
     "data": {
      "text/plain": [
       "(333122, 2)"
      ]
     },
     "execution_count": 7,
     "metadata": {},
     "output_type": "execute_result"
    }
   ],
   "source": [
    "# concatenate to one dataframe\n",
    "gdf_big = pd.concat(gdf_list, ignore_index=True)\n",
    "gdf_big.shape"
   ]
  },
  {
   "cell_type": "code",
   "execution_count": 8,
   "metadata": {},
   "outputs": [
    {
     "data": {
      "text/plain": [
       "array([10., 60., 80., 40., 30., 50.,  0., 20., 90., 95.])"
      ]
     },
     "execution_count": 8,
     "metadata": {},
     "output_type": "execute_result"
    }
   ],
   "source": [
    "gdf_big[\"label\"].unique()"
   ]
  },
  {
   "cell_type": "code",
   "execution_count": 9,
   "metadata": {},
   "outputs": [],
   "source": [
    "# dictionary of the labels definition https://developers.google.com/earth-engine/datasets/catalog/ESA_WorldCover_v200\n",
    "# to map to column later\n",
    "label_map = {\n",
    "    10: \"tree_cover\",\n",
    "    20: \"shrubland\",\n",
    "    30: \"grassland\",\n",
    "    40: \"cropland\",\n",
    "    50: \"builtup\",\n",
    "    60: \"bare_sparse_vegetation\",\n",
    "    70: \"snow_ice\",\n",
    "    80: \"permanent_water_bodies\",\n",
    "    90: \"herbaceous_wetland\",\n",
    "    95: \"mangroves\",\n",
    "}"
   ]
  },
  {
   "cell_type": "markdown",
   "metadata": {},
   "source": [
    "## Load AOI"
   ]
  },
  {
   "cell_type": "code",
   "execution_count": 10,
   "metadata": {},
   "outputs": [
    {
     "data": {
      "text/html": [
       "<div>\n",
       "<style scoped>\n",
       "    .dataframe tbody tr th:only-of-type {\n",
       "        vertical-align: middle;\n",
       "    }\n",
       "\n",
       "    .dataframe tbody tr th {\n",
       "        vertical-align: top;\n",
       "    }\n",
       "\n",
       "    .dataframe thead th {\n",
       "        text-align: right;\n",
       "    }\n",
       "</style>\n",
       "<table border=\"1\" class=\"dataframe\">\n",
       "  <thead>\n",
       "    <tr style=\"text-align: right;\">\n",
       "      <th></th>\n",
       "      <th>ADM1_EN</th>\n",
       "      <th>ADM1_PCODE</th>\n",
       "      <th>ADM2_EN</th>\n",
       "      <th>ADM2_PCODE</th>\n",
       "      <th>ADM3_EN</th>\n",
       "      <th>ADM3_PCODE</th>\n",
       "      <th>ADM4_EN</th>\n",
       "      <th>ADM4_PCODE</th>\n",
       "      <th>geometry</th>\n",
       "    </tr>\n",
       "  </thead>\n",
       "  <tbody>\n",
       "    <tr>\n",
       "      <th>0</th>\n",
       "      <td>Region I</td>\n",
       "      <td>PH010000000</td>\n",
       "      <td>Pangasinan</td>\n",
       "      <td>PH015500000</td>\n",
       "      <td>Dagupan City</td>\n",
       "      <td>PH015518000</td>\n",
       "      <td>Lomboy</td>\n",
       "      <td>PH015518016</td>\n",
       "      <td>POLYGON ((120.32742 16.05423, 120.32719 16.053...</td>\n",
       "    </tr>\n",
       "    <tr>\n",
       "      <th>1</th>\n",
       "      <td>Region I</td>\n",
       "      <td>PH010000000</td>\n",
       "      <td>Pangasinan</td>\n",
       "      <td>PH015500000</td>\n",
       "      <td>Dagupan City</td>\n",
       "      <td>PH015518000</td>\n",
       "      <td>Tapuac</td>\n",
       "      <td>PH015518031</td>\n",
       "      <td>POLYGON ((120.33380 16.03974, 120.33389 16.039...</td>\n",
       "    </tr>\n",
       "  </tbody>\n",
       "</table>\n",
       "</div>"
      ],
      "text/plain": [
       "    ADM1_EN   ADM1_PCODE     ADM2_EN   ADM2_PCODE       ADM3_EN   ADM3_PCODE  \\\n",
       "0  Region I  PH010000000  Pangasinan  PH015500000  Dagupan City  PH015518000   \n",
       "1  Region I  PH010000000  Pangasinan  PH015500000  Dagupan City  PH015518000   \n",
       "\n",
       "  ADM4_EN   ADM4_PCODE                                           geometry  \n",
       "0  Lomboy  PH015518016  POLYGON ((120.32742 16.05423, 120.32719 16.053...  \n",
       "1  Tapuac  PH015518031  POLYGON ((120.33380 16.03974, 120.33389 16.039...  "
      ]
     },
     "execution_count": 10,
     "metadata": {},
     "output_type": "execute_result"
    }
   ],
   "source": [
    "aoi = gpd.read_file(\"../../../data/01-admin-bounds/target_admin_bounds.shp\")\n",
    "aoi.head(2)"
   ]
  },
  {
   "cell_type": "code",
   "execution_count": 11,
   "metadata": {},
   "outputs": [],
   "source": [
    "# get barangay area\n",
    "aoi = aoi.to_crs(LOCAL_CRS)\n",
    "aoi[\"brgy_area\"] = aoi[\"geometry\"].area\n",
    "aoi = aoi.to_crs(PROJ_CRS)\n",
    "aoi = aoi[[\"ADM4_PCODE\", \"geometry\", \"brgy_area\"]]"
   ]
  },
  {
   "cell_type": "markdown",
   "metadata": {},
   "source": [
    "## Computing landcover areas"
   ]
  },
  {
   "cell_type": "code",
   "execution_count": 12,
   "metadata": {},
   "outputs": [
    {
     "name": "stdout",
     "output_type": "stream",
     "text": [
      "CPU times: user 26.5 s, sys: 265 ms, total: 26.8 s\n",
      "Wall time: 26.9 s\n"
     ]
    }
   ],
   "source": [
    "%%time\n",
    "\n",
    "aoi_copy = aoi.copy()\n",
    "landcover = gdf_big.copy()\n",
    "\n",
    "overlay = aoi_copy.overlay(landcover, how=\"intersection\")\n",
    "overlay[\"geometry\"] = overlay[\"geometry\"].to_crs(LOCAL_CRS)\n",
    "overlay[\"area\"] = overlay[\"geometry\"].area"
   ]
  },
  {
   "cell_type": "code",
   "execution_count": 13,
   "metadata": {},
   "outputs": [],
   "source": [
    "# sorting of values, dropping duplicates and null values\n",
    "overlay = overlay.sort_values(by=\"area\", ascending=True)\n",
    "overlay = overlay.drop_duplicates(subset=[\"ADM4_PCODE\", \"label\", \"area\"], keep=\"last\")\n",
    "overlay = overlay.dropna(subset=[\"ADM4_PCODE\"])\n",
    "overlay = overlay.sort_values(by=[\"ADM4_PCODE\", \"label\"], ascending=True)\n",
    "overlay_merge = overlay.drop(\"geometry\", axis=1)"
   ]
  },
  {
   "cell_type": "code",
   "execution_count": 14,
   "metadata": {},
   "outputs": [
    {
     "data": {
      "text/html": [
       "<div>\n",
       "<style scoped>\n",
       "    .dataframe tbody tr th:only-of-type {\n",
       "        vertical-align: middle;\n",
       "    }\n",
       "\n",
       "    .dataframe tbody tr th {\n",
       "        vertical-align: top;\n",
       "    }\n",
       "\n",
       "    .dataframe thead th {\n",
       "        text-align: right;\n",
       "    }\n",
       "</style>\n",
       "<table border=\"1\" class=\"dataframe\">\n",
       "  <thead>\n",
       "    <tr style=\"text-align: right;\">\n",
       "      <th></th>\n",
       "      <th>ADM4_PCODE</th>\n",
       "      <th>label</th>\n",
       "      <th>area</th>\n",
       "    </tr>\n",
       "  </thead>\n",
       "  <tbody>\n",
       "    <tr>\n",
       "      <th>0</th>\n",
       "      <td>PH015518001</td>\n",
       "      <td>10.0</td>\n",
       "      <td>2.582837e+05</td>\n",
       "    </tr>\n",
       "    <tr>\n",
       "      <th>1</th>\n",
       "      <td>PH015518001</td>\n",
       "      <td>30.0</td>\n",
       "      <td>1.286791e+04</td>\n",
       "    </tr>\n",
       "    <tr>\n",
       "      <th>2</th>\n",
       "      <td>PH015518001</td>\n",
       "      <td>40.0</td>\n",
       "      <td>2.471744e+04</td>\n",
       "    </tr>\n",
       "    <tr>\n",
       "      <th>3</th>\n",
       "      <td>PH015518001</td>\n",
       "      <td>50.0</td>\n",
       "      <td>1.320202e+05</td>\n",
       "    </tr>\n",
       "    <tr>\n",
       "      <th>4</th>\n",
       "      <td>PH015518001</td>\n",
       "      <td>60.0</td>\n",
       "      <td>2.276612e+03</td>\n",
       "    </tr>\n",
       "    <tr>\n",
       "      <th>...</th>\n",
       "      <td>...</td>\n",
       "      <td>...</td>\n",
       "      <td>...</td>\n",
       "    </tr>\n",
       "    <tr>\n",
       "      <th>4404</th>\n",
       "      <td>PH137603009</td>\n",
       "      <td>30.0</td>\n",
       "      <td>5.857510e+05</td>\n",
       "    </tr>\n",
       "    <tr>\n",
       "      <th>4405</th>\n",
       "      <td>PH137603009</td>\n",
       "      <td>40.0</td>\n",
       "      <td>7.905049e+04</td>\n",
       "    </tr>\n",
       "    <tr>\n",
       "      <th>4406</th>\n",
       "      <td>PH137603009</td>\n",
       "      <td>50.0</td>\n",
       "      <td>6.925334e+06</td>\n",
       "    </tr>\n",
       "    <tr>\n",
       "      <th>4407</th>\n",
       "      <td>PH137603009</td>\n",
       "      <td>60.0</td>\n",
       "      <td>3.183145e+03</td>\n",
       "    </tr>\n",
       "    <tr>\n",
       "      <th>4408</th>\n",
       "      <td>PH137603009</td>\n",
       "      <td>80.0</td>\n",
       "      <td>8.285607e+01</td>\n",
       "    </tr>\n",
       "  </tbody>\n",
       "</table>\n",
       "<p>4384 rows × 3 columns</p>\n",
       "</div>"
      ],
      "text/plain": [
       "       ADM4_PCODE  label          area\n",
       "0     PH015518001   10.0  2.582837e+05\n",
       "1     PH015518001   30.0  1.286791e+04\n",
       "2     PH015518001   40.0  2.471744e+04\n",
       "3     PH015518001   50.0  1.320202e+05\n",
       "4     PH015518001   60.0  2.276612e+03\n",
       "...           ...    ...           ...\n",
       "4404  PH137603009   30.0  5.857510e+05\n",
       "4405  PH137603009   40.0  7.905049e+04\n",
       "4406  PH137603009   50.0  6.925334e+06\n",
       "4407  PH137603009   60.0  3.183145e+03\n",
       "4408  PH137603009   80.0  8.285607e+01\n",
       "\n",
       "[4384 rows x 3 columns]"
      ]
     },
     "execution_count": 14,
     "metadata": {},
     "output_type": "execute_result"
    }
   ],
   "source": [
    "# groupby label + aggregate total area\n",
    "# avg_area=('area', 'mean') --- add if needed\n",
    "label_area = (\n",
    "    overlay_merge.groupby([\"ADM4_PCODE\", \"label\"])\n",
    "    .agg(area=(\"area\", \"sum\"))\n",
    "    .reset_index()\n",
    ")\n",
    "label_area = label_area[label_area[\"label\"] != 0]\n",
    "label_area"
   ]
  },
  {
   "cell_type": "code",
   "execution_count": 15,
   "metadata": {},
   "outputs": [],
   "source": [
    "# drop overlay geometry from overlay gdf\n",
    "result = pd.merge(left=aoi, right=label_area, on=\"ADM4_PCODE\", how=\"left\")"
   ]
  },
  {
   "cell_type": "code",
   "execution_count": 16,
   "metadata": {},
   "outputs": [
    {
     "data": {
      "text/html": [
       "<div>\n",
       "<style scoped>\n",
       "    .dataframe tbody tr th:only-of-type {\n",
       "        vertical-align: middle;\n",
       "    }\n",
       "\n",
       "    .dataframe tbody tr th {\n",
       "        vertical-align: top;\n",
       "    }\n",
       "\n",
       "    .dataframe thead th {\n",
       "        text-align: right;\n",
       "    }\n",
       "</style>\n",
       "<table border=\"1\" class=\"dataframe\">\n",
       "  <thead>\n",
       "    <tr style=\"text-align: right;\">\n",
       "      <th></th>\n",
       "      <th>ADM4_PCODE</th>\n",
       "      <th>geometry</th>\n",
       "      <th>brgy_area</th>\n",
       "      <th>label</th>\n",
       "      <th>area</th>\n",
       "    </tr>\n",
       "  </thead>\n",
       "  <tbody>\n",
       "    <tr>\n",
       "      <th>0</th>\n",
       "      <td>PH015518016</td>\n",
       "      <td>POLYGON ((120.32742 16.05423, 120.32719 16.053...</td>\n",
       "      <td>1.020434e+06</td>\n",
       "      <td>tree_cover</td>\n",
       "      <td>6414.244420</td>\n",
       "    </tr>\n",
       "    <tr>\n",
       "      <th>1</th>\n",
       "      <td>PH015518016</td>\n",
       "      <td>POLYGON ((120.32742 16.05423, 120.32719 16.053...</td>\n",
       "      <td>1.020434e+06</td>\n",
       "      <td>grassland</td>\n",
       "      <td>2467.019287</td>\n",
       "    </tr>\n",
       "    <tr>\n",
       "      <th>2</th>\n",
       "      <td>PH015518016</td>\n",
       "      <td>POLYGON ((120.32742 16.05423, 120.32719 16.053...</td>\n",
       "      <td>1.020434e+06</td>\n",
       "      <td>cropland</td>\n",
       "      <td>82.233398</td>\n",
       "    </tr>\n",
       "  </tbody>\n",
       "</table>\n",
       "</div>"
      ],
      "text/plain": [
       "    ADM4_PCODE                                           geometry  \\\n",
       "0  PH015518016  POLYGON ((120.32742 16.05423, 120.32719 16.053...   \n",
       "1  PH015518016  POLYGON ((120.32742 16.05423, 120.32719 16.053...   \n",
       "2  PH015518016  POLYGON ((120.32742 16.05423, 120.32719 16.053...   \n",
       "\n",
       "      brgy_area       label         area  \n",
       "0  1.020434e+06  tree_cover  6414.244420  \n",
       "1  1.020434e+06   grassland  2467.019287  \n",
       "2  1.020434e+06    cropland    82.233398  "
      ]
     },
     "execution_count": 16,
     "metadata": {},
     "output_type": "execute_result"
    }
   ],
   "source": [
    "result = result.replace({\"label\": label_map})\n",
    "result.head(3)"
   ]
  },
  {
   "cell_type": "code",
   "execution_count": 17,
   "metadata": {},
   "outputs": [
    {
     "data": {
      "text/plain": [
       "array(['tree_cover', 'grassland', 'cropland', 'builtup',\n",
       "       'bare_sparse_vegetation', 'permanent_water_bodies',\n",
       "       'herbaceous_wetland', 'shrubland', 'mangroves'], dtype=object)"
      ]
     },
     "execution_count": 17,
     "metadata": {},
     "output_type": "execute_result"
    }
   ],
   "source": [
    "result[\"label\"].unique()"
   ]
  },
  {
   "cell_type": "code",
   "execution_count": 18,
   "metadata": {},
   "outputs": [
    {
     "data": {
      "text/html": [
       "<div>\n",
       "<style scoped>\n",
       "    .dataframe tbody tr th:only-of-type {\n",
       "        vertical-align: middle;\n",
       "    }\n",
       "\n",
       "    .dataframe tbody tr th {\n",
       "        vertical-align: top;\n",
       "    }\n",
       "\n",
       "    .dataframe thead th {\n",
       "        text-align: right;\n",
       "    }\n",
       "</style>\n",
       "<table border=\"1\" class=\"dataframe\">\n",
       "  <thead>\n",
       "    <tr style=\"text-align: right;\">\n",
       "      <th>label</th>\n",
       "      <th>bare_sparse_vegetation</th>\n",
       "      <th>builtup</th>\n",
       "      <th>cropland</th>\n",
       "      <th>grassland</th>\n",
       "      <th>herbaceous_wetland</th>\n",
       "      <th>mangroves</th>\n",
       "      <th>permanent_water_bodies</th>\n",
       "      <th>shrubland</th>\n",
       "      <th>tree_cover</th>\n",
       "    </tr>\n",
       "    <tr>\n",
       "      <th>ADM4_PCODE</th>\n",
       "      <th></th>\n",
       "      <th></th>\n",
       "      <th></th>\n",
       "      <th></th>\n",
       "      <th></th>\n",
       "      <th></th>\n",
       "      <th></th>\n",
       "      <th></th>\n",
       "      <th></th>\n",
       "    </tr>\n",
       "  </thead>\n",
       "  <tbody>\n",
       "    <tr>\n",
       "      <th>PH015518001</th>\n",
       "      <td>2276.611726</td>\n",
       "      <td>132020.247855</td>\n",
       "      <td>24717.436194</td>\n",
       "      <td>12867.912920</td>\n",
       "      <td>11560.331402</td>\n",
       "      <td>NaN</td>\n",
       "      <td>275370.758662</td>\n",
       "      <td>NaN</td>\n",
       "      <td>258283.688939</td>\n",
       "    </tr>\n",
       "    <tr>\n",
       "      <th>PH015518002</th>\n",
       "      <td>780.068685</td>\n",
       "      <td>172224.969082</td>\n",
       "      <td>31337.232598</td>\n",
       "      <td>60137.005807</td>\n",
       "      <td>740.203180</td>\n",
       "      <td>NaN</td>\n",
       "      <td>73612.534745</td>\n",
       "      <td>NaN</td>\n",
       "      <td>269877.786386</td>\n",
       "    </tr>\n",
       "    <tr>\n",
       "      <th>PH015518003</th>\n",
       "      <td>283.353301</td>\n",
       "      <td>100768.990730</td>\n",
       "      <td>NaN</td>\n",
       "      <td>82.237679</td>\n",
       "      <td>NaN</td>\n",
       "      <td>NaN</td>\n",
       "      <td>7343.511966</td>\n",
       "      <td>NaN</td>\n",
       "      <td>6461.113968</td>\n",
       "    </tr>\n",
       "  </tbody>\n",
       "</table>\n",
       "</div>"
      ],
      "text/plain": [
       "label        bare_sparse_vegetation        builtup      cropland  \\\n",
       "ADM4_PCODE                                                         \n",
       "PH015518001             2276.611726  132020.247855  24717.436194   \n",
       "PH015518002              780.068685  172224.969082  31337.232598   \n",
       "PH015518003              283.353301  100768.990730           NaN   \n",
       "\n",
       "label           grassland  herbaceous_wetland  mangroves  \\\n",
       "ADM4_PCODE                                                 \n",
       "PH015518001  12867.912920        11560.331402        NaN   \n",
       "PH015518002  60137.005807          740.203180        NaN   \n",
       "PH015518003     82.237679                 NaN        NaN   \n",
       "\n",
       "label        permanent_water_bodies  shrubland     tree_cover  \n",
       "ADM4_PCODE                                                     \n",
       "PH015518001           275370.758662        NaN  258283.688939  \n",
       "PH015518002            73612.534745        NaN  269877.786386  \n",
       "PH015518003             7343.511966        NaN    6461.113968  "
      ]
     },
     "execution_count": 18,
     "metadata": {},
     "output_type": "execute_result"
    }
   ],
   "source": [
    "pivot_labels = result.pivot(index=\"ADM4_PCODE\", columns=\"label\", values=\"area\")\n",
    "pivot_labels.head(3)"
   ]
  },
  {
   "cell_type": "code",
   "execution_count": 19,
   "metadata": {},
   "outputs": [],
   "source": [
    "# join again to main table\n",
    "result = pd.merge(left=aoi, right=pivot_labels, on=\"ADM4_PCODE\", how=\"left\")"
   ]
  },
  {
   "cell_type": "code",
   "execution_count": 20,
   "metadata": {},
   "outputs": [],
   "source": [
    "lc_cols = [\n",
    "    \"bare_sparse_vegetation\",\n",
    "    \"builtup\",\n",
    "    \"cropland\",\n",
    "    \"grassland\",\n",
    "    \"herbaceous_wetland\",\n",
    "    \"mangroves\",\n",
    "    \"permanent_water_bodies\",\n",
    "    \"shrubland\",\n",
    "    \"tree_cover\",\n",
    "]\n",
    "\n",
    "# get pct cover\n",
    "for col in lc_cols:\n",
    "    result[f\"pct_{col}\"] = 100 * (result[col] / result[\"brgy_area\"])"
   ]
  },
  {
   "cell_type": "code",
   "execution_count": 21,
   "metadata": {},
   "outputs": [
    {
     "data": {
      "text/html": [
       "<div>\n",
       "<style scoped>\n",
       "    .dataframe tbody tr th:only-of-type {\n",
       "        vertical-align: middle;\n",
       "    }\n",
       "\n",
       "    .dataframe tbody tr th {\n",
       "        vertical-align: top;\n",
       "    }\n",
       "\n",
       "    .dataframe thead th {\n",
       "        text-align: right;\n",
       "    }\n",
       "</style>\n",
       "<table border=\"1\" class=\"dataframe\">\n",
       "  <thead>\n",
       "    <tr style=\"text-align: right;\">\n",
       "      <th></th>\n",
       "      <th>ADM4_PCODE</th>\n",
       "      <th>bare_sparse_vegetation</th>\n",
       "      <th>builtup</th>\n",
       "      <th>cropland</th>\n",
       "      <th>grassland</th>\n",
       "      <th>herbaceous_wetland</th>\n",
       "      <th>mangroves</th>\n",
       "      <th>permanent_water_bodies</th>\n",
       "      <th>shrubland</th>\n",
       "      <th>tree_cover</th>\n",
       "      <th>pct_bare_sparse_vegetation</th>\n",
       "      <th>pct_builtup</th>\n",
       "      <th>pct_cropland</th>\n",
       "      <th>pct_grassland</th>\n",
       "      <th>pct_herbaceous_wetland</th>\n",
       "      <th>pct_mangroves</th>\n",
       "      <th>pct_permanent_water_bodies</th>\n",
       "      <th>pct_shrubland</th>\n",
       "      <th>pct_tree_cover</th>\n",
       "    </tr>\n",
       "  </thead>\n",
       "  <tbody>\n",
       "    <tr>\n",
       "      <th>0</th>\n",
       "      <td>PH015518016</td>\n",
       "      <td>2878.182908</td>\n",
       "      <td>2.343664e+04</td>\n",
       "      <td>82.233398</td>\n",
       "      <td>2467.019287</td>\n",
       "      <td>822.344841</td>\n",
       "      <td>NaN</td>\n",
       "      <td>1.020434e+06</td>\n",
       "      <td>NaN</td>\n",
       "      <td>6414.244420</td>\n",
       "      <td>0.282055</td>\n",
       "      <td>2.296732</td>\n",
       "      <td>0.008059</td>\n",
       "      <td>0.241762</td>\n",
       "      <td>0.080588</td>\n",
       "      <td>NaN</td>\n",
       "      <td>100.000000</td>\n",
       "      <td>NaN</td>\n",
       "      <td>0.628580</td>\n",
       "    </tr>\n",
       "    <tr>\n",
       "      <th>1</th>\n",
       "      <td>PH015518031</td>\n",
       "      <td>29473.515344</td>\n",
       "      <td>5.011105e+05</td>\n",
       "      <td>68382.251348</td>\n",
       "      <td>111395.559882</td>\n",
       "      <td>252.081710</td>\n",
       "      <td>NaN</td>\n",
       "      <td>3.199497e+05</td>\n",
       "      <td>NaN</td>\n",
       "      <td>110603.133272</td>\n",
       "      <td>2.826489</td>\n",
       "      <td>48.056129</td>\n",
       "      <td>6.557808</td>\n",
       "      <td>10.682753</td>\n",
       "      <td>0.024174</td>\n",
       "      <td>NaN</td>\n",
       "      <td>30.682941</td>\n",
       "      <td>NaN</td>\n",
       "      <td>10.606759</td>\n",
       "    </tr>\n",
       "    <tr>\n",
       "      <th>2</th>\n",
       "      <td>PH015518022</td>\n",
       "      <td>39457.771162</td>\n",
       "      <td>1.019299e+06</td>\n",
       "      <td>53534.393553</td>\n",
       "      <td>126104.095843</td>\n",
       "      <td>2549.277892</td>\n",
       "      <td>NaN</td>\n",
       "      <td>1.959975e+06</td>\n",
       "      <td>82.235824</td>\n",
       "      <td>219657.958010</td>\n",
       "      <td>1.210851</td>\n",
       "      <td>31.279523</td>\n",
       "      <td>1.642825</td>\n",
       "      <td>3.869791</td>\n",
       "      <td>0.078230</td>\n",
       "      <td>NaN</td>\n",
       "      <td>60.146285</td>\n",
       "      <td>0.002524</td>\n",
       "      <td>6.740704</td>\n",
       "    </tr>\n",
       "  </tbody>\n",
       "</table>\n",
       "</div>"
      ],
      "text/plain": [
       "    ADM4_PCODE  bare_sparse_vegetation       builtup      cropland  \\\n",
       "0  PH015518016             2878.182908  2.343664e+04     82.233398   \n",
       "1  PH015518031            29473.515344  5.011105e+05  68382.251348   \n",
       "2  PH015518022            39457.771162  1.019299e+06  53534.393553   \n",
       "\n",
       "       grassland  herbaceous_wetland  mangroves  permanent_water_bodies  \\\n",
       "0    2467.019287          822.344841        NaN            1.020434e+06   \n",
       "1  111395.559882          252.081710        NaN            3.199497e+05   \n",
       "2  126104.095843         2549.277892        NaN            1.959975e+06   \n",
       "\n",
       "   shrubland     tree_cover  pct_bare_sparse_vegetation  pct_builtup  \\\n",
       "0        NaN    6414.244420                    0.282055     2.296732   \n",
       "1        NaN  110603.133272                    2.826489    48.056129   \n",
       "2  82.235824  219657.958010                    1.210851    31.279523   \n",
       "\n",
       "   pct_cropland  pct_grassland  pct_herbaceous_wetland  pct_mangroves  \\\n",
       "0      0.008059       0.241762                0.080588            NaN   \n",
       "1      6.557808      10.682753                0.024174            NaN   \n",
       "2      1.642825       3.869791                0.078230            NaN   \n",
       "\n",
       "   pct_permanent_water_bodies  pct_shrubland  pct_tree_cover  \n",
       "0                  100.000000            NaN        0.628580  \n",
       "1                   30.682941            NaN       10.606759  \n",
       "2                   60.146285       0.002524        6.740704  "
      ]
     },
     "execution_count": 21,
     "metadata": {},
     "output_type": "execute_result"
    }
   ],
   "source": [
    "result = result.drop(columns=[\"geometry\", \"brgy_area\"])\n",
    "result.head(3)"
   ]
  },
  {
   "cell_type": "code",
   "execution_count": 22,
   "metadata": {},
   "outputs": [],
   "source": [
    "# save file\n",
    "result_df = pd.DataFrame(result)\n",
    "result.to_csv(\"../../../data/04-output/landcover_features_ESA_2021.csv\", index=False)"
   ]
  }
 ],
 "metadata": {
  "kernelspec": {
   "display_name": "lacuna-fund",
   "language": "python",
   "name": "python3"
  },
  "language_info": {
   "codemirror_mode": {
    "name": "ipython",
    "version": 3
   },
   "file_extension": ".py",
   "mimetype": "text/x-python",
   "name": "python",
   "nbconvert_exporter": "python",
   "pygments_lexer": "ipython3",
   "version": "3.9.18"
  },
  "orig_nbformat": 4
 },
 "nbformat": 4,
 "nbformat_minor": 2
}
