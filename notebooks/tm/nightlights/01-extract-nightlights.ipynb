{
 "cells": [
  {
   "cell_type": "code",
   "execution_count": 1,
   "metadata": {},
   "outputs": [],
   "source": [
    "%reload_ext autoreload\n",
    "%autoreload 2"
   ]
  },
  {
   "cell_type": "code",
   "execution_count": 2,
   "metadata": {},
   "outputs": [
    {
     "name": "stderr",
     "output_type": "stream",
     "text": [
      "/home/abbymoreno/miniconda3/envs/lacuna-fund2/lib/python3.9/site-packages/geopandas/_compat.py:111: UserWarning: The Shapely GEOS version (3.11.1-CAPI-1.17.1) is incompatible with the GEOS version PyGEOS was compiled with (3.10.1-CAPI-1.16.0). Conversions between both will be slow.\n",
      "  warnings.warn(\n"
     ]
    }
   ],
   "source": [
    "import geopandas as gpd\n",
    "import pandas as pd\n",
    "from pathlib import Path\n",
    "\n",
    "from geowrangler.datasets import ookla\n",
    "import geowrangler.area_zonal_stats as azs"
   ]
  },
  {
   "cell_type": "code",
   "execution_count": 3,
   "metadata": {},
   "outputs": [],
   "source": [
    "# custom module\n",
    "import sys\n",
    "\n",
    "sys.path.append(\"../../../\")  # include parent directory\n",
    "from src.nightlights import *"
   ]
  },
  {
   "cell_type": "markdown",
   "metadata": {},
   "source": [
    "# Extract Nightlights"
   ]
  },
  {
   "cell_type": "markdown",
   "metadata": {},
   "source": [
    "### Set-up inputs and parameters"
   ]
  },
  {
   "cell_type": "code",
   "execution_count": 4,
   "metadata": {},
   "outputs": [],
   "source": [
    "ADMIN_FPATH = Path(\"../../../data/01-admin-bounds/\")\n",
    "OUTPUT_DIR = Path(\"../../../data/04-output/\")\n",
    "NTL_DIR = Path(\"../../../data/02-raw/nightlights/\")"
   ]
  },
  {
   "cell_type": "markdown",
   "metadata": {},
   "source": [
    "### Load AOI"
   ]
  },
  {
   "cell_type": "code",
   "execution_count": 5,
   "metadata": {},
   "outputs": [
    {
     "data": {
      "text/html": [
       "<div>\n",
       "<style scoped>\n",
       "    .dataframe tbody tr th:only-of-type {\n",
       "        vertical-align: middle;\n",
       "    }\n",
       "\n",
       "    .dataframe tbody tr th {\n",
       "        vertical-align: top;\n",
       "    }\n",
       "\n",
       "    .dataframe thead th {\n",
       "        text-align: right;\n",
       "    }\n",
       "</style>\n",
       "<table border=\"1\" class=\"dataframe\">\n",
       "  <thead>\n",
       "    <tr style=\"text-align: right;\">\n",
       "      <th></th>\n",
       "      <th>region_name</th>\n",
       "      <th>region_code</th>\n",
       "      <th>province_name</th>\n",
       "      <th>province_code</th>\n",
       "      <th>city_name</th>\n",
       "      <th>city_code</th>\n",
       "      <th>barangay_name</th>\n",
       "      <th>barangay_psgc_code</th>\n",
       "      <th>geometry</th>\n",
       "    </tr>\n",
       "  </thead>\n",
       "  <tbody>\n",
       "    <tr>\n",
       "      <th>0</th>\n",
       "      <td>Region I</td>\n",
       "      <td>PH010000000</td>\n",
       "      <td>Pangasinan</td>\n",
       "      <td>PH015500000</td>\n",
       "      <td>Dagupan City</td>\n",
       "      <td>PH015518000</td>\n",
       "      <td>Lomboy</td>\n",
       "      <td>PH015518016</td>\n",
       "      <td>POLYGON ((120.32742 16.05423, 120.32719 16.053...</td>\n",
       "    </tr>\n",
       "    <tr>\n",
       "      <th>1</th>\n",
       "      <td>Region I</td>\n",
       "      <td>PH010000000</td>\n",
       "      <td>Pangasinan</td>\n",
       "      <td>PH015500000</td>\n",
       "      <td>Dagupan City</td>\n",
       "      <td>PH015518000</td>\n",
       "      <td>Tapuac</td>\n",
       "      <td>PH015518031</td>\n",
       "      <td>POLYGON ((120.33380 16.03974, 120.33389 16.039...</td>\n",
       "    </tr>\n",
       "  </tbody>\n",
       "</table>\n",
       "</div>"
      ],
      "text/plain": [
       "  region_name  region_code province_name province_code     city_name  \\\n",
       "0    Region I  PH010000000    Pangasinan   PH015500000  Dagupan City   \n",
       "1    Region I  PH010000000    Pangasinan   PH015500000  Dagupan City   \n",
       "\n",
       "     city_code barangay_name barangay_psgc_code  \\\n",
       "0  PH015518000        Lomboy        PH015518016   \n",
       "1  PH015518000        Tapuac        PH015518031   \n",
       "\n",
       "                                            geometry  \n",
       "0  POLYGON ((120.32742 16.05423, 120.32719 16.053...  \n",
       "1  POLYGON ((120.33380 16.03974, 120.33389 16.039...  "
      ]
     },
     "execution_count": 5,
     "metadata": {},
     "output_type": "execute_result"
    }
   ],
   "source": [
    "# Load the administrative boundaries for the 12 cities\n",
    "aoi = gpd.read_file(ADMIN_FPATH / \"renamed_target_admin_bounds.gpkg\")\n",
    "aoi.head(2)"
   ]
  },
  {
   "cell_type": "code",
   "execution_count": 6,
   "metadata": {},
   "outputs": [
    {
     "name": "stderr",
     "output_type": "stream",
     "text": [
      "2023-08-01 10:26:17.677 | INFO     | src.nightlights:get_eog_access_token:42 - Saving access_token to /home/abbymoreno/.eog_creds/eog_access_token.txt\n",
      "2023-08-01 10:26:17.679 | INFO     | src.nightlights:get_eog_access_token:50 - Adding access token to environment var EOG_ACCESS_TOKEN\n"
     ]
    }
   ],
   "source": [
    "# Log-in using EOG credentials\n",
    "username = os.environ.get(\"EOG_USER\", None)\n",
    "username = username if username is not None else input(\"Username?\")\n",
    "password = os.environ.get(\"EOG_PASSWORD\", None)\n",
    "password = password if password is not None else getpass.getpass(\"Password?\")\n",
    "\n",
    "# set save_token to True so that access token gets stored in ~/.eog_creds/eog_access_token\n",
    "access_token = get_eog_access_token(username, password, save_token=True)"
   ]
  },
  {
   "cell_type": "code",
   "execution_count": 7,
   "metadata": {},
   "outputs": [],
   "source": [
    "def download_nightlights(aoi, year=\"2021\"):\n",
    "    nightlights_aoi = generate_nightlights_feature(aoi, year)\n",
    "    nightlights_df = nightlights_aoi.drop(columns=[\"geometry\"])\n",
    "    nightlights_df = pd.DataFrame(nightlights_df)\n",
    "    nightlights_df.to_csv(OUTPUT_DIR / f\"nightlights_{year}.csv\")"
   ]
  },
  {
   "cell_type": "code",
   "execution_count": 8,
   "metadata": {},
   "outputs": [
    {
     "name": "stderr",
     "output_type": "stream",
     "text": [
      "2023-08-01 10:26:21.598 | INFO     | src.nightlights:generate_clipped_raster:376 - Using viirs global file as source raster: /home/abbymoreno/.geowrangler/nightlights/global/VNL_v21_npp_2015_global_vcmslcfg_c202205302300.average.dat.tif\n",
      "2023-08-01 10:26:21.599 | INFO     | src.nightlights:download_url:161 - Using access token from environment var EOG_ACCESS_TOKEN\n"
     ]
    },
    {
     "name": "stderr",
     "output_type": "stream",
     "text": [
      "2023-08-01 10:26:22.456 | INFO     | src.nightlights:urlretrieve:104 - Retrieving https://eogdata.mines.edu/nighttime_light/annual/v21/2015/VNL_v21_npp_2015_global_vcmslcfg_c202205302300.average.dat.tif.gz into /home/abbymoreno/.geowrangler/nightlights/global/VNL_v21_npp_2015_global_vcmslcfg_c202205302300.average.dat.tif.gz\n"
     ]
    },
    {
     "data": {
      "text/html": [
       "\n",
       "<style>\n",
       "    /* Turns off some styling */\n",
       "    progress {\n",
       "        /* gets rid of default border in Firefox and Opera. */\n",
       "        border: none;\n",
       "        /* Needs to be in here for Safari polyfill so background images work as expected. */\n",
       "        background-size: auto;\n",
       "    }\n",
       "    progress:not([value]), progress:not([value])::-webkit-progress-bar {\n",
       "        background: repeating-linear-gradient(45deg, #7e7e7e, #7e7e7e 10px, #5c5c5c 10px, #5c5c5c 20px);\n",
       "    }\n",
       "    .progress-bar-interrupted, .progress-bar-interrupted::-webkit-progress-bar {\n",
       "        background: #F44336;\n",
       "    }\n",
       "</style>\n"
      ],
      "text/plain": [
       "<IPython.core.display.HTML object>"
      ]
     },
     "metadata": {},
     "output_type": "display_data"
    },
    {
     "data": {
      "text/html": [
       "\n",
       "    <div>\n",
       "      <progress value='10403971072' class='' max='10403542021' style='width:300px; height:20px; vertical-align: middle;'></progress>\n",
       "      100.00% [10403971072/10403542021 46:56&lt;00:00]\n",
       "    </div>\n",
       "    "
      ],
      "text/plain": [
       "<IPython.core.display.HTML object>"
      ]
     },
     "metadata": {},
     "output_type": "display_data"
    },
    {
     "name": "stderr",
     "output_type": "stream",
     "text": [
      "2023-08-01 11:13:18.824 | INFO     | src.nightlights:unzip_eog_gzip:224 - Unzipping /home/abbymoreno/.geowrangler/nightlights/global/VNL_v21_npp_2015_global_vcmslcfg_c202205302300.average.dat.tif.gz into /home/abbymoreno/.geowrangler/nightlights/global/VNL_v21_npp_2015_global_vcmslcfg_c202205302300.average.dat.tif\n",
      "2023-08-01 11:15:32.237 | INFO     | src.nightlights:unzip_eog_gzip:235 - Deleting /home/abbymoreno/.geowrangler/nightlights/global/VNL_v21_npp_2015_global_vcmslcfg_c202205302300.average.dat.tif.gz\n",
      "2023-08-01 11:15:33.231 | INFO     | src.nightlights:clip_raster:248 - Generating clipped raster file from /home/abbymoreno/.geowrangler/nightlights/global/VNL_v21_npp_2015_global_vcmslcfg_c202205302300.average.dat.tif to /home/abbymoreno/.geowrangler/nightlights/clip/37dc60633e9ed5141380b9681b5dabe4.tif with bounds [120.30772392   6.85810433 125.68101804  16.11340094] and buffer 0.1\n",
      "2023-08-01 11:15:34.042 | INFO     | src.nightlights:generate_clipped_metadata:421 - Adding metadata.json file /home/abbymoreno/.geowrangler/nightlights/clip/37dc60633e9ed5141380b9681b5dabe4.metadata.json\n"
     ]
    }
   ],
   "source": [
    "download_nightlights(aoi, \"2015\")"
   ]
  },
  {
   "cell_type": "code",
   "execution_count": 9,
   "metadata": {},
   "outputs": [
    {
     "name": "stderr",
     "output_type": "stream",
     "text": [
      "2023-08-01 11:25:06.627 | INFO     | src.nightlights:generate_clipped_raster:376 - Using viirs global file as source raster: /home/abbymoreno/.geowrangler/nightlights/global/VNL_v21_npp_2014_global_vcmslcfg_c202205302300.average.dat.tif\n",
      "2023-08-01 11:25:06.630 | INFO     | src.nightlights:download_url:161 - Using access token from environment var EOG_ACCESS_TOKEN\n",
      "2023-08-01 11:25:07.759 | INFO     | src.nightlights:urlretrieve:104 - Retrieving https://eogdata.mines.edu/nighttime_light/annual/v21/2014/VNL_v21_npp_2014_global_vcmslcfg_c202205302300.average.dat.tif.gz into /home/abbymoreno/.geowrangler/nightlights/global/VNL_v21_npp_2014_global_vcmslcfg_c202205302300.average.dat.tif.gz\n"
     ]
    },
    {
     "data": {
      "text/html": [
       "\n",
       "<style>\n",
       "    /* Turns off some styling */\n",
       "    progress {\n",
       "        /* gets rid of default border in Firefox and Opera. */\n",
       "        border: none;\n",
       "        /* Needs to be in here for Safari polyfill so background images work as expected. */\n",
       "        background-size: auto;\n",
       "    }\n",
       "    progress:not([value]), progress:not([value])::-webkit-progress-bar {\n",
       "        background: repeating-linear-gradient(45deg, #7e7e7e, #7e7e7e 10px, #5c5c5c 10px, #5c5c5c 20px);\n",
       "    }\n",
       "    .progress-bar-interrupted, .progress-bar-interrupted::-webkit-progress-bar {\n",
       "        background: #F44336;\n",
       "    }\n",
       "</style>\n"
      ],
      "text/plain": [
       "<IPython.core.display.HTML object>"
      ]
     },
     "metadata": {},
     "output_type": "display_data"
    },
    {
     "data": {
      "text/html": [
       "\n",
       "    <div>\n",
       "      <progress value='10382999552' class='' max='10382339432' style='width:300px; height:20px; vertical-align: middle;'></progress>\n",
       "      100.01% [10382999552/10382339432 49:27&lt;00:00]\n",
       "    </div>\n",
       "    "
      ],
      "text/plain": [
       "<IPython.core.display.HTML object>"
      ]
     },
     "metadata": {},
     "output_type": "display_data"
    },
    {
     "name": "stderr",
     "output_type": "stream",
     "text": [
      "2023-08-01 12:14:35.660 | INFO     | src.nightlights:unzip_eog_gzip:224 - Unzipping /home/abbymoreno/.geowrangler/nightlights/global/VNL_v21_npp_2014_global_vcmslcfg_c202205302300.average.dat.tif.gz into /home/abbymoreno/.geowrangler/nightlights/global/VNL_v21_npp_2014_global_vcmslcfg_c202205302300.average.dat.tif\n",
      "2023-08-01 12:16:01.064 | INFO     | src.nightlights:unzip_eog_gzip:235 - Deleting /home/abbymoreno/.geowrangler/nightlights/global/VNL_v21_npp_2014_global_vcmslcfg_c202205302300.average.dat.tif.gz\n",
      "2023-08-01 12:16:01.903 | INFO     | src.nightlights:clip_raster:248 - Generating clipped raster file from /home/abbymoreno/.geowrangler/nightlights/global/VNL_v21_npp_2014_global_vcmslcfg_c202205302300.average.dat.tif to /home/abbymoreno/.geowrangler/nightlights/clip/34528eec4e90f43c7687495950e2db88.tif with bounds [120.30772392   6.85810433 125.68101804  16.11340094] and buffer 0.1\n",
      "2023-08-01 12:16:02.052 | INFO     | src.nightlights:generate_clipped_metadata:421 - Adding metadata.json file /home/abbymoreno/.geowrangler/nightlights/clip/34528eec4e90f43c7687495950e2db88.metadata.json\n"
     ]
    }
   ],
   "source": [
    "download_nightlights(aoi, \"2014\")"
   ]
  },
  {
   "cell_type": "code",
   "execution_count": 10,
   "metadata": {},
   "outputs": [
    {
     "name": "stderr",
     "output_type": "stream",
     "text": [
      "2023-08-01 12:54:54.467 | INFO     | src.nightlights:generate_clipped_raster:376 - Using viirs global file as source raster: /home/abbymoreno/.geowrangler/nightlights/global/VNL_v21_npp_2013_global_vcmcfg_c202205302300.average.dat.tif\n",
      "2023-08-01 12:54:54.469 | INFO     | src.nightlights:download_url:161 - Using access token from environment var EOG_ACCESS_TOKEN\n",
      "2023-08-01 12:54:55.580 | INFO     | src.nightlights:urlretrieve:104 - Retrieving https://eogdata.mines.edu/nighttime_light/annual/v21/2013/VNL_v21_npp_2013_global_vcmcfg_c202205302300.average.dat.tif.gz into /home/abbymoreno/.geowrangler/nightlights/global/VNL_v21_npp_2013_global_vcmcfg_c202205302300.average.dat.tif.gz\n"
     ]
    },
    {
     "data": {
      "text/html": [
       "\n",
       "<style>\n",
       "    /* Turns off some styling */\n",
       "    progress {\n",
       "        /* gets rid of default border in Firefox and Opera. */\n",
       "        border: none;\n",
       "        /* Needs to be in here for Safari polyfill so background images work as expected. */\n",
       "        background-size: auto;\n",
       "    }\n",
       "    progress:not([value]), progress:not([value])::-webkit-progress-bar {\n",
       "        background: repeating-linear-gradient(45deg, #7e7e7e, #7e7e7e 10px, #5c5c5c 10px, #5c5c5c 20px);\n",
       "    }\n",
       "    .progress-bar-interrupted, .progress-bar-interrupted::-webkit-progress-bar {\n",
       "        background: #F44336;\n",
       "    }\n",
       "</style>\n"
      ],
      "text/plain": [
       "<IPython.core.display.HTML object>"
      ]
     },
     "metadata": {},
     "output_type": "display_data"
    },
    {
     "data": {
      "text/html": [
       "\n",
       "    <div>\n",
       "      <progress value='10257170432' class='' max='10256889690' style='width:300px; height:20px; vertical-align: middle;'></progress>\n",
       "      100.00% [10257170432/10256889690 31:00&lt;00:00]\n",
       "    </div>\n",
       "    "
      ],
      "text/plain": [
       "<IPython.core.display.HTML object>"
      ]
     },
     "metadata": {},
     "output_type": "display_data"
    },
    {
     "name": "stderr",
     "output_type": "stream",
     "text": [
      "2023-08-01 13:25:55.775 | INFO     | src.nightlights:unzip_eog_gzip:224 - Unzipping /home/abbymoreno/.geowrangler/nightlights/global/VNL_v21_npp_2013_global_vcmcfg_c202205302300.average.dat.tif.gz into /home/abbymoreno/.geowrangler/nightlights/global/VNL_v21_npp_2013_global_vcmcfg_c202205302300.average.dat.tif\n",
      "2023-08-01 13:27:03.271 | INFO     | src.nightlights:unzip_eog_gzip:235 - Deleting /home/abbymoreno/.geowrangler/nightlights/global/VNL_v21_npp_2013_global_vcmcfg_c202205302300.average.dat.tif.gz\n",
      "2023-08-01 13:27:03.954 | INFO     | src.nightlights:clip_raster:248 - Generating clipped raster file from /home/abbymoreno/.geowrangler/nightlights/global/VNL_v21_npp_2013_global_vcmcfg_c202205302300.average.dat.tif to /home/abbymoreno/.geowrangler/nightlights/clip/5d031d0bb92414cad18e80045597389d.tif with bounds [120.30772392   6.85810433 125.68101804  16.11340094] and buffer 0.1\n",
      "2023-08-01 13:27:04.069 | INFO     | src.nightlights:generate_clipped_metadata:421 - Adding metadata.json file /home/abbymoreno/.geowrangler/nightlights/clip/5d031d0bb92414cad18e80045597389d.metadata.json\n"
     ]
    }
   ],
   "source": [
    "download_nightlights(aoi, \"2013\")"
   ]
  },
  {
   "cell_type": "code",
   "execution_count": 11,
   "metadata": {},
   "outputs": [
    {
     "name": "stderr",
     "output_type": "stream",
     "text": [
      "2023-08-01 13:32:17.757 | INFO     | src.nightlights:generate_clipped_raster:376 - Using viirs global file as source raster: /home/abbymoreno/.geowrangler/nightlights/global/VNL_v21_npp_201204-201303_global_vcmcfg_c202205302300.average.dat.tif\n",
      "2023-08-01 13:32:17.758 | INFO     | src.nightlights:download_url:161 - Using access token from environment var EOG_ACCESS_TOKEN\n",
      "2023-08-01 13:32:18.868 | INFO     | src.nightlights:urlretrieve:104 - Retrieving https://eogdata.mines.edu/nighttime_light/annual/v21/2012/VNL_v21_npp_201204-201303_global_vcmcfg_c202205302300.average.dat.tif.gz into /home/abbymoreno/.geowrangler/nightlights/global/VNL_v21_npp_201204-201303_global_vcmcfg_c202205302300.average.dat.tif.gz\n"
     ]
    },
    {
     "data": {
      "text/html": [
       "\n",
       "<style>\n",
       "    /* Turns off some styling */\n",
       "    progress {\n",
       "        /* gets rid of default border in Firefox and Opera. */\n",
       "        border: none;\n",
       "        /* Needs to be in here for Safari polyfill so background images work as expected. */\n",
       "        background-size: auto;\n",
       "    }\n",
       "    progress:not([value]), progress:not([value])::-webkit-progress-bar {\n",
       "        background: repeating-linear-gradient(45deg, #7e7e7e, #7e7e7e 10px, #5c5c5c 10px, #5c5c5c 20px);\n",
       "    }\n",
       "    .progress-bar-interrupted, .progress-bar-interrupted::-webkit-progress-bar {\n",
       "        background: #F44336;\n",
       "    }\n",
       "</style>\n"
      ],
      "text/plain": [
       "<IPython.core.display.HTML object>"
      ]
     },
     "metadata": {},
     "output_type": "display_data"
    },
    {
     "data": {
      "text/html": [
       "\n",
       "    <div>\n",
       "      <progress value='10413408256' class='' max='10413044376' style='width:300px; height:20px; vertical-align: middle;'></progress>\n",
       "      100.00% [10413408256/10413044376 35:26&lt;00:00]\n",
       "    </div>\n",
       "    "
      ],
      "text/plain": [
       "<IPython.core.display.HTML object>"
      ]
     },
     "metadata": {},
     "output_type": "display_data"
    },
    {
     "name": "stderr",
     "output_type": "stream",
     "text": [
      "2023-08-01 14:07:45.108 | INFO     | src.nightlights:unzip_eog_gzip:224 - Unzipping /home/abbymoreno/.geowrangler/nightlights/global/VNL_v21_npp_201204-201303_global_vcmcfg_c202205302300.average.dat.tif.gz into /home/abbymoreno/.geowrangler/nightlights/global/VNL_v21_npp_201204-201303_global_vcmcfg_c202205302300.average.dat.tif\n",
      "2023-08-01 14:08:57.203 | INFO     | src.nightlights:unzip_eog_gzip:235 - Deleting /home/abbymoreno/.geowrangler/nightlights/global/VNL_v21_npp_201204-201303_global_vcmcfg_c202205302300.average.dat.tif.gz\n",
      "2023-08-01 14:08:57.950 | INFO     | src.nightlights:clip_raster:248 - Generating clipped raster file from /home/abbymoreno/.geowrangler/nightlights/global/VNL_v21_npp_201204-201303_global_vcmcfg_c202205302300.average.dat.tif to /home/abbymoreno/.geowrangler/nightlights/clip/7482a117f900ee3af6fa27aa9f3e4368.tif with bounds [120.30772392   6.85810433 125.68101804  16.11340094] and buffer 0.1\n",
      "2023-08-01 14:08:58.079 | INFO     | src.nightlights:generate_clipped_metadata:421 - Adding metadata.json file /home/abbymoreno/.geowrangler/nightlights/clip/7482a117f900ee3af6fa27aa9f3e4368.metadata.json\n"
     ]
    }
   ],
   "source": [
    "download_nightlights(aoi, \"2012\")"
   ]
  },
  {
   "cell_type": "code",
   "execution_count": null,
   "metadata": {},
   "outputs": [],
   "source": []
  }
 ],
 "metadata": {
  "kernelspec": {
   "display_name": "lacuna-fund2",
   "language": "python",
   "name": "python3"
  },
  "language_info": {
   "codemirror_mode": {
    "name": "ipython",
    "version": 3
   },
   "file_extension": ".py",
   "mimetype": "text/x-python",
   "name": "python",
   "nbconvert_exporter": "python",
   "pygments_lexer": "ipython3",
   "version": "3.9.16"
  },
  "orig_nbformat": 4
 },
 "nbformat": 4,
 "nbformat_minor": 2
}
