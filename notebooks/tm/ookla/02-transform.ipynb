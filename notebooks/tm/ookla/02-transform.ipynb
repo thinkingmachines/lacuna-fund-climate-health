{
 "cells": [
  {
   "cell_type": "code",
   "execution_count": 2,
   "metadata": {},
   "outputs": [],
   "source": [
    "%reload_ext autoreload\n",
    "%autoreload 2"
   ]
  },
  {
   "cell_type": "code",
   "execution_count": 3,
   "metadata": {},
   "outputs": [
    {
     "name": "stderr",
     "output_type": "stream",
     "text": [
      "/home/abbymoreno/miniconda3/envs/lacuna-fund2/lib/python3.9/site-packages/geopandas/_compat.py:111: UserWarning: The Shapely GEOS version (3.11.1-CAPI-1.17.1) is incompatible with the GEOS version PyGEOS was compiled with (3.10.1-CAPI-1.16.0). Conversions between both will be slow.\n",
      "  warnings.warn(\n"
     ]
    }
   ],
   "source": [
    "from pathlib import Path\n",
    "\n",
    "# custom module\n",
    "import sys\n",
    "\n",
    "sys.path.append(\"../../../\")  # include parent directory\n",
    "from src.ookla import *"
   ]
  },
  {
   "cell_type": "code",
   "execution_count": 4,
   "metadata": {},
   "outputs": [],
   "source": [
    "ADMIN_FPATH = Path(\"../../../data/01-admin-bounds/\")\n",
    "PROCESSED_FPATH = Path(\"../../../data/03-processed/ookla/\")\n",
    "OOKLA_DIR = Path(\"../../../data/02-raw/ookla/\")\n",
    "\n",
    "OOKLA_YEARS = [\"2022\", \"2021\", \"2020\", \"2019\"]"
   ]
  },
  {
   "attachments": {},
   "cell_type": "markdown",
   "metadata": {},
   "source": [
    "### Load AOI"
   ]
  },
  {
   "cell_type": "code",
   "execution_count": 5,
   "metadata": {},
   "outputs": [
    {
     "data": {
      "text/html": [
       "<div>\n",
       "<style scoped>\n",
       "    .dataframe tbody tr th:only-of-type {\n",
       "        vertical-align: middle;\n",
       "    }\n",
       "\n",
       "    .dataframe tbody tr th {\n",
       "        vertical-align: top;\n",
       "    }\n",
       "\n",
       "    .dataframe thead th {\n",
       "        text-align: right;\n",
       "    }\n",
       "</style>\n",
       "<table border=\"1\" class=\"dataframe\">\n",
       "  <thead>\n",
       "    <tr style=\"text-align: right;\">\n",
       "      <th></th>\n",
       "      <th>region_name</th>\n",
       "      <th>region_code</th>\n",
       "      <th>province_name</th>\n",
       "      <th>province_code</th>\n",
       "      <th>city_name</th>\n",
       "      <th>city_code</th>\n",
       "      <th>barangay_name</th>\n",
       "      <th>barangay_psgc_code</th>\n",
       "      <th>geometry</th>\n",
       "    </tr>\n",
       "  </thead>\n",
       "  <tbody>\n",
       "    <tr>\n",
       "      <th>0</th>\n",
       "      <td>Region I</td>\n",
       "      <td>PH010000000</td>\n",
       "      <td>Pangasinan</td>\n",
       "      <td>PH015500000</td>\n",
       "      <td>Dagupan City</td>\n",
       "      <td>PH015518000</td>\n",
       "      <td>Lomboy</td>\n",
       "      <td>PH015518016</td>\n",
       "      <td>POLYGON ((120.32742 16.05423, 120.32719 16.053...</td>\n",
       "    </tr>\n",
       "    <tr>\n",
       "      <th>1</th>\n",
       "      <td>Region I</td>\n",
       "      <td>PH010000000</td>\n",
       "      <td>Pangasinan</td>\n",
       "      <td>PH015500000</td>\n",
       "      <td>Dagupan City</td>\n",
       "      <td>PH015518000</td>\n",
       "      <td>Tapuac</td>\n",
       "      <td>PH015518031</td>\n",
       "      <td>POLYGON ((120.33380 16.03974, 120.33389 16.039...</td>\n",
       "    </tr>\n",
       "  </tbody>\n",
       "</table>\n",
       "</div>"
      ],
      "text/plain": [
       "  region_name  region_code province_name province_code     city_name  \\\n",
       "0    Region I  PH010000000    Pangasinan   PH015500000  Dagupan City   \n",
       "1    Region I  PH010000000    Pangasinan   PH015500000  Dagupan City   \n",
       "\n",
       "     city_code barangay_name barangay_psgc_code  \\\n",
       "0  PH015518000        Lomboy        PH015518016   \n",
       "1  PH015518000        Tapuac        PH015518031   \n",
       "\n",
       "                                            geometry  \n",
       "0  POLYGON ((120.32742 16.05423, 120.32719 16.053...  \n",
       "1  POLYGON ((120.33380 16.03974, 120.33389 16.039...  "
      ]
     },
     "execution_count": 5,
     "metadata": {},
     "output_type": "execute_result"
    }
   ],
   "source": [
    "# Load the administrative boundaries for the 12 cities\n",
    "aoi = gpd.read_file(ADMIN_FPATH / \"renamed_target_admin_bounds.gpkg\")\n",
    "aoi.head(2)"
   ]
  },
  {
   "attachments": {},
   "cell_type": "markdown",
   "metadata": {},
   "source": [
    "# Align Ookla data to AOI\n",
    "\n",
    "`OOKLA_DIR` contains the downloaded raw ookla files from the previous notebook."
   ]
  },
  {
   "cell_type": "code",
   "execution_count": 11,
   "metadata": {},
   "outputs": [],
   "source": [
    "def align_ookla(year=\"2022\"):\n",
    "    ookla_data_manager = OoklaDataManager(cache_dir=OOKLA_DIR)\n",
    "    ookla_features = add_ookla_features(aoi, \"fixed\", year, ookla_data_manager)\n",
    "    ookla_features_mobile = add_ookla_features(\n",
    "        aoi, \"mobile\", \"2022\", ookla_data_manager\n",
    "    )\n",
    "    drop_cols = [\n",
    "        \"region_name\",\n",
    "        \"region_code\",\n",
    "        \"province_name\",\n",
    "        \"province_code\",\n",
    "        \"city_name\",\n",
    "        \"city_code\",\n",
    "        \"barangay_name\",\n",
    "        \"geometry\",\n",
    "    ]\n",
    "    ookla_features = ookla_features.drop(columns=drop_cols)\n",
    "    ookla_features_mobile = ookla_features_mobile.drop(columns=drop_cols)\n",
    "    ookla_features.to_csv(PROCESSED_FPATH / f\"ookla_features_fixed_{year}.csv\")\n",
    "    ookla_features_mobile.to_csv(PROCESSED_FPATH / f\"ookla_features_mobile_{year}.csv\")"
   ]
  },
  {
   "cell_type": "code",
   "execution_count": 12,
   "metadata": {},
   "outputs": [
    {
     "name": "stderr",
     "output_type": "stream",
     "text": [
      "2023-08-29 23:02:45.528 | DEBUG    | src.ookla:load_type_year_data:76 - Contents of data cache: []\n",
      "2023-08-29 23:02:45.530 | INFO     | src.ookla:load_type_year_data:91 - Cached data available at ../../../data/02-raw/ookla/ookla/processed/b79316ea94d6c1e846ac36e032567763.csv? False\n",
      "2023-08-29 23:02:45.531 | DEBUG    | src.ookla:load_type_year_data:108 - No cached data found. Processing Ookla data from scratch.\n"
     ]
    },
    {
     "name": "stderr",
     "output_type": "stream",
     "text": [
      "2023-08-29 23:02:46.673 | INFO     | src.ookla:download_ookla_year_data:221 - Ookla Data: Number of available files for fixed and 2021: 4\n",
      "2023-08-29 23:02:46.675 | INFO     | src.ookla:download_ookla_year_data:234 - Ookla Data: Cached data available for fixed and 2021 at ../../../data/02-raw/ookla/ookla/fixed/2021? True\n",
      "2023-08-29 23:02:46.677 | DEBUG    | src.ookla:load_type_year_data:143 - Generating quadkeys based on input aoi geometry to pull intersecting Ookla data.\n",
      "2023-08-29 23:03:31.639 | DEBUG    | src.ookla:load_type_year_data:160 - Ookla data for aoi, fixed 2021 1 being loaded from ../../../data/02-raw/ookla/ookla/fixed/2021/2021-01-01_performance_fixed_tiles.parquet\n",
      "2023-08-29 23:03:39.658 | DEBUG    | src.ookla:load_type_year_data:160 - Ookla data for aoi, fixed 2021 2 being loaded from ../../../data/02-raw/ookla/ookla/fixed/2021/2021-04-01_performance_fixed_tiles.parquet\n",
      "2023-08-29 23:03:47.903 | DEBUG    | src.ookla:load_type_year_data:160 - Ookla data for aoi, fixed 2021 3 being loaded from ../../../data/02-raw/ookla/ookla/fixed/2021/2021-07-01_performance_fixed_tiles.parquet\n",
      "2023-08-29 23:03:57.446 | DEBUG    | src.ookla:load_type_year_data:160 - Ookla data for aoi, fixed 2021 4 being loaded from ../../../data/02-raw/ookla/ookla/fixed/2021/2021-10-01_performance_fixed_tiles.parquet\n",
      "2023-08-29 23:04:06.332 | DEBUG    | src.ookla:load_type_year_data:181 - Concatenating quarterly Ookla data for fixed and 2021 into one dataframe\n",
      "2023-08-29 23:04:07.958 | DEBUG    | src.ookla:load_type_year_data:76 - Contents of data cache: ['b79316ea94d6c1e846ac36e032567763']\n",
      "2023-08-29 23:04:07.960 | INFO     | src.ookla:load_type_year_data:91 - Cached data available at ../../../data/02-raw/ookla/ookla/processed/588422765f080d117cc64adbde2a3582.csv? True\n",
      "2023-08-29 23:04:07.961 | DEBUG    | src.ookla:load_type_year_data:96 - Processed Ookla data for aoi, mobile 2022 (key: 588422765f080d117cc64adbde2a3582) found in filesystem. Loading in cache.\n"
     ]
    }
   ],
   "source": [
    "for year in OOKLA_YEARS:\n",
    "    align_ookla(year)"
   ]
  },
  {
   "cell_type": "code",
   "execution_count": null,
   "metadata": {},
   "outputs": [],
   "source": []
  }
 ],
 "metadata": {
  "kernelspec": {
   "display_name": "lacuna-fund2",
   "language": "python",
   "name": "python3"
  },
  "language_info": {
   "codemirror_mode": {
    "name": "ipython",
    "version": 3
   },
   "file_extension": ".py",
   "mimetype": "text/x-python",
   "name": "python",
   "nbconvert_exporter": "python",
   "pygments_lexer": "ipython3",
   "version": "3.9.16"
  },
  "orig_nbformat": 4
 },
 "nbformat": 4,
 "nbformat_minor": 2
}
