{
 "cells": [
  {
   "cell_type": "code",
   "execution_count": 1,
   "metadata": {},
   "outputs": [],
   "source": [
    "%reload_ext autoreload\n",
    "%autoreload 2"
   ]
  },
  {
   "cell_type": "code",
   "execution_count": 2,
   "metadata": {},
   "outputs": [
    {
     "name": "stderr",
     "output_type": "stream",
     "text": [
      "/home/abbymoreno/miniconda3/envs/lacuna-fund2/lib/python3.9/site-packages/geopandas/_compat.py:111: UserWarning: The Shapely GEOS version (3.11.1-CAPI-1.17.1) is incompatible with the GEOS version PyGEOS was compiled with (3.10.1-CAPI-1.16.0). Conversions between both will be slow.\n",
      "  warnings.warn(\n"
     ]
    }
   ],
   "source": [
    "from pathlib import Path\n",
    "\n",
    "# custom module\n",
    "import sys\n",
    "\n",
    "sys.path.append(\"../../../\")  # include parent directory\n",
    "from src.ookla import *"
   ]
  },
  {
   "cell_type": "code",
   "execution_count": 3,
   "metadata": {},
   "outputs": [],
   "source": [
    "ADMIN_FPATH = Path(\"../../../data/01-admin-bounds/\")\n",
    "PROCESSED_FPATH = Path(\"../../../data/03-processed/ookla/\")\n",
    "OOKLA_DIR = Path(\"../../../data/02-raw/ookla/\")"
   ]
  },
  {
   "attachments": {},
   "cell_type": "markdown",
   "metadata": {},
   "source": [
    "### Load AOI"
   ]
  },
  {
   "cell_type": "code",
   "execution_count": 4,
   "metadata": {},
   "outputs": [
    {
     "data": {
      "text/html": [
       "<div>\n",
       "<style scoped>\n",
       "    .dataframe tbody tr th:only-of-type {\n",
       "        vertical-align: middle;\n",
       "    }\n",
       "\n",
       "    .dataframe tbody tr th {\n",
       "        vertical-align: top;\n",
       "    }\n",
       "\n",
       "    .dataframe thead th {\n",
       "        text-align: right;\n",
       "    }\n",
       "</style>\n",
       "<table border=\"1\" class=\"dataframe\">\n",
       "  <thead>\n",
       "    <tr style=\"text-align: right;\">\n",
       "      <th></th>\n",
       "      <th>region_name</th>\n",
       "      <th>region_code</th>\n",
       "      <th>province_name</th>\n",
       "      <th>province_code</th>\n",
       "      <th>city_name</th>\n",
       "      <th>city_code</th>\n",
       "      <th>barangay_name</th>\n",
       "      <th>barangay_psgc_code</th>\n",
       "      <th>geometry</th>\n",
       "    </tr>\n",
       "  </thead>\n",
       "  <tbody>\n",
       "    <tr>\n",
       "      <th>0</th>\n",
       "      <td>Region I</td>\n",
       "      <td>PH010000000</td>\n",
       "      <td>Pangasinan</td>\n",
       "      <td>PH015500000</td>\n",
       "      <td>Dagupan City</td>\n",
       "      <td>PH015518000</td>\n",
       "      <td>Lomboy</td>\n",
       "      <td>PH015518016</td>\n",
       "      <td>POLYGON ((120.32742 16.05423, 120.32719 16.053...</td>\n",
       "    </tr>\n",
       "    <tr>\n",
       "      <th>1</th>\n",
       "      <td>Region I</td>\n",
       "      <td>PH010000000</td>\n",
       "      <td>Pangasinan</td>\n",
       "      <td>PH015500000</td>\n",
       "      <td>Dagupan City</td>\n",
       "      <td>PH015518000</td>\n",
       "      <td>Tapuac</td>\n",
       "      <td>PH015518031</td>\n",
       "      <td>POLYGON ((120.33380 16.03974, 120.33389 16.039...</td>\n",
       "    </tr>\n",
       "  </tbody>\n",
       "</table>\n",
       "</div>"
      ],
      "text/plain": [
       "  region_name  region_code province_name province_code     city_name  \\\n",
       "0    Region I  PH010000000    Pangasinan   PH015500000  Dagupan City   \n",
       "1    Region I  PH010000000    Pangasinan   PH015500000  Dagupan City   \n",
       "\n",
       "     city_code barangay_name barangay_psgc_code  \\\n",
       "0  PH015518000        Lomboy        PH015518016   \n",
       "1  PH015518000        Tapuac        PH015518031   \n",
       "\n",
       "                                            geometry  \n",
       "0  POLYGON ((120.32742 16.05423, 120.32719 16.053...  \n",
       "1  POLYGON ((120.33380 16.03974, 120.33389 16.039...  "
      ]
     },
     "execution_count": 4,
     "metadata": {},
     "output_type": "execute_result"
    }
   ],
   "source": [
    "# Load the administrative boundaries for the 12 cities\n",
    "aoi = gpd.read_file(ADMIN_FPATH / \"renamed_target_admin_bounds.gpkg\")\n",
    "aoi.head(2)"
   ]
  },
  {
   "attachments": {},
   "cell_type": "markdown",
   "metadata": {},
   "source": [
    "# Align Ookla data to AOI\n",
    "\n",
    "`OOKLA_DIR` contains the downloaded raw ookla files from the previous notebook."
   ]
  },
  {
   "cell_type": "code",
   "execution_count": 6,
   "metadata": {},
   "outputs": [
    {
     "name": "stderr",
     "output_type": "stream",
     "text": [
      "2023-08-09 11:45:16.450 | DEBUG    | src.ookla:load_type_year_data:76 - Contents of data cache: []\n",
      "2023-08-09 11:45:16.453 | INFO     | src.ookla:load_type_year_data:91 - Cached data available at ../../../data/02-raw/ookla/ookla/processed/afc08259ba9585cdf5ee4494d1e49fbd.csv? True\n",
      "2023-08-09 11:45:16.454 | DEBUG    | src.ookla:load_type_year_data:96 - Processed Ookla data for aoi, fixed 2022 (key: afc08259ba9585cdf5ee4494d1e49fbd) found in filesystem. Loading in cache.\n"
     ]
    },
    {
     "data": {
      "text/html": [
       "<div>\n",
       "<style scoped>\n",
       "    .dataframe tbody tr th:only-of-type {\n",
       "        vertical-align: middle;\n",
       "    }\n",
       "\n",
       "    .dataframe tbody tr th {\n",
       "        vertical-align: top;\n",
       "    }\n",
       "\n",
       "    .dataframe thead th {\n",
       "        text-align: right;\n",
       "    }\n",
       "</style>\n",
       "<table border=\"1\" class=\"dataframe\">\n",
       "  <thead>\n",
       "    <tr style=\"text-align: right;\">\n",
       "      <th></th>\n",
       "      <th>region_name</th>\n",
       "      <th>region_code</th>\n",
       "      <th>province_name</th>\n",
       "      <th>province_code</th>\n",
       "      <th>city_name</th>\n",
       "      <th>city_code</th>\n",
       "      <th>barangay_name</th>\n",
       "      <th>barangay_psgc_code</th>\n",
       "      <th>geometry</th>\n",
       "      <th>fixed_2022_mean_avg_d_kbps_mean</th>\n",
       "      <th>fixed_2022_mean_avg_u_kbps_mean</th>\n",
       "      <th>fixed_2022_mean_avg_lat_ms_mean</th>\n",
       "      <th>fixed_2022_mean_num_tests_mean</th>\n",
       "      <th>fixed_2022_mean_num_devices_mean</th>\n",
       "    </tr>\n",
       "  </thead>\n",
       "  <tbody>\n",
       "    <tr>\n",
       "      <th>0</th>\n",
       "      <td>Region I</td>\n",
       "      <td>PH010000000</td>\n",
       "      <td>Pangasinan</td>\n",
       "      <td>PH015500000</td>\n",
       "      <td>Dagupan City</td>\n",
       "      <td>PH015518000</td>\n",
       "      <td>Lomboy</td>\n",
       "      <td>PH015518016</td>\n",
       "      <td>POLYGON ((120.32742 16.05423, 120.32719 16.053...</td>\n",
       "      <td>2586.706255</td>\n",
       "      <td>1843.592792</td>\n",
       "      <td>2.321099</td>\n",
       "      <td>1.311166</td>\n",
       "      <td>0.230061</td>\n",
       "    </tr>\n",
       "    <tr>\n",
       "      <th>1</th>\n",
       "      <td>Region I</td>\n",
       "      <td>PH010000000</td>\n",
       "      <td>Pangasinan</td>\n",
       "      <td>PH015500000</td>\n",
       "      <td>Dagupan City</td>\n",
       "      <td>PH015518000</td>\n",
       "      <td>Tapuac</td>\n",
       "      <td>PH015518031</td>\n",
       "      <td>POLYGON ((120.33380 16.03974, 120.33389 16.039...</td>\n",
       "      <td>6443.622866</td>\n",
       "      <td>6426.562701</td>\n",
       "      <td>1.205272</td>\n",
       "      <td>21.050825</td>\n",
       "      <td>4.938126</td>\n",
       "    </tr>\n",
       "  </tbody>\n",
       "</table>\n",
       "</div>"
      ],
      "text/plain": [
       "  region_name  region_code province_name province_code     city_name  \\\n",
       "0    Region I  PH010000000    Pangasinan   PH015500000  Dagupan City   \n",
       "1    Region I  PH010000000    Pangasinan   PH015500000  Dagupan City   \n",
       "\n",
       "     city_code barangay_name barangay_psgc_code  \\\n",
       "0  PH015518000        Lomboy        PH015518016   \n",
       "1  PH015518000        Tapuac        PH015518031   \n",
       "\n",
       "                                            geometry  \\\n",
       "0  POLYGON ((120.32742 16.05423, 120.32719 16.053...   \n",
       "1  POLYGON ((120.33380 16.03974, 120.33389 16.039...   \n",
       "\n",
       "   fixed_2022_mean_avg_d_kbps_mean  fixed_2022_mean_avg_u_kbps_mean  \\\n",
       "0                      2586.706255                      1843.592792   \n",
       "1                      6443.622866                      6426.562701   \n",
       "\n",
       "   fixed_2022_mean_avg_lat_ms_mean  fixed_2022_mean_num_tests_mean  \\\n",
       "0                         2.321099                        1.311166   \n",
       "1                         1.205272                       21.050825   \n",
       "\n",
       "   fixed_2022_mean_num_devices_mean  \n",
       "0                          0.230061  \n",
       "1                          4.938126  "
      ]
     },
     "execution_count": 6,
     "metadata": {},
     "output_type": "execute_result"
    }
   ],
   "source": [
    "ookla_data_manager = OoklaDataManager(cache_dir=OOKLA_DIR)\n",
    "ookla_features = add_ookla_features(aoi, \"fixed\", \"2022\", ookla_data_manager)\n",
    "ookla_features.head(2)"
   ]
  },
  {
   "cell_type": "code",
   "execution_count": 7,
   "metadata": {},
   "outputs": [
    {
     "name": "stderr",
     "output_type": "stream",
     "text": [
      "2023-08-09 11:45:31.997 | DEBUG    | src.ookla:load_type_year_data:76 - Contents of data cache: ['afc08259ba9585cdf5ee4494d1e49fbd']\n",
      "2023-08-09 11:45:31.999 | INFO     | src.ookla:load_type_year_data:91 - Cached data available at ../../../data/02-raw/ookla/ookla/processed/588422765f080d117cc64adbde2a3582.csv? True\n",
      "2023-08-09 11:45:32.000 | DEBUG    | src.ookla:load_type_year_data:96 - Processed Ookla data for aoi, mobile 2022 (key: 588422765f080d117cc64adbde2a3582) found in filesystem. Loading in cache.\n"
     ]
    },
    {
     "data": {
      "text/html": [
       "<div>\n",
       "<style scoped>\n",
       "    .dataframe tbody tr th:only-of-type {\n",
       "        vertical-align: middle;\n",
       "    }\n",
       "\n",
       "    .dataframe tbody tr th {\n",
       "        vertical-align: top;\n",
       "    }\n",
       "\n",
       "    .dataframe thead th {\n",
       "        text-align: right;\n",
       "    }\n",
       "</style>\n",
       "<table border=\"1\" class=\"dataframe\">\n",
       "  <thead>\n",
       "    <tr style=\"text-align: right;\">\n",
       "      <th></th>\n",
       "      <th>region_name</th>\n",
       "      <th>region_code</th>\n",
       "      <th>province_name</th>\n",
       "      <th>province_code</th>\n",
       "      <th>city_name</th>\n",
       "      <th>city_code</th>\n",
       "      <th>barangay_name</th>\n",
       "      <th>barangay_psgc_code</th>\n",
       "      <th>geometry</th>\n",
       "      <th>mobile_2022_mean_avg_d_kbps_mean</th>\n",
       "      <th>mobile_2022_mean_avg_u_kbps_mean</th>\n",
       "      <th>mobile_2022_mean_avg_lat_ms_mean</th>\n",
       "      <th>mobile_2022_mean_num_tests_mean</th>\n",
       "      <th>mobile_2022_mean_num_devices_mean</th>\n",
       "    </tr>\n",
       "  </thead>\n",
       "  <tbody>\n",
       "    <tr>\n",
       "      <th>0</th>\n",
       "      <td>Region I</td>\n",
       "      <td>PH010000000</td>\n",
       "      <td>Pangasinan</td>\n",
       "      <td>PH015500000</td>\n",
       "      <td>Dagupan City</td>\n",
       "      <td>PH015518000</td>\n",
       "      <td>Lomboy</td>\n",
       "      <td>PH015518016</td>\n",
       "      <td>POLYGON ((120.32742 16.05423, 120.32719 16.053...</td>\n",
       "      <td>500.613845</td>\n",
       "      <td>152.336423</td>\n",
       "      <td>3.169237</td>\n",
       "      <td>0.226313</td>\n",
       "      <td>0.166182</td>\n",
       "    </tr>\n",
       "    <tr>\n",
       "      <th>1</th>\n",
       "      <td>Region I</td>\n",
       "      <td>PH010000000</td>\n",
       "      <td>Pangasinan</td>\n",
       "      <td>PH015500000</td>\n",
       "      <td>Dagupan City</td>\n",
       "      <td>PH015518000</td>\n",
       "      <td>Tapuac</td>\n",
       "      <td>PH015518031</td>\n",
       "      <td>POLYGON ((120.33380 16.03974, 120.33389 16.039...</td>\n",
       "      <td>3246.477497</td>\n",
       "      <td>946.994351</td>\n",
       "      <td>2.699362</td>\n",
       "      <td>3.736913</td>\n",
       "      <td>2.158613</td>\n",
       "    </tr>\n",
       "  </tbody>\n",
       "</table>\n",
       "</div>"
      ],
      "text/plain": [
       "  region_name  region_code province_name province_code     city_name  \\\n",
       "0    Region I  PH010000000    Pangasinan   PH015500000  Dagupan City   \n",
       "1    Region I  PH010000000    Pangasinan   PH015500000  Dagupan City   \n",
       "\n",
       "     city_code barangay_name barangay_psgc_code  \\\n",
       "0  PH015518000        Lomboy        PH015518016   \n",
       "1  PH015518000        Tapuac        PH015518031   \n",
       "\n",
       "                                            geometry  \\\n",
       "0  POLYGON ((120.32742 16.05423, 120.32719 16.053...   \n",
       "1  POLYGON ((120.33380 16.03974, 120.33389 16.039...   \n",
       "\n",
       "   mobile_2022_mean_avg_d_kbps_mean  mobile_2022_mean_avg_u_kbps_mean  \\\n",
       "0                        500.613845                        152.336423   \n",
       "1                       3246.477497                        946.994351   \n",
       "\n",
       "   mobile_2022_mean_avg_lat_ms_mean  mobile_2022_mean_num_tests_mean  \\\n",
       "0                          3.169237                         0.226313   \n",
       "1                          2.699362                         3.736913   \n",
       "\n",
       "   mobile_2022_mean_num_devices_mean  \n",
       "0                           0.166182  \n",
       "1                           2.158613  "
      ]
     },
     "execution_count": 7,
     "metadata": {},
     "output_type": "execute_result"
    }
   ],
   "source": [
    "ookla_features_mobile = add_ookla_features(aoi, \"mobile\", \"2022\", ookla_data_manager)\n",
    "ookla_features_mobile.head(2)"
   ]
  },
  {
   "cell_type": "code",
   "execution_count": 15,
   "metadata": {},
   "outputs": [],
   "source": [
    "drop_cols = [\n",
    "    \"ADM1_EN\",\n",
    "    \"ADM1_PCODE\",\n",
    "    \"ADM2_EN\",\n",
    "    \"ADM2_PCODE\",\n",
    "    \"ADM3_EN\",\n",
    "    \"ADM3_PCODE\",\n",
    "    \"ADM4_EN\",\n",
    "    \"geometry\",\n",
    "]\n",
    "ookla_features = ookla_features.drop(columns=drop_cols)\n",
    "ookla_features_mobile = ookla_features_mobile.drop(columns=drop_cols)"
   ]
  },
  {
   "cell_type": "code",
   "execution_count": 19,
   "metadata": {},
   "outputs": [],
   "source": [
    "ookla_features.to_csv(PROCESSED_FPATH / \"ookla_features_fixed_2022.csv\")"
   ]
  },
  {
   "cell_type": "code",
   "execution_count": 20,
   "metadata": {},
   "outputs": [],
   "source": [
    "ookla_features_mobile.to_csv(PROCESSED_FPATH / \"ookla_features_mobile_2022.csv\")"
   ]
  }
 ],
 "metadata": {
  "kernelspec": {
   "display_name": "lacuna-fund2",
   "language": "python",
   "name": "python3"
  },
  "language_info": {
   "codemirror_mode": {
    "name": "ipython",
    "version": 3
   },
   "file_extension": ".py",
   "mimetype": "text/x-python",
   "name": "python",
   "nbconvert_exporter": "python",
   "pygments_lexer": "ipython3",
   "version": "3.9.16"
  },
  "orig_nbformat": 4
 },
 "nbformat": 4,
 "nbformat_minor": 2
}
