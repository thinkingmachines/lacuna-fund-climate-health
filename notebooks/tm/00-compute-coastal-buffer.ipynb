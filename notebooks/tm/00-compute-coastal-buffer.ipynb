{
 "cells": [
  {
   "cell_type": "code",
   "execution_count": 28,
   "metadata": {},
   "outputs": [],
   "source": [
    "import geopandas as gpd\n",
    "import pandas as pd\n",
    "import matplotlib.pyplot as plt\n",
    "from matplotlib import colors\n",
    "import seaborn as sns\n",
    "\n",
    "import fiona\n",
    "import folium\n",
    "from shapely import wkt\n",
    "from shapely.geometry import shape\n",
    "from shapely.geometry import Polygon, MultiPolygon, GeometryCollection\n",
    "from shapely.ops import unary_union\n",
    "import ast\n",
    "\n",
    "from loguru import logger\n",
    "from pathlib import Path\n",
    "from tqdm import tqdm\n",
    "from geowrangler.datasets import geofabrik\n",
    "from geowrangler import distance_zonal_stats as dzs\n",
    "from geowrangler import vector_zonal_stats as vzs\n",
    "from geowrangler.validation import GeometryValidation"
   ]
  },
  {
   "cell_type": "code",
   "execution_count": 21,
   "metadata": {},
   "outputs": [],
   "source": [
    "# custom module\n",
    "import sys\n",
    "\n",
    "sys.path.append(\"../../\")  # include parent directory\n",
    "from src.vector_utils import one_sided_poly_buffer"
   ]
  },
  {
   "attachments": {},
   "cell_type": "markdown",
   "metadata": {},
   "source": [
    "# Generate coastal buffer"
   ]
  },
  {
   "attachments": {},
   "cell_type": "markdown",
   "metadata": {},
   "source": [
    "### Set input parameters"
   ]
  },
  {
   "cell_type": "code",
   "execution_count": 31,
   "metadata": {},
   "outputs": [],
   "source": [
    "DATA_DIR = Path(\"../../data/\")\n",
    "OUTPUT_FPATH = DATA_DIR / \"04-output\"\n",
    "\n",
    "# admin bounds\n",
    "ADMIN_BOUNDS_PROJECT_ID = \"tm-geodata-warehouse\"\n",
    "ADMIN_BOUNDS_BQ_TABLE = \"ph_admin_boundary_dec2017.level1_region\"\n",
    "\n",
    "PROJ_CRS = \"epsg:3123\"\n",
    "# Buffer settings\n",
    "BUFFER_M = 3_000\n",
    "SIMPLIFY = True"
   ]
  },
  {
   "attachments": {},
   "cell_type": "markdown",
   "metadata": {},
   "source": [
    "### Load Admin Boundaries"
   ]
  },
  {
   "cell_type": "code",
   "execution_count": 3,
   "metadata": {},
   "outputs": [
    {
     "name": "stdout",
     "output_type": "stream",
     "text": [
      "Downloading: 100%|\u001b[32m██████████\u001b[0m|\n",
      "CPU times: user 8.54 s, sys: 1.51 s, total: 10 s\n",
      "Wall time: 9min 20s\n"
     ]
    },
    {
     "data": {
      "text/html": [
       "<div>\n",
       "<style scoped>\n",
       "    .dataframe tbody tr th:only-of-type {\n",
       "        vertical-align: middle;\n",
       "    }\n",
       "\n",
       "    .dataframe tbody tr th {\n",
       "        vertical-align: top;\n",
       "    }\n",
       "\n",
       "    .dataframe thead th {\n",
       "        text-align: right;\n",
       "    }\n",
       "</style>\n",
       "<table border=\"1\" class=\"dataframe\">\n",
       "  <thead>\n",
       "    <tr style=\"text-align: right;\">\n",
       "      <th></th>\n",
       "      <th>ADM1_EN</th>\n",
       "      <th>geometry</th>\n",
       "    </tr>\n",
       "  </thead>\n",
       "  <tbody>\n",
       "    <tr>\n",
       "      <th>0</th>\n",
       "      <td>Region IV-A</td>\n",
       "      <td>MULTIPOLYGON (((122.7216452990001 13.364847839...</td>\n",
       "    </tr>\n",
       "    <tr>\n",
       "      <th>1</th>\n",
       "      <td>Region I</td>\n",
       "      <td>MULTIPOLYGON (((119.8659631480001 15.815394096...</td>\n",
       "    </tr>\n",
       "    <tr>\n",
       "      <th>2</th>\n",
       "      <td>National Capital Region</td>\n",
       "      <td>POLYGON ((121.038416598 14.78524708100002, 121...</td>\n",
       "    </tr>\n",
       "    <tr>\n",
       "      <th>3</th>\n",
       "      <td>Cordillera Administrative Region</td>\n",
       "      <td>POLYGON ((121.2220811540001 18.50058094200006,...</td>\n",
       "    </tr>\n",
       "    <tr>\n",
       "      <th>4</th>\n",
       "      <td>Region III</td>\n",
       "      <td>MULTIPOLYGON (((120.1168680120001 14.763089660...</td>\n",
       "    </tr>\n",
       "  </tbody>\n",
       "</table>\n",
       "</div>"
      ],
      "text/plain": [
       "                            ADM1_EN  \\\n",
       "0                       Region IV-A   \n",
       "1                          Region I   \n",
       "2           National Capital Region   \n",
       "3  Cordillera Administrative Region   \n",
       "4                        Region III   \n",
       "\n",
       "                                            geometry  \n",
       "0  MULTIPOLYGON (((122.7216452990001 13.364847839...  \n",
       "1  MULTIPOLYGON (((119.8659631480001 15.815394096...  \n",
       "2  POLYGON ((121.038416598 14.78524708100002, 121...  \n",
       "3  POLYGON ((121.2220811540001 18.50058094200006,...  \n",
       "4  MULTIPOLYGON (((120.1168680120001 14.763089660...  "
      ]
     },
     "execution_count": 3,
     "metadata": {},
     "output_type": "execute_result"
    }
   ],
   "source": [
    "%%time\n",
    "query = f\"\"\"\n",
    "    SELECT\n",
    "        ADM1_EN,\n",
    "        geometry\n",
    "    FROM\n",
    "      `{ADMIN_BOUNDS_BQ_TABLE}`\n",
    "\"\"\"\n",
    "bounds = pd.read_gbq(query, ADMIN_BOUNDS_PROJECT_ID, progress_bar_type=\"tqdm\")\n",
    "bounds.head()"
   ]
  },
  {
   "cell_type": "code",
   "execution_count": 4,
   "metadata": {},
   "outputs": [
    {
     "name": "stdout",
     "output_type": "stream",
     "text": [
      "CPU times: user 11.4 s, sys: 117 ms, total: 11.5 s\n",
      "Wall time: 11.4 s\n"
     ]
    }
   ],
   "source": [
    "%%time\n",
    "bounds[\"geometry\"] = gpd.GeoSeries.from_wkt(bounds[\"geometry\"])\n",
    "bounds = gpd.GeoDataFrame(bounds, geometry=\"geometry\", crs=\"epsg:4326\")\n",
    "bounds = bounds.to_crs(crs=PROJ_CRS)"
   ]
  },
  {
   "cell_type": "code",
   "execution_count": 5,
   "metadata": {},
   "outputs": [
    {
     "name": "stdout",
     "output_type": "stream",
     "text": [
      "<class 'geopandas.geodataframe.GeoDataFrame'>\n",
      "RangeIndex: 17 entries, 0 to 16\n",
      "Data columns (total 2 columns):\n",
      " #   Column    Non-Null Count  Dtype   \n",
      "---  ------    --------------  -----   \n",
      " 0   ADM1_EN   17 non-null     object  \n",
      " 1   geometry  17 non-null     geometry\n",
      "dtypes: geometry(1), object(1)\n",
      "memory usage: 400.0+ bytes\n"
     ]
    }
   ],
   "source": [
    "bounds.info()"
   ]
  },
  {
   "cell_type": "code",
   "execution_count": 6,
   "metadata": {},
   "outputs": [
    {
     "name": "stdout",
     "output_type": "stream",
     "text": [
      "CPU times: user 44.5 s, sys: 859 ms, total: 45.4 s\n",
      "Wall time: 45.5 s\n"
     ]
    },
    {
     "data": {
      "text/plain": [
       "shapely.geometry.multipolygon.MultiPolygon"
      ]
     },
     "execution_count": 6,
     "metadata": {},
     "output_type": "execute_result"
    }
   ],
   "source": [
    "%%time\n",
    "bounds = bounds.unary_union\n",
    "type(bounds)"
   ]
  },
  {
   "cell_type": "code",
   "execution_count": 7,
   "metadata": {},
   "outputs": [
    {
     "name": "stdout",
     "output_type": "stream",
     "text": [
      "CPU times: user 18.2 s, sys: 725 ms, total: 18.9 s\n",
      "Wall time: 18.9 s\n"
     ]
    }
   ],
   "source": [
    "%%time\n",
    "# need to simplify geometry since it's too high res\n",
    "if SIMPLIFY:\n",
    "    bounds = bounds.simplify(tolerance=10)"
   ]
  },
  {
   "cell_type": "code",
   "execution_count": 8,
   "metadata": {},
   "outputs": [
    {
     "data": {
      "text/plain": [
       "3655"
      ]
     },
     "execution_count": 8,
     "metadata": {},
     "output_type": "execute_result"
    }
   ],
   "source": [
    "len(bounds.geoms)"
   ]
  },
  {
   "cell_type": "code",
   "execution_count": 24,
   "metadata": {},
   "outputs": [
    {
     "name": "stdout",
     "output_type": "stream",
     "text": [
      "Generating 3000m buffer\n"
     ]
    },
    {
     "name": "stderr",
     "output_type": "stream",
     "text": [
      "100%|██████████| 3655/3655 [02:12<00:00, 27.48it/s] "
     ]
    },
    {
     "name": "stdout",
     "output_type": "stream",
     "text": [
      "CPU times: user 2min 13s, sys: 0 ns, total: 2min 13s\n",
      "Wall time: 2min 13s\n"
     ]
    },
    {
     "name": "stderr",
     "output_type": "stream",
     "text": [
      "\n"
     ]
    }
   ],
   "source": [
    "%%time\n",
    "print(f\"Generating {BUFFER_M}m buffer\")\n",
    "\n",
    "buffered_bounds = []\n",
    "\n",
    "for poly in tqdm(bounds.geoms):\n",
    "    buffered_bound = one_sided_poly_buffer(poly, BUFFER_M)\n",
    "\n",
    "    # making sure each element in the final list is a polygon, no multipolygons\n",
    "    if isinstance(buffered_bound, Polygon):\n",
    "        buffered_bounds.append(buffered_bound)\n",
    "    elif isinstance(buffered_bound, MultiPolygon):\n",
    "        buffered_bounds.extend(list(buffered_bound.geoms))\n",
    "    elif isinstance(buffered_bound, GeometryCollection):\n",
    "        # if it's a geometry collection, it means the buffer resulted in a very irregular geometry\n",
    "        # so just keep the original polygon\n",
    "        buffered_bounds.append(poly)\n",
    "    else:\n",
    "        raise ValueError(f\"Invalid type {type(buffered_bound)}, please recheck data\")\n",
    "\n",
    "buffered_bounds = MultiPolygon(buffered_bounds)"
   ]
  },
  {
   "cell_type": "code",
   "execution_count": 25,
   "metadata": {},
   "outputs": [
    {
     "name": "stdout",
     "output_type": "stream",
     "text": [
      "CPU times: user 391 ms, sys: 0 ns, total: 391 ms\n",
      "Wall time: 395 ms\n"
     ]
    },
    {
     "data": {
      "text/plain": [
       "0    POLYGON ((119.20750 4.66894, 119.20565 4.66970...\n",
       "1    POLYGON ((119.03140 4.70875, 119.03071 4.70988...\n",
       "2    POLYGON ((119.14743 4.72209, 119.14804 4.72133...\n",
       "3    POLYGON ((119.23685 4.72612, 119.23621 4.72625...\n",
       "4    POLYGON ((118.31838 6.08666, 118.31951 6.08667...\n",
       "dtype: geometry"
      ]
     },
     "execution_count": 25,
     "metadata": {},
     "output_type": "execute_result"
    }
   ],
   "source": [
    "%%time\n",
    "\n",
    "# Convert to GeoSeries and explode polygons\n",
    "buffered_bounds = gpd.GeoSeries(buffered_bounds, crs=PROJ_CRS)\n",
    "buffered_bounds = buffered_bounds.explode(ignore_index=True)\n",
    "buffered_bounds = buffered_bounds.to_crs(crs=\"epsg:4326\")\n",
    "buffered_bounds.head()"
   ]
  },
  {
   "cell_type": "code",
   "execution_count": 26,
   "metadata": {},
   "outputs": [
    {
     "data": {
      "text/html": [
       "<div>\n",
       "<style scoped>\n",
       "    .dataframe tbody tr th:only-of-type {\n",
       "        vertical-align: middle;\n",
       "    }\n",
       "\n",
       "    .dataframe tbody tr th {\n",
       "        vertical-align: top;\n",
       "    }\n",
       "\n",
       "    .dataframe thead th {\n",
       "        text-align: right;\n",
       "    }\n",
       "</style>\n",
       "<table border=\"1\" class=\"dataframe\">\n",
       "  <thead>\n",
       "    <tr style=\"text-align: right;\">\n",
       "      <th></th>\n",
       "      <th>uid</th>\n",
       "      <th>geometry</th>\n",
       "    </tr>\n",
       "  </thead>\n",
       "  <tbody>\n",
       "    <tr>\n",
       "      <th>0</th>\n",
       "      <td>0</td>\n",
       "      <td>POLYGON ((119.20750 4.66894, 119.20565 4.66970...</td>\n",
       "    </tr>\n",
       "    <tr>\n",
       "      <th>1</th>\n",
       "      <td>1</td>\n",
       "      <td>POLYGON ((119.03140 4.70875, 119.03071 4.70988...</td>\n",
       "    </tr>\n",
       "    <tr>\n",
       "      <th>2</th>\n",
       "      <td>2</td>\n",
       "      <td>POLYGON ((119.14743 4.72209, 119.14804 4.72133...</td>\n",
       "    </tr>\n",
       "    <tr>\n",
       "      <th>3</th>\n",
       "      <td>3</td>\n",
       "      <td>POLYGON ((119.23685 4.72612, 119.23621 4.72625...</td>\n",
       "    </tr>\n",
       "    <tr>\n",
       "      <th>4</th>\n",
       "      <td>4</td>\n",
       "      <td>POLYGON ((118.31838 6.08666, 118.31951 6.08667...</td>\n",
       "    </tr>\n",
       "  </tbody>\n",
       "</table>\n",
       "</div>"
      ],
      "text/plain": [
       "   uid                                           geometry\n",
       "0    0  POLYGON ((119.20750 4.66894, 119.20565 4.66970...\n",
       "1    1  POLYGON ((119.03140 4.70875, 119.03071 4.70988...\n",
       "2    2  POLYGON ((119.14743 4.72209, 119.14804 4.72133...\n",
       "3    3  POLYGON ((119.23685 4.72612, 119.23621 4.72625...\n",
       "4    4  POLYGON ((118.31838 6.08666, 118.31951 6.08667..."
      ]
     },
     "execution_count": 26,
     "metadata": {},
     "output_type": "execute_result"
    }
   ],
   "source": [
    "# Convert to GeoDataFrame\n",
    "buffered_bounds = gpd.GeoDataFrame(buffered_bounds).reset_index()\n",
    "buffered_bounds = buffered_bounds.rename(columns={0: \"geometry\", \"index\": \"uid\"})\n",
    "buffered_bounds.head()"
   ]
  },
  {
   "cell_type": "code",
   "execution_count": 29,
   "metadata": {},
   "outputs": [
    {
     "name": "stdout",
     "output_type": "stream",
     "text": [
      "CPU times: user 2.03 s, sys: 50.1 ms, total: 2.08 s\n",
      "Wall time: 2.08 s\n"
     ]
    },
    {
     "data": {
      "text/html": [
       "<div>\n",
       "<style scoped>\n",
       "    .dataframe tbody tr th:only-of-type {\n",
       "        vertical-align: middle;\n",
       "    }\n",
       "\n",
       "    .dataframe tbody tr th {\n",
       "        vertical-align: top;\n",
       "    }\n",
       "\n",
       "    .dataframe thead th {\n",
       "        text-align: right;\n",
       "    }\n",
       "</style>\n",
       "<table border=\"1\" class=\"dataframe\">\n",
       "  <thead>\n",
       "    <tr style=\"text-align: right;\">\n",
       "      <th></th>\n",
       "      <th>uid</th>\n",
       "      <th>geometry</th>\n",
       "    </tr>\n",
       "  </thead>\n",
       "  <tbody>\n",
       "    <tr>\n",
       "      <th>0</th>\n",
       "      <td>0</td>\n",
       "      <td>POLYGON ((119.20750 4.66894, 119.20800 4.66899...</td>\n",
       "    </tr>\n",
       "    <tr>\n",
       "      <th>1</th>\n",
       "      <td>1</td>\n",
       "      <td>POLYGON ((119.03140 4.70875, 119.03178 4.70845...</td>\n",
       "    </tr>\n",
       "    <tr>\n",
       "      <th>2</th>\n",
       "      <td>2</td>\n",
       "      <td>POLYGON ((119.14743 4.72209, 119.14709 4.72227...</td>\n",
       "    </tr>\n",
       "    <tr>\n",
       "      <th>3</th>\n",
       "      <td>3</td>\n",
       "      <td>POLYGON ((119.23685 4.72612, 119.23756 4.72612...</td>\n",
       "    </tr>\n",
       "    <tr>\n",
       "      <th>4</th>\n",
       "      <td>4</td>\n",
       "      <td>POLYGON ((118.31838 6.08666, 118.31679 6.08666...</td>\n",
       "    </tr>\n",
       "  </tbody>\n",
       "</table>\n",
       "</div>"
      ],
      "text/plain": [
       "   uid                                           geometry\n",
       "0    0  POLYGON ((119.20750 4.66894, 119.20800 4.66899...\n",
       "1    1  POLYGON ((119.03140 4.70875, 119.03178 4.70845...\n",
       "2    2  POLYGON ((119.14743 4.72209, 119.14709 4.72227...\n",
       "3    3  POLYGON ((119.23685 4.72612, 119.23756 4.72612...\n",
       "4    4  POLYGON ((118.31838 6.08666, 118.31679 6.08666..."
      ]
     },
     "execution_count": 29,
     "metadata": {},
     "output_type": "execute_result"
    }
   ],
   "source": [
    "%%time\n",
    "# Fixing Invalid Geometries\n",
    "# defined validators here since crs_bounds validator doesn't work\n",
    "validators = (\"null\", \"self_intersecting\", \"orientation\", \"area\")\n",
    "buffered_bounds = GeometryValidation(\n",
    "    buffered_bounds, validators=validators, add_validation_columns=False\n",
    ").validate_all()\n",
    "buffered_bounds.head()"
   ]
  },
  {
   "cell_type": "code",
   "execution_count": 30,
   "metadata": {},
   "outputs": [
    {
     "name": "stderr",
     "output_type": "stream",
     "text": [
      "/home/abbymoreno/miniconda3/envs/lacuna-fund2/lib/python3.9/site-packages/geopandas/plotting.py:51: ShapelyDeprecationWarning: The 'type' attribute is deprecated, and will be removed in the future. You can use the 'geom_type' attribute instead.\n",
      "  if geom is not None and geom.type.startswith(prefix) and not geom.is_empty:\n"
     ]
    },
    {
     "data": {
      "image/png": "[encoded data removed]",
      "text/plain": [
       "<Figure size 1000x1000 with 1 Axes>"
      ]
     },
     "metadata": {},
     "output_type": "display_data"
    },
    {
     "name": "stdout",
     "output_type": "stream",
     "text": [
      "CPU times: user 1.89 s, sys: 523 ms, total: 2.42 s\n",
      "Wall time: 1.74 s\n"
     ]
    }
   ],
   "source": [
    "%%time\n",
    "orig = gpd.GeoSeries(MultiPolygon([Polygon(b) for b in bounds.geoms]), crs=PROJ_CRS)\n",
    "orig = orig.to_crs(\"epsg:4326\")\n",
    "\n",
    "fig, ax = plt.subplots(figsize=(10, 10))\n",
    "orig.plot(ax=ax, color=\"blue\", label=\"orig\")\n",
    "buffered_bounds.plot(ax=ax, color=\"red\", label=\"one-sided buffer\")\n",
    "plt.show()"
   ]
  },
  {
   "cell_type": "code",
   "execution_count": 32,
   "metadata": {},
   "outputs": [
    {
     "name": "stderr",
     "output_type": "stream",
     "text": [
      "/home/abbymoreno/miniconda3/envs/lacuna-fund2/lib/python3.9/site-packages/geopandas/io/file.py:362: FutureWarning: pandas.Int64Index is deprecated and will be removed from pandas in a future version. Use pandas.Index with the appropriate dtype instead.\n",
      "  pd.Int64Index,\n"
     ]
    }
   ],
   "source": [
    "buffered_bounds.to_file(OUTPUT_FPATH / \"ph_coasts_3000m.gpkg\", driver=\"GPKG\")"
   ]
  },
  {
   "attachments": {},
   "cell_type": "markdown",
   "metadata": {},
   "source": [
    "### Keep for visualization"
   ]
  },
  {
   "cell_type": "code",
   "execution_count": 9,
   "metadata": {},
   "outputs": [
    {
     "data": {
      "image/svg+xml": [
       "<svg xmlns=\"http://www.w3.org/2000/svg\" xmlns:xlink=\"http://www.w3.org/1999/xlink\" width=\"300\" height=\"289.8935289142537\" viewBox=\"303887.6902452266 522862.502390539 562.5271576126106 289.8935289142537\" preserveAspectRatio=\"xMinYMin meet\"><g transform=\"matrix(1,0,0,-1,0,1046014.8983099922)\"><polyline fill=\"none\" stroke=\"#66cc99\" stroke-width=\"3.7501810507507374\" points=\"304189.00560376147,522883.52314643085 304118.03262377984,522897.5657871261 303924.7910283205,522892.2392371121 303908.52458439744,522904.9965549196 303908.59527173435,522935.06008704 303928.4598032872,522967.3893668491 304052.0229075992,523042.25742212276 304310.5300239348,523080.963372666 304429.3830636684,523131.5615802824 304398.8421890226,523014.8468093444 304322.9536223491,522919.0528269082 304268.15960657375,522883.3367297098 304189.00560376147,522883.52314643085\" opacity=\"0.8\" /></g></svg>"
      ],
      "text/plain": [
       "<LINESTRING (304189.006 522883.523, 304118.033 522897.566, 303924.791 522892...>"
      ]
     },
     "execution_count": 9,
     "metadata": {},
     "output_type": "execute_result"
    }
   ],
   "source": [
    "bounds.geoms[3].boundary"
   ]
  },
  {
   "cell_type": "code",
   "execution_count": 10,
   "metadata": {},
   "outputs": [
    {
     "data": {
      "image/svg+xml": [
       "<svg xmlns=\"http://www.w3.org/2000/svg\" xmlns:xlink=\"http://www.w3.org/1999/xlink\" width=\"300\" height=\"289.8935289142537\" viewBox=\"303887.6902452266 522862.502390539 562.5271576126106 289.8935289142537\" preserveAspectRatio=\"xMinYMin meet\"><g transform=\"matrix(1,0,0,-1,0,1046014.8983099922)\"><path fill-rule=\"evenodd\" fill=\"#66cc99\" stroke=\"#555555\" stroke-width=\"3.7501810507507374\" opacity=\"0.6\" d=\"M 304189.00560376147,522883.52314643085 L 304118.03262377984,522897.5657871261 L 303924.7910283205,522892.2392371121 L 303908.52458439744,522904.9965549196 L 303908.59527173435,522935.06008704 L 303928.4598032872,522967.3893668491 L 304052.0229075992,523042.25742212276 L 304310.5300239348,523080.963372666 L 304429.3830636684,523131.5615802824 L 304398.8421890226,523014.8468093444 L 304322.9536223491,522919.0528269082 L 304268.15960657375,522883.3367297098 L 304189.00560376147,522883.52314643085 z\" /></g></svg>"
      ],
      "text/plain": [
       "<POLYGON ((304189.006 522883.523, 304118.033 522897.566, 303924.791 522892.2...>"
      ]
     },
     "execution_count": 10,
     "metadata": {},
     "output_type": "execute_result"
    }
   ],
   "source": [
    "bounds.geoms[3]"
   ]
  },
  {
   "cell_type": "code",
   "execution_count": 11,
   "metadata": {},
   "outputs": [
    {
     "data": {
      "image/svg+xml": [
       "<svg xmlns=\"http://www.w3.org/2000/svg\" xmlns:xlink=\"http://www.w3.org/1999/xlink\" width=\"300\" height=\"289.8935289142537\" viewBox=\"303887.6902452266 522862.502390539 562.5271576126106 289.8935289142537\" preserveAspectRatio=\"xMinYMin meet\"><g transform=\"matrix(1,0,0,-1,0,1046014.8983099922)\"><path fill-rule=\"evenodd\" fill=\"#66cc99\" stroke=\"#555555\" stroke-width=\"3.7501810507507374\" opacity=\"0.6\" d=\"M 304189.00560376147,522883.52314643085 L 304118.03262377984,522897.5657871261 L 303924.7910283205,522892.2392371121 L 303908.52458439744,522904.9965549196 L 303908.59527173435,522935.06008704 L 303928.4598032872,522967.3893668491 L 304052.0229075992,523042.25742212276 L 304310.5300239348,523080.963372666 L 304429.3830636684,523131.5615802824 L 304398.8421890226,523014.8468093444 L 304322.9536223491,522919.0528269082 L 304268.15960657375,522883.3367297098 L 304189.00560376147,522883.52314643085 z M 304189.50133313594,522888.5219927979 L 304266.6792894883,522888.3402298921 L 304319.5405242647,522922.7964925439 L 304394.2708913592,523017.12848202133 L 304421.966544072,523122.9699747698 L 304312.48853534786,523076.3629125754 L 304312.09270684305,523076.2138440443 L 304311.6856956773,523076.09876345005 L 304311.2704144491,523076.018494317 L 304053.7557136294,523037.46113692055 L 303932.0861508412,522963.74039639154 L 303913.5919496398,522933.6413123081 L 303913.5303081387,522907.4250007414 L 303926.4568766235,522897.28705399035 L 304117.8948551065,522902.563888745 L 304118.4515790048,522902.5482038609 L 304119.00310471596,522902.4706996383 L 304189.50133313594,522888.5219927979 z\" /></g></svg>"
      ],
      "text/plain": [
       "<POLYGON ((304189.006 522883.523, 304118.033 522897.566, 303924.791 522892.2...>"
      ]
     },
     "execution_count": 11,
     "metadata": {},
     "output_type": "execute_result"
    }
   ],
   "source": [
    "# simple buffer example\n",
    "buffer_m = 5\n",
    "single_sided_buffer = bounds.geoms[3].boundary.buffer(-buffer_m, single_sided=True)\n",
    "single_sided_buffer"
   ]
  },
  {
   "cell_type": "code",
   "execution_count": 12,
   "metadata": {},
   "outputs": [
    {
     "data": {
      "image/svg+xml": [
       "<svg xmlns=\"http://www.w3.org/2000/svg\" xmlns:xlink=\"http://www.w3.org/1999/xlink\" width=\"300\" height=\"300\" viewBox=\"303886.75015974836 522861.56230506074 587.9094655257068 306.962566930335\" preserveAspectRatio=\"xMinYMin meet\"><g transform=\"matrix(1,0,0,-1,0,1046030.0871770518)\"><path fill-rule=\"evenodd\" fill=\"#66cc99\" stroke=\"#555555\" stroke-width=\"3.919396436838045\" opacity=\"0.6\" d=\"M 304189.00560376147,522883.52314643085 L 304118.03262377984,522897.5657871261 L 303924.7910283205,522892.2392371121 L 303908.52458439744,522904.9965549196 L 303908.59527173435,522935.06008704 L 303928.4598032872,522967.3893668491 L 304052.0229075992,523042.25742212276 L 304310.5300239348,523080.963372666 L 304359.5878132657,523101.8482925244 L 304371.3374064885,523146.750447342 L 304372.0540195401,523146.56293046474 L 304402.6273810094,523120.17113045347 L 304429.3830636684,523131.5615802824 L 304422.0216893168,523103.42940884986 L 304452.59505078604,523077.03760883864 L 304452.885200625,523076.35605919553 L 304410.1800789146,523058.1756018893 L 304398.8421890226,523014.8468093444 L 304322.9536223491,522919.0528269082 L 304268.15960657375,522883.3367297098 L 304189.00560376147,522883.52314643085 z M 304023.780530367,522954.99059278495 L 304116.37939969933,522957.5430065526 L 304123.0600864794,522957.354787944 L 304129.6783950131,522956.42473727284 L 304194.9543562556,522943.5093028357 L 304250.39580154757,522943.37873189704 L 304281.9964453376,522963.9768145374 L 304329.6248628643,523024.09806852887 L 304329.2822188335,523023.9690292056 L 304324.3980848447,523022.58806207497 L 304319.41471010656,523021.6248324781 L 304072.81657996087,522984.7019996959 L 304023.780530367,522954.99059278495 z\" /></g></svg>"
      ],
      "text/plain": [
       "<POLYGON ((304189.006 522883.523, 304118.033 522897.566, 303924.791 522892.2...>"
      ]
     },
     "execution_count": 12,
     "metadata": {},
     "output_type": "execute_result"
    }
   ],
   "source": [
    "# simple buffer example\n",
    "buffer_m = 60\n",
    "single_sided_buffer = bounds.geoms[3].boundary.buffer(-buffer_m, single_sided=True)\n",
    "single_sided_buffer"
   ]
  },
  {
   "cell_type": "code",
   "execution_count": 16,
   "metadata": {},
   "outputs": [
    {
     "data": {
      "image/svg+xml": [
       "<svg xmlns=\"http://www.w3.org/2000/svg\" xmlns:xlink=\"http://www.w3.org/1999/xlink\" width=\"300\" height=\"300\" viewBox=\"302834.17266531044 521445.26582321123 2687.946554319642 3065.2585437929374\" preserveAspectRatio=\"xMinYMin meet\"><g transform=\"matrix(1,0,0,-1,0,1045955.7901902155)\"><g><path fill-rule=\"evenodd\" fill=\"#66cc99\" stroke=\"#555555\" stroke-width=\"20.435056958619583\" opacity=\"0.6\" d=\"M 303015.52637769794,523489.87509991997 L 302965.61608581507,523389.88056390174 L 302947.700759525,523394.5684858337 L 302978.2416341708,523511.2832567717 L 302996.1569604609,523506.5953348398 L 303015.52637769794,523489.87509991997 z\" /><path fill-rule=\"evenodd\" fill=\"#66cc99\" stroke=\"#555555\" stroke-width=\"20.435056958619583\" opacity=\"0.6\" d=\"M 304878.58765080635,521881.6273258564 L 305009.682741609,521768.4622941867 L 305016.9364875832,521751.4235531105 L 304898.0834478496,521700.8253454941 L 304779.3348964036,521656.1047861566 L 304657.23154668283,521621.5806078903 L 304532.6471782299,521597.499867969 L 304274.1400618943,521558.7939174258 L 304271.3978748043,521577.1082816813 L 304743.9625157694,521747.8368403386 L 304878.58765080635,521881.6273258564 z\" /><path fill-rule=\"evenodd\" fill=\"#66cc99\" stroke=\"#555555\" stroke-width=\"20.435056958619583\" opacity=\"0.6\" d=\"M 305175.8203001267,522177.01719085744 L 305190.7054901467,522191.8100956092 L 305206.48356123245,522182.1153547187 L 305186.6190296796,522149.7860749096 L 305170.8409585939,522159.4808158001 L 305175.8203001267,522177.01719085744 z\" /><path fill-rule=\"evenodd\" fill=\"#66cc99\" stroke=\"#555555\" stroke-width=\"20.435056958619583\" opacity=\"0.6\" d=\"M 305384.66183467826,522912.5207616208 L 305390.07265808614,522931.57674081484 L 305408.5911254155,522931.533198987 L 305408.5204380786,522901.4696668666 L 305390.00197074923,522901.5132086944 L 305384.66183467826,522912.5207616208 z\" /><path fill-rule=\"evenodd\" fill=\"#66cc99\" stroke=\"#555555\" stroke-width=\"20.435056958619583\" opacity=\"0.6\" d=\"M 304827.04396678007,524061.93120959273 L 304822.77591183275,524070.7288956631 L 304834.2040534257,524085.3005499224 L 304850.47049734875,524072.5432321149 L 304839.0423557558,524057.97157785564 L 304827.04396678007,524061.93120959273 z\" /><path fill-rule=\"evenodd\" fill=\"#66cc99\" stroke=\"#555555\" stroke-width=\"20.435056958619583\" opacity=\"0.6\" d=\"M 304446.9808677129,524187.3572073845 L 304192.2742449796,524271.4138610793 L 304192.4390218962,524341.3794331026 L 304080.5628188067,524308.2801528262 L 303883.97068065306,524373.1582352985 L 303883.46042630717,524391.6697227757 L 304076.7020217665,524396.9962727897 L 304243.71919126884,524392.2908075739 L 304409.17690461176,524369.0395407958 L 304480.1498845934,524354.9969001006 L 304446.9808677129,524187.3572073845 z\" /><path fill-rule=\"evenodd\" fill=\"#66cc99\" stroke=\"#555555\" stroke-width=\"20.435056958619583\" opacity=\"0.6\" d=\"M 304225.55347815325,523068.2399396519 L 304189.00560376147,522883.52314643085 L 304189.42789401097,523062.8309006553 L 304225.55347815325,523068.2399396519 z\" /><path fill-rule=\"evenodd\" fill=\"#66cc99\" stroke=\"#555555\" stroke-width=\"20.435056958619583\" opacity=\"0.6\" d=\"M 303482.3001243917,524131.2803614993 L 303459.178037937,524124.43954639294 L 303449.0657683291,524139.9533316014 L 303503.8597841044,524175.66942879977 L 303513.97205371235,524160.15564359125 L 303482.3001243917,524131.2803614993 z\" /><path fill-rule=\"evenodd\" fill=\"#66cc99\" stroke=\"#555555\" stroke-width=\"20.435056958619583\" opacity=\"0.6\" d=\"M 303213.2280429333,523885.9674796565 L 303161.7091046632,523838.99768945004 L 303147.19354819215,523850.49700023176 L 303223.08211486565,523946.290982668 L 303237.59767133667,523934.7916718862 L 303213.2280429333,523885.9674796565 z\" /></g></g></svg>"
      ],
      "text/plain": [
       "<MULTIPOLYGON (((303015.526 523489.875, 302965.616 523389.881, 302947.701 52...>"
      ]
     },
     "execution_count": 16,
     "metadata": {},
     "output_type": "execute_result"
    }
   ],
   "source": [
    "poly = bounds.geoms[3]\n",
    "buffer_m = 3_000\n",
    "bound = poly.boundary\n",
    "buffered_bound = bound.buffer(-buffer_m / 2, single_sided=True)\n",
    "\n",
    "buffered_bound"
   ]
  },
  {
   "cell_type": "code",
   "execution_count": 17,
   "metadata": {},
   "outputs": [
    {
     "data": {
      "image/svg+xml": [
       "<svg xmlns=\"http://www.w3.org/2000/svg\" xmlns:xlink=\"http://www.w3.org/1999/xlink\" width=\"100.0\" height=\"199.49413667875342\" viewBox=\"304181.61693203263 522876.134474702 51.32521784945857 199.49413667875342\" preserveAspectRatio=\"xMinYMin meet\"><g transform=\"matrix(1,0,0,-1,0,1045951.7630860828)\"><path fill-rule=\"evenodd\" fill=\"#66cc99\" stroke=\"#555555\" stroke-width=\"2.0\" opacity=\"0.6\" d=\"M 304189.00560376147,522883.52314643085 L 304189.42789401097,523062.8309006553 L 304224.6735801179,523068.10819360823 L 304225.55347815325,523068.2399396519 L 304189.00560376147,522883.52314643085 z\" /></g></svg>"
      ],
      "text/plain": [
       "<POLYGON ((304189.006 522883.523, 304189.428 523062.831, 304224.674 523068.1...>"
      ]
     },
     "execution_count": 17,
     "metadata": {},
     "output_type": "execute_result"
    }
   ],
   "source": [
    "# take the intersection to remove the outward spikes from a single sided buffer\n",
    "buffered_bound = buffered_bound.intersection(poly)\n",
    "\n",
    "buffered_bound"
   ]
  },
  {
   "cell_type": "code",
   "execution_count": 18,
   "metadata": {},
   "outputs": [
    {
     "data": {
      "image/svg+xml": [
       "<svg xmlns=\"http://www.w3.org/2000/svg\" xmlns:xlink=\"http://www.w3.org/1999/xlink\" width=\"300\" height=\"300\" viewBox=\"302561.67617920274 521256.1897959197 3291.1997068223427 3438.0067805226427\" preserveAspectRatio=\"xMinYMin meet\"><g transform=\"matrix(1,0,0,-1,0,1045950.386372362)\"><path fill-rule=\"evenodd\" fill=\"#66cc99\" stroke=\"#555555\" stroke-width=\"22.920045203484285\" opacity=\"0.6\" d=\"M 305660.4793574312,522592.378865599 L 305624.80794068763,522449.38993038156 L 305575.27733942354,522310.59149701317 L 305512.3656513022,522177.323327277 L 305436.68013588287,522050.8718016918 L 305348.9513530042,521932.4575026324 L 305250.0261110036,521823.2234325708 L 305140.859292839,521724.2239811636 L 305022.5046390134,521636.4147476803 L 304896.1045762688,521560.6433170136 L 304762.8791902313,521497.6410783052 L 304624.114448447,521448.01616516034 L 304481.1497874886,521412.2475855945 L 304335.3651839485,521390.68059837446 L 304188.1678341159,521383.5233803835 L 304040.9785709146,521390.8450171791 L 303895.21814921155,521412.57483613945 L 303752.29353187914,521448.50308863644 L 303613.5843089857,521498.2829746489 L 303480.42938120395,521561.4339902745 L 303354.11403597676,521637.3465658284 L 303235.857541188,521725.2879497577 L 303126.80137609295,521824.40928157815 L 303027.99821310776,521933.75378556084 L 302940.4017568139,522052.2660060779 L 302864.8575382571,522178.80199546326 L 302802.094753398,522312.1403560495 L 302752.7192244963,522450.99402979563 L 302717.20755236835,522594.02272170666 L 302695.9025159637,522739.84583712707 L 302689.00976366655,522887.05580802873 L 302689.43205391604,523066.3635622532 L 302697.4968988972,523218.2075585511 L 302720.89325177646,523368.4548600518 L 302759.380684967,523515.56148268556 L 302812.56369064166,523658.01571689325 L 302879.8957450845,523794.3536623846 L 302960.6849249238,523923.17427159444 L 303054.10101753386,524043.15374724654 L 303159.1840525365,524153.0591460718 L 303274.85416672996,524251.7610488841 L 303399.92270107096,524338.2451668138 L 303533.10441567353,524411.6227644293 L 303673.03069730016,524471.1397926351 L 303818.26362362143,524516.1846374951 L 303967.31073971523,524546.2944053522 L 304002.55642582214,524551.5716983051 L 304003.4363238514,524551.703444348 L 304146.260229568,524566.1426670441 L 304289.81036132755,524566.8629919785 L 304432.7719811667,524553.8578218843 L 304573.83574114804,524527.2462676996 L 304711.7096753344,524487.2720576613 L 304845.1310325654,524434.301305063 L 304972.8778416639,524368.8191551184 L 305093.780103149,524291.4253416448 L 305206.7305049543,524202.8286942577 L 305310.694564008,524103.8406463869 L 305404.7201007922,523995.3678035706 L 305487.9459601045,523878.40364009334 L 305559.609898153,523754.0194000161 L 305619.05556374654,523623.3542859331 L 305665.7385096432,523487.605025314 L 305699.2311789994,523348.01490999205 L 305719.2268212511,523205.8624091799 L 305725.5423015613,523062.44946030615 L 305718.1197781041,522919.08954491233 L 305697.02723182295,522777.09565882006 L 305660.4793574312,522592.378865599 z\" /></g></svg>"
      ],
      "text/plain": [
       "<POLYGON ((305660.479 522592.379, 305624.808 522449.39, 305575.277 522310.59...>"
      ]
     },
     "execution_count": 18,
     "metadata": {},
     "output_type": "execute_result"
    }
   ],
   "source": [
    "# buffer it again to fill in inward spikes\n",
    "buffered_bound = buffered_bound.buffer(buffer_m / 2)\n",
    "\n",
    "buffered_bound"
   ]
  },
  {
   "cell_type": "code",
   "execution_count": 19,
   "metadata": {},
   "outputs": [
    {
     "data": {
      "image/svg+xml": [
       "<svg xmlns=\"http://www.w3.org/2000/svg\" xmlns:xlink=\"http://www.w3.org/1999/xlink\" width=\"300\" height=\"289.8935289142537\" viewBox=\"303887.6902452266 522862.502390539 562.5271576126106 289.8935289142537\" preserveAspectRatio=\"xMinYMin meet\"><g transform=\"matrix(1,0,0,-1,0,1046014.8983099922)\"><path fill-rule=\"evenodd\" fill=\"#66cc99\" stroke=\"#555555\" stroke-width=\"3.7501810507507374\" opacity=\"0.6\" d=\"M 304118.03262377984,522897.5657871261 L 303924.7910283205,522892.2392371121 L 303908.52458439744,522904.9965549196 L 303908.59527173435,522935.06008704 L 303928.4598032872,522967.3893668491 L 304052.0229075992,523042.25742212276 L 304310.5300239348,523080.963372666 L 304429.3830636684,523131.5615802824 L 304398.8421890226,523014.8468093444 L 304322.9536223491,522919.0528269082 L 304268.15960657375,522883.3367297098 L 304189.00560376147,522883.52314643085 L 304118.03262377984,522897.5657871261 z\" /></g></svg>"
      ],
      "text/plain": [
       "<POLYGON ((304118.033 522897.566, 303924.791 522892.239, 303908.525 522904.9...>"
      ]
     },
     "execution_count": 19,
     "metadata": {},
     "output_type": "execute_result"
    }
   ],
   "source": [
    "# take intersection to remove outward spikes again\n",
    "buffered_bound = buffered_bound.intersection(poly)\n",
    "\n",
    "buffered_bound"
   ]
  }
 ],
 "metadata": {
  "kernelspec": {
   "display_name": "lacuna-fund2",
   "language": "python",
   "name": "python3"
  },
  "language_info": {
   "codemirror_mode": {
    "name": "ipython",
    "version": 3
   },
   "file_extension": ".py",
   "mimetype": "text/x-python",
   "name": "python",
   "nbconvert_exporter": "python",
   "pygments_lexer": "ipython3",
   "version": "3.9.16"
  },
  "orig_nbformat": 4
 },
 "nbformat": 4,
 "nbformat_minor": 2
}
