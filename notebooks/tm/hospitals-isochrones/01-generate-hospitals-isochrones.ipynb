{
 "cells": [
  {
   "cell_type": "code",
   "execution_count": 1,
   "metadata": {},
   "outputs": [
    {
     "name": "stderr",
     "output_type": "stream",
     "text": [
      "/home/abbymoreno/miniconda3/envs/lacuna-fund/lib/python3.9/site-packages/geopandas/_compat.py:111: UserWarning: The Shapely GEOS version (3.11.1-CAPI-1.17.1) is incompatible with the GEOS version PyGEOS was compiled with (3.10.4-CAPI-1.16.2). Conversions between both will be slow.\n",
      "  warnings.warn(\n"
     ]
    }
   ],
   "source": [
    "import geopandas as gpd\n",
    "import pandas as pd\n",
    "\n",
    "from pathlib import Path\n",
    "\n",
    "# Standard imports\n",
    "import glob\n",
    "import json\n",
    "import sys\n",
    "import time\n",
    "import uuid\n",
    "import yaml\n",
    "\n",
    "import requests\n",
    "from tqdm import tqdm\n",
    "import folium"
   ]
  },
  {
   "cell_type": "markdown",
   "metadata": {},
   "source": [
    "## Set-up input parameters and directories"
   ]
  },
  {
   "cell_type": "code",
   "execution_count": 2,
   "metadata": {},
   "outputs": [],
   "source": [
    "HOSPITALS_FPATH = Path(\"../../../data/02-raw/philippines_healthfacilities.gpkg\")\n",
    "\n",
    "PROCSSED_DIR = Path(\"../../../data/03-processed/\")\n",
    "OUTPUT_DIR = Path(\"../../../data/04-output/\")\n",
    "ISOCHRONES_DIR = PROCSSED_DIR / \"isochrones\""
   ]
  },
  {
   "cell_type": "markdown",
   "metadata": {},
   "source": [
    "## Utils"
   ]
  },
  {
   "cell_type": "code",
   "execution_count": 15,
   "metadata": {},
   "outputs": [],
   "source": [
    "# isochrone using mapbox API\n",
    "def get_mapbox_iso(df, profile, mins):\n",
    "    id_processed = []\n",
    "    _out = []\n",
    "    _no_data = []\n",
    "\n",
    "    with tqdm(total=df.shape[0]) as pbar:\n",
    "        for uid, lat, lng in df.values:\n",
    "\n",
    "            if not uid in id_processed:\n",
    "                # mapbox URL\n",
    "                iso_url = f\"https://api.mapbox.com/isochrone/v1/mapbox/{profile}/{lng}%2C{lat}?contours_minutes={mins}&polygons=true&denoise=1&access_token={api_key}\"\n",
    "                r = requests.get(iso_url)\n",
    "\n",
    "                if r.status_code == 200:\n",
    "\n",
    "                    poly_gdf = gpd.read_file(json.dumps(r.json()), driver=\"GeoJSON\")\n",
    "                    poly_gdf[\"uid\"] = uid\n",
    "\n",
    "                    _out.append(poly_gdf)\n",
    "\n",
    "                else:\n",
    "                    print(f\"{r.status_code} was returned for uid {uid}.\")\n",
    "                    _no_data.append(uid)\n",
    "\n",
    "            pbar.update(1)\n",
    "\n",
    "    # return gdf of contours\n",
    "    if len(_out) != 0:\n",
    "        out = pd.concat(_out)\n",
    "        out.drop(\n",
    "            columns=[\n",
    "                \"fill\",\n",
    "                \"fillOpacity\",\n",
    "                \"fill-opacity\",\n",
    "                \"fillColor\",\n",
    "                \"color\",\n",
    "                \"opacity\",\n",
    "                \"metric\",\n",
    "            ],\n",
    "            inplace=True,\n",
    "        )\n",
    "\n",
    "    # return list of pois with no contour\n",
    "    if len(_no_data) != 0:\n",
    "        no_data = pd.concat(_no_data)\n",
    "    else:\n",
    "        no_data = []\n",
    "\n",
    "    return out, no_data"
   ]
  },
  {
   "cell_type": "markdown",
   "metadata": {},
   "source": [
    "## Load hospital points"
   ]
  },
  {
   "cell_type": "code",
   "execution_count": 3,
   "metadata": {},
   "outputs": [
    {
     "data": {
      "text/html": [
       "<div>\n",
       "<style scoped>\n",
       "    .dataframe tbody tr th:only-of-type {\n",
       "        vertical-align: middle;\n",
       "    }\n",
       "\n",
       "    .dataframe tbody tr th {\n",
       "        vertical-align: top;\n",
       "    }\n",
       "\n",
       "    .dataframe thead th {\n",
       "        text-align: right;\n",
       "    }\n",
       "</style>\n",
       "<table border=\"1\" class=\"dataframe\">\n",
       "  <thead>\n",
       "    <tr style=\"text-align: right;\">\n",
       "      <th></th>\n",
       "      <th>id</th>\n",
       "      <th>facilityco</th>\n",
       "      <th>healthfaci</th>\n",
       "      <th>typeofheal</th>\n",
       "      <th>barangay</th>\n",
       "      <th>municipali</th>\n",
       "      <th>province</th>\n",
       "      <th>region</th>\n",
       "      <th>status</th>\n",
       "      <th>address</th>\n",
       "      <th>style</th>\n",
       "      <th>geometry</th>\n",
       "    </tr>\n",
       "  </thead>\n",
       "  <tbody>\n",
       "    <tr>\n",
       "      <th>0</th>\n",
       "      <td>1.0</td>\n",
       "      <td>DOH000000000002277</td>\n",
       "      <td>Calvario Barangay Health Station</td>\n",
       "      <td>Barangay Health Station</td>\n",
       "      <td>Calvario</td>\n",
       "      <td>City Of Isabela</td>\n",
       "      <td>City Of Isabela (not A Province)</td>\n",
       "      <td>REGION IX (ZAMBOANGA PENINSULA)</td>\n",
       "      <td>None</td>\n",
       "      <td>None</td>\n",
       "      <td>Barangay Health Station</td>\n",
       "      <td>POINT (121.98987 6.65182)</td>\n",
       "    </tr>\n",
       "    <tr>\n",
       "      <th>1</th>\n",
       "      <td>2.0</td>\n",
       "      <td>DOH000000000010319</td>\n",
       "      <td>Cabunbata Barangay Health Station</td>\n",
       "      <td>Barangay Health Station</td>\n",
       "      <td>Cabunbata</td>\n",
       "      <td>City Of Isabela</td>\n",
       "      <td>City Of Isabela (not A Province)</td>\n",
       "      <td>REGION IX (ZAMBOANGA PENINSULA)</td>\n",
       "      <td>None</td>\n",
       "      <td>None</td>\n",
       "      <td>Barangay Health Station</td>\n",
       "      <td>POINT (121.96630 6.67152)</td>\n",
       "    </tr>\n",
       "  </tbody>\n",
       "</table>\n",
       "</div>"
      ],
      "text/plain": [
       "    id          facilityco                         healthfaci  \\\n",
       "0  1.0  DOH000000000002277   Calvario Barangay Health Station   \n",
       "1  2.0  DOH000000000010319  Cabunbata Barangay Health Station   \n",
       "\n",
       "                typeofheal   barangay       municipali  \\\n",
       "0  Barangay Health Station   Calvario  City Of Isabela   \n",
       "1  Barangay Health Station  Cabunbata  City Of Isabela   \n",
       "\n",
       "                           province                           region status  \\\n",
       "0  City Of Isabela (not A Province)  REGION IX (ZAMBOANGA PENINSULA)   None   \n",
       "1  City Of Isabela (not A Province)  REGION IX (ZAMBOANGA PENINSULA)   None   \n",
       "\n",
       "  address                    style                   geometry  \n",
       "0    None  Barangay Health Station  POINT (121.98987 6.65182)  \n",
       "1    None  Barangay Health Station  POINT (121.96630 6.67152)  "
      ]
     },
     "execution_count": 3,
     "metadata": {},
     "output_type": "execute_result"
    }
   ],
   "source": [
    "doh_gdf = gpd.read_file(HOSPITALS_FPATH, driver=\"GPKG\")\n",
    "doh_gdf.head(2)"
   ]
  },
  {
   "cell_type": "code",
   "execution_count": 4,
   "metadata": {},
   "outputs": [
    {
     "data": {
      "text/plain": [
       "(23676, 12)"
      ]
     },
     "execution_count": 4,
     "metadata": {},
     "output_type": "execute_result"
    }
   ],
   "source": [
    "doh_gdf.shape"
   ]
  },
  {
   "cell_type": "code",
   "execution_count": 5,
   "metadata": {},
   "outputs": [],
   "source": [
    "doh_gdf = doh_gdf.to_crs(\"epsg:4326\")"
   ]
  },
  {
   "cell_type": "code",
   "execution_count": 6,
   "metadata": {},
   "outputs": [],
   "source": [
    "doh_gdf[\"lng\"] = doh_gdf[\"geometry\"].x\n",
    "doh_gdf[\"lat\"] = doh_gdf[\"geometry\"].y"
   ]
  },
  {
   "cell_type": "markdown",
   "metadata": {},
   "source": [
    "## Filter to lacuna cities"
   ]
  },
  {
   "cell_type": "code",
   "execution_count": 7,
   "metadata": {},
   "outputs": [],
   "source": [
    "# filter to target cities\n",
    "target_cities = [\n",
    "    \"Navotas\",\n",
    "    \"Mandaluyong\",\n",
    "    \"Muntinlupa\",\n",
    "    \"Dagupan City\",\n",
    "    \"Palayan City\",\n",
    "    \"Legazpi City\",\n",
    "    \"Iloilo City\",\n",
    "    \"Mandaue City\",\n",
    "    \"Tacloban City\",\n",
    "    \"Zamboanga City\",\n",
    "    \"Cagayan de Oro City\",\n",
    "    \"Davao City\",\n",
    "]\n",
    "filtered_doh = doh_gdf[\n",
    "    doh_gdf[\"municipali\"].str.contains(\"|\".join(target_cities), case=False)\n",
    "]"
   ]
  },
  {
   "cell_type": "code",
   "execution_count": 8,
   "metadata": {},
   "outputs": [
    {
     "data": {
      "text/plain": [
       "array(['Zamboanga City', 'Cagayan De Oro City (Capital)', 'MANDAUE CITY',\n",
       "       'ILOILO CITY (CAPITAL)', 'ILOILO CITY (CAPITAL)*', 'DAGUPAN CITY',\n",
       "       'MANDALUYONG', 'NAVOTAS', 'MUNTINLUPA CITY', 'PALAYAN CITY',\n",
       "       'DAVAO CITY', 'TACLOBAN CITY (CAPITAL)', 'LEGAZPI CITY (CAPITAL)'],\n",
       "      dtype=object)"
      ]
     },
     "execution_count": 8,
     "metadata": {},
     "output_type": "execute_result"
    }
   ],
   "source": [
    "filtered_doh[\"municipali\"].unique()"
   ]
  },
  {
   "cell_type": "code",
   "execution_count": 9,
   "metadata": {},
   "outputs": [
    {
     "data": {
      "text/html": [
       "<div>\n",
       "<style scoped>\n",
       "    .dataframe tbody tr th:only-of-type {\n",
       "        vertical-align: middle;\n",
       "    }\n",
       "\n",
       "    .dataframe tbody tr th {\n",
       "        vertical-align: top;\n",
       "    }\n",
       "\n",
       "    .dataframe thead th {\n",
       "        text-align: right;\n",
       "    }\n",
       "</style>\n",
       "<table border=\"1\" class=\"dataframe\">\n",
       "  <thead>\n",
       "    <tr style=\"text-align: right;\">\n",
       "      <th></th>\n",
       "      <th>id</th>\n",
       "      <th>facilityco</th>\n",
       "      <th>healthfaci</th>\n",
       "      <th>typeofheal</th>\n",
       "      <th>barangay</th>\n",
       "      <th>municipali</th>\n",
       "      <th>province</th>\n",
       "      <th>region</th>\n",
       "      <th>status</th>\n",
       "      <th>address</th>\n",
       "      <th>style</th>\n",
       "      <th>geometry</th>\n",
       "      <th>lng</th>\n",
       "      <th>lat</th>\n",
       "    </tr>\n",
       "  </thead>\n",
       "  <tbody>\n",
       "    <tr>\n",
       "      <th>20</th>\n",
       "      <td>25.0</td>\n",
       "      <td>DOH000000000026388</td>\n",
       "      <td>Rio Hondo Health Center</td>\n",
       "      <td>Barangay Health Station</td>\n",
       "      <td>Rio Hondo</td>\n",
       "      <td>Zamboanga City</td>\n",
       "      <td>Zamboanga Del Sur</td>\n",
       "      <td>REGION IX (ZAMBOANGA PENINSULA)</td>\n",
       "      <td>None</td>\n",
       "      <td>None</td>\n",
       "      <td>Barangay Health Station</td>\n",
       "      <td>POINT (122.08624 6.89883)</td>\n",
       "      <td>122.086240</td>\n",
       "      <td>6.898832</td>\n",
       "    </tr>\n",
       "    <tr>\n",
       "      <th>21</th>\n",
       "      <td>26.0</td>\n",
       "      <td>DOH000000000012109</td>\n",
       "      <td>Zamboanga City Health Office (district I)</td>\n",
       "      <td>Rural Health Unit</td>\n",
       "      <td>Barangay Zone III (Pob.)</td>\n",
       "      <td>Zamboanga City</td>\n",
       "      <td>Zamboanga Del Sur</td>\n",
       "      <td>REGION IX (ZAMBOANGA PENINSULA)</td>\n",
       "      <td>None</td>\n",
       "      <td>None</td>\n",
       "      <td>Rural Health Unit</td>\n",
       "      <td>POINT (122.07909 6.90334)</td>\n",
       "      <td>122.079094</td>\n",
       "      <td>6.903339</td>\n",
       "    </tr>\n",
       "  </tbody>\n",
       "</table>\n",
       "</div>"
      ],
      "text/plain": [
       "      id          facilityco                                 healthfaci  \\\n",
       "20  25.0  DOH000000000026388                    Rio Hondo Health Center   \n",
       "21  26.0  DOH000000000012109  Zamboanga City Health Office (district I)   \n",
       "\n",
       "                 typeofheal                  barangay      municipali  \\\n",
       "20  Barangay Health Station                 Rio Hondo  Zamboanga City   \n",
       "21        Rural Health Unit  Barangay Zone III (Pob.)  Zamboanga City   \n",
       "\n",
       "             province                           region status address  \\\n",
       "20  Zamboanga Del Sur  REGION IX (ZAMBOANGA PENINSULA)   None    None   \n",
       "21  Zamboanga Del Sur  REGION IX (ZAMBOANGA PENINSULA)   None    None   \n",
       "\n",
       "                      style                   geometry         lng       lat  \n",
       "20  Barangay Health Station  POINT (122.08624 6.89883)  122.086240  6.898832  \n",
       "21        Rural Health Unit  POINT (122.07909 6.90334)  122.079094  6.903339  "
      ]
     },
     "execution_count": 9,
     "metadata": {},
     "output_type": "execute_result"
    }
   ],
   "source": [
    "filtered_doh.head(2)"
   ]
  },
  {
   "cell_type": "code",
   "execution_count": 10,
   "metadata": {},
   "outputs": [
    {
     "data": {
      "text/plain": [
       "Barangay Health Station                           417\n",
       "Rural Health Unit                                 119\n",
       "Hospital                                          110\n",
       "Birthing Home/Lying-in Clinic                      68\n",
       "Medical Clinic                                      5\n",
       "Infirmary                                           4\n",
       "Social Hygiene Clinic                               3\n",
       "Drug Abuse Treatment and Rehabilitation Center      1\n",
       "Name: typeofheal, dtype: int64"
      ]
     },
     "execution_count": 10,
     "metadata": {},
     "output_type": "execute_result"
    }
   ],
   "source": [
    "filtered_doh[\"typeofheal\"].value_counts()"
   ]
  },
  {
   "cell_type": "code",
   "execution_count": 11,
   "metadata": {},
   "outputs": [],
   "source": [
    "# filter to hospitals\n",
    "hospitals_gdf = filtered_doh[filtered_doh[\"typeofheal\"] == \"Hospital\"]"
   ]
  },
  {
   "cell_type": "code",
   "execution_count": 12,
   "metadata": {},
   "outputs": [
    {
     "data": {
      "text/plain": [
       "array(['Zamboanga City', 'Cagayan De Oro City (Capital)', 'MANDAUE CITY',\n",
       "       'ILOILO CITY (CAPITAL)', 'DAGUPAN CITY', 'MANDALUYONG', 'NAVOTAS',\n",
       "       'MUNTINLUPA CITY', 'DAVAO CITY', 'TACLOBAN CITY (CAPITAL)',\n",
       "       'LEGAZPI CITY (CAPITAL)'], dtype=object)"
      ]
     },
     "execution_count": 12,
     "metadata": {},
     "output_type": "execute_result"
    }
   ],
   "source": [
    "hospitals_gdf[\"municipali\"].unique()"
   ]
  },
  {
   "cell_type": "code",
   "execution_count": 13,
   "metadata": {},
   "outputs": [
    {
     "data": {
      "text/html": [
       "<div>\n",
       "<style scoped>\n",
       "    .dataframe tbody tr th:only-of-type {\n",
       "        vertical-align: middle;\n",
       "    }\n",
       "\n",
       "    .dataframe tbody tr th {\n",
       "        vertical-align: top;\n",
       "    }\n",
       "\n",
       "    .dataframe thead th {\n",
       "        text-align: right;\n",
       "    }\n",
       "</style>\n",
       "<table border=\"1\" class=\"dataframe\">\n",
       "  <thead>\n",
       "    <tr style=\"text-align: right;\">\n",
       "      <th></th>\n",
       "      <th>id</th>\n",
       "      <th>facilityco</th>\n",
       "      <th>healthfaci</th>\n",
       "      <th>typeofheal</th>\n",
       "      <th>barangay</th>\n",
       "      <th>municipali</th>\n",
       "      <th>province</th>\n",
       "      <th>region</th>\n",
       "      <th>status</th>\n",
       "      <th>address</th>\n",
       "      <th>style</th>\n",
       "      <th>geometry</th>\n",
       "      <th>lng</th>\n",
       "      <th>lat</th>\n",
       "    </tr>\n",
       "  </thead>\n",
       "  <tbody>\n",
       "    <tr>\n",
       "      <th>23</th>\n",
       "      <td>28.0</td>\n",
       "      <td>DOH000000000037412</td>\n",
       "      <td>Hospital De Zamboanga</td>\n",
       "      <td>Hospital</td>\n",
       "      <td>Barangay Zone III (Pob.)</td>\n",
       "      <td>Zamboanga City</td>\n",
       "      <td>Zamboanga Del Sur</td>\n",
       "      <td>REGION IX (ZAMBOANGA PENINSULA)</td>\n",
       "      <td>None</td>\n",
       "      <td>None</td>\n",
       "      <td>Hospital</td>\n",
       "      <td>POINT (122.07981 6.90497)</td>\n",
       "      <td>122.079813</td>\n",
       "      <td>6.904966</td>\n",
       "    </tr>\n",
       "  </tbody>\n",
       "</table>\n",
       "</div>"
      ],
      "text/plain": [
       "      id          facilityco             healthfaci typeofheal  \\\n",
       "23  28.0  DOH000000000037412  Hospital De Zamboanga   Hospital   \n",
       "\n",
       "                    barangay      municipali           province  \\\n",
       "23  Barangay Zone III (Pob.)  Zamboanga City  Zamboanga Del Sur   \n",
       "\n",
       "                             region status address     style  \\\n",
       "23  REGION IX (ZAMBOANGA PENINSULA)   None    None  Hospital   \n",
       "\n",
       "                     geometry         lng       lat  \n",
       "23  POINT (122.07981 6.90497)  122.079813  6.904966  "
      ]
     },
     "execution_count": 13,
     "metadata": {},
     "output_type": "execute_result"
    }
   ],
   "source": [
    "hospitals_gdf.head(1)"
   ]
  },
  {
   "cell_type": "markdown",
   "metadata": {},
   "source": [
    "## Generate Isochrones"
   ]
  },
  {
   "cell_type": "markdown",
   "metadata": {},
   "source": [
    "### Get Mapbox API Key\n",
    "\n",
    "The `secrets/mapbox.yaml` file should NOT be commited to the repo. Instead, create your own file by following this format:\n",
    "\n",
    "`api-key: <YOUR API KEY HERE>` <br>\n",
    "`mapbox-style-xyz-url: <YOUR XYZ URL HERE>`"
   ]
  },
  {
   "cell_type": "code",
   "execution_count": 14,
   "metadata": {},
   "outputs": [],
   "source": [
    "SECRETS_YAML = Path(\"../../../secrets/mapbox.yaml\")\n",
    "with open(SECRETS_YAML, \"r\") as f:\n",
    "    secrets = yaml.safe_load(f)\n",
    "    api_key = secrets[\"api-key\"]\n",
    "    # MAPBOX_XYZ_URL = secrets[\"mapbox-style-xyz-url\"]"
   ]
  },
  {
   "cell_type": "markdown",
   "metadata": {},
   "source": [
    "### 5 mins. Isochrones"
   ]
  },
  {
   "cell_type": "code",
   "execution_count": null,
   "metadata": {},
   "outputs": [],
   "source": [
    "# 5 min increment intervals\n",
    "hospitals_iso_5min, no_data = get_mapbox_iso(\n",
    "    hospitals_gdf[[\"id\", \"lat\", \"lng\"]], \"driving-traffic\", \"5\"\n",
    ")\n",
    "hospitals_iso_10min, no_data = get_mapbox_iso(\n",
    "    hospitals_gdf[[\"id\", \"lat\", \"lng\"]], \"driving-traffic\", \"10\"\n",
    ")\n",
    "hospitals_iso_15min, no_data = get_mapbox_iso(\n",
    "    hospitals_gdf[[\"id\", \"lat\", \"lng\"]], \"driving-traffic\", \"15\"\n",
    ")\n",
    "hospitals_iso_20min, no_data = get_mapbox_iso(\n",
    "    hospitals_gdf[[\"id\", \"lat\", \"lng\"]], \"driving-traffic\", \"20\"\n",
    ")\n",
    "hospitals_iso_25min, no_data = get_mapbox_iso(\n",
    "    hospitals_gdf[[\"id\", \"lat\", \"lng\"]], \"driving-traffic\", \"25\"\n",
    ")"
   ]
  },
  {
   "cell_type": "code",
   "execution_count": 32,
   "metadata": {},
   "outputs": [
    {
     "name": "stderr",
     "output_type": "stream",
     "text": [
      "100%|██████████| 110/110 [00:24<00:00,  4.52it/s]\n"
     ]
    }
   ],
   "source": [
    "hospitals_iso_30min, no_data = get_mapbox_iso(\n",
    "    hospitals_gdf[[\"id\", \"lat\", \"lng\"]], \"driving-traffic\", \"30\"\n",
    ")"
   ]
  },
  {
   "cell_type": "code",
   "execution_count": 33,
   "metadata": {},
   "outputs": [
    {
     "name": "stderr",
     "output_type": "stream",
     "text": [
      "/home/abbymoreno/miniconda3/envs/lacuna-fund/lib/python3.9/site-packages/geopandas/io/file.py:362: FutureWarning: pandas.Int64Index is deprecated and will be removed from pandas in a future version. Use pandas.Index with the appropriate dtype instead.\n",
      "  pd.Int64Index,\n",
      "/home/abbymoreno/miniconda3/envs/lacuna-fund/lib/python3.9/site-packages/geopandas/io/file.py:362: FutureWarning: pandas.Int64Index is deprecated and will be removed from pandas in a future version. Use pandas.Index with the appropriate dtype instead.\n",
      "  pd.Int64Index,\n",
      "/home/abbymoreno/miniconda3/envs/lacuna-fund/lib/python3.9/site-packages/geopandas/io/file.py:362: FutureWarning: pandas.Int64Index is deprecated and will be removed from pandas in a future version. Use pandas.Index with the appropriate dtype instead.\n",
      "  pd.Int64Index,\n",
      "/home/abbymoreno/miniconda3/envs/lacuna-fund/lib/python3.9/site-packages/geopandas/io/file.py:362: FutureWarning: pandas.Int64Index is deprecated and will be removed from pandas in a future version. Use pandas.Index with the appropriate dtype instead.\n",
      "  pd.Int64Index,\n",
      "/home/abbymoreno/miniconda3/envs/lacuna-fund/lib/python3.9/site-packages/geopandas/io/file.py:362: FutureWarning: pandas.Int64Index is deprecated and will be removed from pandas in a future version. Use pandas.Index with the appropriate dtype instead.\n",
      "  pd.Int64Index,\n",
      "/home/abbymoreno/miniconda3/envs/lacuna-fund/lib/python3.9/site-packages/geopandas/io/file.py:362: FutureWarning: pandas.Int64Index is deprecated and will be removed from pandas in a future version. Use pandas.Index with the appropriate dtype instead.\n",
      "  pd.Int64Index,\n"
     ]
    }
   ],
   "source": [
    "hospitals_iso_5min.to_file(\n",
    "    ISOCHRONES_DIR / \"iso_hospital_drivetraffic_5.geojson\", driver=\"GeoJSON\"\n",
    ")\n",
    "hospitals_iso_10min.to_file(\n",
    "    ISOCHRONES_DIR / \"iso_hospital_drivetraffic_10.geojson\", driver=\"GeoJSON\"\n",
    ")\n",
    "hospitals_iso_15min.to_file(\n",
    "    ISOCHRONES_DIR / \"iso_hospital_drivetraffic_15.geojson\", driver=\"GeoJSON\"\n",
    ")\n",
    "hospitals_iso_20min.to_file(\n",
    "    ISOCHRONES_DIR / \"iso_hospital_drivetraffic_20.geojson\", driver=\"GeoJSON\"\n",
    ")\n",
    "hospitals_iso_25min.to_file(\n",
    "    ISOCHRONES_DIR / \"iso_hospital_drivetraffic_25.geojson\", driver=\"GeoJSON\"\n",
    ")\n",
    "hospitals_iso_30min.to_file(\n",
    "    ISOCHRONES_DIR / \"iso_hospital_drivetraffic_30.geojson\", driver=\"GeoJSON\"\n",
    ")"
   ]
  },
  {
   "cell_type": "markdown",
   "metadata": {},
   "source": [
    "### Get other 1min. intervals"
   ]
  },
  {
   "cell_type": "code",
   "execution_count": 16,
   "metadata": {},
   "outputs": [],
   "source": [
    "# 5 min increment intervals\n",
    "\n",
    "\n",
    "def get_multi_iso(iso_minutes):\n",
    "    \"\"\"minutes - max 4 contours per coordinate and 300 requests per minute\"\"\"\n",
    "    hospitals_iso_df, no_data = get_mapbox_iso(\n",
    "        hospitals_gdf[[\"id\", \"lat\", \"lng\"]], \"driving-traffic\", iso_minutes\n",
    "    )\n",
    "    hospitals_iso_df.to_file(\n",
    "        ISOCHRONES_DIR / f\"iso_hospital_drivetraffic_{iso_minutes}.geojson\",\n",
    "        driver=\"GeoJSON\",\n",
    "    )"
   ]
  },
  {
   "cell_type": "code",
   "execution_count": 23,
   "metadata": {},
   "outputs": [
    {
     "name": "stderr",
     "output_type": "stream",
     "text": [
      "100%|██████████| 110/110 [00:24<00:00,  4.56it/s]\n",
      "/home/abbymoreno/miniconda3/envs/lacuna-fund/lib/python3.9/site-packages/geopandas/io/file.py:362: FutureWarning: pandas.Int64Index is deprecated and will be removed from pandas in a future version. Use pandas.Index with the appropriate dtype instead.\n",
      "  pd.Int64Index,\n"
     ]
    }
   ],
   "source": [
    "# insert isochrone minutes needed\n",
    "get_multi_iso(\"28, 29\")"
   ]
  },
  {
   "cell_type": "markdown",
   "metadata": {},
   "source": [
    "## Visualization"
   ]
  },
  {
   "cell_type": "code",
   "execution_count": 49,
   "metadata": {},
   "outputs": [],
   "source": [
    "# Set map center\n",
    "gdf_centroid_lat, gdf_centroid_lon = (\n",
    "    hospitals_gdf.geometry.y.mean(),\n",
    "    hospitals_gdf.geometry.x.mean(),\n",
    ")"
   ]
  },
  {
   "cell_type": "code",
   "execution_count": 60,
   "metadata": {},
   "outputs": [],
   "source": [
    "# Set basemap\n",
    "map = folium.Map(\n",
    "    location=[gdf_centroid_lat, gdf_centroid_lon],\n",
    "    zoom_start=7,\n",
    "    control_scale=True,\n",
    "    tiles=\"cartodb positron\",\n",
    ")"
   ]
  },
  {
   "cell_type": "code",
   "execution_count": 55,
   "metadata": {},
   "outputs": [],
   "source": [
    "test_clean = hospitals_gdf.copy()\n",
    "test_clean = test_clean.drop(columns=[\"lat\", \"lng\"])\n",
    "test_clean = test_clean.rename(columns={\"style\": \"type\"})"
   ]
  },
  {
   "cell_type": "code",
   "execution_count": null,
   "metadata": {},
   "outputs": [],
   "source": [
    "hospitals_iso_30min.explore(m=map, color=\"blue\")\n",
    "hospitals_iso_25min.explore(m=map, color=\"skyblue\")\n",
    "hospitals_iso_20min.explore(m=map, color=\"purple\")\n",
    "hospitals_iso_15min.explore(m=map, color=\"magenta\")\n",
    "hospitals_iso_10min.explore(m=map, color=\"red\")\n",
    "hospitals_iso_5min.explore(m=map, color=\"pink\")\n",
    "\n",
    "test_clean.explore(m=map, color=\"yellow\")\n",
    "folium.LayerControl(\n",
    "    names=[\"30\", \"25\", \"20\", \"15\", \"10\", \"5\"], position=\"bottomright\"\n",
    ").add_to(map)\n",
    "map"
   ]
  },
  {
   "cell_type": "code",
   "execution_count": null,
   "metadata": {},
   "outputs": [],
   "source": []
  }
 ],
 "metadata": {
  "kernelspec": {
   "display_name": "lacuna-fund",
   "language": "python",
   "name": "python3"
  },
  "language_info": {
   "codemirror_mode": {
    "name": "ipython",
    "version": 3
   },
   "file_extension": ".py",
   "mimetype": "text/x-python",
   "name": "python",
   "nbconvert_exporter": "python",
   "pygments_lexer": "ipython3",
   "version": "3.9.18"
  },
  "orig_nbformat": 4
 },
 "nbformat": 4,
 "nbformat_minor": 2
}
