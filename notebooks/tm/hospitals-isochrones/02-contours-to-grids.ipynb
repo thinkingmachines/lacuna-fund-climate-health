{
 "cells": [
  {
   "cell_type": "code",
   "execution_count": 1,
   "metadata": {},
   "outputs": [
    {
     "name": "stderr",
     "output_type": "stream",
     "text": [
      "/home/abbymoreno/miniconda3/envs/lacuna-fund/lib/python3.9/site-packages/geopandas/_compat.py:111: UserWarning: The Shapely GEOS version (3.11.1-CAPI-1.17.1) is incompatible with the GEOS version PyGEOS was compiled with (3.10.4-CAPI-1.16.2). Conversions between both will be slow.\n",
      "  warnings.warn(\n"
     ]
    }
   ],
   "source": [
    "import geopandas as gpd\n",
    "import pandas as pd\n",
    "import geowrangler.vector_zonal_stats as vzs\n",
    "import geowrangler.raster_zonal_stats as rzs\n",
    "from geowrangler import grids\n",
    "import folium\n",
    "\n",
    "import os\n",
    "from pathlib import Path"
   ]
  },
  {
   "cell_type": "markdown",
   "metadata": {},
   "source": [
    "# Processing Generated Isochrone contours"
   ]
  },
  {
   "cell_type": "markdown",
   "metadata": {},
   "source": [
    "## Set-up parameters and directories"
   ]
  },
  {
   "cell_type": "code",
   "execution_count": 3,
   "metadata": {},
   "outputs": [],
   "source": [
    "PROCESSED_DIR = Path(\"../../../data/03-processed/\")\n",
    "OUTPUT_DIR = Path(\"../../../data/04-output/\")\n",
    "GIS_DIR = Path(\"../../../data/05-gis/\")\n",
    "\n",
    "HOSPITALS_FPATH = Path(\"../../../data/02-raw/philippines_healthfacilities.gpkg\")\n",
    "ISOCHRONES_DIR = PROCESSED_DIR / \"isochrones\"\n",
    "ADMIN_BOUNDS = Path(\"../../../data/01-admin-bounds/target_admin_bounds.shp\")\n",
    "WP_2020_RASTER = Path(\"../../../data/02-raw/worldpop/population_count/phl_ppp_2020.tif\")"
   ]
  },
  {
   "cell_type": "markdown",
   "metadata": {},
   "source": [
    "## Load health facilities points"
   ]
  },
  {
   "cell_type": "code",
   "execution_count": 4,
   "metadata": {},
   "outputs": [
    {
     "data": {
      "text/html": [
       "<div>\n",
       "<style scoped>\n",
       "    .dataframe tbody tr th:only-of-type {\n",
       "        vertical-align: middle;\n",
       "    }\n",
       "\n",
       "    .dataframe tbody tr th {\n",
       "        vertical-align: top;\n",
       "    }\n",
       "\n",
       "    .dataframe thead th {\n",
       "        text-align: right;\n",
       "    }\n",
       "</style>\n",
       "<table border=\"1\" class=\"dataframe\">\n",
       "  <thead>\n",
       "    <tr style=\"text-align: right;\">\n",
       "      <th></th>\n",
       "      <th>id</th>\n",
       "      <th>facilityco</th>\n",
       "      <th>healthfaci</th>\n",
       "      <th>typeofheal</th>\n",
       "      <th>barangay</th>\n",
       "      <th>municipali</th>\n",
       "      <th>province</th>\n",
       "      <th>region</th>\n",
       "      <th>status</th>\n",
       "      <th>address</th>\n",
       "      <th>style</th>\n",
       "      <th>geometry</th>\n",
       "    </tr>\n",
       "  </thead>\n",
       "  <tbody>\n",
       "    <tr>\n",
       "      <th>0</th>\n",
       "      <td>1.0</td>\n",
       "      <td>DOH000000000002277</td>\n",
       "      <td>Calvario Barangay Health Station</td>\n",
       "      <td>Barangay Health Station</td>\n",
       "      <td>Calvario</td>\n",
       "      <td>City Of Isabela</td>\n",
       "      <td>City Of Isabela (not A Province)</td>\n",
       "      <td>REGION IX (ZAMBOANGA PENINSULA)</td>\n",
       "      <td>None</td>\n",
       "      <td>None</td>\n",
       "      <td>Barangay Health Station</td>\n",
       "      <td>POINT (121.98987 6.65182)</td>\n",
       "    </tr>\n",
       "    <tr>\n",
       "      <th>1</th>\n",
       "      <td>2.0</td>\n",
       "      <td>DOH000000000010319</td>\n",
       "      <td>Cabunbata Barangay Health Station</td>\n",
       "      <td>Barangay Health Station</td>\n",
       "      <td>Cabunbata</td>\n",
       "      <td>City Of Isabela</td>\n",
       "      <td>City Of Isabela (not A Province)</td>\n",
       "      <td>REGION IX (ZAMBOANGA PENINSULA)</td>\n",
       "      <td>None</td>\n",
       "      <td>None</td>\n",
       "      <td>Barangay Health Station</td>\n",
       "      <td>POINT (121.96630 6.67152)</td>\n",
       "    </tr>\n",
       "  </tbody>\n",
       "</table>\n",
       "</div>"
      ],
      "text/plain": [
       "    id          facilityco                         healthfaci  \\\n",
       "0  1.0  DOH000000000002277   Calvario Barangay Health Station   \n",
       "1  2.0  DOH000000000010319  Cabunbata Barangay Health Station   \n",
       "\n",
       "                typeofheal   barangay       municipali  \\\n",
       "0  Barangay Health Station   Calvario  City Of Isabela   \n",
       "1  Barangay Health Station  Cabunbata  City Of Isabela   \n",
       "\n",
       "                           province                           region status  \\\n",
       "0  City Of Isabela (not A Province)  REGION IX (ZAMBOANGA PENINSULA)   None   \n",
       "1  City Of Isabela (not A Province)  REGION IX (ZAMBOANGA PENINSULA)   None   \n",
       "\n",
       "  address                    style                   geometry  \n",
       "0    None  Barangay Health Station  POINT (121.98987 6.65182)  \n",
       "1    None  Barangay Health Station  POINT (121.96630 6.67152)  "
      ]
     },
     "execution_count": 4,
     "metadata": {},
     "output_type": "execute_result"
    }
   ],
   "source": [
    "doh_gdf = gpd.read_file(HOSPITALS_FPATH, driver=\"GPKG\")\n",
    "doh_gdf.head(2)"
   ]
  },
  {
   "cell_type": "code",
   "execution_count": 5,
   "metadata": {},
   "outputs": [],
   "source": [
    "# filter to target cities\n",
    "target_cities = [\n",
    "    \"Navotas\",\n",
    "    \"Mandaluyong\",\n",
    "    \"Muntinlupa\",\n",
    "    \"Dagupan City\",\n",
    "    \"Palayan City\",\n",
    "    \"Legazpi City\",\n",
    "    \"Iloilo City\",\n",
    "    \"Mandaue City\",\n",
    "    \"Tacloban City\",\n",
    "    \"Zamboanga City\",\n",
    "    \"Cagayan de Oro City\",\n",
    "    \"Davao City\",\n",
    "]\n",
    "filtered_doh = doh_gdf[\n",
    "    doh_gdf[\"municipali\"].str.contains(\"|\".join(target_cities), case=False)\n",
    "]\n",
    "hospitals_gdf = filtered_doh[filtered_doh[\"typeofheal\"] == \"Hospital\"]"
   ]
  },
  {
   "cell_type": "code",
   "execution_count": 6,
   "metadata": {},
   "outputs": [],
   "source": [
    "hospitals_gdf = hospitals_gdf.to_crs(\"epsg:4326\")"
   ]
  },
  {
   "cell_type": "code",
   "execution_count": 7,
   "metadata": {},
   "outputs": [],
   "source": [
    "hospitals_gdf = hospitals_gdf.rename(columns={\"style\": \"type\"})"
   ]
  },
  {
   "cell_type": "markdown",
   "metadata": {},
   "source": [
    "## Load Isochrones"
   ]
  },
  {
   "cell_type": "code",
   "execution_count": 8,
   "metadata": {},
   "outputs": [
    {
     "name": "stdout",
     "output_type": "stream",
     "text": [
      "['iso_hospital_drivetraffic_9, 11, 12.geojson', 'iso_hospital_drivetraffic_15.geojson', 'iso_hospital_drivetraffic_13, 14, 16.geojson', 'iso_hospital_drivetraffic_21, 22, 23.geojson', 'iso_hospital_drivetraffic_24, 26, 27.geojson', 'iso_hospital_drivetraffic_25.geojson', 'iso_hospital_drivetraffic_10.geojson', 'iso_hospital_drivetraffic_20.geojson', 'iso_hospital_drivetraffic_28, 29.geojson', 'iso_hospital_drivetraffic_17, 18, 19.geojson', 'iso_hospital_drivetraffic_5.geojson', 'iso_hospital_drivetraffic_6, 7, 8.geojson', 'iso_hospital_drivetraffic_30.geojson']\n"
     ]
    }
   ],
   "source": [
    "iso_files = os.listdir(ISOCHRONES_DIR)\n",
    "print(iso_files)"
   ]
  },
  {
   "cell_type": "code",
   "execution_count": 9,
   "metadata": {},
   "outputs": [],
   "source": [
    "iso_gdf_list = []\n",
    "\n",
    "for file in iso_files:\n",
    "    gdf = gpd.read_file(ISOCHRONES_DIR / file, driver=\"GeoJSON\")\n",
    "    iso_gdf_list.append(gdf)"
   ]
  },
  {
   "cell_type": "code",
   "execution_count": 10,
   "metadata": {},
   "outputs": [
    {
     "data": {
      "text/html": [
       "<div>\n",
       "<style scoped>\n",
       "    .dataframe tbody tr th:only-of-type {\n",
       "        vertical-align: middle;\n",
       "    }\n",
       "\n",
       "    .dataframe tbody tr th {\n",
       "        vertical-align: top;\n",
       "    }\n",
       "\n",
       "    .dataframe thead th {\n",
       "        text-align: right;\n",
       "    }\n",
       "</style>\n",
       "<table border=\"1\" class=\"dataframe\">\n",
       "  <thead>\n",
       "    <tr style=\"text-align: right;\">\n",
       "      <th></th>\n",
       "      <th>contour</th>\n",
       "      <th>uid</th>\n",
       "      <th>geometry</th>\n",
       "    </tr>\n",
       "  </thead>\n",
       "  <tbody>\n",
       "    <tr>\n",
       "      <th>0</th>\n",
       "      <td>12</td>\n",
       "      <td>28.0</td>\n",
       "      <td>POLYGON ((122.07181 6.93314, 122.07081 6.93197...</td>\n",
       "    </tr>\n",
       "    <tr>\n",
       "      <th>1</th>\n",
       "      <td>11</td>\n",
       "      <td>28.0</td>\n",
       "      <td>POLYGON ((122.07381 6.93123, 122.07281 6.93163...</td>\n",
       "    </tr>\n",
       "    <tr>\n",
       "      <th>2</th>\n",
       "      <td>9</td>\n",
       "      <td>28.0</td>\n",
       "      <td>POLYGON ((122.07481 6.92608, 122.07395 6.92382...</td>\n",
       "    </tr>\n",
       "    <tr>\n",
       "      <th>3</th>\n",
       "      <td>12</td>\n",
       "      <td>32.0</td>\n",
       "      <td>POLYGON ((122.07054 6.93523, 122.06935 6.93252...</td>\n",
       "    </tr>\n",
       "    <tr>\n",
       "      <th>4</th>\n",
       "      <td>11</td>\n",
       "      <td>32.0</td>\n",
       "      <td>POLYGON ((122.07554 6.93242, 122.07354 6.93247...</td>\n",
       "    </tr>\n",
       "    <tr>\n",
       "      <th>...</th>\n",
       "      <td>...</td>\n",
       "      <td>...</td>\n",
       "      <td>...</td>\n",
       "    </tr>\n",
       "    <tr>\n",
       "      <th>2855</th>\n",
       "      <td>30</td>\n",
       "      <td>20201.0</td>\n",
       "      <td>POLYGON ((125.64783 7.19857, 125.64609 7.19608...</td>\n",
       "    </tr>\n",
       "    <tr>\n",
       "      <th>2856</th>\n",
       "      <td>30</td>\n",
       "      <td>20202.0</td>\n",
       "      <td>POLYGON ((125.57941 7.13767, 125.57741 7.13673...</td>\n",
       "    </tr>\n",
       "    <tr>\n",
       "      <th>2857</th>\n",
       "      <td>30</td>\n",
       "      <td>20825.0</td>\n",
       "      <td>POLYGON ((125.64870 7.24679, 125.64662 7.24529...</td>\n",
       "    </tr>\n",
       "    <tr>\n",
       "      <th>2858</th>\n",
       "      <td>30</td>\n",
       "      <td>20830.0</td>\n",
       "      <td>POLYGON ((125.55393 7.23796, 125.55250 7.23467...</td>\n",
       "    </tr>\n",
       "    <tr>\n",
       "      <th>2859</th>\n",
       "      <td>30</td>\n",
       "      <td>22349.0</td>\n",
       "      <td>POLYGON ((123.75910 13.28064, 123.75702 13.276...</td>\n",
       "    </tr>\n",
       "  </tbody>\n",
       "</table>\n",
       "<p>2860 rows × 3 columns</p>\n",
       "</div>"
      ],
      "text/plain": [
       "      contour      uid                                           geometry\n",
       "0          12     28.0  POLYGON ((122.07181 6.93314, 122.07081 6.93197...\n",
       "1          11     28.0  POLYGON ((122.07381 6.93123, 122.07281 6.93163...\n",
       "2           9     28.0  POLYGON ((122.07481 6.92608, 122.07395 6.92382...\n",
       "3          12     32.0  POLYGON ((122.07054 6.93523, 122.06935 6.93252...\n",
       "4          11     32.0  POLYGON ((122.07554 6.93242, 122.07354 6.93247...\n",
       "...       ...      ...                                                ...\n",
       "2855       30  20201.0  POLYGON ((125.64783 7.19857, 125.64609 7.19608...\n",
       "2856       30  20202.0  POLYGON ((125.57941 7.13767, 125.57741 7.13673...\n",
       "2857       30  20825.0  POLYGON ((125.64870 7.24679, 125.64662 7.24529...\n",
       "2858       30  20830.0  POLYGON ((125.55393 7.23796, 125.55250 7.23467...\n",
       "2859       30  22349.0  POLYGON ((123.75910 13.28064, 123.75702 13.276...\n",
       "\n",
       "[2860 rows x 3 columns]"
      ]
     },
     "execution_count": 10,
     "metadata": {},
     "output_type": "execute_result"
    }
   ],
   "source": [
    "concat_iso = gpd.GeoDataFrame(pd.concat(iso_gdf_list, ignore_index=True))\n",
    "concat_iso"
   ]
  },
  {
   "cell_type": "code",
   "execution_count": 11,
   "metadata": {},
   "outputs": [],
   "source": [
    "concat_iso = concat_iso.set_crs(\"epsg:4326\")"
   ]
  },
  {
   "cell_type": "markdown",
   "metadata": {},
   "source": [
    "## Load AOI"
   ]
  },
  {
   "cell_type": "code",
   "execution_count": 12,
   "metadata": {},
   "outputs": [
    {
     "data": {
      "text/html": [
       "<div>\n",
       "<style scoped>\n",
       "    .dataframe tbody tr th:only-of-type {\n",
       "        vertical-align: middle;\n",
       "    }\n",
       "\n",
       "    .dataframe tbody tr th {\n",
       "        vertical-align: top;\n",
       "    }\n",
       "\n",
       "    .dataframe thead th {\n",
       "        text-align: right;\n",
       "    }\n",
       "</style>\n",
       "<table border=\"1\" class=\"dataframe\">\n",
       "  <thead>\n",
       "    <tr style=\"text-align: right;\">\n",
       "      <th></th>\n",
       "      <th>ADM1_EN</th>\n",
       "      <th>ADM1_PCODE</th>\n",
       "      <th>ADM2_EN</th>\n",
       "      <th>ADM2_PCODE</th>\n",
       "      <th>ADM3_EN</th>\n",
       "      <th>ADM3_PCODE</th>\n",
       "      <th>ADM4_EN</th>\n",
       "      <th>ADM4_PCODE</th>\n",
       "      <th>geometry</th>\n",
       "    </tr>\n",
       "  </thead>\n",
       "  <tbody>\n",
       "    <tr>\n",
       "      <th>0</th>\n",
       "      <td>Region I</td>\n",
       "      <td>PH010000000</td>\n",
       "      <td>Pangasinan</td>\n",
       "      <td>PH015500000</td>\n",
       "      <td>Dagupan City</td>\n",
       "      <td>PH015518000</td>\n",
       "      <td>Lomboy</td>\n",
       "      <td>PH015518016</td>\n",
       "      <td>POLYGON ((120.32742 16.05423, 120.32719 16.053...</td>\n",
       "    </tr>\n",
       "    <tr>\n",
       "      <th>1</th>\n",
       "      <td>Region I</td>\n",
       "      <td>PH010000000</td>\n",
       "      <td>Pangasinan</td>\n",
       "      <td>PH015500000</td>\n",
       "      <td>Dagupan City</td>\n",
       "      <td>PH015518000</td>\n",
       "      <td>Tapuac</td>\n",
       "      <td>PH015518031</td>\n",
       "      <td>POLYGON ((120.33380 16.03974, 120.33389 16.039...</td>\n",
       "    </tr>\n",
       "    <tr>\n",
       "      <th>2</th>\n",
       "      <td>Region I</td>\n",
       "      <td>PH010000000</td>\n",
       "      <td>Pangasinan</td>\n",
       "      <td>PH015500000</td>\n",
       "      <td>Dagupan City</td>\n",
       "      <td>PH015518000</td>\n",
       "      <td>Pantal</td>\n",
       "      <td>PH015518022</td>\n",
       "      <td>POLYGON ((120.34737 16.06009, 120.34761 16.060...</td>\n",
       "    </tr>\n",
       "  </tbody>\n",
       "</table>\n",
       "</div>"
      ],
      "text/plain": [
       "    ADM1_EN   ADM1_PCODE     ADM2_EN   ADM2_PCODE       ADM3_EN   ADM3_PCODE  \\\n",
       "0  Region I  PH010000000  Pangasinan  PH015500000  Dagupan City  PH015518000   \n",
       "1  Region I  PH010000000  Pangasinan  PH015500000  Dagupan City  PH015518000   \n",
       "2  Region I  PH010000000  Pangasinan  PH015500000  Dagupan City  PH015518000   \n",
       "\n",
       "  ADM4_EN   ADM4_PCODE                                           geometry  \n",
       "0  Lomboy  PH015518016  POLYGON ((120.32742 16.05423, 120.32719 16.053...  \n",
       "1  Tapuac  PH015518031  POLYGON ((120.33380 16.03974, 120.33389 16.039...  \n",
       "2  Pantal  PH015518022  POLYGON ((120.34737 16.06009, 120.34761 16.060...  "
      ]
     },
     "execution_count": 12,
     "metadata": {},
     "output_type": "execute_result"
    }
   ],
   "source": [
    "aoi = gpd.read_file(ADMIN_BOUNDS)\n",
    "aoi.head(3)"
   ]
  },
  {
   "cell_type": "markdown",
   "metadata": {},
   "source": [
    "## Generate grids"
   ]
  },
  {
   "cell_type": "code",
   "execution_count": 13,
   "metadata": {},
   "outputs": [],
   "source": [
    "bing_tile_grid_generator = grids.BingTileGridGenerator(18)"
   ]
  },
  {
   "cell_type": "code",
   "execution_count": 14,
   "metadata": {},
   "outputs": [
    {
     "name": "stdout",
     "output_type": "stream",
     "text": [
      "CPU times: user 7min 57s, sys: 134 ms, total: 7min 57s\n",
      "Wall time: 7min 58s\n"
     ]
    }
   ],
   "source": [
    "%%time\n",
    "bing_tile_gdf = bing_tile_grid_generator.generate_grid(aoi)"
   ]
  },
  {
   "cell_type": "code",
   "execution_count": 15,
   "metadata": {},
   "outputs": [
    {
     "data": {
      "text/plain": [
       "(223316, 2)"
      ]
     },
     "execution_count": 15,
     "metadata": {},
     "output_type": "execute_result"
    }
   ],
   "source": [
    "bing_tile_gdf.shape"
   ]
  },
  {
   "cell_type": "markdown",
   "metadata": {},
   "source": [
    "## Convert contours to grids"
   ]
  },
  {
   "cell_type": "code",
   "execution_count": 17,
   "metadata": {},
   "outputs": [
    {
     "name": "stdout",
     "output_type": "stream",
     "text": [
      "CPU times: user 1min 1s, sys: 560 ms, total: 1min 1s\n",
      "Wall time: 1min 1s\n"
     ]
    }
   ],
   "source": [
    "%%time\n",
    "iso_grids = vzs.create_zonal_stats(\n",
    "    bing_tile_gdf,\n",
    "    concat_iso,\n",
    "    aggregations=[\n",
    "        {\"func\": \"min\", \"column\": \"contour\", \"output\": \"hospital_travel_time\"}\n",
    "    ],\n",
    ")"
   ]
  },
  {
   "cell_type": "code",
   "execution_count": 18,
   "metadata": {},
   "outputs": [
    {
     "data": {
      "text/html": [
       "<div>\n",
       "<style scoped>\n",
       "    .dataframe tbody tr th:only-of-type {\n",
       "        vertical-align: middle;\n",
       "    }\n",
       "\n",
       "    .dataframe tbody tr th {\n",
       "        vertical-align: top;\n",
       "    }\n",
       "\n",
       "    .dataframe thead th {\n",
       "        text-align: right;\n",
       "    }\n",
       "</style>\n",
       "<table border=\"1\" class=\"dataframe\">\n",
       "  <thead>\n",
       "    <tr style=\"text-align: right;\">\n",
       "      <th></th>\n",
       "      <th>quadkey</th>\n",
       "      <th>geometry</th>\n",
       "      <th>hospital_travel_time</th>\n",
       "    </tr>\n",
       "  </thead>\n",
       "  <tbody>\n",
       "    <tr>\n",
       "      <th>0</th>\n",
       "      <td>132303122020330010</td>\n",
       "      <td>POLYGON ((121.00616 14.36950, 121.00616 14.370...</td>\n",
       "      <td>15.0</td>\n",
       "    </tr>\n",
       "    <tr>\n",
       "      <th>1</th>\n",
       "      <td>132303122020330012</td>\n",
       "      <td>POLYGON ((121.00616 14.36817, 121.00616 14.369...</td>\n",
       "      <td>15.0</td>\n",
       "    </tr>\n",
       "    <tr>\n",
       "      <th>2</th>\n",
       "      <td>132303122020330030</td>\n",
       "      <td>POLYGON ((121.00616 14.36684, 121.00616 14.368...</td>\n",
       "      <td>17.0</td>\n",
       "    </tr>\n",
       "  </tbody>\n",
       "</table>\n",
       "</div>"
      ],
      "text/plain": [
       "              quadkey                                           geometry  \\\n",
       "0  132303122020330010  POLYGON ((121.00616 14.36950, 121.00616 14.370...   \n",
       "1  132303122020330012  POLYGON ((121.00616 14.36817, 121.00616 14.369...   \n",
       "2  132303122020330030  POLYGON ((121.00616 14.36684, 121.00616 14.368...   \n",
       "\n",
       "   hospital_travel_time  \n",
       "0                  15.0  \n",
       "1                  15.0  \n",
       "2                  17.0  "
      ]
     },
     "execution_count": 18,
     "metadata": {},
     "output_type": "execute_result"
    }
   ],
   "source": [
    "iso_grids.head(3)"
   ]
  },
  {
   "cell_type": "markdown",
   "metadata": {},
   "source": [
    "## Add population"
   ]
  },
  {
   "cell_type": "code",
   "execution_count": 20,
   "metadata": {},
   "outputs": [
    {
     "name": "stdout",
     "output_type": "stream",
     "text": [
      "CPU times: user 5min 48s, sys: 13.2 s, total: 6min 2s\n",
      "Wall time: 6min 2s\n"
     ]
    }
   ],
   "source": [
    "%%time\n",
    "iso_grids_pop = rzs.create_raster_zonal_stats(\n",
    "    iso_grids,\n",
    "    WP_2020_RASTER,\n",
    "    aggregation=dict(func=\"sum\", column=\"population\", output=\"population_count\"),\n",
    "    extra_args=dict(nodata=-99999),\n",
    ")"
   ]
  },
  {
   "cell_type": "code",
   "execution_count": 21,
   "metadata": {},
   "outputs": [
    {
     "data": {
      "text/html": [
       "<div>\n",
       "<style scoped>\n",
       "    .dataframe tbody tr th:only-of-type {\n",
       "        vertical-align: middle;\n",
       "    }\n",
       "\n",
       "    .dataframe tbody tr th {\n",
       "        vertical-align: top;\n",
       "    }\n",
       "\n",
       "    .dataframe thead th {\n",
       "        text-align: right;\n",
       "    }\n",
       "</style>\n",
       "<table border=\"1\" class=\"dataframe\">\n",
       "  <thead>\n",
       "    <tr style=\"text-align: right;\">\n",
       "      <th></th>\n",
       "      <th>quadkey</th>\n",
       "      <th>geometry</th>\n",
       "      <th>hospital_travel_time</th>\n",
       "      <th>population_count</th>\n",
       "    </tr>\n",
       "  </thead>\n",
       "  <tbody>\n",
       "    <tr>\n",
       "      <th>0</th>\n",
       "      <td>132303122020330010</td>\n",
       "      <td>POLYGON ((121.00616 14.36950, 121.00616 14.370...</td>\n",
       "      <td>15.0</td>\n",
       "      <td>59.810890</td>\n",
       "    </tr>\n",
       "    <tr>\n",
       "      <th>1</th>\n",
       "      <td>132303122020330012</td>\n",
       "      <td>POLYGON ((121.00616 14.36817, 121.00616 14.369...</td>\n",
       "      <td>15.0</td>\n",
       "      <td>73.748970</td>\n",
       "    </tr>\n",
       "    <tr>\n",
       "      <th>2</th>\n",
       "      <td>132303122020330030</td>\n",
       "      <td>POLYGON ((121.00616 14.36684, 121.00616 14.368...</td>\n",
       "      <td>17.0</td>\n",
       "      <td>38.532951</td>\n",
       "    </tr>\n",
       "    <tr>\n",
       "      <th>3</th>\n",
       "      <td>132303122020330032</td>\n",
       "      <td>POLYGON ((121.00616 14.36551, 121.00616 14.366...</td>\n",
       "      <td>17.0</td>\n",
       "      <td>76.930756</td>\n",
       "    </tr>\n",
       "    <tr>\n",
       "      <th>4</th>\n",
       "      <td>132303122020330210</td>\n",
       "      <td>POLYGON ((121.00616 14.36418, 121.00616 14.365...</td>\n",
       "      <td>18.0</td>\n",
       "      <td>39.472054</td>\n",
       "    </tr>\n",
       "  </tbody>\n",
       "</table>\n",
       "</div>"
      ],
      "text/plain": [
       "              quadkey                                           geometry  \\\n",
       "0  132303122020330010  POLYGON ((121.00616 14.36950, 121.00616 14.370...   \n",
       "1  132303122020330012  POLYGON ((121.00616 14.36817, 121.00616 14.369...   \n",
       "2  132303122020330030  POLYGON ((121.00616 14.36684, 121.00616 14.368...   \n",
       "3  132303122020330032  POLYGON ((121.00616 14.36551, 121.00616 14.366...   \n",
       "4  132303122020330210  POLYGON ((121.00616 14.36418, 121.00616 14.365...   \n",
       "\n",
       "   hospital_travel_time  population_count  \n",
       "0                  15.0         59.810890  \n",
       "1                  15.0         73.748970  \n",
       "2                  17.0         38.532951  \n",
       "3                  17.0         76.930756  \n",
       "4                  18.0         39.472054  "
      ]
     },
     "execution_count": 21,
     "metadata": {},
     "output_type": "execute_result"
    }
   ],
   "source": [
    "iso_grids_pop.head(5)"
   ]
  },
  {
   "cell_type": "code",
   "execution_count": 22,
   "metadata": {},
   "outputs": [
    {
     "name": "stderr",
     "output_type": "stream",
     "text": [
      "/home/abbymoreno/miniconda3/envs/lacuna-fund/lib/python3.9/site-packages/geopandas/io/file.py:362: FutureWarning: pandas.Int64Index is deprecated and will be removed from pandas in a future version. Use pandas.Index with the appropriate dtype instead.\n",
      "  pd.Int64Index,\n"
     ]
    }
   ],
   "source": [
    "iso_grids_pop.to_file(\n",
    "    OUTPUT_DIR / \"nearest_hospitals_iso_grids.geojson\", driver=\"GeoJSON\"\n",
    ")"
   ]
  },
  {
   "cell_type": "markdown",
   "metadata": {},
   "source": [
    "## Create visualizations"
   ]
  },
  {
   "cell_type": "code",
   "execution_count": 23,
   "metadata": {},
   "outputs": [
    {
     "name": "stderr",
     "output_type": "stream",
     "text": [
      "/tmp/ipykernel_271/2846051968.py:3: UserWarning: Geometry is in a geographic CRS. Results from 'centroid' are likely incorrect. Use 'GeoSeries.to_crs()' to re-project geometries to a projected CRS before this operation.\n",
      "\n",
      "  aoi.geometry.centroid.y.mean(),\n",
      "/tmp/ipykernel_271/2846051968.py:4: UserWarning: Geometry is in a geographic CRS. Results from 'centroid' are likely incorrect. Use 'GeoSeries.to_crs()' to re-project geometries to a projected CRS before this operation.\n",
      "\n",
      "  aoi.geometry.centroid.x.mean(),\n"
     ]
    }
   ],
   "source": [
    "# Set map center\n",
    "gdf_centroid_lat, gdf_centroid_lon = (\n",
    "    aoi.geometry.centroid.y.mean(),\n",
    "    aoi.geometry.centroid.x.mean(),\n",
    ")"
   ]
  },
  {
   "cell_type": "code",
   "execution_count": 31,
   "metadata": {},
   "outputs": [],
   "source": [
    "map = folium.Map(\n",
    "    location=[gdf_centroid_lat, gdf_centroid_lon],\n",
    "    zoom_start=7,\n",
    "    control_scale=True,\n",
    "    tiles=\"cartodb positron\",\n",
    ")\n",
    "\n",
    "iso_grids_pop.explore(m=map, column=\"hospital_travel_time\", cmap=\"Blues_r\")\n",
    "aoi.explore(m=map, style_kwds={\"weight\": 3, \"color\": \"cyan\", \"fill\": False})\n",
    "hospitals_gdf.explore(m=map, color=\"yellow\", marker_kwds={\"radius\": 4})\n",
    "map.save(GIS_DIR / \"lacuna_hospitals_iso_grids_wpoints_pop_1min.html\")"
   ]
  }
 ],
 "metadata": {
  "kernelspec": {
   "display_name": "lacuna-fund",
   "language": "python",
   "name": "python3"
  },
  "language_info": {
   "codemirror_mode": {
    "name": "ipython",
    "version": 3
   },
   "file_extension": ".py",
   "mimetype": "text/x-python",
   "name": "python",
   "nbconvert_exporter": "python",
   "pygments_lexer": "ipython3",
   "version": "3.9.18"
  },
  "orig_nbformat": 4
 },
 "nbformat": 4,
 "nbformat_minor": 2
}
