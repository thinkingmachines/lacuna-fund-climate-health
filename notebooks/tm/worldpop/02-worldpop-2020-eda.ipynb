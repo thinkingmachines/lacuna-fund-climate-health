{
 "cells": [
  {
   "cell_type": "code",
   "execution_count": 2,
   "metadata": {},
   "outputs": [],
   "source": [
    "import matplotlib.pyplot as plt\n",
    "import seaborn as sns\n",
    "import geopandas as gpd\n",
    "import pandas as pd\n",
    "\n",
    "from pathlib import Path\n",
    "\n",
    "from sklearn.metrics import mean_absolute_percentage_error\n",
    "from sklearn.metrics import mean_absolute_error\n",
    "from sklearn.metrics import mean_squared_error"
   ]
  },
  {
   "cell_type": "markdown",
   "metadata": {},
   "source": [
    "# Population Count\n",
    "\n",
    "Population dataset will be sourced from [WorldPop](https://hub.worldpop.org/project/categories?id=3)."
   ]
  },
  {
   "cell_type": "markdown",
   "metadata": {},
   "source": [
    "### Set-up directories and parameters"
   ]
  },
  {
   "cell_type": "code",
   "execution_count": 3,
   "metadata": {},
   "outputs": [],
   "source": [
    "# data files\n",
    "DATA_DIR = Path(\"../../../data/\")\n",
    "WP_DIR = DATA_DIR / \"02-raw\" / \"worldpop\"\n",
    "OUTPUT_DIR = DATA_DIR / \"04-output\"\n",
    "\n",
    "# population count\n",
    "POP_COUNT_2020 = OUTPUT_DIR / \"worldpop-popcount-2020.csv\"\n",
    "\n",
    "# population density\n",
    "POP_D = OUTPUT_DIR / \"worldpop-pd-2020.csv\"\n",
    "\n",
    "ADMIN_BOUNDS = DATA_DIR / \"01-admin-bounds\" / \"renamed_target_admin_bounds.gpkg\""
   ]
  },
  {
   "attachments": {},
   "cell_type": "markdown",
   "metadata": {},
   "source": [
    "### Load Administrative Boundaries for the 12 cities"
   ]
  },
  {
   "cell_type": "code",
   "execution_count": 4,
   "metadata": {},
   "outputs": [],
   "source": [
    "aoi = gpd.read_file(ADMIN_BOUNDS, driver=\"GPKG\")"
   ]
  },
  {
   "cell_type": "markdown",
   "metadata": {},
   "source": [
    "### Load WorldPop Tables"
   ]
  },
  {
   "cell_type": "code",
   "execution_count": 14,
   "metadata": {},
   "outputs": [],
   "source": [
    "wp_popcount_2020_df = pd.read_csv(POP_COUNT_2020)\n",
    "wp_pd_2020_df = pd.read_csv(POP_D)"
   ]
  },
  {
   "cell_type": "code",
   "execution_count": 15,
   "metadata": {},
   "outputs": [],
   "source": [
    "wp_popcount_2020_df = wp_popcount_2020_df.iloc[:, 7::]\n",
    "wp_pd_2020_df = wp_pd_2020_df.iloc[:, 7::]\n",
    "\n",
    "wp_popcount_2020_gdf = aoi.merge(\n",
    "    wp_popcount_2020_df, on=\"barangay_psgc_code\", how=\"left\"\n",
    ")\n",
    "wp_pd_2020_df = aoi.merge(wp_pd_2020_df, on=\"barangay_psgc_code\", how=\"left\")"
   ]
  },
  {
   "cell_type": "markdown",
   "metadata": {},
   "source": [
    "### Load PSA 2020"
   ]
  },
  {
   "cell_type": "code",
   "execution_count": 17,
   "metadata": {},
   "outputs": [
    {
     "data": {
      "text/html": [
       "<div>\n",
       "<style scoped>\n",
       "    .dataframe tbody tr th:only-of-type {\n",
       "        vertical-align: middle;\n",
       "    }\n",
       "\n",
       "    .dataframe tbody tr th {\n",
       "        vertical-align: top;\n",
       "    }\n",
       "\n",
       "    .dataframe thead th {\n",
       "        text-align: right;\n",
       "    }\n",
       "</style>\n",
       "<table border=\"1\" class=\"dataframe\">\n",
       "  <thead>\n",
       "    <tr style=\"text-align: right;\">\n",
       "      <th></th>\n",
       "      <th>REGION</th>\n",
       "      <th>CITY</th>\n",
       "      <th>BRGY_NAME</th>\n",
       "      <th>PSA_POPULATION</th>\n",
       "    </tr>\n",
       "  </thead>\n",
       "  <tbody>\n",
       "    <tr>\n",
       "      <th>0</th>\n",
       "      <td>NCR</td>\n",
       "      <td>CITY OF MANDALUYONG\\n</td>\n",
       "      <td>Addition Hills</td>\n",
       "      <td>108896</td>\n",
       "    </tr>\n",
       "    <tr>\n",
       "      <th>1</th>\n",
       "      <td>NCR</td>\n",
       "      <td>CITY OF MANDALUYONG\\n</td>\n",
       "      <td>Bagong Silang</td>\n",
       "      <td>4939</td>\n",
       "    </tr>\n",
       "    <tr>\n",
       "      <th>2</th>\n",
       "      <td>NCR</td>\n",
       "      <td>CITY OF MANDALUYONG\\n</td>\n",
       "      <td>Barangka Drive</td>\n",
       "      <td>15474</td>\n",
       "    </tr>\n",
       "    <tr>\n",
       "      <th>3</th>\n",
       "      <td>NCR</td>\n",
       "      <td>CITY OF MANDALUYONG\\n</td>\n",
       "      <td>Barangka Ibaba</td>\n",
       "      <td>9040</td>\n",
       "    </tr>\n",
       "    <tr>\n",
       "      <th>4</th>\n",
       "      <td>NCR</td>\n",
       "      <td>CITY OF MANDALUYONG\\n</td>\n",
       "      <td>Barangka Ilaya</td>\n",
       "      <td>22334</td>\n",
       "    </tr>\n",
       "  </tbody>\n",
       "</table>\n",
       "</div>"
      ],
      "text/plain": [
       "  REGION                   CITY       BRGY_NAME  PSA_POPULATION\n",
       "0    NCR  CITY OF MANDALUYONG\\n  Addition Hills          108896\n",
       "1    NCR  CITY OF MANDALUYONG\\n   Bagong Silang            4939\n",
       "2    NCR  CITY OF MANDALUYONG\\n  Barangka Drive           15474\n",
       "3    NCR  CITY OF MANDALUYONG\\n  Barangka Ibaba            9040\n",
       "4    NCR  CITY OF MANDALUYONG\\n  Barangka Ilaya           22334"
      ]
     },
     "execution_count": 17,
     "metadata": {},
     "output_type": "execute_result"
    }
   ],
   "source": [
    "# prep per barangay population from PSA\n",
    "psa_2020 = pd.read_excel(WP_DIR / \"PSA_BarangayLevel_2020.xlsx\")\n",
    "psa_2020.head()"
   ]
  },
  {
   "cell_type": "markdown",
   "metadata": {},
   "source": [
    "### Utils"
   ]
  },
  {
   "cell_type": "code",
   "execution_count": 18,
   "metadata": {},
   "outputs": [],
   "source": [
    "def get_error_metrics(df, city_name):\n",
    "    y_true = df[\"PSA_POPULATION\"].tolist()\n",
    "    y_pred = df[\"wp_total\"].tolist()\n",
    "\n",
    "    mape = mean_absolute_percentage_error(y_true, y_pred)\n",
    "    mae = mean_absolute_error(y_true, y_pred)\n",
    "    rmse = mean_squared_error(y_true, y_pred, squared=False)\n",
    "\n",
    "    return mape, mae, rmse\n",
    "\n",
    "\n",
    "def get_statistics(df):\n",
    "    psa_sum = df[\"PSA_POPULATION\"].sum()\n",
    "    psa_mean = df[\"PSA_POPULATION\"].mean()\n",
    "    psa_median = df[\"PSA_POPULATION\"].median()\n",
    "    psa_std = df[\"PSA_POPULATION\"].std()\n",
    "\n",
    "    wp_sum = df[\"wp_total\"].sum().round(3)\n",
    "    wp_mean = df[\"wp_total\"].mean()\n",
    "    wp_median = df[\"wp_total\"].median()\n",
    "    wp_std = df[\"wp_total\"].std()\n",
    "\n",
    "    diff_psa_wp = wp_sum - psa_sum\n",
    "\n",
    "    return (\n",
    "        psa_sum,\n",
    "        psa_mean,\n",
    "        psa_median,\n",
    "        psa_std,\n",
    "        wp_sum,\n",
    "        wp_mean,\n",
    "        wp_median,\n",
    "        wp_std,\n",
    "        diff_psa_wp,\n",
    "    )"
   ]
  },
  {
   "cell_type": "code",
   "execution_count": 19,
   "metadata": {},
   "outputs": [],
   "source": [
    "def plot_choropleth(city_df, fig_title):\n",
    "    fig, axs = plt.subplots(ncols=3, figsize=(10, 4))\n",
    "    psa_min = city_df[\"PSA_POPULATION\"].min()\n",
    "    psa_max = city_df[\"PSA_POPULATION\"].max()\n",
    "    # plot map\n",
    "    city_df.plot(\n",
    "        column=\"PSA_POPULATION\",\n",
    "        legend=True,\n",
    "        legend_kwds={\"shrink\": 0.3},\n",
    "        ax=axs[0],\n",
    "        cmap=\"YlOrBr\",\n",
    "        vmin=psa_min,\n",
    "        vmax=psa_max,\n",
    "    )\n",
    "    axs[0].set_title(\"PSA\")\n",
    "    # plot histogram\n",
    "    city_df.plot(\n",
    "        column=\"wp_total\",\n",
    "        legend=True,\n",
    "        legend_kwds={\"shrink\": 0.3},\n",
    "        ax=axs[1],\n",
    "        cmap=\"YlOrBr\",\n",
    "        vmin=psa_min,\n",
    "        vmax=psa_max,\n",
    "    )\n",
    "    axs[1].set_title(\"WorldPop\")\n",
    "    city_df.plot(\n",
    "        column=\"difference\",\n",
    "        legend=True,\n",
    "        legend_kwds={\"shrink\": 0.3},\n",
    "        ax=axs[2],\n",
    "        cmap=\"coolwarm\",\n",
    "    )\n",
    "    axs[2].set_title(\"Difference\")\n",
    "\n",
    "    # adjust layout\n",
    "    fig.suptitle(fig_title)\n",
    "    fig.tight_layout()\n",
    "\n",
    "\n",
    "def plot_histograms(city_df, fig_title):\n",
    "    fig, ax = plt.subplots()\n",
    "    sns.histplot(\n",
    "        data=city_df[[\"PSA_POPULATION\", \"wp_total\"]],\n",
    "        bins=20,\n",
    "        ax=ax,\n",
    "        kde=True,\n",
    "        multiple=\"layer\",\n",
    "        legend=True,\n",
    "    )\n",
    "    fig.suptitle(fig_title)\n",
    "    fig.tight_layout()"
   ]
  },
  {
   "cell_type": "markdown",
   "metadata": {},
   "source": [
    "## Pre-process PSA 2020 to match admin bounds names"
   ]
  },
  {
   "cell_type": "code",
   "execution_count": 22,
   "metadata": {},
   "outputs": [],
   "source": [
    "psa_2020[\"CITY\"] = psa_2020[\"CITY\"].str.rstrip(\"\\n\")\n",
    "psa_2020[\"CITY\"] = psa_2020[\"CITY\"].str.lower()\n",
    "psa_2020[\"BRGY_NAME\"] = psa_2020[\"BRGY_NAME\"].str.lower()\n",
    "aoi[\"city_name\"] = aoi[\"city_name\"].str.lower()\n",
    "aoi[\"barangay_name\"] = aoi[\"barangay_name\"].str.lower()"
   ]
  },
  {
   "cell_type": "code",
   "execution_count": 23,
   "metadata": {},
   "outputs": [],
   "source": [
    "# try joining directly first\n",
    "# join with admin bounds\n",
    "psa_joined = pd.merge(\n",
    "    psa_2020,\n",
    "    aoi,\n",
    "    left_on=[\"CITY\", \"BRGY_NAME\"],\n",
    "    right_on=[\"city_name\", \"barangay_name\"],\n",
    "    validate=\"one_to_one\",\n",
    ")"
   ]
  },
  {
   "cell_type": "code",
   "execution_count": 24,
   "metadata": {},
   "outputs": [
    {
     "data": {
      "text/html": [
       "<div>\n",
       "<style scoped>\n",
       "    .dataframe tbody tr th:only-of-type {\n",
       "        vertical-align: middle;\n",
       "    }\n",
       "\n",
       "    .dataframe tbody tr th {\n",
       "        vertical-align: top;\n",
       "    }\n",
       "\n",
       "    .dataframe thead th {\n",
       "        text-align: right;\n",
       "    }\n",
       "</style>\n",
       "<table border=\"1\" class=\"dataframe\">\n",
       "  <thead>\n",
       "    <tr style=\"text-align: right;\">\n",
       "      <th></th>\n",
       "      <th>REGION</th>\n",
       "      <th>CITY</th>\n",
       "      <th>BRGY_NAME</th>\n",
       "      <th>PSA_POPULATION</th>\n",
       "      <th>region_name</th>\n",
       "      <th>region_code</th>\n",
       "      <th>province_name</th>\n",
       "      <th>province_code</th>\n",
       "      <th>city_name</th>\n",
       "      <th>city_code</th>\n",
       "      <th>barangay_name</th>\n",
       "      <th>barangay_psgc_code</th>\n",
       "      <th>geometry</th>\n",
       "    </tr>\n",
       "  </thead>\n",
       "  <tbody>\n",
       "    <tr>\n",
       "      <th>0</th>\n",
       "      <td>NCR</td>\n",
       "      <td>city of mandaluyong</td>\n",
       "      <td>addition hills</td>\n",
       "      <td>108896</td>\n",
       "      <td>National Capital Region</td>\n",
       "      <td>PH130000000</td>\n",
       "      <td>NCR, Second District</td>\n",
       "      <td>PH137400000</td>\n",
       "      <td>city of mandaluyong</td>\n",
       "      <td>PH137401000</td>\n",
       "      <td>addition hills</td>\n",
       "      <td>PH137401001</td>\n",
       "      <td>POLYGON ((121.04640 14.58746, 121.04636 14.587...</td>\n",
       "    </tr>\n",
       "    <tr>\n",
       "      <th>1</th>\n",
       "      <td>NCR</td>\n",
       "      <td>city of mandaluyong</td>\n",
       "      <td>bagong silang</td>\n",
       "      <td>4939</td>\n",
       "      <td>National Capital Region</td>\n",
       "      <td>PH130000000</td>\n",
       "      <td>NCR, Second District</td>\n",
       "      <td>PH137400000</td>\n",
       "      <td>city of mandaluyong</td>\n",
       "      <td>PH137401000</td>\n",
       "      <td>bagong silang</td>\n",
       "      <td>PH137401002</td>\n",
       "      <td>POLYGON ((121.03209 14.59330, 121.03209 14.593...</td>\n",
       "    </tr>\n",
       "  </tbody>\n",
       "</table>\n",
       "</div>"
      ],
      "text/plain": [
       "  REGION                 CITY       BRGY_NAME  PSA_POPULATION  \\\n",
       "0    NCR  city of mandaluyong  addition hills          108896   \n",
       "1    NCR  city of mandaluyong   bagong silang            4939   \n",
       "\n",
       "               region_name  region_code         province_name province_code  \\\n",
       "0  National Capital Region  PH130000000  NCR, Second District   PH137400000   \n",
       "1  National Capital Region  PH130000000  NCR, Second District   PH137400000   \n",
       "\n",
       "             city_name    city_code   barangay_name barangay_psgc_code  \\\n",
       "0  city of mandaluyong  PH137401000  addition hills        PH137401001   \n",
       "1  city of mandaluyong  PH137401000   bagong silang        PH137401002   \n",
       "\n",
       "                                            geometry  \n",
       "0  POLYGON ((121.04640 14.58746, 121.04636 14.587...  \n",
       "1  POLYGON ((121.03209 14.59330, 121.03209 14.593...  "
      ]
     },
     "execution_count": 24,
     "metadata": {},
     "output_type": "execute_result"
    }
   ],
   "source": [
    "psa_joined.head(2)"
   ]
  },
  {
   "attachments": {},
   "cell_type": "markdown",
   "metadata": {},
   "source": [
    "We lose 10 barangays after the inner merge. I am guessing they cannot be matched. I will let this go for now."
   ]
  },
  {
   "cell_type": "code",
   "execution_count": 25,
   "metadata": {},
   "outputs": [
    {
     "name": "stdout",
     "output_type": "stream",
     "text": [
      "Num barangays from our Admin bounds:  879\n",
      "Num barangays from PSA:  875\n",
      "Num barangays after merge:  873\n"
     ]
    }
   ],
   "source": [
    "print(\"Num barangays from our Admin bounds: \", aoi.shape[0])\n",
    "print(\"Num barangays from PSA: \", psa_2020.shape[0])\n",
    "print(\"Num barangays after merge: \", psa_joined.shape[0])"
   ]
  },
  {
   "cell_type": "code",
   "execution_count": 28,
   "metadata": {},
   "outputs": [
    {
     "data": {
      "text/plain": [
       "region_name              province_name         city_name          \n",
       "National Capital Region  NCR, Fourth District  city of muntinlupa       9\n",
       "                         NCR, Second District  city of mandaluyong     27\n",
       "                         NCR, Third District   city of navotas         14\n",
       "Region I                 Pangasinan            dagupan city            31\n",
       "Region III               Nueva Ecija           palayan city            19\n",
       "Region IX                Zamboanga del Sur     zamboanga city          98\n",
       "Region V                 Albay                 legazpi city            68\n",
       "Region VI                Iloilo                iloilo city            180\n",
       "Region VII               Cebu                  mandaue city            27\n",
       "Region VIII              Leyte                 tacloban city          138\n",
       "Region X                 Misamis Oriental      cagayan de oro city     80\n",
       "Region XI                Davao del Sur         davao city             182\n",
       "Name: city_name, dtype: int64"
      ]
     },
     "execution_count": 28,
     "metadata": {},
     "output_type": "execute_result"
    }
   ],
   "source": [
    "psa_joined.groupby([\"region_name\", \"province_name\", \"city_name\"])[\"city_name\"].count()"
   ]
  },
  {
   "attachments": {},
   "cell_type": "markdown",
   "metadata": {},
   "source": [
    "## Validate WorldPop 2020 against PSA 2020"
   ]
  },
  {
   "cell_type": "markdown",
   "metadata": {},
   "source": [
    "### Join WorldPop & PSA to one table"
   ]
  },
  {
   "cell_type": "code",
   "execution_count": 29,
   "metadata": {},
   "outputs": [],
   "source": [
    "# drop some rows\n",
    "psa_joined = psa_joined.drop(columns=[\"REGION\", \"CITY\", \"BRGY_NAME\"])\n",
    "# join with worldpop\n",
    "worldpop_psa_joined = wp_popcount_2020_gdf.set_index(\"barangay_psgc_code\").join(\n",
    "    psa_joined.set_index(\"barangay_psgc_code\"), rsuffix=\"_psa\", how=\"inner\"\n",
    ")"
   ]
  },
  {
   "cell_type": "code",
   "execution_count": 30,
   "metadata": {},
   "outputs": [
    {
     "data": {
      "text/plain": [
       "(873, 25)"
      ]
     },
     "execution_count": 30,
     "metadata": {},
     "output_type": "execute_result"
    }
   ],
   "source": [
    "worldpop_psa_joined.shape"
   ]
  },
  {
   "cell_type": "code",
   "execution_count": 31,
   "metadata": {},
   "outputs": [
    {
     "data": {
      "text/plain": [
       "Index(['region_name', 'region_code', 'province_name', 'province_code',\n",
       "       'city_name', 'city_code', 'barangay_name', 'geometry', 'wp_min',\n",
       "       'wp_max', 'wp_mean', 'samples', 'wp_total', 'wp_stdev', 'wp_median',\n",
       "       'wp_year', 'PSA_POPULATION', 'region_name_psa', 'region_code_psa',\n",
       "       'province_name_psa', 'province_code_psa', 'city_name_psa',\n",
       "       'city_code_psa', 'barangay_name_psa', 'geometry_psa'],\n",
       "      dtype='object')"
      ]
     },
     "execution_count": 31,
     "metadata": {},
     "output_type": "execute_result"
    }
   ],
   "source": [
    "worldpop_psa_joined.columns"
   ]
  },
  {
   "cell_type": "markdown",
   "metadata": {},
   "source": [
    "### Clean Joined table"
   ]
  },
  {
   "cell_type": "code",
   "execution_count": 32,
   "metadata": {},
   "outputs": [
    {
     "data": {
      "text/html": [
       "<div>\n",
       "<style scoped>\n",
       "    .dataframe tbody tr th:only-of-type {\n",
       "        vertical-align: middle;\n",
       "    }\n",
       "\n",
       "    .dataframe tbody tr th {\n",
       "        vertical-align: top;\n",
       "    }\n",
       "\n",
       "    .dataframe thead th {\n",
       "        text-align: right;\n",
       "    }\n",
       "</style>\n",
       "<table border=\"1\" class=\"dataframe\">\n",
       "  <thead>\n",
       "    <tr style=\"text-align: right;\">\n",
       "      <th></th>\n",
       "      <th>region_name</th>\n",
       "      <th>region_code</th>\n",
       "      <th>province_name</th>\n",
       "      <th>province_code</th>\n",
       "      <th>city_name</th>\n",
       "      <th>city_code</th>\n",
       "      <th>barangay_name</th>\n",
       "      <th>geometry</th>\n",
       "      <th>wp_total</th>\n",
       "      <th>wp_min</th>\n",
       "      <th>wp_max</th>\n",
       "      <th>wp_mean</th>\n",
       "      <th>wp_stdev</th>\n",
       "      <th>wp_median</th>\n",
       "      <th>PSA_POPULATION</th>\n",
       "    </tr>\n",
       "    <tr>\n",
       "      <th>barangay_psgc_code</th>\n",
       "      <th></th>\n",
       "      <th></th>\n",
       "      <th></th>\n",
       "      <th></th>\n",
       "      <th></th>\n",
       "      <th></th>\n",
       "      <th></th>\n",
       "      <th></th>\n",
       "      <th></th>\n",
       "      <th></th>\n",
       "      <th></th>\n",
       "      <th></th>\n",
       "      <th></th>\n",
       "      <th></th>\n",
       "      <th></th>\n",
       "    </tr>\n",
       "  </thead>\n",
       "  <tbody>\n",
       "    <tr>\n",
       "      <th>PH015518016</th>\n",
       "      <td>Region I</td>\n",
       "      <td>PH010000000</td>\n",
       "      <td>Pangasinan</td>\n",
       "      <td>PH015500000</td>\n",
       "      <td>Dagupan City</td>\n",
       "      <td>PH015518000</td>\n",
       "      <td>Lomboy</td>\n",
       "      <td>POLYGON ((120.32742 16.05423, 120.32719 16.053...</td>\n",
       "      <td>1048.389526</td>\n",
       "      <td>10.708253</td>\n",
       "      <td>134.088531</td>\n",
       "      <td>19.414621</td>\n",
       "      <td>16.566447</td>\n",
       "      <td>16.313622</td>\n",
       "      <td>1300</td>\n",
       "    </tr>\n",
       "    <tr>\n",
       "      <th>PH015518031</th>\n",
       "      <td>Region I</td>\n",
       "      <td>PH010000000</td>\n",
       "      <td>Pangasinan</td>\n",
       "      <td>PH015500000</td>\n",
       "      <td>Dagupan City</td>\n",
       "      <td>PH015518000</td>\n",
       "      <td>Tapuac</td>\n",
       "      <td>POLYGON ((120.33380 16.03974, 120.33389 16.039...</td>\n",
       "      <td>8001.150879</td>\n",
       "      <td>49.934814</td>\n",
       "      <td>171.413712</td>\n",
       "      <td>94.131187</td>\n",
       "      <td>23.749223</td>\n",
       "      <td>90.292122</td>\n",
       "      <td>5004</td>\n",
       "    </tr>\n",
       "  </tbody>\n",
       "</table>\n",
       "</div>"
      ],
      "text/plain": [
       "                   region_name  region_code province_name province_code  \\\n",
       "barangay_psgc_code                                                        \n",
       "PH015518016           Region I  PH010000000    Pangasinan   PH015500000   \n",
       "PH015518031           Region I  PH010000000    Pangasinan   PH015500000   \n",
       "\n",
       "                       city_name    city_code barangay_name  \\\n",
       "barangay_psgc_code                                            \n",
       "PH015518016         Dagupan City  PH015518000        Lomboy   \n",
       "PH015518031         Dagupan City  PH015518000        Tapuac   \n",
       "\n",
       "                                                             geometry  \\\n",
       "barangay_psgc_code                                                      \n",
       "PH015518016         POLYGON ((120.32742 16.05423, 120.32719 16.053...   \n",
       "PH015518031         POLYGON ((120.33380 16.03974, 120.33389 16.039...   \n",
       "\n",
       "                       wp_total     wp_min      wp_max    wp_mean   wp_stdev  \\\n",
       "barangay_psgc_code                                                             \n",
       "PH015518016         1048.389526  10.708253  134.088531  19.414621  16.566447   \n",
       "PH015518031         8001.150879  49.934814  171.413712  94.131187  23.749223   \n",
       "\n",
       "                    wp_median  PSA_POPULATION  \n",
       "barangay_psgc_code                             \n",
       "PH015518016         16.313622            1300  \n",
       "PH015518031         90.292122            5004  "
      ]
     },
     "execution_count": 32,
     "metadata": {},
     "output_type": "execute_result"
    }
   ],
   "source": [
    "keep_cols = [\n",
    "    \"region_name\",\n",
    "    \"region_code\",\n",
    "    \"province_name\",\n",
    "    \"province_code\",\n",
    "    \"city_name\",\n",
    "    \"city_code\",\n",
    "    \"barangay_name\",\n",
    "    \"geometry\",\n",
    "    \"wp_total\",\n",
    "    \"wp_min\",\n",
    "    \"wp_max\",\n",
    "    \"wp_mean\",\n",
    "    \"wp_stdev\",\n",
    "    \"wp_median\",\n",
    "    \"PSA_POPULATION\",\n",
    "]\n",
    "worldpop_psa_joined = worldpop_psa_joined[keep_cols]\n",
    "worldpop_psa_joined.head(2)"
   ]
  },
  {
   "cell_type": "code",
   "execution_count": 33,
   "metadata": {},
   "outputs": [],
   "source": [
    "# drop rows with NA population\n",
    "worldpop_psa_joined = worldpop_psa_joined.dropna(subset=[\"wp_total\", \"PSA_POPULATION\"])"
   ]
  },
  {
   "cell_type": "code",
   "execution_count": 35,
   "metadata": {},
   "outputs": [
    {
     "data": {
      "text/plain": [
       "array(['Dagupan City', 'Palayan City', 'Legazpi City', 'Iloilo City',\n",
       "       'Mandaue City', 'Tacloban City', 'Zamboanga City',\n",
       "       'Cagayan de Oro City', 'Davao City', 'City of Mandaluyong',\n",
       "       'City of Navotas', 'City of Muntinlupa'], dtype=object)"
      ]
     },
     "execution_count": 35,
     "metadata": {},
     "output_type": "execute_result"
    }
   ],
   "source": [
    "worldpop_psa_joined[\"city_name\"].unique()"
   ]
  },
  {
   "cell_type": "code",
   "execution_count": 36,
   "metadata": {},
   "outputs": [],
   "source": [
    "# Add differences\n",
    "worldpop_psa_joined[\"difference\"] = (\n",
    "    worldpop_psa_joined[\"wp_total\"] - worldpop_psa_joined[\"PSA_POPULATION\"]\n",
    ")"
   ]
  },
  {
   "cell_type": "markdown",
   "metadata": {},
   "source": [
    "### Split cities into different dataframes"
   ]
  },
  {
   "cell_type": "code",
   "execution_count": 37,
   "metadata": {},
   "outputs": [],
   "source": [
    "muntinlupa = worldpop_psa_joined[\n",
    "    worldpop_psa_joined[\"city_name\"] == \"City of Muntinlupa\"\n",
    "]\n",
    "mandaluyong = worldpop_psa_joined[\n",
    "    worldpop_psa_joined[\"city_name\"] == \"City of Mandaluyong\"\n",
    "]\n",
    "navotas = worldpop_psa_joined[worldpop_psa_joined[\"city_name\"] == \"City of Navotas\"]\n",
    "dagupan = worldpop_psa_joined[worldpop_psa_joined[\"city_name\"] == \"Dagupan City\"]\n",
    "palayan = worldpop_psa_joined[worldpop_psa_joined[\"city_name\"] == \"Palayan City\"]\n",
    "zamboanga = worldpop_psa_joined[worldpop_psa_joined[\"city_name\"] == \"Zamboanga City\"]\n",
    "legazpi = worldpop_psa_joined[worldpop_psa_joined[\"city_name\"] == \"Legazpi City\"]\n",
    "iloilo = worldpop_psa_joined[worldpop_psa_joined[\"city_name\"] == \"Iloilo City\"]\n",
    "mandaue = worldpop_psa_joined[worldpop_psa_joined[\"city_name\"] == \"Mandaue City\"]\n",
    "tacloban = worldpop_psa_joined[worldpop_psa_joined[\"city_name\"] == \"Tacloban City\"]\n",
    "cdo = worldpop_psa_joined[worldpop_psa_joined[\"city_name\"] == \"Cagayan de Oro City\"]\n",
    "davao = worldpop_psa_joined[worldpop_psa_joined[\"city_name\"] == \"Davao City\"]"
   ]
  },
  {
   "cell_type": "code",
   "execution_count": 38,
   "metadata": {},
   "outputs": [
    {
     "data": {
      "text/plain": [
       "False    137\n",
       "Name: wp_total, dtype: int64"
      ]
     },
     "execution_count": 38,
     "metadata": {},
     "output_type": "execute_result"
    }
   ],
   "source": [
    "tacloban[\"wp_total\"].isna().value_counts()"
   ]
  },
  {
   "cell_type": "markdown",
   "metadata": {},
   "source": [
    "### Calculate Error Metrics"
   ]
  },
  {
   "cell_type": "code",
   "execution_count": 40,
   "metadata": {},
   "outputs": [],
   "source": [
    "city_dfs = [\n",
    "    dagupan,\n",
    "    palayan,\n",
    "    legazpi,\n",
    "    iloilo,\n",
    "    mandaue,\n",
    "    tacloban,\n",
    "    zamboanga,\n",
    "    cdo,\n",
    "    davao,\n",
    "    mandaluyong,\n",
    "    navotas,\n",
    "    muntinlupa,\n",
    "]\n",
    "city_names = worldpop_psa_joined[\"city_name\"].unique().tolist()\n",
    "\n",
    "mape_list = []\n",
    "mae_list = []\n",
    "rmse_list = []\n",
    "stats_lists = {\n",
    "    \"psa_sum\": [],\n",
    "    \"wp_sum\": [],\n",
    "    \"psa_mean\": [],\n",
    "    \"wp_mean\": [],\n",
    "    \"psa_median\": [],\n",
    "    \"wp_median\": [],\n",
    "    \"psa_std\": [],\n",
    "    \"wp_std\": [],\n",
    "    \"diff_psa_wp\": [],\n",
    "}\n",
    "\n",
    "for df, name in zip(city_dfs, city_names):\n",
    "    mape, mae, rmse = get_error_metrics(df, name)\n",
    "    mape_list.append(mape)\n",
    "    mae_list.append(mae)\n",
    "    rmse_list.append(rmse)\n",
    "\n",
    "    (\n",
    "        psa_sum,\n",
    "        psa_mean,\n",
    "        psa_median,\n",
    "        psa_std,\n",
    "        wp_sum,\n",
    "        wp_mean,\n",
    "        wp_median,\n",
    "        wp_std,\n",
    "        diff_psa_wp,\n",
    "    ) = get_statistics(df)\n",
    "    stats_lists[\"psa_sum\"].append(psa_sum)\n",
    "    stats_lists[\"psa_mean\"].append(psa_mean)\n",
    "    stats_lists[\"psa_median\"].append(psa_median)\n",
    "    stats_lists[\"psa_std\"].append(psa_std)\n",
    "    stats_lists[\"wp_sum\"].append(wp_sum)\n",
    "    stats_lists[\"wp_mean\"].append(wp_mean)\n",
    "    stats_lists[\"wp_median\"].append(wp_median)\n",
    "    stats_lists[\"wp_std\"].append(wp_std)\n",
    "    stats_lists[\"diff_psa_wp\"].append(diff_psa_wp)"
   ]
  },
  {
   "cell_type": "code",
   "execution_count": 41,
   "metadata": {},
   "outputs": [],
   "source": [
    "mape_df = pd.DataFrame(\n",
    "    {\"city\": city_names, \"MAPE\": mape_list, \"MAE\": mae_list, \"RMSE\": rmse_list}\n",
    ")\n",
    "stats_df = pd.DataFrame(stats_lists)\n",
    "\n",
    "summary_df = pd.concat([mape_df, stats_df], axis=1)"
   ]
  },
  {
   "cell_type": "code",
   "execution_count": 42,
   "metadata": {},
   "outputs": [
    {
     "data": {
      "text/html": [
       "<div>\n",
       "<style scoped>\n",
       "    .dataframe tbody tr th:only-of-type {\n",
       "        vertical-align: middle;\n",
       "    }\n",
       "\n",
       "    .dataframe tbody tr th {\n",
       "        vertical-align: top;\n",
       "    }\n",
       "\n",
       "    .dataframe thead th {\n",
       "        text-align: right;\n",
       "    }\n",
       "</style>\n",
       "<table border=\"1\" class=\"dataframe\">\n",
       "  <thead>\n",
       "    <tr style=\"text-align: right;\">\n",
       "      <th></th>\n",
       "      <th>city</th>\n",
       "      <th>MAPE</th>\n",
       "      <th>MAE</th>\n",
       "      <th>RMSE</th>\n",
       "      <th>psa_sum</th>\n",
       "      <th>wp_sum</th>\n",
       "      <th>psa_mean</th>\n",
       "      <th>wp_mean</th>\n",
       "      <th>psa_median</th>\n",
       "      <th>wp_median</th>\n",
       "      <th>psa_std</th>\n",
       "      <th>wp_std</th>\n",
       "      <th>diff_psa_wp</th>\n",
       "    </tr>\n",
       "  </thead>\n",
       "  <tbody>\n",
       "    <tr>\n",
       "      <th>5</th>\n",
       "      <td>Tacloban City</td>\n",
       "      <td>1.131664</td>\n",
       "      <td>1331.172382</td>\n",
       "      <td>2590.172714</td>\n",
       "      <td>251773</td>\n",
       "      <td>200382.196</td>\n",
       "      <td>1837.759124</td>\n",
       "      <td>1462.643765</td>\n",
       "      <td>691.0</td>\n",
       "      <td>614.279907</td>\n",
       "      <td>2442.219499</td>\n",
       "      <td>2629.172119</td>\n",
       "      <td>-51390.804</td>\n",
       "    </tr>\n",
       "    <tr>\n",
       "      <th>10</th>\n",
       "      <td>City of Navotas</td>\n",
       "      <td>1.070613</td>\n",
       "      <td>5347.190142</td>\n",
       "      <td>10661.490120</td>\n",
       "      <td>247543</td>\n",
       "      <td>287225.755</td>\n",
       "      <td>17681.642857</td>\n",
       "      <td>20516.125357</td>\n",
       "      <td>11755.5</td>\n",
       "      <td>11750.602539</td>\n",
       "      <td>19163.619602</td>\n",
       "      <td>20220.387015</td>\n",
       "      <td>39682.755</td>\n",
       "    </tr>\n",
       "    <tr>\n",
       "      <th>7</th>\n",
       "      <td>Cagayan de Oro City</td>\n",
       "      <td>0.945305</td>\n",
       "      <td>2689.315466</td>\n",
       "      <td>5169.926032</td>\n",
       "      <td>728402</td>\n",
       "      <td>752064.576</td>\n",
       "      <td>9105.025000</td>\n",
       "      <td>9400.807197</td>\n",
       "      <td>1671.0</td>\n",
       "      <td>2586.737549</td>\n",
       "      <td>14257.779838</td>\n",
       "      <td>16115.445305</td>\n",
       "      <td>23662.576</td>\n",
       "    </tr>\n",
       "    <tr>\n",
       "      <th>1</th>\n",
       "      <td>Palayan City</td>\n",
       "      <td>0.865184</td>\n",
       "      <td>1708.859487</td>\n",
       "      <td>2110.875414</td>\n",
       "      <td>45383</td>\n",
       "      <td>55563.117</td>\n",
       "      <td>2388.578947</td>\n",
       "      <td>2924.374586</td>\n",
       "      <td>2131.0</td>\n",
       "      <td>2495.634766</td>\n",
       "      <td>1515.465910</td>\n",
       "      <td>2185.424365</td>\n",
       "      <td>10180.117</td>\n",
       "    </tr>\n",
       "    <tr>\n",
       "      <th>8</th>\n",
       "      <td>Davao City</td>\n",
       "      <td>0.826713</td>\n",
       "      <td>3900.631677</td>\n",
       "      <td>7445.312331</td>\n",
       "      <td>1776949</td>\n",
       "      <td>1690857.475</td>\n",
       "      <td>9763.456044</td>\n",
       "      <td>9290.425686</td>\n",
       "      <td>4942.0</td>\n",
       "      <td>4341.629150</td>\n",
       "      <td>13079.373556</td>\n",
       "      <td>15081.445228</td>\n",
       "      <td>-86091.525</td>\n",
       "    </tr>\n",
       "    <tr>\n",
       "      <th>3</th>\n",
       "      <td>Iloilo City</td>\n",
       "      <td>0.633823</td>\n",
       "      <td>971.791997</td>\n",
       "      <td>1492.934550</td>\n",
       "      <td>457626</td>\n",
       "      <td>424837.209</td>\n",
       "      <td>2542.366667</td>\n",
       "      <td>2360.206719</td>\n",
       "      <td>1809.5</td>\n",
       "      <td>1818.104126</td>\n",
       "      <td>2559.883368</td>\n",
       "      <td>1978.110169</td>\n",
       "      <td>-32788.791</td>\n",
       "    </tr>\n",
       "    <tr>\n",
       "      <th>9</th>\n",
       "      <td>City of Mandaluyong</td>\n",
       "      <td>0.503849</td>\n",
       "      <td>6594.430103</td>\n",
       "      <td>10571.613933</td>\n",
       "      <td>425758</td>\n",
       "      <td>411208.226</td>\n",
       "      <td>15768.814815</td>\n",
       "      <td>15229.934299</td>\n",
       "      <td>8483.0</td>\n",
       "      <td>11407.729492</td>\n",
       "      <td>21131.004336</td>\n",
       "      <td>15075.351435</td>\n",
       "      <td>-14549.774</td>\n",
       "    </tr>\n",
       "    <tr>\n",
       "      <th>0</th>\n",
       "      <td>Dagupan City</td>\n",
       "      <td>0.413593</td>\n",
       "      <td>1914.904937</td>\n",
       "      <td>3143.799024</td>\n",
       "      <td>174302</td>\n",
       "      <td>208321.780</td>\n",
       "      <td>5622.645161</td>\n",
       "      <td>6720.057418</td>\n",
       "      <td>4079.0</td>\n",
       "      <td>4014.707031</td>\n",
       "      <td>5491.705992</td>\n",
       "      <td>6988.616862</td>\n",
       "      <td>34019.780</td>\n",
       "    </tr>\n",
       "    <tr>\n",
       "      <th>2</th>\n",
       "      <td>Legazpi City</td>\n",
       "      <td>0.410233</td>\n",
       "      <td>1253.644346</td>\n",
       "      <td>2316.069479</td>\n",
       "      <td>205933</td>\n",
       "      <td>195228.389</td>\n",
       "      <td>3028.426471</td>\n",
       "      <td>2871.005716</td>\n",
       "      <td>2211.5</td>\n",
       "      <td>1694.452393</td>\n",
       "      <td>2585.676604</td>\n",
       "      <td>3902.373700</td>\n",
       "      <td>-10704.611</td>\n",
       "    </tr>\n",
       "    <tr>\n",
       "      <th>4</th>\n",
       "      <td>Mandaue City</td>\n",
       "      <td>0.394946</td>\n",
       "      <td>4557.821958</td>\n",
       "      <td>5648.387312</td>\n",
       "      <td>364116</td>\n",
       "      <td>356164.897</td>\n",
       "      <td>13485.777778</td>\n",
       "      <td>13191.292480</td>\n",
       "      <td>13832.0</td>\n",
       "      <td>12413.217773</td>\n",
       "      <td>6660.141615</td>\n",
       "      <td>7896.955072</td>\n",
       "      <td>-7951.103</td>\n",
       "    </tr>\n",
       "    <tr>\n",
       "      <th>6</th>\n",
       "      <td>Zamboanga City</td>\n",
       "      <td>0.391694</td>\n",
       "      <td>3215.988600</td>\n",
       "      <td>4756.209624</td>\n",
       "      <td>977234</td>\n",
       "      <td>847562.855</td>\n",
       "      <td>9971.775510</td>\n",
       "      <td>8648.600556</td>\n",
       "      <td>6185.0</td>\n",
       "      <td>5199.376709</td>\n",
       "      <td>9139.226044</td>\n",
       "      <td>9899.786583</td>\n",
       "      <td>-129671.145</td>\n",
       "    </tr>\n",
       "    <tr>\n",
       "      <th>11</th>\n",
       "      <td>City of Muntinlupa</td>\n",
       "      <td>0.207081</td>\n",
       "      <td>9698.027995</td>\n",
       "      <td>11044.472057</td>\n",
       "      <td>543445</td>\n",
       "      <td>478644.119</td>\n",
       "      <td>60382.777778</td>\n",
       "      <td>53182.679905</td>\n",
       "      <td>57196.0</td>\n",
       "      <td>56619.687500</td>\n",
       "      <td>33847.114758</td>\n",
       "      <td>29041.235917</td>\n",
       "      <td>-64800.881</td>\n",
       "    </tr>\n",
       "  </tbody>\n",
       "</table>\n",
       "</div>"
      ],
      "text/plain": [
       "                   city      MAPE          MAE          RMSE  psa_sum  \\\n",
       "5         Tacloban City  1.131664  1331.172382   2590.172714   251773   \n",
       "10      City of Navotas  1.070613  5347.190142  10661.490120   247543   \n",
       "7   Cagayan de Oro City  0.945305  2689.315466   5169.926032   728402   \n",
       "1          Palayan City  0.865184  1708.859487   2110.875414    45383   \n",
       "8            Davao City  0.826713  3900.631677   7445.312331  1776949   \n",
       "3           Iloilo City  0.633823   971.791997   1492.934550   457626   \n",
       "9   City of Mandaluyong  0.503849  6594.430103  10571.613933   425758   \n",
       "0          Dagupan City  0.413593  1914.904937   3143.799024   174302   \n",
       "2          Legazpi City  0.410233  1253.644346   2316.069479   205933   \n",
       "4          Mandaue City  0.394946  4557.821958   5648.387312   364116   \n",
       "6        Zamboanga City  0.391694  3215.988600   4756.209624   977234   \n",
       "11   City of Muntinlupa  0.207081  9698.027995  11044.472057   543445   \n",
       "\n",
       "         wp_sum      psa_mean       wp_mean  psa_median     wp_median  \\\n",
       "5    200382.196   1837.759124   1462.643765       691.0    614.279907   \n",
       "10   287225.755  17681.642857  20516.125357     11755.5  11750.602539   \n",
       "7    752064.576   9105.025000   9400.807197      1671.0   2586.737549   \n",
       "1     55563.117   2388.578947   2924.374586      2131.0   2495.634766   \n",
       "8   1690857.475   9763.456044   9290.425686      4942.0   4341.629150   \n",
       "3    424837.209   2542.366667   2360.206719      1809.5   1818.104126   \n",
       "9    411208.226  15768.814815  15229.934299      8483.0  11407.729492   \n",
       "0    208321.780   5622.645161   6720.057418      4079.0   4014.707031   \n",
       "2    195228.389   3028.426471   2871.005716      2211.5   1694.452393   \n",
       "4    356164.897  13485.777778  13191.292480     13832.0  12413.217773   \n",
       "6    847562.855   9971.775510   8648.600556      6185.0   5199.376709   \n",
       "11   478644.119  60382.777778  53182.679905     57196.0  56619.687500   \n",
       "\n",
       "         psa_std        wp_std  diff_psa_wp  \n",
       "5    2442.219499   2629.172119   -51390.804  \n",
       "10  19163.619602  20220.387015    39682.755  \n",
       "7   14257.779838  16115.445305    23662.576  \n",
       "1    1515.465910   2185.424365    10180.117  \n",
       "8   13079.373556  15081.445228   -86091.525  \n",
       "3    2559.883368   1978.110169   -32788.791  \n",
       "9   21131.004336  15075.351435   -14549.774  \n",
       "0    5491.705992   6988.616862    34019.780  \n",
       "2    2585.676604   3902.373700   -10704.611  \n",
       "4    6660.141615   7896.955072    -7951.103  \n",
       "6    9139.226044   9899.786583  -129671.145  \n",
       "11  33847.114758  29041.235917   -64800.881  "
      ]
     },
     "execution_count": 42,
     "metadata": {},
     "output_type": "execute_result"
    }
   ],
   "source": [
    "summary_df.sort_values(by=\"MAPE\", ascending=False)"
   ]
  },
  {
   "attachments": {},
   "cell_type": "markdown",
   "metadata": {},
   "source": [
    "## Visualizations\n",
    "\n",
    "For sanity checking"
   ]
  },
  {
   "attachments": {},
   "cell_type": "markdown",
   "metadata": {},
   "source": [
    "### Cagayan de Oro City"
   ]
  },
  {
   "cell_type": "code",
   "execution_count": null,
   "metadata": {},
   "outputs": [],
   "source": [
    "sns.regplot(data=cdo, x=\"PSA_POPULATION\", y=\"wp_total\").set(title=\"Cagayan de Oro City\")"
   ]
  },
  {
   "cell_type": "code",
   "execution_count": null,
   "metadata": {},
   "outputs": [],
   "source": [
    "plot_choropleth(cdo, \"Cagayan de Oro City\")"
   ]
  },
  {
   "cell_type": "code",
   "execution_count": null,
   "metadata": {},
   "outputs": [],
   "source": [
    "plot_histograms(cdo, \"Cagayan de Oro City\")"
   ]
  },
  {
   "attachments": {},
   "cell_type": "markdown",
   "metadata": {},
   "source": [
    "## Mandaluyong City"
   ]
  },
  {
   "cell_type": "code",
   "execution_count": null,
   "metadata": {},
   "outputs": [],
   "source": [
    "plot_choropleth(mandaluyong, \"Mandaluyong City\")"
   ]
  },
  {
   "cell_type": "code",
   "execution_count": null,
   "metadata": {},
   "outputs": [],
   "source": [
    "plot_histograms(mandaluyong, \"Mandaluyong City\")"
   ]
  },
  {
   "attachments": {},
   "cell_type": "markdown",
   "metadata": {},
   "source": [
    "## Muntinlupa City "
   ]
  },
  {
   "cell_type": "code",
   "execution_count": null,
   "metadata": {},
   "outputs": [],
   "source": [
    "sns.regplot(data=muntinlupa, x=\"PSA_POPULATION\", y=\"wp_total\").set(\n",
    "    title=\"Muntinlupa City\"\n",
    ")"
   ]
  },
  {
   "cell_type": "code",
   "execution_count": null,
   "metadata": {},
   "outputs": [],
   "source": [
    "plot_choropleth(muntinlupa, \"Muntinlupa City\")"
   ]
  },
  {
   "cell_type": "code",
   "execution_count": null,
   "metadata": {},
   "outputs": [],
   "source": [
    "plot_histograms(muntinlupa, \"Muntinlupa City\")"
   ]
  },
  {
   "attachments": {},
   "cell_type": "markdown",
   "metadata": {},
   "source": [
    "## Navotas City"
   ]
  },
  {
   "cell_type": "code",
   "execution_count": null,
   "metadata": {},
   "outputs": [],
   "source": [
    "sns.regplot(data=navotas, x=\"PSA_POPULATION\", y=\"wp_total\").set(title=\"City of Navotas\")"
   ]
  },
  {
   "cell_type": "code",
   "execution_count": null,
   "metadata": {},
   "outputs": [],
   "source": [
    "plot_choropleth(navotas, \"Navotas City\")"
   ]
  },
  {
   "cell_type": "code",
   "execution_count": null,
   "metadata": {},
   "outputs": [],
   "source": [
    "plot_histograms(navotas, \"Navotas City\")"
   ]
  },
  {
   "attachments": {},
   "cell_type": "markdown",
   "metadata": {},
   "source": [
    "## Dagupan City"
   ]
  },
  {
   "cell_type": "code",
   "execution_count": null,
   "metadata": {},
   "outputs": [],
   "source": [
    "plot_choropleth(dagupan, \"Dagupan City\")"
   ]
  },
  {
   "cell_type": "code",
   "execution_count": null,
   "metadata": {},
   "outputs": [],
   "source": [
    "plot_histograms(dagupan, \"Dagupan City\")"
   ]
  },
  {
   "attachments": {},
   "cell_type": "markdown",
   "metadata": {},
   "source": [
    "## Davao City"
   ]
  },
  {
   "cell_type": "code",
   "execution_count": null,
   "metadata": {},
   "outputs": [],
   "source": [
    "sns.regplot(data=davao, x=\"PSA_POPULATION\", y=\"wp_total\").set(title=\"Davao City\")"
   ]
  },
  {
   "cell_type": "code",
   "execution_count": null,
   "metadata": {},
   "outputs": [],
   "source": [
    "plot_choropleth(davao, \"Davao City\")"
   ]
  },
  {
   "cell_type": "code",
   "execution_count": null,
   "metadata": {},
   "outputs": [],
   "source": [
    "plot_histograms(davao, \"Davao City\")"
   ]
  },
  {
   "attachments": {},
   "cell_type": "markdown",
   "metadata": {},
   "source": [
    "## Iloilo City"
   ]
  },
  {
   "cell_type": "code",
   "execution_count": null,
   "metadata": {},
   "outputs": [],
   "source": [
    "plot_choropleth(iloilo, \"Iloilo City\")"
   ]
  },
  {
   "cell_type": "code",
   "execution_count": null,
   "metadata": {},
   "outputs": [],
   "source": [
    "plot_histograms(iloilo, \"Iloilo City\")"
   ]
  },
  {
   "attachments": {},
   "cell_type": "markdown",
   "metadata": {},
   "source": [
    "## Legazpi City"
   ]
  },
  {
   "cell_type": "code",
   "execution_count": null,
   "metadata": {},
   "outputs": [],
   "source": [
    "plot_choropleth(legazpi, \"Legazpi City\")"
   ]
  },
  {
   "cell_type": "code",
   "execution_count": null,
   "metadata": {},
   "outputs": [],
   "source": [
    "plot_histograms(legazpi, \"Legazpi City\")"
   ]
  },
  {
   "attachments": {},
   "cell_type": "markdown",
   "metadata": {},
   "source": [
    "## Mandaue City"
   ]
  },
  {
   "cell_type": "code",
   "execution_count": null,
   "metadata": {},
   "outputs": [],
   "source": [
    "plot_choropleth(mandaue, \"Mandaue City\")"
   ]
  },
  {
   "cell_type": "code",
   "execution_count": null,
   "metadata": {},
   "outputs": [],
   "source": [
    "plot_histograms(mandaue, \"Mandaue City\")"
   ]
  },
  {
   "attachments": {},
   "cell_type": "markdown",
   "metadata": {},
   "source": [
    "## Palayan City"
   ]
  },
  {
   "cell_type": "code",
   "execution_count": null,
   "metadata": {},
   "outputs": [],
   "source": [
    "plot_choropleth(palayan, \"Palayan City\")"
   ]
  },
  {
   "cell_type": "code",
   "execution_count": null,
   "metadata": {},
   "outputs": [],
   "source": [
    "plot_histograms(palayan, \"Palayan City\")"
   ]
  },
  {
   "attachments": {},
   "cell_type": "markdown",
   "metadata": {},
   "source": [
    "## Tacloban City"
   ]
  },
  {
   "cell_type": "code",
   "execution_count": null,
   "metadata": {},
   "outputs": [],
   "source": [
    "sns.regplot(data=tacloban, x=\"PSA_POPULATION\", y=\"wp_total\").set(title=\"Tacloban City\")"
   ]
  },
  {
   "cell_type": "code",
   "execution_count": null,
   "metadata": {},
   "outputs": [],
   "source": [
    "plot_choropleth(tacloban, \"Tacloban City\")"
   ]
  },
  {
   "cell_type": "code",
   "execution_count": null,
   "metadata": {},
   "outputs": [],
   "source": [
    "plot_histograms(tacloban, \"Tacloban City\")"
   ]
  },
  {
   "attachments": {},
   "cell_type": "markdown",
   "metadata": {},
   "source": [
    "## Zamboanga City"
   ]
  },
  {
   "cell_type": "code",
   "execution_count": null,
   "metadata": {},
   "outputs": [],
   "source": [
    "sns.regplot(data=zamboanga, x=\"PSA_POPULATION\", y=\"wp_total\").set(\n",
    "    title=\"Zamboanga City\"\n",
    ")"
   ]
  },
  {
   "cell_type": "code",
   "execution_count": null,
   "metadata": {},
   "outputs": [],
   "source": [
    "plot_choropleth(zamboanga, \"Zamboanga City\")"
   ]
  },
  {
   "cell_type": "code",
   "execution_count": null,
   "metadata": {},
   "outputs": [],
   "source": [
    "plot_histograms(zamboanga, \"Zamboanga City\")"
   ]
  }
 ],
 "metadata": {
  "kernelspec": {
   "display_name": "lacuna-fund2",
   "language": "python",
   "name": "python3"
  },
  "language_info": {
   "codemirror_mode": {
    "name": "ipython",
    "version": 3
   },
   "file_extension": ".py",
   "mimetype": "text/x-python",
   "name": "python",
   "nbconvert_exporter": "python",
   "pygments_lexer": "ipython3",
   "version": "3.9.16"
  },
  "orig_nbformat": 4
 },
 "nbformat": 4,
 "nbformat_minor": 2
}
