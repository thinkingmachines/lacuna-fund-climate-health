{
 "cells": [
  {
   "cell_type": "code",
   "execution_count": 1,
   "metadata": {},
   "outputs": [
    {
     "name": "stderr",
     "output_type": "stream",
     "text": [
      "/home/abbymoreno/miniconda3/envs/lacuna-fund2/lib/python3.9/site-packages/geopandas/_compat.py:111: UserWarning: The Shapely GEOS version (3.11.1-CAPI-1.17.1) is incompatible with the GEOS version PyGEOS was compiled with (3.10.1-CAPI-1.16.0). Conversions between both will be slow.\n",
      "  warnings.warn(\n"
     ]
    }
   ],
   "source": [
    "import matplotlib.pyplot as plt\n",
    "import seaborn as sns\n",
    "import numpy as np\n",
    "import rasterio\n",
    "import geowrangler.raster_zonal_stats as rzs\n",
    "import geopandas as gpd\n",
    "import pandas as pd\n",
    "\n",
    "from pathlib import Path"
   ]
  },
  {
   "cell_type": "code",
   "execution_count": 2,
   "metadata": {},
   "outputs": [],
   "source": [
    "# data files\n",
    "DATA_DIR = Path(\"../../../data/\")\n",
    "WP_DIR = DATA_DIR / \"02-raw\" / \"worldpop\"\n",
    "\n",
    "# population count\n",
    "POP_COUNT = WP_DIR / \"phl_ppp_2015.tif\"\n",
    "\n",
    "# population density\n",
    "POP_D = WP_DIR / \"phl_pd_2020_1km.tif\"\n",
    "POP_D_UNADJ = WP_DIR / \"phl_pd_2020_1km_UNadj.tif\"\n",
    "\n",
    "ADMIN_BOUNDS = DATA_DIR / \"01-admin-bounds\" / \"target_admin_bounds.shp\"\n",
    "\n",
    "# admin bounds\n",
    "ADMIN_BOUNDS_PROJECT_ID = \"tm-geodata-warehouse\"\n",
    "ADMIN_BOUNDS_BQ_TABLE = \"ph_admin_boundary_dec2017.level2_province\""
   ]
  },
  {
   "attachments": {},
   "cell_type": "markdown",
   "metadata": {},
   "source": [
    "### Load AOI"
   ]
  },
  {
   "cell_type": "code",
   "execution_count": 3,
   "metadata": {},
   "outputs": [],
   "source": [
    "aoi = gpd.read_file(ADMIN_BOUNDS)"
   ]
  },
  {
   "cell_type": "code",
   "execution_count": 4,
   "metadata": {},
   "outputs": [
    {
     "name": "stdout",
     "output_type": "stream",
     "text": [
      "(19781, 11613) EPSG:4326 BoundingBox(left=116.927916214, bottom=4.586250183000001, right=126.605416175, top=21.070416784)\n"
     ]
    }
   ],
   "source": [
    "# open rasterio\n",
    "with rasterio.open(POP_COUNT) as src:\n",
    "    data = src.read(1)\n",
    "    data_crs = src.crs\n",
    "    data_bounds = src.bounds\n",
    "\n",
    "print(data.shape, data_crs, data_bounds)"
   ]
  },
  {
   "cell_type": "code",
   "execution_count": 5,
   "metadata": {},
   "outputs": [
    {
     "data": {
      "text/plain": [
       "ADM1_EN                  ADM2_EN               ADM3_EN            \n",
       "National Capital Region  NCR, Fourth District  City of Muntinlupa       9\n",
       "                         NCR, Second District  City of Mandaluyong     27\n",
       "                         NCR, Third District   City of Navotas         14\n",
       "Region I                 Pangasinan            Dagupan City            31\n",
       "Region III               Nueva Ecija           Palayan City            19\n",
       "Region IX                Zamboanga del Sur     Zamboanga City         101\n",
       "Region V                 Albay                 Legazpi City            70\n",
       "Region VI                Iloilo                Iloilo City            180\n",
       "Region VII               Cebu                  Mandaue City            27\n",
       "Region VIII              Leyte                 Tacloban City          138\n",
       "Region X                 Misamis Oriental      Cagayan de Oro City     80\n",
       "Region XI                Davao del Sur         Davao City             183\n",
       "Name: ADM3_EN, dtype: int64"
      ]
     },
     "execution_count": 5,
     "metadata": {},
     "output_type": "execute_result"
    }
   ],
   "source": [
    "aoi.groupby([\"ADM1_EN\", \"ADM2_EN\", \"ADM3_EN\"])[\"ADM3_EN\"].count()"
   ]
  },
  {
   "attachments": {},
   "cell_type": "markdown",
   "metadata": {},
   "source": [
    "## Population Count"
   ]
  },
  {
   "attachments": {},
   "cell_type": "markdown",
   "metadata": {},
   "source": [
    "## Generate raster zonal stats from worldpop `TIF`"
   ]
  },
  {
   "cell_type": "code",
   "execution_count": 6,
   "metadata": {},
   "outputs": [
    {
     "name": "stdout",
     "output_type": "stream",
     "text": [
      "CPU times: user 11.4 s, sys: 452 ms, total: 11.8 s\n",
      "Wall time: 11.8 s\n"
     ]
    }
   ],
   "source": [
    "%%time\n",
    "pop_count_stats = rzs.create_raster_zonal_stats(\n",
    "    aoi,\n",
    "    POP_COUNT,\n",
    "    aggregation=dict(\n",
    "        func=[\"sum\", \"count\", \"mean\", \"median\", \"std\", \"min\", \"max\"],\n",
    "        column=\"population\",\n",
    "        output=[\n",
    "            \"wp_total\",\n",
    "            \"samples\",\n",
    "            \"wp_mean\",\n",
    "            \"wp_median\",\n",
    "            \"wp_stdev\",\n",
    "            \"wp_min\",\n",
    "            \"wp_max\",\n",
    "        ],\n",
    "    ),\n",
    "    extra_args=dict(nodata=-99999),\n",
    ")"
   ]
  },
  {
   "cell_type": "code",
   "execution_count": 7,
   "metadata": {},
   "outputs": [
    {
     "data": {
      "text/html": [
       "<div>\n",
       "<style scoped>\n",
       "    .dataframe tbody tr th:only-of-type {\n",
       "        vertical-align: middle;\n",
       "    }\n",
       "\n",
       "    .dataframe tbody tr th {\n",
       "        vertical-align: top;\n",
       "    }\n",
       "\n",
       "    .dataframe thead th {\n",
       "        text-align: right;\n",
       "    }\n",
       "</style>\n",
       "<table border=\"1\" class=\"dataframe\">\n",
       "  <thead>\n",
       "    <tr style=\"text-align: right;\">\n",
       "      <th></th>\n",
       "      <th>ADM1_EN</th>\n",
       "      <th>ADM1_PCODE</th>\n",
       "      <th>ADM2_EN</th>\n",
       "      <th>ADM2_PCODE</th>\n",
       "      <th>ADM3_EN</th>\n",
       "      <th>ADM3_PCODE</th>\n",
       "      <th>ADM4_EN</th>\n",
       "      <th>ADM4_PCODE</th>\n",
       "      <th>geometry</th>\n",
       "      <th>wp_min</th>\n",
       "      <th>wp_max</th>\n",
       "      <th>wp_mean</th>\n",
       "      <th>samples</th>\n",
       "      <th>wp_total</th>\n",
       "      <th>wp_stdev</th>\n",
       "      <th>wp_median</th>\n",
       "    </tr>\n",
       "  </thead>\n",
       "  <tbody>\n",
       "    <tr>\n",
       "      <th>0</th>\n",
       "      <td>Region I</td>\n",
       "      <td>PH010000000</td>\n",
       "      <td>Pangasinan</td>\n",
       "      <td>PH015500000</td>\n",
       "      <td>Dagupan City</td>\n",
       "      <td>PH015518000</td>\n",
       "      <td>Lomboy</td>\n",
       "      <td>PH015518016</td>\n",
       "      <td>POLYGON ((120.32742 16.05423, 120.32719 16.053...</td>\n",
       "      <td>11.345417</td>\n",
       "      <td>133.475250</td>\n",
       "      <td>17.145344</td>\n",
       "      <td>54</td>\n",
       "      <td>925.848572</td>\n",
       "      <td>16.212323</td>\n",
       "      <td>14.305421</td>\n",
       "    </tr>\n",
       "    <tr>\n",
       "      <th>1</th>\n",
       "      <td>Region I</td>\n",
       "      <td>PH010000000</td>\n",
       "      <td>Pangasinan</td>\n",
       "      <td>PH015500000</td>\n",
       "      <td>Dagupan City</td>\n",
       "      <td>PH015518000</td>\n",
       "      <td>Tapuac</td>\n",
       "      <td>PH015518031</td>\n",
       "      <td>POLYGON ((120.33380 16.03974, 120.33389 16.039...</td>\n",
       "      <td>47.127029</td>\n",
       "      <td>126.685570</td>\n",
       "      <td>78.146438</td>\n",
       "      <td>85</td>\n",
       "      <td>6642.447266</td>\n",
       "      <td>15.008567</td>\n",
       "      <td>76.246460</td>\n",
       "    </tr>\n",
       "    <tr>\n",
       "      <th>2</th>\n",
       "      <td>Region I</td>\n",
       "      <td>PH010000000</td>\n",
       "      <td>Pangasinan</td>\n",
       "      <td>PH015500000</td>\n",
       "      <td>Dagupan City</td>\n",
       "      <td>PH015518000</td>\n",
       "      <td>Pantal</td>\n",
       "      <td>PH015518022</td>\n",
       "      <td>POLYGON ((120.34737 16.06009, 120.34761 16.060...</td>\n",
       "      <td>15.144128</td>\n",
       "      <td>718.085327</td>\n",
       "      <td>141.062089</td>\n",
       "      <td>190</td>\n",
       "      <td>26801.796875</td>\n",
       "      <td>174.346696</td>\n",
       "      <td>52.950523</td>\n",
       "    </tr>\n",
       "    <tr>\n",
       "      <th>3</th>\n",
       "      <td>Region I</td>\n",
       "      <td>PH010000000</td>\n",
       "      <td>Pangasinan</td>\n",
       "      <td>PH015500000</td>\n",
       "      <td>Dagupan City</td>\n",
       "      <td>PH015518000</td>\n",
       "      <td>Barangay I (T. Bugallon)</td>\n",
       "      <td>PH015518024</td>\n",
       "      <td>POLYGON ((120.34054 16.04489, 120.34054 16.044...</td>\n",
       "      <td>56.019218</td>\n",
       "      <td>121.355377</td>\n",
       "      <td>87.616705</td>\n",
       "      <td>21</td>\n",
       "      <td>1839.950806</td>\n",
       "      <td>16.819277</td>\n",
       "      <td>88.875938</td>\n",
       "    </tr>\n",
       "    <tr>\n",
       "      <th>4</th>\n",
       "      <td>Region III</td>\n",
       "      <td>PH030000000</td>\n",
       "      <td>Nueva Ecija</td>\n",
       "      <td>PH034900000</td>\n",
       "      <td>Palayan City</td>\n",
       "      <td>PH034919000</td>\n",
       "      <td>Imelda Valley</td>\n",
       "      <td>PH034919017</td>\n",
       "      <td>POLYGON ((121.12250 15.58028, 121.12687 15.579...</td>\n",
       "      <td>0.600749</td>\n",
       "      <td>17.694700</td>\n",
       "      <td>4.684663</td>\n",
       "      <td>773</td>\n",
       "      <td>3621.244873</td>\n",
       "      <td>3.612297</td>\n",
       "      <td>3.392569</td>\n",
       "    </tr>\n",
       "  </tbody>\n",
       "</table>\n",
       "</div>"
      ],
      "text/plain": [
       "      ADM1_EN   ADM1_PCODE      ADM2_EN   ADM2_PCODE       ADM3_EN  \\\n",
       "0    Region I  PH010000000   Pangasinan  PH015500000  Dagupan City   \n",
       "1    Region I  PH010000000   Pangasinan  PH015500000  Dagupan City   \n",
       "2    Region I  PH010000000   Pangasinan  PH015500000  Dagupan City   \n",
       "3    Region I  PH010000000   Pangasinan  PH015500000  Dagupan City   \n",
       "4  Region III  PH030000000  Nueva Ecija  PH034900000  Palayan City   \n",
       "\n",
       "    ADM3_PCODE                   ADM4_EN   ADM4_PCODE  \\\n",
       "0  PH015518000                    Lomboy  PH015518016   \n",
       "1  PH015518000                    Tapuac  PH015518031   \n",
       "2  PH015518000                    Pantal  PH015518022   \n",
       "3  PH015518000  Barangay I (T. Bugallon)  PH015518024   \n",
       "4  PH034919000             Imelda Valley  PH034919017   \n",
       "\n",
       "                                            geometry     wp_min      wp_max  \\\n",
       "0  POLYGON ((120.32742 16.05423, 120.32719 16.053...  11.345417  133.475250   \n",
       "1  POLYGON ((120.33380 16.03974, 120.33389 16.039...  47.127029  126.685570   \n",
       "2  POLYGON ((120.34737 16.06009, 120.34761 16.060...  15.144128  718.085327   \n",
       "3  POLYGON ((120.34054 16.04489, 120.34054 16.044...  56.019218  121.355377   \n",
       "4  POLYGON ((121.12250 15.58028, 121.12687 15.579...   0.600749   17.694700   \n",
       "\n",
       "      wp_mean  samples      wp_total    wp_stdev  wp_median  \n",
       "0   17.145344       54    925.848572   16.212323  14.305421  \n",
       "1   78.146438       85   6642.447266   15.008567  76.246460  \n",
       "2  141.062089      190  26801.796875  174.346696  52.950523  \n",
       "3   87.616705       21   1839.950806   16.819277  88.875938  \n",
       "4    4.684663      773   3621.244873    3.612297   3.392569  "
      ]
     },
     "execution_count": 7,
     "metadata": {},
     "output_type": "execute_result"
    }
   ],
   "source": [
    "pop_count_stats.head()"
   ]
  },
  {
   "attachments": {},
   "cell_type": "markdown",
   "metadata": {},
   "source": [
    "### EDA"
   ]
  },
  {
   "cell_type": "code",
   "execution_count": 8,
   "metadata": {},
   "outputs": [
    {
     "data": {
      "text/plain": [
       "ADM3_EN\n",
       "Cagayan de Oro City    6.472304e+05\n",
       "City of Mandaluyong    3.658821e+05\n",
       "City of Muntinlupa     4.660632e+05\n",
       "City of Navotas        2.821877e+05\n",
       "Dagupan City           1.799721e+05\n",
       "Davao City             1.537308e+06\n",
       "Iloilo City            4.125135e+05\n",
       "Legazpi City           1.871071e+05\n",
       "Mandaue City           3.304018e+05\n",
       "Palayan City           4.585515e+04\n",
       "Tacloban City          1.924982e+05\n",
       "Zamboanga City         7.988494e+05\n",
       "Name: wp_total, dtype: float64"
      ]
     },
     "execution_count": 8,
     "metadata": {},
     "output_type": "execute_result"
    }
   ],
   "source": [
    "# pd.set_option('display.float_format', lambda x: '%.5f' % x)\n",
    "pop_count_stats.groupby(\"ADM3_EN\")[\"wp_total\"].sum()"
   ]
  },
  {
   "attachments": {},
   "cell_type": "markdown",
   "metadata": {},
   "source": [
    "### Calculate MAPE "
   ]
  },
  {
   "cell_type": "code",
   "execution_count": 9,
   "metadata": {},
   "outputs": [
    {
     "data": {
      "text/html": [
       "<div>\n",
       "<style scoped>\n",
       "    .dataframe tbody tr th:only-of-type {\n",
       "        vertical-align: middle;\n",
       "    }\n",
       "\n",
       "    .dataframe tbody tr th {\n",
       "        vertical-align: top;\n",
       "    }\n",
       "\n",
       "    .dataframe thead th {\n",
       "        text-align: right;\n",
       "    }\n",
       "</style>\n",
       "<table border=\"1\" class=\"dataframe\">\n",
       "  <thead>\n",
       "    <tr style=\"text-align: right;\">\n",
       "      <th></th>\n",
       "      <th>REGION</th>\n",
       "      <th>CITY</th>\n",
       "      <th>BRGY_NAME</th>\n",
       "      <th>PSA_POPULATION</th>\n",
       "    </tr>\n",
       "  </thead>\n",
       "  <tbody>\n",
       "    <tr>\n",
       "      <th>0</th>\n",
       "      <td>NCR</td>\n",
       "      <td>CITY OF MANDALUYONG\\n</td>\n",
       "      <td>Addition Hills</td>\n",
       "      <td>99058</td>\n",
       "    </tr>\n",
       "    <tr>\n",
       "      <th>1</th>\n",
       "      <td>NCR</td>\n",
       "      <td>CITY OF MANDALUYONG\\n</td>\n",
       "      <td>Bagong Silang</td>\n",
       "      <td>5572</td>\n",
       "    </tr>\n",
       "    <tr>\n",
       "      <th>2</th>\n",
       "      <td>NCR</td>\n",
       "      <td>CITY OF MANDALUYONG\\n</td>\n",
       "      <td>Barangka Drive</td>\n",
       "      <td>13310</td>\n",
       "    </tr>\n",
       "    <tr>\n",
       "      <th>3</th>\n",
       "      <td>NCR</td>\n",
       "      <td>CITY OF MANDALUYONG\\n</td>\n",
       "      <td>Barangka Ibaba</td>\n",
       "      <td>9540</td>\n",
       "    </tr>\n",
       "    <tr>\n",
       "      <th>4</th>\n",
       "      <td>NCR</td>\n",
       "      <td>CITY OF MANDALUYONG\\n</td>\n",
       "      <td>Barangka Ilaya</td>\n",
       "      <td>17896</td>\n",
       "    </tr>\n",
       "  </tbody>\n",
       "</table>\n",
       "</div>"
      ],
      "text/plain": [
       "  REGION                   CITY       BRGY_NAME  PSA_POPULATION\n",
       "0    NCR  CITY OF MANDALUYONG\\n  Addition Hills           99058\n",
       "1    NCR  CITY OF MANDALUYONG\\n   Bagong Silang            5572\n",
       "2    NCR  CITY OF MANDALUYONG\\n  Barangka Drive           13310\n",
       "3    NCR  CITY OF MANDALUYONG\\n  Barangka Ibaba            9540\n",
       "4    NCR  CITY OF MANDALUYONG\\n  Barangka Ilaya           17896"
      ]
     },
     "execution_count": 9,
     "metadata": {},
     "output_type": "execute_result"
    }
   ],
   "source": [
    "# prep per barangay population from PSA\n",
    "psa_2015 = pd.read_excel(WP_DIR / \"PSA_BarangayLevel_2015.xlsx\")\n",
    "psa_2015.head()"
   ]
  },
  {
   "cell_type": "code",
   "execution_count": 10,
   "metadata": {},
   "outputs": [
    {
     "data": {
      "text/plain": [
       "(875, 4)"
      ]
     },
     "execution_count": 10,
     "metadata": {},
     "output_type": "execute_result"
    }
   ],
   "source": [
    "psa_2015.shape"
   ]
  },
  {
   "cell_type": "code",
   "execution_count": 11,
   "metadata": {},
   "outputs": [],
   "source": [
    "psa_2015[\"CITY\"] = psa_2015[\"CITY\"].str.rstrip(\"\\n\")"
   ]
  },
  {
   "cell_type": "code",
   "execution_count": 12,
   "metadata": {},
   "outputs": [
    {
     "data": {
      "text/plain": [
       "REGION            object\n",
       "CITY              object\n",
       "BRGY_NAME         object\n",
       "PSA_POPULATION     int64\n",
       "dtype: object"
      ]
     },
     "execution_count": 12,
     "metadata": {},
     "output_type": "execute_result"
    }
   ],
   "source": [
    "psa_2015.dtypes"
   ]
  },
  {
   "cell_type": "code",
   "execution_count": 13,
   "metadata": {},
   "outputs": [],
   "source": [
    "psa_2015[\"CITY\"] = psa_2015[\"CITY\"].str.lower()\n",
    "psa_2015[\"BRGY_NAME\"] = psa_2015[\"BRGY_NAME\"].str.lower()\n",
    "aoi[\"ADM3_EN\"] = aoi[\"ADM3_EN\"].str.lower()\n",
    "aoi[\"ADM4_EN\"] = aoi[\"ADM4_EN\"].str.lower()"
   ]
  },
  {
   "cell_type": "code",
   "execution_count": 14,
   "metadata": {},
   "outputs": [],
   "source": [
    "# try joining directly first\n",
    "# join with admin bounds\n",
    "psa_joined = pd.merge(\n",
    "    psa_2015,\n",
    "    aoi,\n",
    "    left_on=[\"CITY\", \"BRGY_NAME\"],\n",
    "    right_on=[\"ADM3_EN\", \"ADM4_EN\"],\n",
    "    validate=\"one_to_one\",\n",
    ")"
   ]
  },
  {
   "cell_type": "code",
   "execution_count": 15,
   "metadata": {},
   "outputs": [
    {
     "data": {
      "text/html": [
       "<div>\n",
       "<style scoped>\n",
       "    .dataframe tbody tr th:only-of-type {\n",
       "        vertical-align: middle;\n",
       "    }\n",
       "\n",
       "    .dataframe tbody tr th {\n",
       "        vertical-align: top;\n",
       "    }\n",
       "\n",
       "    .dataframe thead th {\n",
       "        text-align: right;\n",
       "    }\n",
       "</style>\n",
       "<table border=\"1\" class=\"dataframe\">\n",
       "  <thead>\n",
       "    <tr style=\"text-align: right;\">\n",
       "      <th></th>\n",
       "      <th>REGION</th>\n",
       "      <th>CITY</th>\n",
       "      <th>BRGY_NAME</th>\n",
       "      <th>PSA_POPULATION</th>\n",
       "      <th>ADM1_EN</th>\n",
       "      <th>ADM1_PCODE</th>\n",
       "      <th>ADM2_EN</th>\n",
       "      <th>ADM2_PCODE</th>\n",
       "      <th>ADM3_EN</th>\n",
       "      <th>ADM3_PCODE</th>\n",
       "      <th>ADM4_EN</th>\n",
       "      <th>ADM4_PCODE</th>\n",
       "      <th>geometry</th>\n",
       "    </tr>\n",
       "  </thead>\n",
       "  <tbody>\n",
       "    <tr>\n",
       "      <th>0</th>\n",
       "      <td>NCR</td>\n",
       "      <td>city of mandaluyong</td>\n",
       "      <td>addition hills</td>\n",
       "      <td>99058</td>\n",
       "      <td>National Capital Region</td>\n",
       "      <td>PH130000000</td>\n",
       "      <td>NCR, Second District</td>\n",
       "      <td>PH137400000</td>\n",
       "      <td>city of mandaluyong</td>\n",
       "      <td>PH137401000</td>\n",
       "      <td>addition hills</td>\n",
       "      <td>PH137401001</td>\n",
       "      <td>POLYGON ((121.04640 14.58746, 121.04636 14.587...</td>\n",
       "    </tr>\n",
       "    <tr>\n",
       "      <th>1</th>\n",
       "      <td>NCR</td>\n",
       "      <td>city of mandaluyong</td>\n",
       "      <td>bagong silang</td>\n",
       "      <td>5572</td>\n",
       "      <td>National Capital Region</td>\n",
       "      <td>PH130000000</td>\n",
       "      <td>NCR, Second District</td>\n",
       "      <td>PH137400000</td>\n",
       "      <td>city of mandaluyong</td>\n",
       "      <td>PH137401000</td>\n",
       "      <td>bagong silang</td>\n",
       "      <td>PH137401002</td>\n",
       "      <td>POLYGON ((121.03209 14.59330, 121.03209 14.593...</td>\n",
       "    </tr>\n",
       "  </tbody>\n",
       "</table>\n",
       "</div>"
      ],
      "text/plain": [
       "  REGION                 CITY       BRGY_NAME  PSA_POPULATION  \\\n",
       "0    NCR  city of mandaluyong  addition hills           99058   \n",
       "1    NCR  city of mandaluyong   bagong silang            5572   \n",
       "\n",
       "                   ADM1_EN   ADM1_PCODE               ADM2_EN   ADM2_PCODE  \\\n",
       "0  National Capital Region  PH130000000  NCR, Second District  PH137400000   \n",
       "1  National Capital Region  PH130000000  NCR, Second District  PH137400000   \n",
       "\n",
       "               ADM3_EN   ADM3_PCODE         ADM4_EN   ADM4_PCODE  \\\n",
       "0  city of mandaluyong  PH137401000  addition hills  PH137401001   \n",
       "1  city of mandaluyong  PH137401000   bagong silang  PH137401002   \n",
       "\n",
       "                                            geometry  \n",
       "0  POLYGON ((121.04640 14.58746, 121.04636 14.587...  \n",
       "1  POLYGON ((121.03209 14.59330, 121.03209 14.593...  "
      ]
     },
     "execution_count": 15,
     "metadata": {},
     "output_type": "execute_result"
    }
   ],
   "source": [
    "psa_joined.head(2)"
   ]
  },
  {
   "attachments": {},
   "cell_type": "markdown",
   "metadata": {},
   "source": [
    "We lose 10 barangays after the inner merge. I am guessing they cannot be matched. I will let this go for now."
   ]
  },
  {
   "cell_type": "code",
   "execution_count": 16,
   "metadata": {},
   "outputs": [
    {
     "name": "stdout",
     "output_type": "stream",
     "text": [
      "Num barangays from our Admin bounds:  879\n",
      "Num barangays from PSA:  875\n",
      "Num barangays after merge:  866\n"
     ]
    }
   ],
   "source": [
    "print(\"Num barangays from our Admin bounds: \", aoi.shape[0])\n",
    "print(\"Num barangays from PSA: \", psa_2015.shape[0])\n",
    "print(\"Num barangays after merge: \", psa_joined.shape[0])"
   ]
  },
  {
   "cell_type": "code",
   "execution_count": 17,
   "metadata": {},
   "outputs": [
    {
     "data": {
      "text/plain": [
       "ADM1_EN                  ADM2_EN               ADM3_EN            \n",
       "National Capital Region  NCR, Fourth District  city of muntinlupa       9\n",
       "                         NCR, Second District  city of mandaluyong     27\n",
       "                         NCR, Third District   city of navotas         14\n",
       "Region I                 Pangasinan            dagupan city            31\n",
       "Region III               Nueva Ecija           palayan city            19\n",
       "Region IX                Zamboanga del Sur     zamboanga city          98\n",
       "Region V                 Albay                 legazpi city            65\n",
       "Region VI                Iloilo                iloilo city            180\n",
       "Region VII               Cebu                  mandaue city            27\n",
       "Region VIII              Leyte                 tacloban city          136\n",
       "Region X                 Misamis Oriental      cagayan de oro city     78\n",
       "Region XI                Davao del Sur         davao city             182\n",
       "Name: ADM3_EN, dtype: int64"
      ]
     },
     "execution_count": 17,
     "metadata": {},
     "output_type": "execute_result"
    }
   ],
   "source": [
    "psa_joined.groupby([\"ADM1_EN\", \"ADM2_EN\", \"ADM3_EN\"])[\"ADM3_EN\"].count()"
   ]
  },
  {
   "cell_type": "code",
   "execution_count": 18,
   "metadata": {},
   "outputs": [],
   "source": [
    "# drop some rows\n",
    "psa_joined = psa_joined.drop(columns=[\"REGION\", \"CITY\", \"BRGY_NAME\"])\n",
    "# join with worldpop\n",
    "worldpop_psa_joined = pop_count_stats.set_index(\"ADM4_PCODE\").join(\n",
    "    psa_joined.set_index(\"ADM4_PCODE\"), rsuffix=\"_psa\", how=\"inner\"\n",
    ")"
   ]
  },
  {
   "cell_type": "code",
   "execution_count": 19,
   "metadata": {},
   "outputs": [
    {
     "data": {
      "text/plain": [
       "(866, 24)"
      ]
     },
     "execution_count": 19,
     "metadata": {},
     "output_type": "execute_result"
    }
   ],
   "source": [
    "worldpop_psa_joined.shape"
   ]
  },
  {
   "cell_type": "code",
   "execution_count": 20,
   "metadata": {},
   "outputs": [
    {
     "data": {
      "text/plain": [
       "Index(['ADM1_EN', 'ADM1_PCODE', 'ADM2_EN', 'ADM2_PCODE', 'ADM3_EN',\n",
       "       'ADM3_PCODE', 'ADM4_EN', 'geometry', 'wp_min', 'wp_max', 'wp_mean',\n",
       "       'samples', 'wp_total', 'wp_stdev', 'wp_median', 'PSA_POPULATION',\n",
       "       'ADM1_EN_psa', 'ADM1_PCODE_psa', 'ADM2_EN_psa', 'ADM2_PCODE_psa',\n",
       "       'ADM3_EN_psa', 'ADM3_PCODE_psa', 'ADM4_EN_psa', 'geometry_psa'],\n",
       "      dtype='object')"
      ]
     },
     "execution_count": 20,
     "metadata": {},
     "output_type": "execute_result"
    }
   ],
   "source": [
    "worldpop_psa_joined.columns"
   ]
  },
  {
   "cell_type": "code",
   "execution_count": 21,
   "metadata": {},
   "outputs": [
    {
     "data": {
      "text/html": [
       "<div>\n",
       "<style scoped>\n",
       "    .dataframe tbody tr th:only-of-type {\n",
       "        vertical-align: middle;\n",
       "    }\n",
       "\n",
       "    .dataframe tbody tr th {\n",
       "        vertical-align: top;\n",
       "    }\n",
       "\n",
       "    .dataframe thead th {\n",
       "        text-align: right;\n",
       "    }\n",
       "</style>\n",
       "<table border=\"1\" class=\"dataframe\">\n",
       "  <thead>\n",
       "    <tr style=\"text-align: right;\">\n",
       "      <th></th>\n",
       "      <th>ADM1_EN</th>\n",
       "      <th>ADM1_PCODE</th>\n",
       "      <th>ADM2_EN</th>\n",
       "      <th>ADM2_PCODE</th>\n",
       "      <th>ADM3_EN</th>\n",
       "      <th>ADM3_PCODE</th>\n",
       "      <th>ADM4_EN</th>\n",
       "      <th>wp_total</th>\n",
       "      <th>wp_min</th>\n",
       "      <th>wp_max</th>\n",
       "      <th>wp_mean</th>\n",
       "      <th>wp_stdev</th>\n",
       "      <th>wp_median</th>\n",
       "      <th>PSA_POPULATION</th>\n",
       "    </tr>\n",
       "    <tr>\n",
       "      <th>ADM4_PCODE</th>\n",
       "      <th></th>\n",
       "      <th></th>\n",
       "      <th></th>\n",
       "      <th></th>\n",
       "      <th></th>\n",
       "      <th></th>\n",
       "      <th></th>\n",
       "      <th></th>\n",
       "      <th></th>\n",
       "      <th></th>\n",
       "      <th></th>\n",
       "      <th></th>\n",
       "      <th></th>\n",
       "      <th></th>\n",
       "    </tr>\n",
       "  </thead>\n",
       "  <tbody>\n",
       "    <tr>\n",
       "      <th>PH015518016</th>\n",
       "      <td>Region I</td>\n",
       "      <td>PH010000000</td>\n",
       "      <td>Pangasinan</td>\n",
       "      <td>PH015500000</td>\n",
       "      <td>Dagupan City</td>\n",
       "      <td>PH015518000</td>\n",
       "      <td>Lomboy</td>\n",
       "      <td>925.848572</td>\n",
       "      <td>11.345417</td>\n",
       "      <td>133.47525</td>\n",
       "      <td>17.145344</td>\n",
       "      <td>16.212323</td>\n",
       "      <td>14.305421</td>\n",
       "      <td>1337</td>\n",
       "    </tr>\n",
       "    <tr>\n",
       "      <th>PH015518031</th>\n",
       "      <td>Region I</td>\n",
       "      <td>PH010000000</td>\n",
       "      <td>Pangasinan</td>\n",
       "      <td>PH015500000</td>\n",
       "      <td>Dagupan City</td>\n",
       "      <td>PH015518000</td>\n",
       "      <td>Tapuac</td>\n",
       "      <td>6642.447266</td>\n",
       "      <td>47.127029</td>\n",
       "      <td>126.68557</td>\n",
       "      <td>78.146438</td>\n",
       "      <td>15.008567</td>\n",
       "      <td>76.246460</td>\n",
       "      <td>4154</td>\n",
       "    </tr>\n",
       "  </tbody>\n",
       "</table>\n",
       "</div>"
      ],
      "text/plain": [
       "              ADM1_EN   ADM1_PCODE     ADM2_EN   ADM2_PCODE       ADM3_EN  \\\n",
       "ADM4_PCODE                                                                  \n",
       "PH015518016  Region I  PH010000000  Pangasinan  PH015500000  Dagupan City   \n",
       "PH015518031  Region I  PH010000000  Pangasinan  PH015500000  Dagupan City   \n",
       "\n",
       "              ADM3_PCODE ADM4_EN     wp_total     wp_min     wp_max  \\\n",
       "ADM4_PCODE                                                            \n",
       "PH015518016  PH015518000  Lomboy   925.848572  11.345417  133.47525   \n",
       "PH015518031  PH015518000  Tapuac  6642.447266  47.127029  126.68557   \n",
       "\n",
       "               wp_mean   wp_stdev  wp_median  PSA_POPULATION  \n",
       "ADM4_PCODE                                                    \n",
       "PH015518016  17.145344  16.212323  14.305421            1337  \n",
       "PH015518031  78.146438  15.008567  76.246460            4154  "
      ]
     },
     "execution_count": 21,
     "metadata": {},
     "output_type": "execute_result"
    }
   ],
   "source": [
    "keep_cols = [\n",
    "    \"ADM1_EN\",\n",
    "    \"ADM1_PCODE\",\n",
    "    \"ADM2_EN\",\n",
    "    \"ADM2_PCODE\",\n",
    "    \"ADM3_EN\",\n",
    "    \"ADM3_PCODE\",\n",
    "    \"ADM4_EN\",\n",
    "    \"wp_total\",\n",
    "    \"wp_min\",\n",
    "    \"wp_max\",\n",
    "    \"wp_mean\",\n",
    "    \"wp_stdev\",\n",
    "    \"wp_median\",\n",
    "    \"PSA_POPULATION\",\n",
    "]\n",
    "worldpop_psa_joined = worldpop_psa_joined[keep_cols]\n",
    "worldpop_psa_joined.head(2)"
   ]
  },
  {
   "cell_type": "code",
   "execution_count": 22,
   "metadata": {},
   "outputs": [],
   "source": [
    "worldpop_psa_joined = worldpop_psa_joined.dropna(subset=[\"wp_total\", \"PSA_POPULATION\"])\n",
    "# worldpop_psa_joined['population_count'] = worldpop_psa_joined['population_count'].round()"
   ]
  },
  {
   "cell_type": "code",
   "execution_count": 23,
   "metadata": {},
   "outputs": [
    {
     "data": {
      "text/plain": [
       "array(['Dagupan City', 'Palayan City', 'Legazpi City', 'Iloilo City',\n",
       "       'Mandaue City', 'Tacloban City', 'Zamboanga City',\n",
       "       'Cagayan de Oro City', 'Davao City', 'City of Mandaluyong',\n",
       "       'City of Navotas', 'City of Muntinlupa'], dtype=object)"
      ]
     },
     "execution_count": 23,
     "metadata": {},
     "output_type": "execute_result"
    }
   ],
   "source": [
    "worldpop_psa_joined[\"ADM3_EN\"].unique()"
   ]
  },
  {
   "cell_type": "code",
   "execution_count": 24,
   "metadata": {},
   "outputs": [],
   "source": [
    "muntinlupa = worldpop_psa_joined[worldpop_psa_joined[\"ADM3_EN\"] == \"City of Muntinlupa\"]\n",
    "mandaluyong = worldpop_psa_joined[\n",
    "    worldpop_psa_joined[\"ADM3_EN\"] == \"City of Mandaluyong\"\n",
    "]\n",
    "navotas = worldpop_psa_joined[worldpop_psa_joined[\"ADM3_EN\"] == \"City of Navotas\"]\n",
    "dagupan = worldpop_psa_joined[worldpop_psa_joined[\"ADM3_EN\"] == \"Dagupan City\"]\n",
    "palayan = worldpop_psa_joined[worldpop_psa_joined[\"ADM3_EN\"] == \"Palayan City\"]\n",
    "zamboanga = worldpop_psa_joined[worldpop_psa_joined[\"ADM3_EN\"] == \"Zamboanga City\"]\n",
    "legazpi = worldpop_psa_joined[worldpop_psa_joined[\"ADM3_EN\"] == \"Legazpi City\"]\n",
    "iloilo = worldpop_psa_joined[worldpop_psa_joined[\"ADM3_EN\"] == \"Iloilo City\"]\n",
    "mandaue = worldpop_psa_joined[worldpop_psa_joined[\"ADM3_EN\"] == \"Mandaue City\"]\n",
    "tacloban = worldpop_psa_joined[worldpop_psa_joined[\"ADM3_EN\"] == \"Tacloban City\"]\n",
    "cdo = worldpop_psa_joined[worldpop_psa_joined[\"ADM3_EN\"] == \"Cagayan de Oro City\"]\n",
    "davao = worldpop_psa_joined[worldpop_psa_joined[\"ADM3_EN\"] == \"Davao City\"]"
   ]
  },
  {
   "cell_type": "code",
   "execution_count": 25,
   "metadata": {},
   "outputs": [
    {
     "data": {
      "text/plain": [
       "False    135\n",
       "Name: wp_total, dtype: int64"
      ]
     },
     "execution_count": 25,
     "metadata": {},
     "output_type": "execute_result"
    }
   ],
   "source": [
    "tacloban[\"wp_total\"].isna().value_counts()"
   ]
  },
  {
   "cell_type": "code",
   "execution_count": 26,
   "metadata": {},
   "outputs": [],
   "source": [
    "from sklearn.metrics import mean_absolute_percentage_error\n",
    "\n",
    "\n",
    "def get_mape(df, city_name):\n",
    "    y_true = df[\"PSA_POPULATION\"].tolist()\n",
    "    y_pred = df[\"wp_total\"].tolist()\n",
    "\n",
    "    mape = mean_absolute_percentage_error(y_true, y_pred)\n",
    "    print(f\"{city_name} MAPE: {mape}\")\n",
    "    return mape\n",
    "\n",
    "\n",
    "def get_statistics(df):\n",
    "    psa_sum = df[\"PSA_POPULATION\"].sum()\n",
    "    psa_mean = df[\"PSA_POPULATION\"].mean()\n",
    "    psa_median = df[\"PSA_POPULATION\"].median()\n",
    "    psa_std = df[\"PSA_POPULATION\"].std()\n",
    "\n",
    "    wp_sum = df[\"wp_total\"].sum().round(3)\n",
    "    wp_mean = df[\"wp_total\"].mean()\n",
    "    wp_median = df[\"wp_total\"].median()\n",
    "    wp_std = df[\"wp_total\"].std()\n",
    "\n",
    "    diff_psa_wp = psa_sum - wp_sum\n",
    "\n",
    "    return (\n",
    "        psa_sum,\n",
    "        psa_mean,\n",
    "        psa_median,\n",
    "        psa_std,\n",
    "        wp_sum,\n",
    "        wp_mean,\n",
    "        wp_median,\n",
    "        wp_std,\n",
    "        diff_psa_wp,\n",
    "    )"
   ]
  },
  {
   "cell_type": "code",
   "execution_count": 27,
   "metadata": {},
   "outputs": [
    {
     "name": "stdout",
     "output_type": "stream",
     "text": [
      "Dagupan City MAPE: 0.2957186269200407\n",
      "Palayan City MAPE: 0.7362131209452295\n",
      "Legazpi City MAPE: 0.4218491712325348\n",
      "Iloilo City MAPE: 0.5974146840110849\n",
      "Mandaue City MAPE: 0.3238289669358913\n",
      "Tacloban City MAPE: 0.7456983749780215\n",
      "Zamboanga City MAPE: 0.40088531469112587\n",
      "Cagayan de Oro City MAPE: 0.5696207826117766\n",
      "Davao City MAPE: 0.7550190477275363\n",
      "City of Mandaluyong MAPE: 0.40133357435664724\n",
      "City of Navotas MAPE: 0.9126093047294116\n",
      "City of Muntinlupa MAPE: 0.19293643592464418\n"
     ]
    }
   ],
   "source": [
    "city_dfs = [\n",
    "    dagupan,\n",
    "    palayan,\n",
    "    legazpi,\n",
    "    iloilo,\n",
    "    mandaue,\n",
    "    tacloban,\n",
    "    zamboanga,\n",
    "    cdo,\n",
    "    davao,\n",
    "    mandaluyong,\n",
    "    navotas,\n",
    "    muntinlupa,\n",
    "]\n",
    "city_names = worldpop_psa_joined[\"ADM3_EN\"].unique().tolist()\n",
    "\n",
    "mape_list = []\n",
    "stats_lists = {\n",
    "    \"psa_sum\": [],\n",
    "    \"wp_sum\": [],\n",
    "    \"psa_mean\": [],\n",
    "    \"wp_mean\": [],\n",
    "    \"psa_median\": [],\n",
    "    \"wp_median\": [],\n",
    "    \"psa_std\": [],\n",
    "    \"wp_std\": [],\n",
    "    \"diff_psa_wp\": [],\n",
    "}\n",
    "\n",
    "for df, name in zip(city_dfs, city_names):\n",
    "    mape = get_mape(df, name)\n",
    "    mape_list.append(mape)\n",
    "\n",
    "    (\n",
    "        psa_sum,\n",
    "        psa_mean,\n",
    "        psa_median,\n",
    "        psa_std,\n",
    "        wp_sum,\n",
    "        wp_mean,\n",
    "        wp_median,\n",
    "        wp_std,\n",
    "        diff_psa_wp,\n",
    "    ) = get_statistics(df)\n",
    "    stats_lists[\"psa_sum\"].append(psa_sum)\n",
    "    stats_lists[\"psa_mean\"].append(psa_mean)\n",
    "    stats_lists[\"psa_median\"].append(psa_median)\n",
    "    stats_lists[\"psa_std\"].append(psa_std)\n",
    "    stats_lists[\"wp_sum\"].append(wp_sum)\n",
    "    stats_lists[\"wp_mean\"].append(wp_mean)\n",
    "    stats_lists[\"wp_median\"].append(wp_median)\n",
    "    stats_lists[\"wp_std\"].append(wp_std)\n",
    "    stats_lists[\"diff_psa_wp\"].append(diff_psa_wp)"
   ]
  },
  {
   "cell_type": "code",
   "execution_count": 28,
   "metadata": {},
   "outputs": [],
   "source": [
    "mape_df = pd.DataFrame({\"city\": city_names, \"MAPE\": mape_list})\n",
    "stats_df = pd.DataFrame(stats_lists)\n",
    "\n",
    "summary_df = pd.concat([mape_df, stats_df], axis=1)"
   ]
  },
  {
   "cell_type": "code",
   "execution_count": 29,
   "metadata": {},
   "outputs": [
    {
     "data": {
      "text/html": [
       "<div>\n",
       "<style scoped>\n",
       "    .dataframe tbody tr th:only-of-type {\n",
       "        vertical-align: middle;\n",
       "    }\n",
       "\n",
       "    .dataframe tbody tr th {\n",
       "        vertical-align: top;\n",
       "    }\n",
       "\n",
       "    .dataframe thead th {\n",
       "        text-align: right;\n",
       "    }\n",
       "</style>\n",
       "<table border=\"1\" class=\"dataframe\">\n",
       "  <thead>\n",
       "    <tr style=\"text-align: right;\">\n",
       "      <th></th>\n",
       "      <th>city</th>\n",
       "      <th>MAPE</th>\n",
       "      <th>psa_sum</th>\n",
       "      <th>wp_sum</th>\n",
       "      <th>psa_mean</th>\n",
       "      <th>wp_mean</th>\n",
       "      <th>psa_median</th>\n",
       "      <th>wp_median</th>\n",
       "      <th>psa_std</th>\n",
       "      <th>wp_std</th>\n",
       "      <th>diff_psa_wp</th>\n",
       "    </tr>\n",
       "  </thead>\n",
       "  <tbody>\n",
       "    <tr>\n",
       "      <th>10</th>\n",
       "      <td>City of Navotas</td>\n",
       "      <td>0.912609</td>\n",
       "      <td>249463</td>\n",
       "      <td>282187.684</td>\n",
       "      <td>17818.785714</td>\n",
       "      <td>20156.263149</td>\n",
       "      <td>11384.5</td>\n",
       "      <td>11686.368164</td>\n",
       "      <td>18716.770519</td>\n",
       "      <td>19571.864279</td>\n",
       "      <td>-32724.684</td>\n",
       "    </tr>\n",
       "    <tr>\n",
       "      <th>8</th>\n",
       "      <td>Davao City</td>\n",
       "      <td>0.755019</td>\n",
       "      <td>1632991</td>\n",
       "      <td>1523552.070</td>\n",
       "      <td>8972.478022</td>\n",
       "      <td>8371.165222</td>\n",
       "      <td>4313.0</td>\n",
       "      <td>4198.031738</td>\n",
       "      <td>12542.455470</td>\n",
       "      <td>13703.287333</td>\n",
       "      <td>109438.930</td>\n",
       "    </tr>\n",
       "    <tr>\n",
       "      <th>5</th>\n",
       "      <td>Tacloban City</td>\n",
       "      <td>0.745698</td>\n",
       "      <td>232353</td>\n",
       "      <td>189607.296</td>\n",
       "      <td>1721.133333</td>\n",
       "      <td>1404.498489</td>\n",
       "      <td>1019.0</td>\n",
       "      <td>583.906311</td>\n",
       "      <td>1897.605120</td>\n",
       "      <td>2573.958413</td>\n",
       "      <td>42745.704</td>\n",
       "    </tr>\n",
       "    <tr>\n",
       "      <th>1</th>\n",
       "      <td>Palayan City</td>\n",
       "      <td>0.736213</td>\n",
       "      <td>41041</td>\n",
       "      <td>45855.151</td>\n",
       "      <td>2160.052632</td>\n",
       "      <td>2413.429021</td>\n",
       "      <td>1985.0</td>\n",
       "      <td>1975.401123</td>\n",
       "      <td>1217.346042</td>\n",
       "      <td>1791.052753</td>\n",
       "      <td>-4814.151</td>\n",
       "    </tr>\n",
       "    <tr>\n",
       "      <th>3</th>\n",
       "      <td>Iloilo City</td>\n",
       "      <td>0.597415</td>\n",
       "      <td>447992</td>\n",
       "      <td>412513.546</td>\n",
       "      <td>2488.844444</td>\n",
       "      <td>2291.741924</td>\n",
       "      <td>1885.5</td>\n",
       "      <td>1793.265808</td>\n",
       "      <td>2393.136837</td>\n",
       "      <td>1915.560502</td>\n",
       "      <td>35478.454</td>\n",
       "    </tr>\n",
       "    <tr>\n",
       "      <th>7</th>\n",
       "      <td>Cagayan de Oro City</td>\n",
       "      <td>0.569621</td>\n",
       "      <td>639033</td>\n",
       "      <td>614081.453</td>\n",
       "      <td>8192.730769</td>\n",
       "      <td>7872.839136</td>\n",
       "      <td>1861.0</td>\n",
       "      <td>2202.691772</td>\n",
       "      <td>13029.279747</td>\n",
       "      <td>13982.705758</td>\n",
       "      <td>24951.547</td>\n",
       "    </tr>\n",
       "    <tr>\n",
       "      <th>2</th>\n",
       "      <td>Legazpi City</td>\n",
       "      <td>0.421849</td>\n",
       "      <td>180174</td>\n",
       "      <td>177012.152</td>\n",
       "      <td>2771.907692</td>\n",
       "      <td>2723.263881</td>\n",
       "      <td>1820.0</td>\n",
       "      <td>1565.422241</td>\n",
       "      <td>2174.794758</td>\n",
       "      <td>3747.479421</td>\n",
       "      <td>3161.848</td>\n",
       "    </tr>\n",
       "    <tr>\n",
       "      <th>9</th>\n",
       "      <td>City of Mandaluyong</td>\n",
       "      <td>0.401334</td>\n",
       "      <td>386276</td>\n",
       "      <td>365882.139</td>\n",
       "      <td>14306.518519</td>\n",
       "      <td>13551.190330</td>\n",
       "      <td>7628.0</td>\n",
       "      <td>9792.787109</td>\n",
       "      <td>18774.093405</td>\n",
       "      <td>13222.462186</td>\n",
       "      <td>20393.861</td>\n",
       "    </tr>\n",
       "    <tr>\n",
       "      <th>6</th>\n",
       "      <td>Zamboanga City</td>\n",
       "      <td>0.400885</td>\n",
       "      <td>861799</td>\n",
       "      <td>786450.183</td>\n",
       "      <td>8793.867347</td>\n",
       "      <td>8025.001868</td>\n",
       "      <td>5328.5</td>\n",
       "      <td>4922.846680</td>\n",
       "      <td>8387.012016</td>\n",
       "      <td>9156.097386</td>\n",
       "      <td>75348.817</td>\n",
       "    </tr>\n",
       "    <tr>\n",
       "      <th>4</th>\n",
       "      <td>Mandaue City</td>\n",
       "      <td>0.323829</td>\n",
       "      <td>362654</td>\n",
       "      <td>330401.847</td>\n",
       "      <td>13431.629630</td>\n",
       "      <td>12237.105460</td>\n",
       "      <td>13685.0</td>\n",
       "      <td>11137.533203</td>\n",
       "      <td>6221.881605</td>\n",
       "      <td>7465.358744</td>\n",
       "      <td>32252.153</td>\n",
       "    </tr>\n",
       "    <tr>\n",
       "      <th>0</th>\n",
       "      <td>Dagupan City</td>\n",
       "      <td>0.295719</td>\n",
       "      <td>171271</td>\n",
       "      <td>179972.096</td>\n",
       "      <td>5524.870968</td>\n",
       "      <td>5805.551488</td>\n",
       "      <td>3872.0</td>\n",
       "      <td>3689.104980</td>\n",
       "      <td>5133.876390</td>\n",
       "      <td>6024.442532</td>\n",
       "      <td>-8701.096</td>\n",
       "    </tr>\n",
       "    <tr>\n",
       "      <th>11</th>\n",
       "      <td>City of Muntinlupa</td>\n",
       "      <td>0.192936</td>\n",
       "      <td>504509</td>\n",
       "      <td>466063.197</td>\n",
       "      <td>56056.555556</td>\n",
       "      <td>51784.799696</td>\n",
       "      <td>57504.0</td>\n",
       "      <td>55060.507812</td>\n",
       "      <td>32489.475623</td>\n",
       "      <td>27945.669849</td>\n",
       "      <td>38445.803</td>\n",
       "    </tr>\n",
       "  </tbody>\n",
       "</table>\n",
       "</div>"
      ],
      "text/plain": [
       "                   city      MAPE  psa_sum       wp_sum      psa_mean  \\\n",
       "10      City of Navotas  0.912609   249463   282187.684  17818.785714   \n",
       "8            Davao City  0.755019  1632991  1523552.070   8972.478022   \n",
       "5         Tacloban City  0.745698   232353   189607.296   1721.133333   \n",
       "1          Palayan City  0.736213    41041    45855.151   2160.052632   \n",
       "3           Iloilo City  0.597415   447992   412513.546   2488.844444   \n",
       "7   Cagayan de Oro City  0.569621   639033   614081.453   8192.730769   \n",
       "2          Legazpi City  0.421849   180174   177012.152   2771.907692   \n",
       "9   City of Mandaluyong  0.401334   386276   365882.139  14306.518519   \n",
       "6        Zamboanga City  0.400885   861799   786450.183   8793.867347   \n",
       "4          Mandaue City  0.323829   362654   330401.847  13431.629630   \n",
       "0          Dagupan City  0.295719   171271   179972.096   5524.870968   \n",
       "11   City of Muntinlupa  0.192936   504509   466063.197  56056.555556   \n",
       "\n",
       "         wp_mean  psa_median     wp_median       psa_std        wp_std  \\\n",
       "10  20156.263149     11384.5  11686.368164  18716.770519  19571.864279   \n",
       "8    8371.165222      4313.0   4198.031738  12542.455470  13703.287333   \n",
       "5    1404.498489      1019.0    583.906311   1897.605120   2573.958413   \n",
       "1    2413.429021      1985.0   1975.401123   1217.346042   1791.052753   \n",
       "3    2291.741924      1885.5   1793.265808   2393.136837   1915.560502   \n",
       "7    7872.839136      1861.0   2202.691772  13029.279747  13982.705758   \n",
       "2    2723.263881      1820.0   1565.422241   2174.794758   3747.479421   \n",
       "9   13551.190330      7628.0   9792.787109  18774.093405  13222.462186   \n",
       "6    8025.001868      5328.5   4922.846680   8387.012016   9156.097386   \n",
       "4   12237.105460     13685.0  11137.533203   6221.881605   7465.358744   \n",
       "0    5805.551488      3872.0   3689.104980   5133.876390   6024.442532   \n",
       "11  51784.799696     57504.0  55060.507812  32489.475623  27945.669849   \n",
       "\n",
       "    diff_psa_wp  \n",
       "10   -32724.684  \n",
       "8    109438.930  \n",
       "5     42745.704  \n",
       "1     -4814.151  \n",
       "3     35478.454  \n",
       "7     24951.547  \n",
       "2      3161.848  \n",
       "9     20393.861  \n",
       "6     75348.817  \n",
       "4     32252.153  \n",
       "0     -8701.096  \n",
       "11    38445.803  "
      ]
     },
     "execution_count": 29,
     "metadata": {},
     "output_type": "execute_result"
    }
   ],
   "source": [
    "summary_df.sort_values(by=\"MAPE\", ascending=False)"
   ]
  },
  {
   "cell_type": "code",
   "execution_count": null,
   "metadata": {},
   "outputs": [],
   "source": [
    "sns.regplot(data=tacloban, x=\"PSA_POPULATION\", y=\"wp_total\").set(title=\"Tacloban City\")"
   ]
  },
  {
   "cell_type": "code",
   "execution_count": null,
   "metadata": {},
   "outputs": [],
   "source": [
    "sns.regplot(data=navotas, x=\"PSA_POPULATION\", y=\"wp_total\").set(title=\"City of Navotas\")"
   ]
  },
  {
   "cell_type": "code",
   "execution_count": null,
   "metadata": {},
   "outputs": [],
   "source": [
    "sns.regplot(data=cdo, x=\"PSA_POPULATION\", y=\"wp_total\").set(title=\"Cagayan de Oro City\")"
   ]
  },
  {
   "cell_type": "code",
   "execution_count": null,
   "metadata": {},
   "outputs": [],
   "source": [
    "sns.regplot(data=davao, x=\"PSA_POPULATION\", y=\"wp_total\").set(title=\"Davao City\")"
   ]
  },
  {
   "cell_type": "code",
   "execution_count": null,
   "metadata": {},
   "outputs": [],
   "source": [
    "sns.regplot(data=mandaue, x=\"PSA_POPULATION\", y=\"wp_total\").set(title=\"Mandaue City\")"
   ]
  },
  {
   "cell_type": "code",
   "execution_count": null,
   "metadata": {},
   "outputs": [],
   "source": [
    "sns.regplot(data=muntinlupa, x=\"PSA_POPULATION\", y=\"wp_total\").set(\n",
    "    title=\"Muntinlupa City\"\n",
    ")"
   ]
  }
 ],
 "metadata": {
  "kernelspec": {
   "display_name": "lacuna-fund2",
   "language": "python",
   "name": "python3"
  },
  "language_info": {
   "codemirror_mode": {
    "name": "ipython",
    "version": 3
   },
   "file_extension": ".py",
   "mimetype": "text/x-python",
   "name": "python",
   "nbconvert_exporter": "python",
   "pygments_lexer": "ipython3",
   "version": "3.9.16"
  },
  "orig_nbformat": 4
 },
 "nbformat": 4,
 "nbformat_minor": 2
}
