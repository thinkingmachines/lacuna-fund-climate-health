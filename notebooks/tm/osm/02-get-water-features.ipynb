{
 "cells": [
  {
   "cell_type": "code",
   "execution_count": 1,
   "metadata": {},
   "outputs": [],
   "source": [
    "%load_ext autoreload\n",
    "%autoreload 2"
   ]
  },
  {
   "cell_type": "code",
   "execution_count": 2,
   "metadata": {},
   "outputs": [
    {
     "name": "stderr",
     "output_type": "stream",
     "text": [
      "/home/abbymoreno/miniconda3/envs/lacuna-fund2/lib/python3.9/site-packages/geopandas/_compat.py:111: UserWarning: The Shapely GEOS version (3.11.1-CAPI-1.17.1) is incompatible with the GEOS version PyGEOS was compiled with (3.10.1-CAPI-1.16.0). Conversions between both will be slow.\n",
      "  warnings.warn(\n"
     ]
    }
   ],
   "source": [
    "import geopandas as gpd\n",
    "import pandas as pd\n",
    "\n",
    "import fiona\n",
    "import folium\n",
    "\n",
    "from pathlib import Path\n",
    "\n",
    "from geowrangler.datasets import geofabrik\n",
    "\n",
    "import sys\n",
    "\n",
    "sys.path.append(\"../../../\")  # include parent directory\n",
    "from src.vector_utils import *"
   ]
  },
  {
   "attachments": {},
   "cell_type": "markdown",
   "metadata": {},
   "source": [
    "# Get OSM Water features\n",
    "\n",
    "Water features:\n",
    "- distance to nearest body of water (man-made or natural)\n",
    "- check if near the coast or not"
   ]
  },
  {
   "attachments": {},
   "cell_type": "markdown",
   "metadata": {},
   "source": [
    "### Set-up directories"
   ]
  },
  {
   "cell_type": "code",
   "execution_count": 3,
   "metadata": {},
   "outputs": [],
   "source": [
    "# data directories\n",
    "DATA_DIR = Path(\"../../../data/\")\n",
    "SRC_DIR = Path(\"../../../src/\")\n",
    "ADMIN_FPATH = DATA_DIR / \"01-admin-bounds\"\n",
    "RAW_FPATH = DATA_DIR / \"02-raw\"\n",
    "PROCESSED_FPATH = DATA_DIR / \"03-processed\"\n",
    "OUTPUT_FPATH = DATA_DIR / \"04-output\"\n",
    "GIS_FPATH = DATA_DIR / \"05-gis\""
   ]
  },
  {
   "attachments": {},
   "cell_type": "markdown",
   "metadata": {},
   "source": [
    "### Load administrative boundaries"
   ]
  },
  {
   "cell_type": "code",
   "execution_count": 4,
   "metadata": {},
   "outputs": [
    {
     "data": {
      "text/html": [
       "<div>\n",
       "<style scoped>\n",
       "    .dataframe tbody tr th:only-of-type {\n",
       "        vertical-align: middle;\n",
       "    }\n",
       "\n",
       "    .dataframe tbody tr th {\n",
       "        vertical-align: top;\n",
       "    }\n",
       "\n",
       "    .dataframe thead th {\n",
       "        text-align: right;\n",
       "    }\n",
       "</style>\n",
       "<table border=\"1\" class=\"dataframe\">\n",
       "  <thead>\n",
       "    <tr style=\"text-align: right;\">\n",
       "      <th></th>\n",
       "      <th>region_nam</th>\n",
       "      <th>region_cod</th>\n",
       "      <th>province_n</th>\n",
       "      <th>province_c</th>\n",
       "      <th>city_name</th>\n",
       "      <th>city_code</th>\n",
       "      <th>barangay_n</th>\n",
       "      <th>barangay_p</th>\n",
       "      <th>geometry</th>\n",
       "    </tr>\n",
       "  </thead>\n",
       "  <tbody>\n",
       "    <tr>\n",
       "      <th>0</th>\n",
       "      <td>Region I</td>\n",
       "      <td>PH010000000</td>\n",
       "      <td>Pangasinan</td>\n",
       "      <td>PH015500000</td>\n",
       "      <td>Dagupan City</td>\n",
       "      <td>PH015518000</td>\n",
       "      <td>Lomboy</td>\n",
       "      <td>PH015518016</td>\n",
       "      <td>POLYGON ((120.32742 16.05423, 120.32719 16.053...</td>\n",
       "    </tr>\n",
       "    <tr>\n",
       "      <th>1</th>\n",
       "      <td>Region I</td>\n",
       "      <td>PH010000000</td>\n",
       "      <td>Pangasinan</td>\n",
       "      <td>PH015500000</td>\n",
       "      <td>Dagupan City</td>\n",
       "      <td>PH015518000</td>\n",
       "      <td>Tapuac</td>\n",
       "      <td>PH015518031</td>\n",
       "      <td>POLYGON ((120.33380 16.03974, 120.33389 16.039...</td>\n",
       "    </tr>\n",
       "  </tbody>\n",
       "</table>\n",
       "</div>"
      ],
      "text/plain": [
       "  region_nam   region_cod  province_n   province_c     city_name    city_code  \\\n",
       "0   Region I  PH010000000  Pangasinan  PH015500000  Dagupan City  PH015518000   \n",
       "1   Region I  PH010000000  Pangasinan  PH015500000  Dagupan City  PH015518000   \n",
       "\n",
       "  barangay_n   barangay_p                                           geometry  \n",
       "0     Lomboy  PH015518016  POLYGON ((120.32742 16.05423, 120.32719 16.053...  \n",
       "1     Tapuac  PH015518031  POLYGON ((120.33380 16.03974, 120.33389 16.039...  "
      ]
     },
     "execution_count": 4,
     "metadata": {},
     "output_type": "execute_result"
    }
   ],
   "source": [
    "# Load the administrative boundaries for the 12 cities\n",
    "admin_bounds_gdf = gpd.read_file(ADMIN_FPATH / \"renamed_target_admin_bounds.shp\")\n",
    "admin_bounds_gdf.head(2)"
   ]
  },
  {
   "attachments": {},
   "cell_type": "markdown",
   "metadata": {},
   "source": [
    "### Load coastal buffer"
   ]
  },
  {
   "cell_type": "code",
   "execution_count": 5,
   "metadata": {},
   "outputs": [
    {
     "data": {
      "text/html": [
       "<div>\n",
       "<style scoped>\n",
       "    .dataframe tbody tr th:only-of-type {\n",
       "        vertical-align: middle;\n",
       "    }\n",
       "\n",
       "    .dataframe tbody tr th {\n",
       "        vertical-align: top;\n",
       "    }\n",
       "\n",
       "    .dataframe thead th {\n",
       "        text-align: right;\n",
       "    }\n",
       "</style>\n",
       "<table border=\"1\" class=\"dataframe\">\n",
       "  <thead>\n",
       "    <tr style=\"text-align: right;\">\n",
       "      <th></th>\n",
       "      <th>uid</th>\n",
       "      <th>geometry</th>\n",
       "    </tr>\n",
       "  </thead>\n",
       "  <tbody>\n",
       "    <tr>\n",
       "      <th>0</th>\n",
       "      <td>0</td>\n",
       "      <td>POLYGON ((119.20565 4.66970, 119.20750 4.66894...</td>\n",
       "    </tr>\n",
       "    <tr>\n",
       "      <th>1</th>\n",
       "      <td>1</td>\n",
       "      <td>POLYGON ((119.03071 4.70988, 119.03140 4.70875...</td>\n",
       "    </tr>\n",
       "  </tbody>\n",
       "</table>\n",
       "</div>"
      ],
      "text/plain": [
       "   uid                                           geometry\n",
       "0    0  POLYGON ((119.20565 4.66970, 119.20750 4.66894...\n",
       "1    1  POLYGON ((119.03071 4.70988, 119.03140 4.70875..."
      ]
     },
     "execution_count": 5,
     "metadata": {},
     "output_type": "execute_result"
    }
   ],
   "source": [
    "# Load coastal buffer generated from the previous notebook.\n",
    "coast_buffer = gpd.read_file(OUTPUT_FPATH / \"ph_coasts_30m.gpkg\")\n",
    "coast_buffer.head(2)"
   ]
  },
  {
   "cell_type": "code",
   "execution_count": 6,
   "metadata": {},
   "outputs": [
    {
     "name": "stderr",
     "output_type": "stream",
     "text": [
      "2023-06-07 10:30:00.716 | DEBUG    | src.vector_utils:add_osm_water_features:185 - OSM Water for philippines and year 2022 being loaded from ../../../data/02-raw/osm/philippines-220101-free.shp.zip\n"
     ]
    },
    {
     "data": {
      "text/html": [
       "<div>\n",
       "<style scoped>\n",
       "    .dataframe tbody tr th:only-of-type {\n",
       "        vertical-align: middle;\n",
       "    }\n",
       "\n",
       "    .dataframe tbody tr th {\n",
       "        vertical-align: top;\n",
       "    }\n",
       "\n",
       "    .dataframe thead th {\n",
       "        text-align: right;\n",
       "    }\n",
       "</style>\n",
       "<table border=\"1\" class=\"dataframe\">\n",
       "  <thead>\n",
       "    <tr style=\"text-align: right;\">\n",
       "      <th></th>\n",
       "      <th>region_nam</th>\n",
       "      <th>region_cod</th>\n",
       "      <th>province_n</th>\n",
       "      <th>province_c</th>\n",
       "      <th>city_name</th>\n",
       "      <th>city_code</th>\n",
       "      <th>barangay_n</th>\n",
       "      <th>barangay_p</th>\n",
       "      <th>geometry</th>\n",
       "      <th>osm_year</th>\n",
       "      <th>osm_wetland_nearest</th>\n",
       "      <th>osm_reservoir_nearest</th>\n",
       "      <th>osm_water_nearest</th>\n",
       "      <th>osm_riverbank_nearest</th>\n",
       "      <th>osm_dock_nearest</th>\n",
       "    </tr>\n",
       "  </thead>\n",
       "  <tbody>\n",
       "    <tr>\n",
       "      <th>0</th>\n",
       "      <td>Region I</td>\n",
       "      <td>PH010000000</td>\n",
       "      <td>Pangasinan</td>\n",
       "      <td>PH015500000</td>\n",
       "      <td>Dagupan City</td>\n",
       "      <td>PH015518000</td>\n",
       "      <td>Lomboy</td>\n",
       "      <td>PH015518016</td>\n",
       "      <td>POLYGON ((120.32742 16.05423, 120.32719 16.053...</td>\n",
       "      <td>2022</td>\n",
       "      <td>1601.942768</td>\n",
       "      <td>10000.0</td>\n",
       "      <td>0.0</td>\n",
       "      <td>0.0</td>\n",
       "      <td>10000.0</td>\n",
       "    </tr>\n",
       "    <tr>\n",
       "      <th>1</th>\n",
       "      <td>Region I</td>\n",
       "      <td>PH010000000</td>\n",
       "      <td>Pangasinan</td>\n",
       "      <td>PH015500000</td>\n",
       "      <td>Dagupan City</td>\n",
       "      <td>PH015518000</td>\n",
       "      <td>Tapuac</td>\n",
       "      <td>PH015518031</td>\n",
       "      <td>POLYGON ((120.33380 16.03974, 120.33389 16.039...</td>\n",
       "      <td>2022</td>\n",
       "      <td>0.000000</td>\n",
       "      <td>10000.0</td>\n",
       "      <td>0.0</td>\n",
       "      <td>0.0</td>\n",
       "      <td>10000.0</td>\n",
       "    </tr>\n",
       "  </tbody>\n",
       "</table>\n",
       "</div>"
      ],
      "text/plain": [
       "  region_nam   region_cod  province_n   province_c     city_name    city_code  \\\n",
       "0   Region I  PH010000000  Pangasinan  PH015500000  Dagupan City  PH015518000   \n",
       "1   Region I  PH010000000  Pangasinan  PH015500000  Dagupan City  PH015518000   \n",
       "\n",
       "  barangay_n   barangay_p                                           geometry  \\\n",
       "0     Lomboy  PH015518016  POLYGON ((120.32742 16.05423, 120.32719 16.053...   \n",
       "1     Tapuac  PH015518031  POLYGON ((120.33380 16.03974, 120.33389 16.039...   \n",
       "\n",
       "   osm_year  osm_wetland_nearest  osm_reservoir_nearest  osm_water_nearest  \\\n",
       "0      2022          1601.942768                10000.0                0.0   \n",
       "1      2022             0.000000                10000.0                0.0   \n",
       "\n",
       "   osm_riverbank_nearest  osm_dock_nearest  \n",
       "0                    0.0           10000.0  \n",
       "1                    0.0           10000.0  "
      ]
     },
     "execution_count": 6,
     "metadata": {},
     "output_type": "execute_result"
    }
   ],
   "source": [
    "osm_water_feats_gdf = add_osm_water_features(\n",
    "    admin_bounds_gdf,\n",
    "    \"philippines\",\n",
    "    \"2022\",\n",
    ")\n",
    "osm_water_feats_gdf.head(2)"
   ]
  },
  {
   "cell_type": "code",
   "execution_count": 7,
   "metadata": {},
   "outputs": [],
   "source": [
    "osm_water_feats_df = osm_water_feats_gdf.drop(columns=[\"geometry\"])\n",
    "osm_water_feats_df = pd.DataFrame(osm_water_feats_df)\n",
    "osm_water_feats_df.to_csv(OUTPUT_FPATH / \"osm_features_water_2022.csv\")"
   ]
  },
  {
   "cell_type": "code",
   "execution_count": 8,
   "metadata": {},
   "outputs": [
    {
     "name": "stderr",
     "output_type": "stream",
     "text": [
      "2023-06-07 10:30:22.369 | DEBUG    | src.vector_utils:add_osm_water_features:185 - OSM Water for philippines and year 2022 being loaded from ../../../data/02-raw/osm/philippines-220101-free.shp.zip\n"
     ]
    },
    {
     "data": {
      "text/html": [
       "<div>\n",
       "<style scoped>\n",
       "    .dataframe tbody tr th:only-of-type {\n",
       "        vertical-align: middle;\n",
       "    }\n",
       "\n",
       "    .dataframe tbody tr th {\n",
       "        vertical-align: top;\n",
       "    }\n",
       "\n",
       "    .dataframe thead th {\n",
       "        text-align: right;\n",
       "    }\n",
       "</style>\n",
       "<table border=\"1\" class=\"dataframe\">\n",
       "  <thead>\n",
       "    <tr style=\"text-align: right;\">\n",
       "      <th></th>\n",
       "      <th>region_nam</th>\n",
       "      <th>region_cod</th>\n",
       "      <th>province_n</th>\n",
       "      <th>province_c</th>\n",
       "      <th>city_name</th>\n",
       "      <th>city_code</th>\n",
       "      <th>barangay_n</th>\n",
       "      <th>barangay_p</th>\n",
       "      <th>geometry</th>\n",
       "      <th>osm_year</th>\n",
       "      <th>osm_river_nearest</th>\n",
       "      <th>osm_stream_nearest</th>\n",
       "      <th>osm_canal_nearest</th>\n",
       "      <th>osm_drain_nearest</th>\n",
       "    </tr>\n",
       "  </thead>\n",
       "  <tbody>\n",
       "    <tr>\n",
       "      <th>0</th>\n",
       "      <td>Region I</td>\n",
       "      <td>PH010000000</td>\n",
       "      <td>Pangasinan</td>\n",
       "      <td>PH015500000</td>\n",
       "      <td>Dagupan City</td>\n",
       "      <td>PH015518000</td>\n",
       "      <td>Lomboy</td>\n",
       "      <td>PH015518016</td>\n",
       "      <td>POLYGON ((120.32742 16.05423, 120.32719 16.053...</td>\n",
       "      <td>2022</td>\n",
       "      <td>0.0</td>\n",
       "      <td>2102.032556</td>\n",
       "      <td>1560.588579</td>\n",
       "      <td>2236.652574</td>\n",
       "    </tr>\n",
       "    <tr>\n",
       "      <th>1</th>\n",
       "      <td>Region I</td>\n",
       "      <td>PH010000000</td>\n",
       "      <td>Pangasinan</td>\n",
       "      <td>PH015500000</td>\n",
       "      <td>Dagupan City</td>\n",
       "      <td>PH015518000</td>\n",
       "      <td>Tapuac</td>\n",
       "      <td>PH015518031</td>\n",
       "      <td>POLYGON ((120.33380 16.03974, 120.33389 16.039...</td>\n",
       "      <td>2022</td>\n",
       "      <td>0.0</td>\n",
       "      <td>105.478349</td>\n",
       "      <td>149.797580</td>\n",
       "      <td>761.117734</td>\n",
       "    </tr>\n",
       "  </tbody>\n",
       "</table>\n",
       "</div>"
      ],
      "text/plain": [
       "  region_nam   region_cod  province_n   province_c     city_name    city_code  \\\n",
       "0   Region I  PH010000000  Pangasinan  PH015500000  Dagupan City  PH015518000   \n",
       "1   Region I  PH010000000  Pangasinan  PH015500000  Dagupan City  PH015518000   \n",
       "\n",
       "  barangay_n   barangay_p                                           geometry  \\\n",
       "0     Lomboy  PH015518016  POLYGON ((120.32742 16.05423, 120.32719 16.053...   \n",
       "1     Tapuac  PH015518031  POLYGON ((120.33380 16.03974, 120.33389 16.039...   \n",
       "\n",
       "   osm_year  osm_river_nearest  osm_stream_nearest  osm_canal_nearest  \\\n",
       "0      2022                0.0         2102.032556        1560.588579   \n",
       "1      2022                0.0          105.478349         149.797580   \n",
       "\n",
       "   osm_drain_nearest  \n",
       "0        2236.652574  \n",
       "1         761.117734  "
      ]
     },
     "execution_count": 8,
     "metadata": {},
     "output_type": "execute_result"
    }
   ],
   "source": [
    "osm_waterways_feats_gdf = add_osm_water_features(\n",
    "    admin_bounds_gdf,\n",
    "    \"philippines\",\n",
    "    \"2022\",\n",
    "    waterways=True,\n",
    ")\n",
    "osm_waterways_feats_gdf.head(2)"
   ]
  },
  {
   "cell_type": "code",
   "execution_count": 9,
   "metadata": {},
   "outputs": [],
   "source": [
    "osm_waterways_feats_df = osm_waterways_feats_gdf.drop(columns=[\"geometry\"])\n",
    "osm_waterways_feats_df = pd.DataFrame(osm_waterways_feats_df)\n",
    "osm_waterways_feats_df.to_csv(OUTPUT_FPATH / \"osm_features_waterways_2022.csv\")"
   ]
  },
  {
   "attachments": {},
   "cell_type": "markdown",
   "metadata": {},
   "source": [
    "# Get Distance to Coast"
   ]
  },
  {
   "cell_type": "code",
   "execution_count": 10,
   "metadata": {},
   "outputs": [
    {
     "name": "stdout",
     "output_type": "stream",
     "text": [
      "CPU times: user 22min 31s, sys: 438 ms, total: 22min 32s\n",
      "Wall time: 22min 32s\n"
     ]
    },
    {
     "data": {
      "text/html": [
       "<div>\n",
       "<style scoped>\n",
       "    .dataframe tbody tr th:only-of-type {\n",
       "        vertical-align: middle;\n",
       "    }\n",
       "\n",
       "    .dataframe tbody tr th {\n",
       "        vertical-align: top;\n",
       "    }\n",
       "\n",
       "    .dataframe thead th {\n",
       "        text-align: right;\n",
       "    }\n",
       "</style>\n",
       "<table border=\"1\" class=\"dataframe\">\n",
       "  <thead>\n",
       "    <tr style=\"text-align: right;\">\n",
       "      <th></th>\n",
       "      <th>region_nam</th>\n",
       "      <th>region_cod</th>\n",
       "      <th>province_n</th>\n",
       "      <th>province_c</th>\n",
       "      <th>city_name</th>\n",
       "      <th>city_code</th>\n",
       "      <th>barangay_n</th>\n",
       "      <th>barangay_p</th>\n",
       "      <th>geometry</th>\n",
       "      <th>distance_from_coast</th>\n",
       "    </tr>\n",
       "  </thead>\n",
       "  <tbody>\n",
       "    <tr>\n",
       "      <th>0</th>\n",
       "      <td>Region I</td>\n",
       "      <td>PH010000000</td>\n",
       "      <td>Pangasinan</td>\n",
       "      <td>PH015500000</td>\n",
       "      <td>Dagupan City</td>\n",
       "      <td>PH015518000</td>\n",
       "      <td>Lomboy</td>\n",
       "      <td>PH015518016</td>\n",
       "      <td>POLYGON ((120.32742 16.05423, 120.32719 16.053...</td>\n",
       "      <td>308.382889</td>\n",
       "    </tr>\n",
       "    <tr>\n",
       "      <th>1</th>\n",
       "      <td>Region I</td>\n",
       "      <td>PH010000000</td>\n",
       "      <td>Pangasinan</td>\n",
       "      <td>PH015500000</td>\n",
       "      <td>Dagupan City</td>\n",
       "      <td>PH015518000</td>\n",
       "      <td>Tapuac</td>\n",
       "      <td>PH015518031</td>\n",
       "      <td>POLYGON ((120.33380 16.03974, 120.33389 16.039...</td>\n",
       "      <td>2595.485717</td>\n",
       "    </tr>\n",
       "  </tbody>\n",
       "</table>\n",
       "</div>"
      ],
      "text/plain": [
       "  region_nam   region_cod  province_n   province_c     city_name    city_code  \\\n",
       "0   Region I  PH010000000  Pangasinan  PH015500000  Dagupan City  PH015518000   \n",
       "1   Region I  PH010000000  Pangasinan  PH015500000  Dagupan City  PH015518000   \n",
       "\n",
       "  barangay_n   barangay_p                                           geometry  \\\n",
       "0     Lomboy  PH015518016  POLYGON ((120.32742 16.05423, 120.32719 16.053...   \n",
       "1     Tapuac  PH015518031  POLYGON ((120.33380 16.03974, 120.33389 16.039...   \n",
       "\n",
       "   distance_from_coast  \n",
       "0           308.382889  \n",
       "1          2595.485717  "
      ]
     },
     "execution_count": 10,
     "metadata": {},
     "output_type": "execute_result"
    }
   ],
   "source": [
    "%%time\n",
    "coast_feat = add_distance_to_shore(\n",
    "    admin_bounds_gdf, coastal_buffer_path=OUTPUT_FPATH / \"ph_coasts_30m.gpkg\"\n",
    ")\n",
    "coast_feat.head(2)"
   ]
  },
  {
   "cell_type": "code",
   "execution_count": 11,
   "metadata": {},
   "outputs": [],
   "source": [
    "# label coastal barangays\n",
    "coast_feat.loc[(coast_feat[\"distance_from_coast\"] == 0), \"is_coastal\"] = True\n",
    "coast_feat.loc[(coast_feat[\"distance_from_coast\"] != 0), \"is_coastal\"] = False"
   ]
  },
  {
   "cell_type": "code",
   "execution_count": 12,
   "metadata": {},
   "outputs": [],
   "source": [
    "coast_feat_df = coast_feat.drop(columns=[\"geometry\"])\n",
    "coast_feat_df = pd.DataFrame(coast_feat_df)\n",
    "coast_feat_df.to_csv(OUTPUT_FPATH / \"brgy_dist_to_coast.csv\")"
   ]
  },
  {
   "cell_type": "code",
   "execution_count": 13,
   "metadata": {},
   "outputs": [
    {
     "data": {
      "text/plain": [
       "<folium.raster_layers.TileLayer at 0x7faac00cc9a0>"
      ]
     },
     "execution_count": 13,
     "metadata": {},
     "output_type": "execute_result"
    }
   ],
   "source": [
    "# map of poi counts\n",
    "GOOGLE_BASEMAP = folium.TileLayer(\n",
    "    tiles=\"https://mt1.google.com/vt/lyrs=y&x={x}&y={y}&z={z}\",\n",
    "    attr=\"Google\",\n",
    "    name=\"Google Satellite\",\n",
    "    overlay=True,\n",
    "    control=True,\n",
    "    show=True,\n",
    ")\n",
    "\n",
    "coast_base = coast_buffer.explore(color=\"white\")\n",
    "\n",
    "coast_feat.explore(column=\"is_coastal\", m=coast_base)\n",
    "\n",
    "GOOGLE_BASEMAP.add_to(coast_base)\n",
    "\n",
    "# UNCOMMENT TO DISPLAY MAP\n",
    "# coast_base"
   ]
  },
  {
   "cell_type": "code",
   "execution_count": 14,
   "metadata": {},
   "outputs": [],
   "source": [
    "# UNCOMMENT TO SAVE\n",
    "# coast_base.save(GIS_FPATH / \"inspect_coastal_barangays_30m.html\")"
   ]
  }
 ],
 "metadata": {
  "kernelspec": {
   "display_name": "lacuna-fund2",
   "language": "python",
   "name": "python3"
  },
  "language_info": {
   "codemirror_mode": {
    "name": "ipython",
    "version": 3
   },
   "file_extension": ".py",
   "mimetype": "text/x-python",
   "name": "python",
   "nbconvert_exporter": "python",
   "pygments_lexer": "ipython3",
   "version": "3.9.16"
  },
  "orig_nbformat": 4
 },
 "nbformat": 4,
 "nbformat_minor": 2
}
