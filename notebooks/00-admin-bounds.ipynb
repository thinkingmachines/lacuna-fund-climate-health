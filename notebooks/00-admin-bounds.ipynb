{
 "cells": [
  {
   "cell_type": "code",
   "execution_count": 24,
   "metadata": {},
   "outputs": [],
   "source": [
    "import pandas as pd\n",
    "import geopandas as gpd\n",
    "import tqdm\n",
    "from google.cloud import bigquery\n",
    "from shapely import wkt\n",
    "from pathlib import Path"
   ]
  },
  {
   "cell_type": "code",
   "execution_count": 25,
   "metadata": {},
   "outputs": [],
   "source": [
    "PROJECT_ID = \"tm-geodata-warehouse\"\n",
    "DATA_DIR = Path(\"../../data/\")"
   ]
  },
  {
   "attachments": {},
   "cell_type": "markdown",
   "metadata": {},
   "source": [
    "## GCP Authentication\n",
    "If necessary, authenticate GCP using this command `gcloud auth login --update-adc`"
   ]
  },
  {
   "cell_type": "code",
   "execution_count": 3,
   "metadata": {},
   "outputs": [],
   "source": [
    "bq_client = bigquery.Client(project=PROJECT_ID)"
   ]
  },
  {
   "attachments": {},
   "cell_type": "markdown",
   "metadata": {},
   "source": [
    "## Extract target areas' admin boundaries"
   ]
  },
  {
   "cell_type": "code",
   "execution_count": 29,
   "metadata": {},
   "outputs": [
    {
     "name": "stderr",
     "output_type": "stream",
     "text": [
      "/home/abbymoreno/miniconda3/envs/lacuna-fund/lib/python3.9/site-packages/google/cloud/bigquery/table.py:2007: UserWarning: A progress bar was requested, but there was an error loading the tqdm library. Please install tqdm to use the progress bar functionality.\n",
      "  record_batch = self.to_arrow(\n"
     ]
    },
    {
     "name": "stdout",
     "output_type": "stream",
     "text": [
      "CPU times: user 195 ms, sys: 20.5 ms, total: 215 ms\n",
      "Wall time: 17.7 s\n"
     ]
    },
    {
     "data": {
      "text/html": [
       "<div>\n",
       "<style scoped>\n",
       "    .dataframe tbody tr th:only-of-type {\n",
       "        vertical-align: middle;\n",
       "    }\n",
       "\n",
       "    .dataframe tbody tr th {\n",
       "        vertical-align: top;\n",
       "    }\n",
       "\n",
       "    .dataframe thead th {\n",
       "        text-align: right;\n",
       "    }\n",
       "</style>\n",
       "<table border=\"1\" class=\"dataframe\">\n",
       "  <thead>\n",
       "    <tr style=\"text-align: right;\">\n",
       "      <th></th>\n",
       "      <th>ADM1_EN</th>\n",
       "      <th>ADM1_PCODE</th>\n",
       "      <th>ADM2_EN</th>\n",
       "      <th>ADM2_PCODE</th>\n",
       "      <th>ADM3_EN</th>\n",
       "      <th>ADM3_PCODE</th>\n",
       "      <th>ADM4_EN</th>\n",
       "      <th>ADM4_PCODE</th>\n",
       "      <th>geometry</th>\n",
       "    </tr>\n",
       "  </thead>\n",
       "  <tbody>\n",
       "    <tr>\n",
       "      <th>0</th>\n",
       "      <td>Region I</td>\n",
       "      <td>PH010000000</td>\n",
       "      <td>Pangasinan</td>\n",
       "      <td>PH015500000</td>\n",
       "      <td>Dagupan City</td>\n",
       "      <td>PH015518000</td>\n",
       "      <td>Lomboy</td>\n",
       "      <td>PH015518016</td>\n",
       "      <td>POLYGON((120.327417356 16.0542344840001, 120.3...</td>\n",
       "    </tr>\n",
       "    <tr>\n",
       "      <th>1</th>\n",
       "      <td>Region I</td>\n",
       "      <td>PH010000000</td>\n",
       "      <td>Pangasinan</td>\n",
       "      <td>PH015500000</td>\n",
       "      <td>Dagupan City</td>\n",
       "      <td>PH015518000</td>\n",
       "      <td>Tapuac</td>\n",
       "      <td>PH015518031</td>\n",
       "      <td>POLYGON((120.333803161 16.039738444, 120.33369...</td>\n",
       "    </tr>\n",
       "    <tr>\n",
       "      <th>2</th>\n",
       "      <td>Region I</td>\n",
       "      <td>PH010000000</td>\n",
       "      <td>Pangasinan</td>\n",
       "      <td>PH015500000</td>\n",
       "      <td>Dagupan City</td>\n",
       "      <td>PH015518000</td>\n",
       "      <td>Pantal</td>\n",
       "      <td>PH015518022</td>\n",
       "      <td>POLYGON((120.347368144 16.060093308, 120.34721...</td>\n",
       "    </tr>\n",
       "    <tr>\n",
       "      <th>3</th>\n",
       "      <td>Region I</td>\n",
       "      <td>PH010000000</td>\n",
       "      <td>Pangasinan</td>\n",
       "      <td>PH015500000</td>\n",
       "      <td>Dagupan City</td>\n",
       "      <td>PH015518000</td>\n",
       "      <td>Barangay I (T. Bugallon)</td>\n",
       "      <td>PH015518024</td>\n",
       "      <td>POLYGON((120.340538921 16.0448877850001, 120.3...</td>\n",
       "    </tr>\n",
       "    <tr>\n",
       "      <th>4</th>\n",
       "      <td>Region III</td>\n",
       "      <td>PH030000000</td>\n",
       "      <td>Nueva Ecija</td>\n",
       "      <td>PH034900000</td>\n",
       "      <td>Palayan City</td>\n",
       "      <td>PH034919000</td>\n",
       "      <td>Imelda Valley</td>\n",
       "      <td>PH034919017</td>\n",
       "      <td>POLYGON((121.122502152 15.5802818290001, 121.1...</td>\n",
       "    </tr>\n",
       "  </tbody>\n",
       "</table>\n",
       "</div>"
      ],
      "text/plain": [
       "      ADM1_EN   ADM1_PCODE      ADM2_EN   ADM2_PCODE       ADM3_EN  \\\n",
       "0    Region I  PH010000000   Pangasinan  PH015500000  Dagupan City   \n",
       "1    Region I  PH010000000   Pangasinan  PH015500000  Dagupan City   \n",
       "2    Region I  PH010000000   Pangasinan  PH015500000  Dagupan City   \n",
       "3    Region I  PH010000000   Pangasinan  PH015500000  Dagupan City   \n",
       "4  Region III  PH030000000  Nueva Ecija  PH034900000  Palayan City   \n",
       "\n",
       "    ADM3_PCODE                   ADM4_EN   ADM4_PCODE  \\\n",
       "0  PH015518000                    Lomboy  PH015518016   \n",
       "1  PH015518000                    Tapuac  PH015518031   \n",
       "2  PH015518000                    Pantal  PH015518022   \n",
       "3  PH015518000  Barangay I (T. Bugallon)  PH015518024   \n",
       "4  PH034919000             Imelda Valley  PH034919017   \n",
       "\n",
       "                                            geometry  \n",
       "0  POLYGON((120.327417356 16.0542344840001, 120.3...  \n",
       "1  POLYGON((120.333803161 16.039738444, 120.33369...  \n",
       "2  POLYGON((120.347368144 16.060093308, 120.34721...  \n",
       "3  POLYGON((120.340538921 16.0448877850001, 120.3...  \n",
       "4  POLYGON((121.122502152 15.5802818290001, 121.1...  "
      ]
     },
     "execution_count": 29,
     "metadata": {},
     "output_type": "execute_result"
    }
   ],
   "source": [
    "%%time\n",
    "query = \"\"\"\n",
    "SELECT ADM1_EN,\n",
    "       ADM1_PCODE,\n",
    "       ADM2_EN,\n",
    "       ADM2_PCODE,\n",
    "       ADM3_EN,\n",
    "       ADM3_PCODE,\n",
    "       ADM4_EN,\n",
    "       ADM4_PCODE,\n",
    "       ST_GEOGFROMTEXT(geometry) AS geometry\n",
    "FROM  tm-geodata-warehouse.ph_admin_boundary_dec2017.level4_barangay \n",
    "WHERE ADM3_EN = 'City of Navotas' OR \n",
    "      ADM3_EN = 'City of Mandaluyong' OR\n",
    "      ADM3_EN = 'City of Muntinlupa' OR \n",
    "      ADM3_EN = 'Dagupan City' OR\n",
    "      ADM3_EN = 'Palayan City' OR\n",
    "      ADM3_EN = 'Legazpi City' OR\n",
    "      ADM3_EN = 'Iloilo City' OR\n",
    "      ADM3_EN = 'Mandaue City' OR\n",
    "      ADM3_EN = 'Tacloban City' OR\n",
    "      ADM3_EN = 'Zamboanga City' OR\n",
    "      ADM3_EN = 'Cagayan de Oro City' OR\n",
    "      ADM3_EN = 'Davao City'\n",
    "\"\"\"\n",
    "admin_bound_targets = pd.read_gbq(query, PROJECT_ID, progress_bar_type=\"tqdm\")\n",
    "admin_bound_targets.head()"
   ]
  },
  {
   "cell_type": "code",
   "execution_count": 33,
   "metadata": {},
   "outputs": [
    {
     "data": {
      "text/plain": [
       "array(['Dagupan City', 'Palayan City', 'Legazpi City', 'Iloilo City',\n",
       "       'Mandaue City', 'Tacloban City', 'Zamboanga City',\n",
       "       'Cagayan de Oro City', 'Davao City', 'City of Mandaluyong',\n",
       "       'City of Navotas', 'City of Muntinlupa'], dtype=object)"
      ]
     },
     "execution_count": 33,
     "metadata": {},
     "output_type": "execute_result"
    }
   ],
   "source": [
    "admin_bound_targets[\"ADM3_EN\"].unique()"
   ]
  },
  {
   "cell_type": "code",
   "execution_count": 31,
   "metadata": {},
   "outputs": [
    {
     "data": {
      "text/plain": [
       "ADM3_EN\n",
       "Cagayan de Oro City     80\n",
       "City of Mandaluyong     27\n",
       "City of Muntinlupa       9\n",
       "City of Navotas         14\n",
       "Dagupan City            31\n",
       "Davao City             183\n",
       "Iloilo City            180\n",
       "Legazpi City            70\n",
       "Mandaue City            27\n",
       "Palayan City            19\n",
       "Tacloban City          138\n",
       "Zamboanga City         101\n",
       "Name: ADM4_EN, dtype: int64"
      ]
     },
     "execution_count": 31,
     "metadata": {},
     "output_type": "execute_result"
    }
   ],
   "source": [
    "admin_bound_targets.groupby(\"ADM3_EN\")[\"ADM4_EN\"].count()"
   ]
  },
  {
   "cell_type": "code",
   "execution_count": 34,
   "metadata": {},
   "outputs": [],
   "source": [
    "admin_bound_targets[\"geometry\"] = admin_bound_targets[\"geometry\"].apply(wkt.loads)\n",
    "gdf = gpd.GeoDataFrame(admin_bound_targets, crs=\"epsg:4326\")"
   ]
  },
  {
   "cell_type": "code",
   "execution_count": 35,
   "metadata": {},
   "outputs": [
    {
     "name": "stderr",
     "output_type": "stream",
     "text": [
      "/home/abbymoreno/miniconda3/envs/lacuna-fund/lib/python3.9/site-packages/geopandas/io/file.py:362: FutureWarning: pandas.Int64Index is deprecated and will be removed from pandas in a future version. Use pandas.Index with the appropriate dtype instead.\n",
      "  pd.Int64Index,\n"
     ]
    }
   ],
   "source": [
    "gdf.to_file(DATA_DIR / \"target_admin_bounds.shp\")"
   ]
  },
  {
   "cell_type": "code",
   "execution_count": null,
   "metadata": {},
   "outputs": [],
   "source": []
  }
 ],
 "metadata": {
  "kernelspec": {
   "display_name": "lacuna-fund",
   "language": "python",
   "name": "python3"
  },
  "language_info": {
   "codemirror_mode": {
    "name": "ipython",
    "version": 3
   },
   "file_extension": ".py",
   "mimetype": "text/x-python",
   "name": "python",
   "nbconvert_exporter": "python",
   "pygments_lexer": "ipython3",
   "version": "3.9.16"
  },
  "orig_nbformat": 4
 },
 "nbformat": 4,
 "nbformat_minor": 2
}
