{
 "cells": [
  {
   "cell_type": "code",
   "execution_count": 1,
   "metadata": {},
   "outputs": [
    {
     "name": "stderr",
     "output_type": "stream",
     "text": [
      "/home/abbymoreno/miniconda3/envs/lacuna-fund/lib/python3.9/site-packages/geopandas/_compat.py:111: UserWarning: The Shapely GEOS version (3.11.1-CAPI-1.17.1) is incompatible with the GEOS version PyGEOS was compiled with (3.10.4-CAPI-1.16.2). Conversions between both will be slow.\n",
      "  warnings.warn(\n"
     ]
    }
   ],
   "source": [
    "import pandas as pd\n",
    "import geopandas as gpd\n",
    "import seaborn as sns\n",
    "import matplotlib.pyplot as plt\n",
    "\n",
    "from pathlib import Path\n",
    "import openpyxl as xl\n",
    "from datetime import timedelta\n",
    "import numpy as np"
   ]
  },
  {
   "cell_type": "markdown",
   "metadata": {},
   "source": [
    "# LGU Health Data Preparation\n",
    "\n",
    "In this notebook, we will be aggregating and doing a quick EDA on a sample LGU dataset which is Zamboanga."
   ]
  },
  {
   "cell_type": "code",
   "execution_count": 2,
   "metadata": {},
   "outputs": [],
   "source": [
    "LGU_DIR = Path(\"../../data/02-raw/health/LGU/Zamboanga/\")\n",
    "\n",
    "ADMIN_BOUNDS = Path(\"../../data/01-admin-bounds/target_admin_bounds.shp\")"
   ]
  },
  {
   "cell_type": "markdown",
   "metadata": {},
   "source": [
    "## Load Zamboanga Table"
   ]
  },
  {
   "cell_type": "code",
   "execution_count": 3,
   "metadata": {},
   "outputs": [
    {
     "name": "stdout",
     "output_type": "stream",
     "text": [
      "['ABD_', 'AES_', 'AFP_', 'AHF_', 'AMES_', 'CHOLERA_', 'ChikV_', 'DENGUE_', 'DIPH_', 'HEPATITIS_', 'HFMD_', 'ILI_', 'LEPTOSPIROSIS_', 'MALARIA_', 'MEASLES_', 'MENINGITIS_', 'MENINGO_', 'NNT_', 'NT_', 'PERT_', 'RABIES_', 'TYPHOID_']\n"
     ]
    }
   ],
   "source": [
    "# load excel file and check sheet names\n",
    "cases_file = xl.load_workbook(LGU_DIR / \"Copy of PIDSR ARCHIVE_EpiMetrics.xlsx\")\n",
    "print(cases_file.sheetnames)"
   ]
  },
  {
   "cell_type": "code",
   "execution_count": 4,
   "metadata": {},
   "outputs": [
    {
     "data": {
      "text/html": [
       "<div>\n",
       "<style scoped>\n",
       "    .dataframe tbody tr th:only-of-type {\n",
       "        vertical-align: middle;\n",
       "    }\n",
       "\n",
       "    .dataframe tbody tr th {\n",
       "        vertical-align: top;\n",
       "    }\n",
       "\n",
       "    .dataframe thead th {\n",
       "        text-align: right;\n",
       "    }\n",
       "</style>\n",
       "<table border=\"1\" class=\"dataframe\">\n",
       "  <thead>\n",
       "    <tr style=\"text-align: right;\">\n",
       "      <th></th>\n",
       "      <th>Region</th>\n",
       "      <th>Province</th>\n",
       "      <th>Muncity</th>\n",
       "      <th>AgeYears</th>\n",
       "      <th>Sex</th>\n",
       "      <th>Admitted</th>\n",
       "      <th>DAdmit</th>\n",
       "      <th>DOnset</th>\n",
       "      <th>Type</th>\n",
       "      <th>ClinClass</th>\n",
       "      <th>CaseClassification</th>\n",
       "      <th>Outcome</th>\n",
       "      <th>DateDied</th>\n",
       "      <th>Icd10Code</th>\n",
       "      <th>MorbidityMonth</th>\n",
       "      <th>MorbidityWeek</th>\n",
       "      <th>Year</th>\n",
       "      <th>Barangay</th>\n",
       "    </tr>\n",
       "  </thead>\n",
       "  <tbody>\n",
       "    <tr>\n",
       "      <th>0</th>\n",
       "      <td>9</td>\n",
       "      <td>ZAMBOANGA DEL SUR</td>\n",
       "      <td>ZAMBOANGA CITY</td>\n",
       "      <td>15.083333</td>\n",
       "      <td>F</td>\n",
       "      <td>1</td>\n",
       "      <td>2013-01-05</td>\n",
       "      <td>2012-12-31</td>\n",
       "      <td>DHF</td>\n",
       "      <td>NaN</td>\n",
       "      <td>P</td>\n",
       "      <td>A</td>\n",
       "      <td>NaN</td>\n",
       "      <td>A90</td>\n",
       "      <td>1</td>\n",
       "      <td>1</td>\n",
       "      <td>2013</td>\n",
       "      <td>BOALAN</td>\n",
       "    </tr>\n",
       "    <tr>\n",
       "      <th>1</th>\n",
       "      <td>9</td>\n",
       "      <td>ZAMBOANGA DEL SUR</td>\n",
       "      <td>ZAMBOANGA CITY</td>\n",
       "      <td>6.583333</td>\n",
       "      <td>M</td>\n",
       "      <td>1</td>\n",
       "      <td>2013-01-02</td>\n",
       "      <td>2012-12-29</td>\n",
       "      <td>DF</td>\n",
       "      <td>NaN</td>\n",
       "      <td>S</td>\n",
       "      <td>A</td>\n",
       "      <td>NaN</td>\n",
       "      <td>A90</td>\n",
       "      <td>1</td>\n",
       "      <td>1</td>\n",
       "      <td>2013</td>\n",
       "      <td>SANTA BARBARA</td>\n",
       "    </tr>\n",
       "    <tr>\n",
       "      <th>2</th>\n",
       "      <td>9</td>\n",
       "      <td>ZAMBOANGA DEL SUR</td>\n",
       "      <td>ZAMBOANGA CITY</td>\n",
       "      <td>2.500000</td>\n",
       "      <td>M</td>\n",
       "      <td>1</td>\n",
       "      <td>2013-01-02</td>\n",
       "      <td>2012-12-29</td>\n",
       "      <td>DHF</td>\n",
       "      <td>NaN</td>\n",
       "      <td>S</td>\n",
       "      <td>A</td>\n",
       "      <td>NaN</td>\n",
       "      <td>NaN</td>\n",
       "      <td>1</td>\n",
       "      <td>1</td>\n",
       "      <td>2013</td>\n",
       "      <td>PASONANCA</td>\n",
       "    </tr>\n",
       "  </tbody>\n",
       "</table>\n",
       "</div>"
      ],
      "text/plain": [
       "   Region           Province         Muncity   AgeYears Sex  Admitted  \\\n",
       "0       9  ZAMBOANGA DEL SUR  ZAMBOANGA CITY  15.083333   F         1   \n",
       "1       9  ZAMBOANGA DEL SUR  ZAMBOANGA CITY   6.583333   M         1   \n",
       "2       9  ZAMBOANGA DEL SUR  ZAMBOANGA CITY   2.500000   M         1   \n",
       "\n",
       "      DAdmit     DOnset Type ClinClass CaseClassification Outcome DateDied  \\\n",
       "0 2013-01-05 2012-12-31  DHF       NaN                  P       A      NaN   \n",
       "1 2013-01-02 2012-12-29   DF       NaN                  S       A      NaN   \n",
       "2 2013-01-02 2012-12-29  DHF       NaN                  S       A      NaN   \n",
       "\n",
       "  Icd10Code  MorbidityMonth  MorbidityWeek  Year       Barangay  \n",
       "0       A90               1              1  2013         BOALAN  \n",
       "1       A90               1              1  2013  SANTA BARBARA  \n",
       "2       NaN               1              1  2013      PASONANCA  "
      ]
     },
     "execution_count": 4,
     "metadata": {},
     "output_type": "execute_result"
    }
   ],
   "source": [
    "# load sheet needed for pandas\n",
    "# in this sample EDA we will only work with Dengue\n",
    "dengue_df = pd.read_excel(\n",
    "    LGU_DIR / \"Copy of PIDSR ARCHIVE_EpiMetrics.xlsx\", sheet_name=\"DENGUE_\"\n",
    ")\n",
    "dengue_df.head(3)"
   ]
  },
  {
   "cell_type": "code",
   "execution_count": 5,
   "metadata": {},
   "outputs": [
    {
     "data": {
      "text/plain": [
       "array([ 1,  2,  3, 13,  4, 10,  9,  8,  5,  6,  7, 21, 11, 12, 31, 32, 33,\n",
       "       14, 15, 16, 17, 18, 19, 20, 22, 26, 25, 24, 27, 23, 28, 30, 29, 34,\n",
       "       35, 36, 37, 38, 39, 40, 41, 42, 43, 44, 45, 46, 47, 48, 49, 50, 51,\n",
       "       52])"
      ]
     },
     "execution_count": 5,
     "metadata": {},
     "output_type": "execute_result"
    }
   ],
   "source": [
    "dengue_df[\"MorbidityWeek\"].unique()"
   ]
  },
  {
   "cell_type": "code",
   "execution_count": 6,
   "metadata": {},
   "outputs": [
    {
     "data": {
      "text/plain": [
       "(25237, 18)"
      ]
     },
     "execution_count": 6,
     "metadata": {},
     "output_type": "execute_result"
    }
   ],
   "source": [
    "dengue_df.shape  # number of cases"
   ]
  },
  {
   "cell_type": "markdown",
   "metadata": {},
   "source": [
    "Check if all date columns are populated."
   ]
  },
  {
   "cell_type": "code",
   "execution_count": 7,
   "metadata": {},
   "outputs": [
    {
     "data": {
      "text/plain": [
       "False    25237\n",
       "Name: DAdmit, dtype: int64"
      ]
     },
     "execution_count": 7,
     "metadata": {},
     "output_type": "execute_result"
    }
   ],
   "source": [
    "dengue_df[\"DAdmit\"].isna().value_counts()"
   ]
  },
  {
   "cell_type": "code",
   "execution_count": 8,
   "metadata": {},
   "outputs": [
    {
     "data": {
      "text/plain": [
       "False    24386\n",
       "True       851\n",
       "Name: DOnset, dtype: int64"
      ]
     },
     "execution_count": 8,
     "metadata": {},
     "output_type": "execute_result"
    }
   ],
   "source": [
    "dengue_df[\"DOnset\"].isna().value_counts()"
   ]
  },
  {
   "cell_type": "markdown",
   "metadata": {},
   "source": [
    "## Prep LGU Data"
   ]
  },
  {
   "cell_type": "markdown",
   "metadata": {},
   "source": [
    "### Add start of week date\n",
    "\n",
    "Use hospitalization (DAdmit) as basis and also this date column has no nulls."
   ]
  },
  {
   "cell_type": "code",
   "execution_count": 9,
   "metadata": {},
   "outputs": [],
   "source": [
    "dengue_df[\"DAdmit\"] = pd.to_datetime(dengue_df[\"DAdmit\"])"
   ]
  },
  {
   "cell_type": "code",
   "execution_count": 10,
   "metadata": {},
   "outputs": [
    {
     "data": {
      "text/html": [
       "<div>\n",
       "<style scoped>\n",
       "    .dataframe tbody tr th:only-of-type {\n",
       "        vertical-align: middle;\n",
       "    }\n",
       "\n",
       "    .dataframe tbody tr th {\n",
       "        vertical-align: top;\n",
       "    }\n",
       "\n",
       "    .dataframe thead th {\n",
       "        text-align: right;\n",
       "    }\n",
       "</style>\n",
       "<table border=\"1\" class=\"dataframe\">\n",
       "  <thead>\n",
       "    <tr style=\"text-align: right;\">\n",
       "      <th></th>\n",
       "      <th>Region</th>\n",
       "      <th>Province</th>\n",
       "      <th>Muncity</th>\n",
       "      <th>AgeYears</th>\n",
       "      <th>Sex</th>\n",
       "      <th>Admitted</th>\n",
       "      <th>DAdmit</th>\n",
       "      <th>DOnset</th>\n",
       "      <th>Type</th>\n",
       "      <th>ClinClass</th>\n",
       "      <th>CaseClassification</th>\n",
       "      <th>Outcome</th>\n",
       "      <th>DateDied</th>\n",
       "      <th>Icd10Code</th>\n",
       "      <th>MorbidityMonth</th>\n",
       "      <th>MorbidityWeek</th>\n",
       "      <th>Year</th>\n",
       "      <th>Barangay</th>\n",
       "      <th>start_of_week</th>\n",
       "    </tr>\n",
       "  </thead>\n",
       "  <tbody>\n",
       "    <tr>\n",
       "      <th>0</th>\n",
       "      <td>9</td>\n",
       "      <td>ZAMBOANGA DEL SUR</td>\n",
       "      <td>ZAMBOANGA CITY</td>\n",
       "      <td>15.083333</td>\n",
       "      <td>F</td>\n",
       "      <td>1</td>\n",
       "      <td>2013-01-05</td>\n",
       "      <td>2012-12-31</td>\n",
       "      <td>DHF</td>\n",
       "      <td>NaN</td>\n",
       "      <td>P</td>\n",
       "      <td>A</td>\n",
       "      <td>NaN</td>\n",
       "      <td>A90</td>\n",
       "      <td>1</td>\n",
       "      <td>1</td>\n",
       "      <td>2013</td>\n",
       "      <td>BOALAN</td>\n",
       "      <td>2013-01-01</td>\n",
       "    </tr>\n",
       "    <tr>\n",
       "      <th>1</th>\n",
       "      <td>9</td>\n",
       "      <td>ZAMBOANGA DEL SUR</td>\n",
       "      <td>ZAMBOANGA CITY</td>\n",
       "      <td>6.583333</td>\n",
       "      <td>M</td>\n",
       "      <td>1</td>\n",
       "      <td>2013-01-02</td>\n",
       "      <td>2012-12-29</td>\n",
       "      <td>DF</td>\n",
       "      <td>NaN</td>\n",
       "      <td>S</td>\n",
       "      <td>A</td>\n",
       "      <td>NaN</td>\n",
       "      <td>A90</td>\n",
       "      <td>1</td>\n",
       "      <td>1</td>\n",
       "      <td>2013</td>\n",
       "      <td>SANTA BARBARA</td>\n",
       "      <td>2013-01-01</td>\n",
       "    </tr>\n",
       "    <tr>\n",
       "      <th>2</th>\n",
       "      <td>9</td>\n",
       "      <td>ZAMBOANGA DEL SUR</td>\n",
       "      <td>ZAMBOANGA CITY</td>\n",
       "      <td>2.500000</td>\n",
       "      <td>M</td>\n",
       "      <td>1</td>\n",
       "      <td>2013-01-02</td>\n",
       "      <td>2012-12-29</td>\n",
       "      <td>DHF</td>\n",
       "      <td>NaN</td>\n",
       "      <td>S</td>\n",
       "      <td>A</td>\n",
       "      <td>NaN</td>\n",
       "      <td>NaN</td>\n",
       "      <td>1</td>\n",
       "      <td>1</td>\n",
       "      <td>2013</td>\n",
       "      <td>PASONANCA</td>\n",
       "      <td>2013-01-01</td>\n",
       "    </tr>\n",
       "  </tbody>\n",
       "</table>\n",
       "</div>"
      ],
      "text/plain": [
       "   Region           Province         Muncity   AgeYears Sex  Admitted  \\\n",
       "0       9  ZAMBOANGA DEL SUR  ZAMBOANGA CITY  15.083333   F         1   \n",
       "1       9  ZAMBOANGA DEL SUR  ZAMBOANGA CITY   6.583333   M         1   \n",
       "2       9  ZAMBOANGA DEL SUR  ZAMBOANGA CITY   2.500000   M         1   \n",
       "\n",
       "      DAdmit     DOnset Type ClinClass CaseClassification Outcome DateDied  \\\n",
       "0 2013-01-05 2012-12-31  DHF       NaN                  P       A      NaN   \n",
       "1 2013-01-02 2012-12-29   DF       NaN                  S       A      NaN   \n",
       "2 2013-01-02 2012-12-29  DHF       NaN                  S       A      NaN   \n",
       "\n",
       "  Icd10Code  MorbidityMonth  MorbidityWeek  Year       Barangay start_of_week  \n",
       "0       A90               1              1  2013         BOALAN    2013-01-01  \n",
       "1       A90               1              1  2013  SANTA BARBARA    2013-01-01  \n",
       "2       NaN               1              1  2013      PASONANCA    2013-01-01  "
      ]
     },
     "execution_count": 10,
     "metadata": {},
     "output_type": "execute_result"
    }
   ],
   "source": [
    "# Get start of the week\n",
    "dengue_df[\"start_of_week\"] = dengue_df[\"DAdmit\"] - pd.to_timedelta(\n",
    "    dengue_df[\"DAdmit\"].dt.dayofweek, unit=\"D\"\n",
    ")\n",
    "\n",
    "# # Check if the Monday is from the previous year (December)\n",
    "previous_year_mask = dengue_df[\"start_of_week\"].dt.year < dengue_df[\"DAdmit\"].dt.year\n",
    "\n",
    "# # Adjust the start of the week to the current year\n",
    "dengue_df.loc[previous_year_mask, \"start_of_week\"] = pd.to_datetime(\n",
    "    dengue_df[previous_year_mask][\"DAdmit\"].dt.year, format=\"%Y\"\n",
    ")\n",
    "\n",
    "dengue_df.head(3)"
   ]
  },
  {
   "cell_type": "code",
   "execution_count": 11,
   "metadata": {},
   "outputs": [
    {
     "data": {
      "text/plain": [
       "100"
      ]
     },
     "execution_count": 11,
     "metadata": {},
     "output_type": "execute_result"
    }
   ],
   "source": [
    "dengue_df[\"Barangay\"].nunique()"
   ]
  },
  {
   "cell_type": "markdown",
   "metadata": {},
   "source": [
    "### Add Age Categories\n",
    "\n",
    "Follow grouping in the unfinished consolidation sheet."
   ]
  },
  {
   "cell_type": "code",
   "execution_count": 12,
   "metadata": {},
   "outputs": [],
   "source": [
    "bins = [0, 1, 4, 9, 14, 19, 24, 29, 34, 39, 44, 49, 54, 59, 64, 69, np.inf]\n",
    "names = [\n",
    "    \"<1\",\n",
    "    \"1-4\",\n",
    "    \"5-9\",\n",
    "    \"10-14\",\n",
    "    \"15-19\",\n",
    "    \"20-24\",\n",
    "    \"25-29\",\n",
    "    \"30-34\",\n",
    "    \"35-39\",\n",
    "    \"40-44\",\n",
    "    \"45-49\",\n",
    "    \"50-54\",\n",
    "    \"55-59\",\n",
    "    \"60-64\",\n",
    "    \"65-69\",\n",
    "    \"70+\",\n",
    "]\n",
    "\n",
    "dengue_df[\"Age_Category\"] = pd.cut(dengue_df[\"AgeYears\"], bins, labels=names)\n",
    "# Manually adjust \"<1\" and \"1-4\" categories\n",
    "dengue_df.loc[dengue_df[\"AgeYears\"] == 1, \"Age_Category\"] = \"1-4\""
   ]
  },
  {
   "cell_type": "code",
   "execution_count": 13,
   "metadata": {},
   "outputs": [
    {
     "data": {
      "text/html": [
       "<div>\n",
       "<style scoped>\n",
       "    .dataframe tbody tr th:only-of-type {\n",
       "        vertical-align: middle;\n",
       "    }\n",
       "\n",
       "    .dataframe tbody tr th {\n",
       "        vertical-align: top;\n",
       "    }\n",
       "\n",
       "    .dataframe thead th {\n",
       "        text-align: right;\n",
       "    }\n",
       "</style>\n",
       "<table border=\"1\" class=\"dataframe\">\n",
       "  <thead>\n",
       "    <tr style=\"text-align: right;\">\n",
       "      <th></th>\n",
       "      <th>AgeYears</th>\n",
       "      <th>Age_Category</th>\n",
       "    </tr>\n",
       "  </thead>\n",
       "  <tbody>\n",
       "    <tr>\n",
       "      <th>0</th>\n",
       "      <td>15.083333</td>\n",
       "      <td>15-19</td>\n",
       "    </tr>\n",
       "    <tr>\n",
       "      <th>1</th>\n",
       "      <td>6.583333</td>\n",
       "      <td>5-9</td>\n",
       "    </tr>\n",
       "    <tr>\n",
       "      <th>2</th>\n",
       "      <td>2.500000</td>\n",
       "      <td>1-4</td>\n",
       "    </tr>\n",
       "    <tr>\n",
       "      <th>3</th>\n",
       "      <td>7.250000</td>\n",
       "      <td>5-9</td>\n",
       "    </tr>\n",
       "    <tr>\n",
       "      <th>4</th>\n",
       "      <td>6.583333</td>\n",
       "      <td>5-9</td>\n",
       "    </tr>\n",
       "    <tr>\n",
       "      <th>...</th>\n",
       "      <td>...</td>\n",
       "      <td>...</td>\n",
       "    </tr>\n",
       "    <tr>\n",
       "      <th>25232</th>\n",
       "      <td>24.000000</td>\n",
       "      <td>20-24</td>\n",
       "    </tr>\n",
       "    <tr>\n",
       "      <th>25233</th>\n",
       "      <td>10.000000</td>\n",
       "      <td>10-14</td>\n",
       "    </tr>\n",
       "    <tr>\n",
       "      <th>25234</th>\n",
       "      <td>7.000000</td>\n",
       "      <td>5-9</td>\n",
       "    </tr>\n",
       "    <tr>\n",
       "      <th>25235</th>\n",
       "      <td>4.000000</td>\n",
       "      <td>1-4</td>\n",
       "    </tr>\n",
       "    <tr>\n",
       "      <th>25236</th>\n",
       "      <td>7.000000</td>\n",
       "      <td>5-9</td>\n",
       "    </tr>\n",
       "  </tbody>\n",
       "</table>\n",
       "<p>25237 rows × 2 columns</p>\n",
       "</div>"
      ],
      "text/plain": [
       "        AgeYears Age_Category\n",
       "0      15.083333        15-19\n",
       "1       6.583333          5-9\n",
       "2       2.500000          1-4\n",
       "3       7.250000          5-9\n",
       "4       6.583333          5-9\n",
       "...          ...          ...\n",
       "25232  24.000000        20-24\n",
       "25233  10.000000        10-14\n",
       "25234   7.000000          5-9\n",
       "25235   4.000000          1-4\n",
       "25236   7.000000          5-9\n",
       "\n",
       "[25237 rows x 2 columns]"
      ]
     },
     "execution_count": 13,
     "metadata": {},
     "output_type": "execute_result"
    }
   ],
   "source": [
    "dengue_df[[\"AgeYears\", \"Age_Category\"]]"
   ]
  },
  {
   "cell_type": "markdown",
   "metadata": {},
   "source": [
    "### Add PSGC Codes"
   ]
  },
  {
   "cell_type": "code",
   "execution_count": 14,
   "metadata": {},
   "outputs": [
    {
     "data": {
      "text/html": [
       "<div>\n",
       "<style scoped>\n",
       "    .dataframe tbody tr th:only-of-type {\n",
       "        vertical-align: middle;\n",
       "    }\n",
       "\n",
       "    .dataframe tbody tr th {\n",
       "        vertical-align: top;\n",
       "    }\n",
       "\n",
       "    .dataframe thead th {\n",
       "        text-align: right;\n",
       "    }\n",
       "</style>\n",
       "<table border=\"1\" class=\"dataframe\">\n",
       "  <thead>\n",
       "    <tr style=\"text-align: right;\">\n",
       "      <th></th>\n",
       "      <th>ADM1_EN</th>\n",
       "      <th>ADM1_PCODE</th>\n",
       "      <th>ADM2_EN</th>\n",
       "      <th>ADM2_PCODE</th>\n",
       "      <th>ADM3_EN</th>\n",
       "      <th>ADM3_PCODE</th>\n",
       "      <th>ADM4_EN</th>\n",
       "      <th>ADM4_PCODE</th>\n",
       "      <th>geometry</th>\n",
       "    </tr>\n",
       "  </thead>\n",
       "  <tbody>\n",
       "    <tr>\n",
       "      <th>0</th>\n",
       "      <td>Region I</td>\n",
       "      <td>PH010000000</td>\n",
       "      <td>Pangasinan</td>\n",
       "      <td>PH015500000</td>\n",
       "      <td>Dagupan City</td>\n",
       "      <td>PH015518000</td>\n",
       "      <td>Lomboy</td>\n",
       "      <td>PH015518016</td>\n",
       "      <td>POLYGON ((120.32742 16.05423, 120.32719 16.053...</td>\n",
       "    </tr>\n",
       "    <tr>\n",
       "      <th>1</th>\n",
       "      <td>Region I</td>\n",
       "      <td>PH010000000</td>\n",
       "      <td>Pangasinan</td>\n",
       "      <td>PH015500000</td>\n",
       "      <td>Dagupan City</td>\n",
       "      <td>PH015518000</td>\n",
       "      <td>Tapuac</td>\n",
       "      <td>PH015518031</td>\n",
       "      <td>POLYGON ((120.33380 16.03974, 120.33389 16.039...</td>\n",
       "    </tr>\n",
       "  </tbody>\n",
       "</table>\n",
       "</div>"
      ],
      "text/plain": [
       "    ADM1_EN   ADM1_PCODE     ADM2_EN   ADM2_PCODE       ADM3_EN   ADM3_PCODE  \\\n",
       "0  Region I  PH010000000  Pangasinan  PH015500000  Dagupan City  PH015518000   \n",
       "1  Region I  PH010000000  Pangasinan  PH015500000  Dagupan City  PH015518000   \n",
       "\n",
       "  ADM4_EN   ADM4_PCODE                                           geometry  \n",
       "0  Lomboy  PH015518016  POLYGON ((120.32742 16.05423, 120.32719 16.053...  \n",
       "1  Tapuac  PH015518031  POLYGON ((120.33380 16.03974, 120.33389 16.039...  "
      ]
     },
     "execution_count": 14,
     "metadata": {},
     "output_type": "execute_result"
    }
   ],
   "source": [
    "aoi = gpd.read_file(ADMIN_BOUNDS)\n",
    "aoi.head(2)"
   ]
  },
  {
   "cell_type": "code",
   "execution_count": 15,
   "metadata": {},
   "outputs": [],
   "source": [
    "# Admin Boundary area columns\n",
    "\n",
    "# List of columns to lowercase\n",
    "aoi_area_cols = [\"ADM2_EN\", \"ADM3_EN\", \"ADM4_EN\"]\n",
    "\n",
    "# Use applymap() to apply lowercase transformation to specified columns\n",
    "aoi[aoi_area_cols] = aoi[aoi_area_cols].applymap(str.lower)"
   ]
  },
  {
   "cell_type": "markdown",
   "metadata": {},
   "source": [
    "Apparently, there are rows that have no \"Barangay\" names. Remove these rows."
   ]
  },
  {
   "cell_type": "code",
   "execution_count": 16,
   "metadata": {},
   "outputs": [],
   "source": [
    "dengue_df = dengue_df[~dengue_df[\"Barangay\"].isna()]"
   ]
  },
  {
   "cell_type": "code",
   "execution_count": 17,
   "metadata": {},
   "outputs": [],
   "source": [
    "# LGU data area columns\n",
    "\n",
    "# List of columns to lowercase\n",
    "lgu_area_cols = [\"Province\", \"Muncity\", \"Barangay\"]\n",
    "\n",
    "# Use applymap() to apply lowercase transformation to specified columns\n",
    "dengue_df[lgu_area_cols] = dengue_df[lgu_area_cols].applymap(str.lower)"
   ]
  },
  {
   "cell_type": "code",
   "execution_count": 18,
   "metadata": {},
   "outputs": [
    {
     "data": {
      "text/plain": [
       "(24936, 20)"
      ]
     },
     "execution_count": 18,
     "metadata": {},
     "output_type": "execute_result"
    }
   ],
   "source": [
    "dengue_df.shape"
   ]
  },
  {
   "cell_type": "code",
   "execution_count": 19,
   "metadata": {},
   "outputs": [
    {
     "data": {
      "text/html": [
       "<div>\n",
       "<style scoped>\n",
       "    .dataframe tbody tr th:only-of-type {\n",
       "        vertical-align: middle;\n",
       "    }\n",
       "\n",
       "    .dataframe tbody tr th {\n",
       "        vertical-align: top;\n",
       "    }\n",
       "\n",
       "    .dataframe thead th {\n",
       "        text-align: right;\n",
       "    }\n",
       "</style>\n",
       "<table border=\"1\" class=\"dataframe\">\n",
       "  <thead>\n",
       "    <tr style=\"text-align: right;\">\n",
       "      <th></th>\n",
       "      <th>Region</th>\n",
       "      <th>Province</th>\n",
       "      <th>Muncity</th>\n",
       "      <th>AgeYears</th>\n",
       "      <th>Sex</th>\n",
       "      <th>Admitted</th>\n",
       "      <th>DAdmit</th>\n",
       "      <th>DOnset</th>\n",
       "      <th>Type</th>\n",
       "      <th>ClinClass</th>\n",
       "      <th>...</th>\n",
       "      <th>Outcome</th>\n",
       "      <th>DateDied</th>\n",
       "      <th>Icd10Code</th>\n",
       "      <th>MorbidityMonth</th>\n",
       "      <th>MorbidityWeek</th>\n",
       "      <th>Year</th>\n",
       "      <th>Barangay</th>\n",
       "      <th>start_of_week</th>\n",
       "      <th>Age_Category</th>\n",
       "      <th>ADM4_PCODE</th>\n",
       "    </tr>\n",
       "  </thead>\n",
       "  <tbody>\n",
       "    <tr>\n",
       "      <th>0</th>\n",
       "      <td>9</td>\n",
       "      <td>zamboanga del sur</td>\n",
       "      <td>zamboanga city</td>\n",
       "      <td>15.083333</td>\n",
       "      <td>F</td>\n",
       "      <td>1</td>\n",
       "      <td>2013-01-05</td>\n",
       "      <td>2012-12-31</td>\n",
       "      <td>DHF</td>\n",
       "      <td>NaN</td>\n",
       "      <td>...</td>\n",
       "      <td>A</td>\n",
       "      <td>NaN</td>\n",
       "      <td>A90</td>\n",
       "      <td>1</td>\n",
       "      <td>1</td>\n",
       "      <td>2013</td>\n",
       "      <td>boalan</td>\n",
       "      <td>2013-01-01</td>\n",
       "      <td>15-19</td>\n",
       "      <td>PH097332010</td>\n",
       "    </tr>\n",
       "    <tr>\n",
       "      <th>1</th>\n",
       "      <td>9</td>\n",
       "      <td>zamboanga del sur</td>\n",
       "      <td>zamboanga city</td>\n",
       "      <td>6.583333</td>\n",
       "      <td>M</td>\n",
       "      <td>1</td>\n",
       "      <td>2013-01-01</td>\n",
       "      <td>2012-12-29</td>\n",
       "      <td>DSS</td>\n",
       "      <td>NaN</td>\n",
       "      <td>...</td>\n",
       "      <td>A</td>\n",
       "      <td>NaN</td>\n",
       "      <td>NaN</td>\n",
       "      <td>1</td>\n",
       "      <td>1</td>\n",
       "      <td>2013</td>\n",
       "      <td>boalan</td>\n",
       "      <td>2013-01-01</td>\n",
       "      <td>5-9</td>\n",
       "      <td>PH097332010</td>\n",
       "    </tr>\n",
       "    <tr>\n",
       "      <th>2</th>\n",
       "      <td>9</td>\n",
       "      <td>zamboanga del sur</td>\n",
       "      <td>zamboanga city</td>\n",
       "      <td>8.250000</td>\n",
       "      <td>F</td>\n",
       "      <td>1</td>\n",
       "      <td>2013-02-28</td>\n",
       "      <td>2013-02-25</td>\n",
       "      <td>N</td>\n",
       "      <td>NaN</td>\n",
       "      <td>...</td>\n",
       "      <td>A</td>\n",
       "      <td>NaN</td>\n",
       "      <td>A90</td>\n",
       "      <td>2</td>\n",
       "      <td>9</td>\n",
       "      <td>2013</td>\n",
       "      <td>boalan</td>\n",
       "      <td>2013-02-25</td>\n",
       "      <td>5-9</td>\n",
       "      <td>PH097332010</td>\n",
       "    </tr>\n",
       "  </tbody>\n",
       "</table>\n",
       "<p>3 rows × 21 columns</p>\n",
       "</div>"
      ],
      "text/plain": [
       "   Region           Province         Muncity   AgeYears Sex  Admitted  \\\n",
       "0       9  zamboanga del sur  zamboanga city  15.083333   F         1   \n",
       "1       9  zamboanga del sur  zamboanga city   6.583333   M         1   \n",
       "2       9  zamboanga del sur  zamboanga city   8.250000   F         1   \n",
       "\n",
       "      DAdmit     DOnset Type ClinClass  ... Outcome DateDied Icd10Code  \\\n",
       "0 2013-01-05 2012-12-31  DHF       NaN  ...       A      NaN       A90   \n",
       "1 2013-01-01 2012-12-29  DSS       NaN  ...       A      NaN       NaN   \n",
       "2 2013-02-28 2013-02-25    N       NaN  ...       A      NaN       A90   \n",
       "\n",
       "  MorbidityMonth  MorbidityWeek  Year  Barangay start_of_week Age_Category  \\\n",
       "0              1              1  2013    boalan    2013-01-01        15-19   \n",
       "1              1              1  2013    boalan    2013-01-01          5-9   \n",
       "2              2              9  2013    boalan    2013-02-25          5-9   \n",
       "\n",
       "    ADM4_PCODE  \n",
       "0  PH097332010  \n",
       "1  PH097332010  \n",
       "2  PH097332010  \n",
       "\n",
       "[3 rows x 21 columns]"
      ]
     },
     "execution_count": 19,
     "metadata": {},
     "output_type": "execute_result"
    }
   ],
   "source": [
    "dengue_w_aoi = dengue_df.merge(aoi, left_on=lgu_area_cols, right_on=aoi_area_cols)\n",
    "dengue_w_aoi = dengue_w_aoi.drop(\n",
    "    columns=[\n",
    "        \"ADM1_EN\",\n",
    "        \"ADM1_PCODE\",\n",
    "        \"ADM2_EN\",\n",
    "        \"ADM2_PCODE\",\n",
    "        \"ADM3_EN\",\n",
    "        \"ADM3_PCODE\",\n",
    "        \"ADM4_EN\",\n",
    "        \"geometry\",\n",
    "    ]\n",
    ")\n",
    "dengue_w_aoi.head(3)"
   ]
  },
  {
   "cell_type": "markdown",
   "metadata": {},
   "source": [
    "Only two cases were not matched"
   ]
  },
  {
   "cell_type": "code",
   "execution_count": 20,
   "metadata": {},
   "outputs": [
    {
     "data": {
      "text/plain": [
       "(24934, 21)"
      ]
     },
     "execution_count": 20,
     "metadata": {},
     "output_type": "execute_result"
    }
   ],
   "source": [
    "dengue_w_aoi.shape"
   ]
  },
  {
   "cell_type": "code",
   "execution_count": 21,
   "metadata": {},
   "outputs": [
    {
     "data": {
      "text/plain": [
       "97"
      ]
     },
     "execution_count": 21,
     "metadata": {},
     "output_type": "execute_result"
    }
   ],
   "source": [
    "dengue_w_aoi[\"ADM4_PCODE\"].nunique()"
   ]
  },
  {
   "cell_type": "markdown",
   "metadata": {},
   "source": [
    "## Visualizations of Cases"
   ]
  },
  {
   "cell_type": "markdown",
   "metadata": {},
   "source": [
    "### Number of Cases over time\n",
    "\n",
    "Aggregate by Date for now."
   ]
  },
  {
   "cell_type": "code",
   "execution_count": 23,
   "metadata": {},
   "outputs": [
    {
     "data": {
      "text/html": [
       "<div>\n",
       "<style scoped>\n",
       "    .dataframe tbody tr th:only-of-type {\n",
       "        vertical-align: middle;\n",
       "    }\n",
       "\n",
       "    .dataframe tbody tr th {\n",
       "        vertical-align: top;\n",
       "    }\n",
       "\n",
       "    .dataframe thead th {\n",
       "        text-align: right;\n",
       "    }\n",
       "</style>\n",
       "<table border=\"1\" class=\"dataframe\">\n",
       "  <thead>\n",
       "    <tr style=\"text-align: right;\">\n",
       "      <th></th>\n",
       "      <th>start_of_week</th>\n",
       "      <th>NumCases</th>\n",
       "    </tr>\n",
       "  </thead>\n",
       "  <tbody>\n",
       "    <tr>\n",
       "      <th>0</th>\n",
       "      <td>2013-01-01</td>\n",
       "      <td>66</td>\n",
       "    </tr>\n",
       "    <tr>\n",
       "      <th>1</th>\n",
       "      <td>2013-01-07</td>\n",
       "      <td>77</td>\n",
       "    </tr>\n",
       "    <tr>\n",
       "      <th>2</th>\n",
       "      <td>2013-01-14</td>\n",
       "      <td>83</td>\n",
       "    </tr>\n",
       "    <tr>\n",
       "      <th>3</th>\n",
       "      <td>2013-01-21</td>\n",
       "      <td>75</td>\n",
       "    </tr>\n",
       "    <tr>\n",
       "      <th>4</th>\n",
       "      <td>2013-01-28</td>\n",
       "      <td>85</td>\n",
       "    </tr>\n",
       "    <tr>\n",
       "      <th>...</th>\n",
       "      <td>...</td>\n",
       "      <td>...</td>\n",
       "    </tr>\n",
       "    <tr>\n",
       "      <th>470</th>\n",
       "      <td>2021-11-29</td>\n",
       "      <td>27</td>\n",
       "    </tr>\n",
       "    <tr>\n",
       "      <th>471</th>\n",
       "      <td>2021-12-06</td>\n",
       "      <td>26</td>\n",
       "    </tr>\n",
       "    <tr>\n",
       "      <th>472</th>\n",
       "      <td>2021-12-13</td>\n",
       "      <td>35</td>\n",
       "    </tr>\n",
       "    <tr>\n",
       "      <th>473</th>\n",
       "      <td>2021-12-20</td>\n",
       "      <td>27</td>\n",
       "    </tr>\n",
       "    <tr>\n",
       "      <th>474</th>\n",
       "      <td>2021-12-27</td>\n",
       "      <td>26</td>\n",
       "    </tr>\n",
       "  </tbody>\n",
       "</table>\n",
       "<p>475 rows × 2 columns</p>\n",
       "</div>"
      ],
      "text/plain": [
       "    start_of_week  NumCases\n",
       "0      2013-01-01        66\n",
       "1      2013-01-07        77\n",
       "2      2013-01-14        83\n",
       "3      2013-01-21        75\n",
       "4      2013-01-28        85\n",
       "..            ...       ...\n",
       "470    2021-11-29        27\n",
       "471    2021-12-06        26\n",
       "472    2021-12-13        35\n",
       "473    2021-12-20        27\n",
       "474    2021-12-27        26\n",
       "\n",
       "[475 rows x 2 columns]"
      ]
     },
     "execution_count": 23,
     "metadata": {},
     "output_type": "execute_result"
    }
   ],
   "source": [
    "agg_dengue_df = dengue_df.groupby([\"start_of_week\"]).size().reset_index(name=\"NumCases\")\n",
    "# add week date\n",
    "\n",
    "agg_dengue_df"
   ]
  },
  {
   "cell_type": "code",
   "execution_count": 24,
   "metadata": {},
   "outputs": [
    {
     "data": {
      "text/html": [
       "<div>\n",
       "<style scoped>\n",
       "    .dataframe tbody tr th:only-of-type {\n",
       "        vertical-align: middle;\n",
       "    }\n",
       "\n",
       "    .dataframe tbody tr th {\n",
       "        vertical-align: top;\n",
       "    }\n",
       "\n",
       "    .dataframe thead th {\n",
       "        text-align: right;\n",
       "    }\n",
       "</style>\n",
       "<table border=\"1\" class=\"dataframe\">\n",
       "  <thead>\n",
       "    <tr style=\"text-align: right;\">\n",
       "      <th></th>\n",
       "      <th>NumCases</th>\n",
       "    </tr>\n",
       "  </thead>\n",
       "  <tbody>\n",
       "    <tr>\n",
       "      <th>count</th>\n",
       "      <td>475.000000</td>\n",
       "    </tr>\n",
       "    <tr>\n",
       "      <th>mean</th>\n",
       "      <td>52.496842</td>\n",
       "    </tr>\n",
       "    <tr>\n",
       "      <th>std</th>\n",
       "      <td>53.738128</td>\n",
       "    </tr>\n",
       "    <tr>\n",
       "      <th>min</th>\n",
       "      <td>1.000000</td>\n",
       "    </tr>\n",
       "    <tr>\n",
       "      <th>25%</th>\n",
       "      <td>16.500000</td>\n",
       "    </tr>\n",
       "    <tr>\n",
       "      <th>50%</th>\n",
       "      <td>41.000000</td>\n",
       "    </tr>\n",
       "    <tr>\n",
       "      <th>75%</th>\n",
       "      <td>71.000000</td>\n",
       "    </tr>\n",
       "    <tr>\n",
       "      <th>max</th>\n",
       "      <td>391.000000</td>\n",
       "    </tr>\n",
       "  </tbody>\n",
       "</table>\n",
       "</div>"
      ],
      "text/plain": [
       "         NumCases\n",
       "count  475.000000\n",
       "mean    52.496842\n",
       "std     53.738128\n",
       "min      1.000000\n",
       "25%     16.500000\n",
       "50%     41.000000\n",
       "75%     71.000000\n",
       "max    391.000000"
      ]
     },
     "execution_count": 24,
     "metadata": {},
     "output_type": "execute_result"
    }
   ],
   "source": [
    "# get summary stats\n",
    "agg_dengue_df.describe()"
   ]
  },
  {
   "cell_type": "code",
   "execution_count": 25,
   "metadata": {},
   "outputs": [
    {
     "data": {
      "image/png": "[encoded data removed]",
      "text/plain": [
       "<Figure size 640x480 with 1 Axes>"
      ]
     },
     "metadata": {},
     "output_type": "display_data"
    }
   ],
   "source": [
    "sns.lineplot(x=\"start_of_week\", y=\"NumCases\", data=agg_dengue_df)\n",
    "\n",
    "# Add a horizontal line for the threshold\n",
    "plt.axhline(75, color=\"red\", linestyle=\"--\", label=\"Threshold\")\n",
    "# Show the plot\n",
    "plt.show()"
   ]
  },
  {
   "cell_type": "code",
   "execution_count": null,
   "metadata": {},
   "outputs": [],
   "source": [
    "# Define the threshold\n",
    "threshold = 75\n",
    "\n",
    "# Extract unique years from the 'start_of_week' column\n",
    "years = agg_dengue_df[\"start_of_week\"].dt.year.unique()\n",
    "\n",
    "y_min = agg_dengue_df[\"NumCases\"].min()\n",
    "y_max = agg_dengue_df[\"NumCases\"].max()\n",
    "\n",
    "# Calculate the number of rows and columns for subplots\n",
    "num_rows = len(years) // 2 + (len(years) % 2)  # Adjust for odd number of years\n",
    "num_cols = 2\n",
    "\n",
    "# Create a single figure with subplots arranged in two columns\n",
    "fig, axes = plt.subplots(nrows=num_rows, ncols=num_cols, figsize=(12, 6 * num_rows))\n",
    "\n",
    "# Flatten the axes array for ease of indexing\n",
    "axes = axes.flatten()\n",
    "\n",
    "for i, year in enumerate(years):\n",
    "    ax = axes[i]\n",
    "    if i >= len(years):\n",
    "        ax.axis(\"off\")  # Turn off unused subplots\n",
    "        continue\n",
    "\n",
    "    ax.set_title(f\"Dengue Cases in {year}\")\n",
    "\n",
    "    # Filter the data for the current year\n",
    "    year_data = agg_dengue_df[agg_dengue_df[\"start_of_week\"].dt.year == year]\n",
    "\n",
    "    # Create a Seaborn line plot for the current year's data\n",
    "    sns.lineplot(\n",
    "        x=\"start_of_week\",\n",
    "        y=\"NumCases\",\n",
    "        data=year_data,\n",
    "        marker=\"o\",\n",
    "        label=\"NumCases\",\n",
    "        ax=ax,\n",
    "    )\n",
    "\n",
    "    # Add a horizontal line for the threshold\n",
    "    ax.axhline(threshold, color=\"red\", linestyle=\"--\", label=\"Threshold\")\n",
    "    ax.set_ylim(y_min, y_max)\n",
    "\n",
    "    # Customize the plot\n",
    "    ax.set_xlabel(\"Start of Week\")\n",
    "    ax.set_ylabel(\"Number of Cases\")\n",
    "    ax.legend()\n",
    "\n",
    "# Adjust the layout to prevent overlap of subplots\n",
    "plt.tight_layout()\n",
    "\n",
    "# Show the combined figure with subplots\n",
    "plt.show()"
   ]
  },
  {
   "cell_type": "markdown",
   "metadata": {},
   "source": [
    "### Trends of cases per sex\n",
    "\n",
    "Check if there will be a difference in trend for age groups. If no difference, then proceed as is with aggregation of cases. If there is a difference, then might need to consider creating a separate model."
   ]
  },
  {
   "cell_type": "code",
   "execution_count": 28,
   "metadata": {},
   "outputs": [
    {
     "data": {
      "text/html": [
       "<div>\n",
       "<style scoped>\n",
       "    .dataframe tbody tr th:only-of-type {\n",
       "        vertical-align: middle;\n",
       "    }\n",
       "\n",
       "    .dataframe tbody tr th {\n",
       "        vertical-align: top;\n",
       "    }\n",
       "\n",
       "    .dataframe thead th {\n",
       "        text-align: right;\n",
       "    }\n",
       "</style>\n",
       "<table border=\"1\" class=\"dataframe\">\n",
       "  <thead>\n",
       "    <tr style=\"text-align: right;\">\n",
       "      <th></th>\n",
       "      <th>start_of_week</th>\n",
       "      <th>Sex</th>\n",
       "      <th>NumCases</th>\n",
       "    </tr>\n",
       "  </thead>\n",
       "  <tbody>\n",
       "    <tr>\n",
       "      <th>0</th>\n",
       "      <td>2013-01-01</td>\n",
       "      <td>F</td>\n",
       "      <td>28</td>\n",
       "    </tr>\n",
       "    <tr>\n",
       "      <th>1</th>\n",
       "      <td>2013-01-01</td>\n",
       "      <td>M</td>\n",
       "      <td>38</td>\n",
       "    </tr>\n",
       "    <tr>\n",
       "      <th>2</th>\n",
       "      <td>2013-01-07</td>\n",
       "      <td>F</td>\n",
       "      <td>34</td>\n",
       "    </tr>\n",
       "    <tr>\n",
       "      <th>3</th>\n",
       "      <td>2013-01-07</td>\n",
       "      <td>M</td>\n",
       "      <td>43</td>\n",
       "    </tr>\n",
       "    <tr>\n",
       "      <th>4</th>\n",
       "      <td>2013-01-14</td>\n",
       "      <td>F</td>\n",
       "      <td>38</td>\n",
       "    </tr>\n",
       "    <tr>\n",
       "      <th>...</th>\n",
       "      <td>...</td>\n",
       "      <td>...</td>\n",
       "      <td>...</td>\n",
       "    </tr>\n",
       "    <tr>\n",
       "      <th>928</th>\n",
       "      <td>2021-12-13</td>\n",
       "      <td>M</td>\n",
       "      <td>18</td>\n",
       "    </tr>\n",
       "    <tr>\n",
       "      <th>929</th>\n",
       "      <td>2021-12-20</td>\n",
       "      <td>F</td>\n",
       "      <td>13</td>\n",
       "    </tr>\n",
       "    <tr>\n",
       "      <th>930</th>\n",
       "      <td>2021-12-20</td>\n",
       "      <td>M</td>\n",
       "      <td>14</td>\n",
       "    </tr>\n",
       "    <tr>\n",
       "      <th>931</th>\n",
       "      <td>2021-12-27</td>\n",
       "      <td>F</td>\n",
       "      <td>13</td>\n",
       "    </tr>\n",
       "    <tr>\n",
       "      <th>932</th>\n",
       "      <td>2021-12-27</td>\n",
       "      <td>M</td>\n",
       "      <td>13</td>\n",
       "    </tr>\n",
       "  </tbody>\n",
       "</table>\n",
       "<p>933 rows × 3 columns</p>\n",
       "</div>"
      ],
      "text/plain": [
       "    start_of_week Sex  NumCases\n",
       "0      2013-01-01   F        28\n",
       "1      2013-01-01   M        38\n",
       "2      2013-01-07   F        34\n",
       "3      2013-01-07   M        43\n",
       "4      2013-01-14   F        38\n",
       "..            ...  ..       ...\n",
       "928    2021-12-13   M        18\n",
       "929    2021-12-20   F        13\n",
       "930    2021-12-20   M        14\n",
       "931    2021-12-27   F        13\n",
       "932    2021-12-27   M        13\n",
       "\n",
       "[933 rows x 3 columns]"
      ]
     },
     "execution_count": 28,
     "metadata": {},
     "output_type": "execute_result"
    }
   ],
   "source": [
    "agg_sex_dengue_df = (\n",
    "    dengue_df.groupby([\"start_of_week\", \"Sex\"]).size().reset_index(name=\"NumCases\")\n",
    ")\n",
    "agg_sex_dengue_df"
   ]
  },
  {
   "cell_type": "markdown",
   "metadata": {},
   "source": [
    "Different sex does not vary on the historical trend. No need for separate models."
   ]
  },
  {
   "cell_type": "code",
   "execution_count": null,
   "metadata": {},
   "outputs": [],
   "source": [
    "sns.lineplot(x=\"start_of_week\", y=\"NumCases\", hue=\"Sex\", data=agg_sex_dengue_df)"
   ]
  },
  {
   "cell_type": "markdown",
   "metadata": {},
   "source": [
    "### Plot by Age group\n",
    "\n",
    "Check if trends would vary for different age groups"
   ]
  },
  {
   "cell_type": "code",
   "execution_count": 30,
   "metadata": {},
   "outputs": [
    {
     "data": {
      "text/plain": [
       "5-9      6146\n",
       "10-14    4787\n",
       "1-4      3683\n",
       "15-19    3431\n",
       "20-24    1947\n",
       "25-29    1235\n",
       "30-34     798\n",
       "<1        635\n",
       "35-39     527\n",
       "40-44     408\n",
       "45-49     299\n",
       "50-54     267\n",
       "55-59     212\n",
       "70+       203\n",
       "60-64     185\n",
       "65-69     146\n",
       "Name: Age_Category, dtype: int64"
      ]
     },
     "execution_count": 30,
     "metadata": {},
     "output_type": "execute_result"
    }
   ],
   "source": [
    "dengue_df[\"Age_Category\"].value_counts()"
   ]
  },
  {
   "cell_type": "code",
   "execution_count": 31,
   "metadata": {},
   "outputs": [
    {
     "data": {
      "text/html": [
       "<div>\n",
       "<style scoped>\n",
       "    .dataframe tbody tr th:only-of-type {\n",
       "        vertical-align: middle;\n",
       "    }\n",
       "\n",
       "    .dataframe tbody tr th {\n",
       "        vertical-align: top;\n",
       "    }\n",
       "\n",
       "    .dataframe thead th {\n",
       "        text-align: right;\n",
       "    }\n",
       "</style>\n",
       "<table border=\"1\" class=\"dataframe\">\n",
       "  <thead>\n",
       "    <tr style=\"text-align: right;\">\n",
       "      <th></th>\n",
       "      <th>start_of_week</th>\n",
       "      <th>Age_Category</th>\n",
       "      <th>NumCases</th>\n",
       "    </tr>\n",
       "  </thead>\n",
       "  <tbody>\n",
       "    <tr>\n",
       "      <th>0</th>\n",
       "      <td>2013-01-01</td>\n",
       "      <td>&lt;1</td>\n",
       "      <td>2</td>\n",
       "    </tr>\n",
       "    <tr>\n",
       "      <th>1</th>\n",
       "      <td>2013-01-01</td>\n",
       "      <td>1-4</td>\n",
       "      <td>4</td>\n",
       "    </tr>\n",
       "    <tr>\n",
       "      <th>2</th>\n",
       "      <td>2013-01-01</td>\n",
       "      <td>5-9</td>\n",
       "      <td>14</td>\n",
       "    </tr>\n",
       "  </tbody>\n",
       "</table>\n",
       "</div>"
      ],
      "text/plain": [
       "  start_of_week Age_Category  NumCases\n",
       "0    2013-01-01           <1         2\n",
       "1    2013-01-01          1-4         4\n",
       "2    2013-01-01          5-9        14"
      ]
     },
     "execution_count": 31,
     "metadata": {},
     "output_type": "execute_result"
    }
   ],
   "source": [
    "agg_age_dengue_df = (\n",
    "    dengue_df.groupby([\"start_of_week\", \"Age_Category\"])\n",
    "    .size()\n",
    "    .reset_index(name=\"NumCases\")\n",
    ")\n",
    "agg_age_dengue_df.head(3)"
   ]
  },
  {
   "cell_type": "code",
   "execution_count": null,
   "metadata": {},
   "outputs": [],
   "source": [
    "sns.lineplot(\n",
    "    x=\"start_of_week\", y=\"NumCases\", hue=\"Age_Category\", data=agg_age_dengue_df\n",
    ")\n",
    "plt.axhline(threshold, color=\"red\", linestyle=\"--\", label=\"Threshold\")\n",
    "plt.show()"
   ]
  },
  {
   "cell_type": "markdown",
   "metadata": {},
   "source": [
    "## Setting the definition of Threshold\n",
    "\n",
    "EM recommendation for threshold: 75th percentile of top 10 municipalities. "
   ]
  },
  {
   "cell_type": "code",
   "execution_count": 33,
   "metadata": {},
   "outputs": [
    {
     "data": {
      "text/html": [
       "<div>\n",
       "<style scoped>\n",
       "    .dataframe tbody tr th:only-of-type {\n",
       "        vertical-align: middle;\n",
       "    }\n",
       "\n",
       "    .dataframe tbody tr th {\n",
       "        vertical-align: top;\n",
       "    }\n",
       "\n",
       "    .dataframe thead th {\n",
       "        text-align: right;\n",
       "    }\n",
       "</style>\n",
       "<table border=\"1\" class=\"dataframe\">\n",
       "  <thead>\n",
       "    <tr style=\"text-align: right;\">\n",
       "      <th></th>\n",
       "      <th>start_of_week</th>\n",
       "      <th>ADM4_PCODE</th>\n",
       "      <th>NumCases</th>\n",
       "    </tr>\n",
       "  </thead>\n",
       "  <tbody>\n",
       "    <tr>\n",
       "      <th>0</th>\n",
       "      <td>2013-01-01</td>\n",
       "      <td>PH097332004</td>\n",
       "      <td>2</td>\n",
       "    </tr>\n",
       "    <tr>\n",
       "      <th>1</th>\n",
       "      <td>2013-01-01</td>\n",
       "      <td>PH097332010</td>\n",
       "      <td>2</td>\n",
       "    </tr>\n",
       "    <tr>\n",
       "      <th>2</th>\n",
       "      <td>2013-01-01</td>\n",
       "      <td>PH097332013</td>\n",
       "      <td>2</td>\n",
       "    </tr>\n",
       "  </tbody>\n",
       "</table>\n",
       "</div>"
      ],
      "text/plain": [
       "  start_of_week   ADM4_PCODE  NumCases\n",
       "0    2013-01-01  PH097332004         2\n",
       "1    2013-01-01  PH097332010         2\n",
       "2    2013-01-01  PH097332013         2"
      ]
     },
     "execution_count": 33,
     "metadata": {},
     "output_type": "execute_result"
    }
   ],
   "source": [
    "brgy_weekly = (\n",
    "    dengue_w_aoi.groupby([\"start_of_week\", \"ADM4_PCODE\"])\n",
    "    .size()\n",
    "    .reset_index(name=\"NumCases\")\n",
    ")\n",
    "brgy_weekly.head(3)"
   ]
  },
  {
   "cell_type": "code",
   "execution_count": 34,
   "metadata": {},
   "outputs": [
    {
     "data": {
      "text/plain": [
       "count      97.000000\n",
       "mean      257.051546\n",
       "std       338.763388\n",
       "min         2.000000\n",
       "25%        23.000000\n",
       "50%       104.000000\n",
       "75%       307.000000\n",
       "max      1395.000000\n",
       "Name: NumCases, dtype: float64"
      ]
     },
     "execution_count": 34,
     "metadata": {},
     "output_type": "execute_result"
    }
   ],
   "source": [
    "brgy_all = dengue_w_aoi.groupby([\"ADM4_PCODE\"]).size().reset_index(name=\"NumCases\")\n",
    "brgy_all[\"NumCases\"].describe()"
   ]
  },
  {
   "cell_type": "markdown",
   "metadata": {},
   "source": [
    "FINAL THRESHOLD DEF\n",
    "- get top 5\n",
    "- get 75th percentile for weekly cases\n",
    "- new threshold --- to disregard barangays with low cases\n",
    "\n",
    "- add to slides"
   ]
  },
  {
   "cell_type": "code",
   "execution_count": 116,
   "metadata": {},
   "outputs": [],
   "source": [
    "top5 = brgy_all.sort_values(by=\"NumCases\", ascending=False).head(5)\n",
    "top5_brgy_list = top5[\"ADM4_PCODE\"].tolist()"
   ]
  },
  {
   "cell_type": "code",
   "execution_count": 117,
   "metadata": {},
   "outputs": [
    {
     "data": {
      "text/html": [
       "<div>\n",
       "<style scoped>\n",
       "    .dataframe tbody tr th:only-of-type {\n",
       "        vertical-align: middle;\n",
       "    }\n",
       "\n",
       "    .dataframe tbody tr th {\n",
       "        vertical-align: top;\n",
       "    }\n",
       "\n",
       "    .dataframe thead th {\n",
       "        text-align: right;\n",
       "    }\n",
       "</style>\n",
       "<table border=\"1\" class=\"dataframe\">\n",
       "  <thead>\n",
       "    <tr style=\"text-align: right;\">\n",
       "      <th></th>\n",
       "      <th>ADM4_PCODE</th>\n",
       "      <th>NumCases</th>\n",
       "    </tr>\n",
       "  </thead>\n",
       "  <tbody>\n",
       "    <tr>\n",
       "      <th>79</th>\n",
       "      <td>PH097332087</td>\n",
       "      <td>1395</td>\n",
       "    </tr>\n",
       "    <tr>\n",
       "      <th>77</th>\n",
       "      <td>PH097332085</td>\n",
       "      <td>1281</td>\n",
       "    </tr>\n",
       "    <tr>\n",
       "      <th>13</th>\n",
       "      <td>PH097332019</td>\n",
       "      <td>1261</td>\n",
       "    </tr>\n",
       "    <tr>\n",
       "      <th>68</th>\n",
       "      <td>PH097332076</td>\n",
       "      <td>1163</td>\n",
       "    </tr>\n",
       "    <tr>\n",
       "      <th>86</th>\n",
       "      <td>PH097332094</td>\n",
       "      <td>1124</td>\n",
       "    </tr>\n",
       "  </tbody>\n",
       "</table>\n",
       "</div>"
      ],
      "text/plain": [
       "     ADM4_PCODE  NumCases\n",
       "79  PH097332087      1395\n",
       "77  PH097332085      1281\n",
       "13  PH097332019      1261\n",
       "68  PH097332076      1163\n",
       "86  PH097332094      1124"
      ]
     },
     "execution_count": 117,
     "metadata": {},
     "output_type": "execute_result"
    }
   ],
   "source": [
    "top5"
   ]
  },
  {
   "cell_type": "code",
   "execution_count": 118,
   "metadata": {},
   "outputs": [
    {
     "data": {
      "text/plain": [
       "['PH097332087', 'PH097332085', 'PH097332019', 'PH097332076', 'PH097332094']"
      ]
     },
     "execution_count": 118,
     "metadata": {},
     "output_type": "execute_result"
    }
   ],
   "source": [
    "top5_brgy_list"
   ]
  },
  {
   "cell_type": "code",
   "execution_count": 121,
   "metadata": {},
   "outputs": [
    {
     "data": {
      "text/html": [
       "<div>\n",
       "<style scoped>\n",
       "    .dataframe tbody tr th:only-of-type {\n",
       "        vertical-align: middle;\n",
       "    }\n",
       "\n",
       "    .dataframe tbody tr th {\n",
       "        vertical-align: top;\n",
       "    }\n",
       "\n",
       "    .dataframe thead th {\n",
       "        text-align: right;\n",
       "    }\n",
       "</style>\n",
       "<table border=\"1\" class=\"dataframe\">\n",
       "  <thead>\n",
       "    <tr style=\"text-align: right;\">\n",
       "      <th></th>\n",
       "      <th>start_of_week</th>\n",
       "      <th>ADM4_PCODE</th>\n",
       "      <th>NumCases</th>\n",
       "    </tr>\n",
       "  </thead>\n",
       "  <tbody>\n",
       "    <tr>\n",
       "      <th>0</th>\n",
       "      <td>2013-01-01</td>\n",
       "      <td>PH097332076</td>\n",
       "      <td>4</td>\n",
       "    </tr>\n",
       "    <tr>\n",
       "      <th>1</th>\n",
       "      <td>2013-01-01</td>\n",
       "      <td>PH097332085</td>\n",
       "      <td>5</td>\n",
       "    </tr>\n",
       "    <tr>\n",
       "      <th>2</th>\n",
       "      <td>2013-01-01</td>\n",
       "      <td>PH097332087</td>\n",
       "      <td>7</td>\n",
       "    </tr>\n",
       "    <tr>\n",
       "      <th>3</th>\n",
       "      <td>2013-01-01</td>\n",
       "      <td>PH097332094</td>\n",
       "      <td>4</td>\n",
       "    </tr>\n",
       "    <tr>\n",
       "      <th>4</th>\n",
       "      <td>2013-01-07</td>\n",
       "      <td>PH097332019</td>\n",
       "      <td>4</td>\n",
       "    </tr>\n",
       "    <tr>\n",
       "      <th>...</th>\n",
       "      <td>...</td>\n",
       "      <td>...</td>\n",
       "      <td>...</td>\n",
       "    </tr>\n",
       "    <tr>\n",
       "      <th>1701</th>\n",
       "      <td>2021-12-20</td>\n",
       "      <td>PH097332087</td>\n",
       "      <td>2</td>\n",
       "    </tr>\n",
       "    <tr>\n",
       "      <th>1702</th>\n",
       "      <td>2021-12-20</td>\n",
       "      <td>PH097332094</td>\n",
       "      <td>1</td>\n",
       "    </tr>\n",
       "    <tr>\n",
       "      <th>1703</th>\n",
       "      <td>2021-12-27</td>\n",
       "      <td>PH097332019</td>\n",
       "      <td>3</td>\n",
       "    </tr>\n",
       "    <tr>\n",
       "      <th>1704</th>\n",
       "      <td>2021-12-27</td>\n",
       "      <td>PH097332085</td>\n",
       "      <td>2</td>\n",
       "    </tr>\n",
       "    <tr>\n",
       "      <th>1705</th>\n",
       "      <td>2021-12-27</td>\n",
       "      <td>PH097332087</td>\n",
       "      <td>1</td>\n",
       "    </tr>\n",
       "  </tbody>\n",
       "</table>\n",
       "<p>1706 rows × 3 columns</p>\n",
       "</div>"
      ],
      "text/plain": [
       "     start_of_week   ADM4_PCODE  NumCases\n",
       "0       2013-01-01  PH097332076         4\n",
       "1       2013-01-01  PH097332085         5\n",
       "2       2013-01-01  PH097332087         7\n",
       "3       2013-01-01  PH097332094         4\n",
       "4       2013-01-07  PH097332019         4\n",
       "...            ...          ...       ...\n",
       "1701    2021-12-20  PH097332087         2\n",
       "1702    2021-12-20  PH097332094         1\n",
       "1703    2021-12-27  PH097332019         3\n",
       "1704    2021-12-27  PH097332085         2\n",
       "1705    2021-12-27  PH097332087         1\n",
       "\n",
       "[1706 rows x 3 columns]"
      ]
     },
     "execution_count": 121,
     "metadata": {},
     "output_type": "execute_result"
    }
   ],
   "source": [
    "dengue_w_aoi_topbrgy = dengue_w_aoi[dengue_w_aoi[\"ADM4_PCODE\"].isin(top5_brgy_list)]\n",
    "brgy_top5_weekly = (\n",
    "    dengue_w_aoi_topbrgy.groupby([\"start_of_week\", \"ADM4_PCODE\"])\n",
    "    .size()\n",
    "    .reset_index(name=\"NumCases\")\n",
    ")\n",
    "brgy_top5_weekly"
   ]
  },
  {
   "cell_type": "code",
   "execution_count": 122,
   "metadata": {},
   "outputs": [
    {
     "data": {
      "text/plain": [
       "count    1706.000000\n",
       "mean        3.648300\n",
       "std         3.200713\n",
       "min         1.000000\n",
       "25%         1.000000\n",
       "50%         3.000000\n",
       "75%         5.000000\n",
       "max        27.000000\n",
       "Name: NumCases, dtype: float64"
      ]
     },
     "execution_count": 122,
     "metadata": {},
     "output_type": "execute_result"
    }
   ],
   "source": [
    "brgy_top5_weekly[\"NumCases\"].describe()"
   ]
  },
  {
   "cell_type": "code",
   "execution_count": null,
   "metadata": {},
   "outputs": [],
   "source": [
    "sns.lineplot(x=\"start_of_week\", y=\"NumCases\", data=brgy_weekly, hue=\"ADM4_PCODE\")\n",
    "\n",
    "# Add a horizontal line for the threshold\n",
    "plt.axhline(5, color=\"red\", linestyle=\"--\", label=\"Threshold\")\n",
    "# Show the plot\n",
    "plt.show()"
   ]
  },
  {
   "cell_type": "code",
   "execution_count": 38,
   "metadata": {},
   "outputs": [
    {
     "data": {
      "text/plain": [
       "count    11074.000000\n",
       "mean         2.251580\n",
       "std          2.147103\n",
       "min          1.000000\n",
       "25%          1.000000\n",
       "50%          1.000000\n",
       "75%          3.000000\n",
       "max         27.000000\n",
       "Name: NumCases, dtype: float64"
      ]
     },
     "execution_count": 38,
     "metadata": {},
     "output_type": "execute_result"
    }
   ],
   "source": [
    "brgy_weekly[\"NumCases\"].describe()"
   ]
  },
  {
   "cell_type": "markdown",
   "metadata": {},
   "source": [
    "## Preparing Aggregated Table (Brgy-Weekly)"
   ]
  },
  {
   "cell_type": "code",
   "execution_count": 36,
   "metadata": {},
   "outputs": [
    {
     "data": {
      "text/html": [
       "<div>\n",
       "<style scoped>\n",
       "    .dataframe tbody tr th:only-of-type {\n",
       "        vertical-align: middle;\n",
       "    }\n",
       "\n",
       "    .dataframe tbody tr th {\n",
       "        vertical-align: top;\n",
       "    }\n",
       "\n",
       "    .dataframe thead th {\n",
       "        text-align: right;\n",
       "    }\n",
       "</style>\n",
       "<table border=\"1\" class=\"dataframe\">\n",
       "  <thead>\n",
       "    <tr style=\"text-align: right;\">\n",
       "      <th></th>\n",
       "      <th>start_of_week</th>\n",
       "      <th>ADM4_PCODE</th>\n",
       "      <th>NumCases</th>\n",
       "    </tr>\n",
       "  </thead>\n",
       "  <tbody>\n",
       "    <tr>\n",
       "      <th>0</th>\n",
       "      <td>2013-01-01</td>\n",
       "      <td>PH097332004</td>\n",
       "      <td>2</td>\n",
       "    </tr>\n",
       "    <tr>\n",
       "      <th>1</th>\n",
       "      <td>2013-01-01</td>\n",
       "      <td>PH097332010</td>\n",
       "      <td>2</td>\n",
       "    </tr>\n",
       "    <tr>\n",
       "      <th>2</th>\n",
       "      <td>2013-01-01</td>\n",
       "      <td>PH097332013</td>\n",
       "      <td>2</td>\n",
       "    </tr>\n",
       "  </tbody>\n",
       "</table>\n",
       "</div>"
      ],
      "text/plain": [
       "  start_of_week   ADM4_PCODE  NumCases\n",
       "0    2013-01-01  PH097332004         2\n",
       "1    2013-01-01  PH097332010         2\n",
       "2    2013-01-01  PH097332013         2"
      ]
     },
     "execution_count": 36,
     "metadata": {},
     "output_type": "execute_result"
    }
   ],
   "source": [
    "brgy_weekly = (\n",
    "    dengue_w_aoi.groupby([\"start_of_week\", \"ADM4_PCODE\"])\n",
    "    .size()\n",
    "    .reset_index(name=\"NumCases\")\n",
    ")\n",
    "brgy_weekly.head(3)"
   ]
  },
  {
   "cell_type": "code",
   "execution_count": 39,
   "metadata": {},
   "outputs": [
    {
     "data": {
      "text/plain": [
       "(11074, 3)"
      ]
     },
     "execution_count": 39,
     "metadata": {},
     "output_type": "execute_result"
    }
   ],
   "source": [
    "brgy_weekly.shape"
   ]
  },
  {
   "cell_type": "code",
   "execution_count": 40,
   "metadata": {},
   "outputs": [
    {
     "data": {
      "text/plain": [
       "97"
      ]
     },
     "execution_count": 40,
     "metadata": {},
     "output_type": "execute_result"
    }
   ],
   "source": [
    "brgy_weekly[\"ADM4_PCODE\"].nunique()"
   ]
  },
  {
   "cell_type": "markdown",
   "metadata": {},
   "source": [
    "### Add missing dates"
   ]
  },
  {
   "cell_type": "code",
   "execution_count": 41,
   "metadata": {},
   "outputs": [],
   "source": [
    "# Create a complete date range with weekly frequency\n",
    "complete_date_range = pd.date_range(start=\"2013-01-01\", end=\"2021-12-31\", freq=\"W-MON\")\n",
    "\n",
    "# Convert your DataFrame to have a MultiIndex\n",
    "brgy_weekly = brgy_weekly.set_index([\"start_of_week\", \"ADM4_PCODE\"])\n",
    "\n",
    "# Reindex with the complete date range\n",
    "brgy_weekly = brgy_weekly.reindex(\n",
    "    pd.MultiIndex.from_product(\n",
    "        [complete_date_range, brgy_weekly.index.levels[1]],\n",
    "        names=[\"start_of_week\", \"ADM4_PCODE\"],\n",
    "    )\n",
    ")\n",
    "\n",
    "# Reset the index to make 'start_of_week' and 'ADM4_PCODE' columns again\n",
    "brgy_weekly = brgy_weekly.reset_index()\n",
    "\n",
    "# Fill missing values in 'ADM4_PCODE' and 'NumCases' columns\n",
    "brgy_weekly[\"ADM4_PCODE\"].fillna(method=\"bfill\", inplace=True)\n",
    "brgy_weekly[\"NumCases\"].fillna(0, inplace=True)"
   ]
  },
  {
   "cell_type": "markdown",
   "metadata": {},
   "source": [
    "## Labeling data"
   ]
  },
  {
   "cell_type": "code",
   "execution_count": 43,
   "metadata": {},
   "outputs": [
    {
     "name": "stderr",
     "output_type": "stream",
     "text": [
      "/tmp/ipykernel_12084/2590187808.py:9: FutureWarning: iteritems is deprecated and will be removed in a future version. Use .items instead.\n",
      "  for (timestamp, barangay), total_cases in grouped.iteritems():\n"
     ]
    }
   ],
   "source": [
    "# Set your threshold value\n",
    "threshold = 5\n",
    "\n",
    "# Create a new column 'outbreak' initialized with zeros\n",
    "brgy_weekly[\"outbreak\"] = 0\n",
    "\n",
    "grouped = brgy_weekly.groupby([\"start_of_week\", \"ADM4_PCODE\"])[\"NumCases\"].sum()\n",
    "# Track consecutive weeks below threshold within each group\n",
    "for (timestamp, barangay), total_cases in grouped.iteritems():\n",
    "    group = brgy_weekly[(brgy_weekly[\"ADM4_PCODE\"] == barangay)]\n",
    "\n",
    "    consecutive_weeks_below_threshold = 0\n",
    "    previous_outbreak = False\n",
    "\n",
    "    for index, row in group.iterrows():\n",
    "        if row[\"NumCases\"] > threshold:\n",
    "            consecutive_weeks_below_threshold = 0\n",
    "            previous_outbreak = True\n",
    "            brgy_weekly.at[index, \"outbreak\"] = 1\n",
    "        else:\n",
    "            # check if previous week was an outbreak\n",
    "            # if yes, continue to tag current week as outbreak\n",
    "            # part of observation period\n",
    "            if previous_outbreak and consecutive_weeks_below_threshold < 2:\n",
    "                brgy_weekly.at[index, \"outbreak\"] = 1\n",
    "                consecutive_weeks_below_threshold += 1\n",
    "            elif consecutive_weeks_below_threshold == 2:\n",
    "                brgy_weekly.at[index, \"outbreak\"] = 0\n",
    "                previous_outbreak = False\n",
    "            else:\n",
    "                brgy_weekly.at[index, \"outbreak\"] = 0"
   ]
  },
  {
   "cell_type": "code",
   "execution_count": 44,
   "metadata": {},
   "outputs": [
    {
     "data": {
      "text/html": [
       "<div>\n",
       "<style scoped>\n",
       "    .dataframe tbody tr th:only-of-type {\n",
       "        vertical-align: middle;\n",
       "    }\n",
       "\n",
       "    .dataframe tbody tr th {\n",
       "        vertical-align: top;\n",
       "    }\n",
       "\n",
       "    .dataframe thead th {\n",
       "        text-align: right;\n",
       "    }\n",
       "</style>\n",
       "<table border=\"1\" class=\"dataframe\">\n",
       "  <thead>\n",
       "    <tr style=\"text-align: right;\">\n",
       "      <th></th>\n",
       "      <th>start_of_week</th>\n",
       "      <th>ADM4_PCODE</th>\n",
       "      <th>NumCases</th>\n",
       "      <th>outbreak</th>\n",
       "    </tr>\n",
       "  </thead>\n",
       "  <tbody>\n",
       "    <tr>\n",
       "      <th>0</th>\n",
       "      <td>2013-01-07</td>\n",
       "      <td>PH097332001</td>\n",
       "      <td>0.0</td>\n",
       "      <td>0</td>\n",
       "    </tr>\n",
       "    <tr>\n",
       "      <th>1</th>\n",
       "      <td>2013-01-07</td>\n",
       "      <td>PH097332002</td>\n",
       "      <td>3.0</td>\n",
       "      <td>0</td>\n",
       "    </tr>\n",
       "    <tr>\n",
       "      <th>2</th>\n",
       "      <td>2013-01-07</td>\n",
       "      <td>PH097332004</td>\n",
       "      <td>2.0</td>\n",
       "      <td>0</td>\n",
       "    </tr>\n",
       "    <tr>\n",
       "      <th>3</th>\n",
       "      <td>2013-01-07</td>\n",
       "      <td>PH097332005</td>\n",
       "      <td>0.0</td>\n",
       "      <td>0</td>\n",
       "    </tr>\n",
       "    <tr>\n",
       "      <th>4</th>\n",
       "      <td>2013-01-07</td>\n",
       "      <td>PH097332010</td>\n",
       "      <td>0.0</td>\n",
       "      <td>0</td>\n",
       "    </tr>\n",
       "    <tr>\n",
       "      <th>...</th>\n",
       "      <td>...</td>\n",
       "      <td>...</td>\n",
       "      <td>...</td>\n",
       "      <td>...</td>\n",
       "    </tr>\n",
       "    <tr>\n",
       "      <th>45488</th>\n",
       "      <td>2021-12-27</td>\n",
       "      <td>PH097332100</td>\n",
       "      <td>0.0</td>\n",
       "      <td>0</td>\n",
       "    </tr>\n",
       "    <tr>\n",
       "      <th>45489</th>\n",
       "      <td>2021-12-27</td>\n",
       "      <td>PH097332101</td>\n",
       "      <td>0.0</td>\n",
       "      <td>0</td>\n",
       "    </tr>\n",
       "    <tr>\n",
       "      <th>45490</th>\n",
       "      <td>2021-12-27</td>\n",
       "      <td>PH097332102</td>\n",
       "      <td>0.0</td>\n",
       "      <td>0</td>\n",
       "    </tr>\n",
       "    <tr>\n",
       "      <th>45491</th>\n",
       "      <td>2021-12-27</td>\n",
       "      <td>PH097332103</td>\n",
       "      <td>0.0</td>\n",
       "      <td>0</td>\n",
       "    </tr>\n",
       "    <tr>\n",
       "      <th>45492</th>\n",
       "      <td>2021-12-27</td>\n",
       "      <td>PH097332104</td>\n",
       "      <td>0.0</td>\n",
       "      <td>0</td>\n",
       "    </tr>\n",
       "  </tbody>\n",
       "</table>\n",
       "<p>45493 rows × 4 columns</p>\n",
       "</div>"
      ],
      "text/plain": [
       "      start_of_week   ADM4_PCODE  NumCases  outbreak\n",
       "0        2013-01-07  PH097332001       0.0         0\n",
       "1        2013-01-07  PH097332002       3.0         0\n",
       "2        2013-01-07  PH097332004       2.0         0\n",
       "3        2013-01-07  PH097332005       0.0         0\n",
       "4        2013-01-07  PH097332010       0.0         0\n",
       "...             ...          ...       ...       ...\n",
       "45488    2021-12-27  PH097332100       0.0         0\n",
       "45489    2021-12-27  PH097332101       0.0         0\n",
       "45490    2021-12-27  PH097332102       0.0         0\n",
       "45491    2021-12-27  PH097332103       0.0         0\n",
       "45492    2021-12-27  PH097332104       0.0         0\n",
       "\n",
       "[45493 rows x 4 columns]"
      ]
     },
     "execution_count": 44,
     "metadata": {},
     "output_type": "execute_result"
    }
   ],
   "source": [
    "brgy_weekly"
   ]
  },
  {
   "cell_type": "code",
   "execution_count": 44,
   "metadata": {},
   "outputs": [],
   "source": [
    "# brgy_weekly.to_csv(LGU_DIR/'brgy_weekly_zamboanga_labeled_v1.csv')"
   ]
  },
  {
   "cell_type": "code",
   "execution_count": 58,
   "metadata": {},
   "outputs": [],
   "source": [
    "test = brgy_weekly[brgy_weekly[\"ADM4_PCODE\"] == \"PH097332087\"]\n",
    "test.to_csv(LGU_DIR / \"inspect_v3.csv\")"
   ]
  },
  {
   "cell_type": "code",
   "execution_count": 46,
   "metadata": {},
   "outputs": [
    {
     "data": {
      "text/plain": [
       "0    44009\n",
       "1     1484\n",
       "Name: outbreak, dtype: int64"
      ]
     },
     "execution_count": 46,
     "metadata": {},
     "output_type": "execute_result"
    }
   ],
   "source": [
    "brgy_weekly[\"outbreak\"].value_counts(dropna=False)"
   ]
  },
  {
   "cell_type": "markdown",
   "metadata": {},
   "source": [
    "### Inspect labeled data"
   ]
  },
  {
   "cell_type": "code",
   "execution_count": 115,
   "metadata": {},
   "outputs": [
    {
     "data": {
      "image/png": "[encoded data removed]",
      "text/plain": [
       "<Figure size 640x480 with 1 Axes>"
      ]
     },
     "metadata": {},
     "output_type": "display_data"
    }
   ],
   "source": [
    "sns.lineplot(\n",
    "    x=\"start_of_week\",\n",
    "    y=\"NumCases\",\n",
    "    data=brgy_weekly[\n",
    "        (brgy_weekly[\"ADM4_PCODE\"] == \"PH097332087\")\n",
    "        & (brgy_weekly[\"start_of_week\"].dt.year == 2015)\n",
    "    ],\n",
    "    hue=\"outbreak\",\n",
    "    marker=\"o\",\n",
    ")\n",
    "# Plot the second line on the same axes\n",
    "# sns.lineplot(x=\"start_of_week\", y = \"NumCases\",\n",
    "#              data = test2_copy[(test2_copy['ADM4_PCODE'] == 'PH097332087') &\n",
    "#                                 (test2_copy['start_of_week'].dt.year==2013)])\n",
    "\n",
    "# Add a horizontal line for the threshold\n",
    "plt.axhline(5, color=\"red\", linestyle=\"--\", label=\"Threshold\")\n",
    "# Show the plot\n",
    "plt.show()"
   ]
  },
  {
   "cell_type": "code",
   "execution_count": 123,
   "metadata": {},
   "outputs": [
    {
     "name": "stderr",
     "output_type": "stream",
     "text": [
      "/tmp/ipykernel_12084/2326024237.py:1: SettingWithCopyWarning: \n",
      "A value is trying to be set on a copy of a slice from a DataFrame.\n",
      "Try using .loc[row_indexer,col_indexer] = value instead\n",
      "\n",
      "See the caveats in the documentation: https://pandas.pydata.org/pandas-docs/stable/user_guide/indexing.html#returning-a-view-versus-a-copy\n",
      "  outbreaks_weekly['year'] = outbreaks_weekly['start_of_week'].dt.year\n"
     ]
    },
    {
     "data": {
      "text/html": [
       "<div>\n",
       "<style scoped>\n",
       "    .dataframe tbody tr th:only-of-type {\n",
       "        vertical-align: middle;\n",
       "    }\n",
       "\n",
       "    .dataframe tbody tr th {\n",
       "        vertical-align: top;\n",
       "    }\n",
       "\n",
       "    .dataframe thead th {\n",
       "        text-align: right;\n",
       "    }\n",
       "</style>\n",
       "<table border=\"1\" class=\"dataframe\">\n",
       "  <thead>\n",
       "    <tr style=\"text-align: right;\">\n",
       "      <th></th>\n",
       "      <th>start_of_week</th>\n",
       "      <th>ADM4_PCODE</th>\n",
       "      <th>NumCases</th>\n",
       "      <th>outbreak</th>\n",
       "      <th>year</th>\n",
       "    </tr>\n",
       "  </thead>\n",
       "  <tbody>\n",
       "    <tr>\n",
       "      <th>64</th>\n",
       "      <td>2013-01-07</td>\n",
       "      <td>PH097332072</td>\n",
       "      <td>8.0</td>\n",
       "      <td>1</td>\n",
       "      <td>2013</td>\n",
       "    </tr>\n",
       "    <tr>\n",
       "      <th>68</th>\n",
       "      <td>2013-01-07</td>\n",
       "      <td>PH097332076</td>\n",
       "      <td>9.0</td>\n",
       "      <td>1</td>\n",
       "      <td>2013</td>\n",
       "    </tr>\n",
       "    <tr>\n",
       "      <th>79</th>\n",
       "      <td>2013-01-07</td>\n",
       "      <td>PH097332087</td>\n",
       "      <td>6.0</td>\n",
       "      <td>1</td>\n",
       "      <td>2013</td>\n",
       "    </tr>\n",
       "    <tr>\n",
       "      <th>148</th>\n",
       "      <td>2013-01-14</td>\n",
       "      <td>PH097332059</td>\n",
       "      <td>8.0</td>\n",
       "      <td>1</td>\n",
       "      <td>2013</td>\n",
       "    </tr>\n",
       "    <tr>\n",
       "      <th>154</th>\n",
       "      <td>2013-01-14</td>\n",
       "      <td>PH097332065</td>\n",
       "      <td>7.0</td>\n",
       "      <td>1</td>\n",
       "      <td>2013</td>\n",
       "    </tr>\n",
       "    <tr>\n",
       "      <th>...</th>\n",
       "      <td>...</td>\n",
       "      <td>...</td>\n",
       "      <td>...</td>\n",
       "      <td>...</td>\n",
       "      <td>...</td>\n",
       "    </tr>\n",
       "    <tr>\n",
       "      <th>34887</th>\n",
       "      <td>2019-11-25</td>\n",
       "      <td>PH097332072</td>\n",
       "      <td>2.0</td>\n",
       "      <td>1</td>\n",
       "      <td>2019</td>\n",
       "    </tr>\n",
       "    <tr>\n",
       "      <th>34902</th>\n",
       "      <td>2019-11-25</td>\n",
       "      <td>PH097332087</td>\n",
       "      <td>3.0</td>\n",
       "      <td>1</td>\n",
       "      <td>2019</td>\n",
       "    </tr>\n",
       "    <tr>\n",
       "      <th>35473</th>\n",
       "      <td>2020-01-06</td>\n",
       "      <td>PH097332076</td>\n",
       "      <td>7.0</td>\n",
       "      <td>1</td>\n",
       "      <td>2020</td>\n",
       "    </tr>\n",
       "    <tr>\n",
       "      <th>35570</th>\n",
       "      <td>2020-01-13</td>\n",
       "      <td>PH097332076</td>\n",
       "      <td>3.0</td>\n",
       "      <td>1</td>\n",
       "      <td>2020</td>\n",
       "    </tr>\n",
       "    <tr>\n",
       "      <th>35667</th>\n",
       "      <td>2020-01-20</td>\n",
       "      <td>PH097332076</td>\n",
       "      <td>0.0</td>\n",
       "      <td>1</td>\n",
       "      <td>2020</td>\n",
       "    </tr>\n",
       "  </tbody>\n",
       "</table>\n",
       "<p>1484 rows × 5 columns</p>\n",
       "</div>"
      ],
      "text/plain": [
       "      start_of_week   ADM4_PCODE  NumCases  outbreak  year\n",
       "64       2013-01-07  PH097332072       8.0         1  2013\n",
       "68       2013-01-07  PH097332076       9.0         1  2013\n",
       "79       2013-01-07  PH097332087       6.0         1  2013\n",
       "148      2013-01-14  PH097332059       8.0         1  2013\n",
       "154      2013-01-14  PH097332065       7.0         1  2013\n",
       "...             ...          ...       ...       ...   ...\n",
       "34887    2019-11-25  PH097332072       2.0         1  2019\n",
       "34902    2019-11-25  PH097332087       3.0         1  2019\n",
       "35473    2020-01-06  PH097332076       7.0         1  2020\n",
       "35570    2020-01-13  PH097332076       3.0         1  2020\n",
       "35667    2020-01-20  PH097332076       0.0         1  2020\n",
       "\n",
       "[1484 rows x 5 columns]"
      ]
     },
     "execution_count": 123,
     "metadata": {},
     "output_type": "execute_result"
    }
   ],
   "source": [
    "outbreaks_weekly[\"year\"] = outbreaks_weekly[\"start_of_week\"].dt.year\n",
    "outbreaks_weekly"
   ]
  },
  {
   "cell_type": "markdown",
   "metadata": {},
   "source": [
    "## Get Outbreaks table"
   ]
  },
  {
   "cell_type": "code",
   "execution_count": 124,
   "metadata": {},
   "outputs": [],
   "source": [
    "# Create a boolean mask for rows with outbreak_tag = 1\n",
    "copy_brgy_weekly = brgy_weekly.copy()\n",
    "copy_brgy_weekly.sort_values(by=[\"ADM4_PCODE\", \"start_of_week\"], inplace=True)\n",
    "\n",
    "outbreak_mask = copy_brgy_weekly[\"outbreak\"] == 1\n",
    "\n",
    "# Calculate a group ID for each consecutive outbreak period\n",
    "# Calculate a group ID for each consecutive outbreak period within the same barangay\n",
    "outbreak_groups = (outbreak_mask != outbreak_mask.shift(fill_value=False)).cumsum()\n",
    "# Add the 'outbreak_groups' column to the DataFrame\n",
    "copy_brgy_weekly[\"outbreak_group\"] = outbreak_groups"
   ]
  },
  {
   "cell_type": "code",
   "execution_count": 125,
   "metadata": {},
   "outputs": [],
   "source": [
    "# Filter rows with outbreak_tag = 1\n",
    "outbreak_df = copy_brgy_weekly[outbreak_mask]"
   ]
  },
  {
   "cell_type": "code",
   "execution_count": 126,
   "metadata": {},
   "outputs": [
    {
     "data": {
      "text/html": [
       "<div>\n",
       "<style scoped>\n",
       "    .dataframe tbody tr th:only-of-type {\n",
       "        vertical-align: middle;\n",
       "    }\n",
       "\n",
       "    .dataframe tbody tr th {\n",
       "        vertical-align: top;\n",
       "    }\n",
       "\n",
       "    .dataframe thead th {\n",
       "        text-align: right;\n",
       "    }\n",
       "</style>\n",
       "<table border=\"1\" class=\"dataframe\">\n",
       "  <thead>\n",
       "    <tr style=\"text-align: right;\">\n",
       "      <th></th>\n",
       "      <th>start_of_week</th>\n",
       "      <th>ADM4_PCODE</th>\n",
       "      <th>NumCases</th>\n",
       "      <th>outbreak</th>\n",
       "      <th>outbreak_group</th>\n",
       "    </tr>\n",
       "  </thead>\n",
       "  <tbody>\n",
       "    <tr>\n",
       "      <th>6694</th>\n",
       "      <td>2014-05-05</td>\n",
       "      <td>PH097332002</td>\n",
       "      <td>8.0</td>\n",
       "      <td>1</td>\n",
       "      <td>1</td>\n",
       "    </tr>\n",
       "    <tr>\n",
       "      <th>6791</th>\n",
       "      <td>2014-05-12</td>\n",
       "      <td>PH097332002</td>\n",
       "      <td>3.0</td>\n",
       "      <td>1</td>\n",
       "      <td>1</td>\n",
       "    </tr>\n",
       "    <tr>\n",
       "      <th>6888</th>\n",
       "      <td>2014-05-19</td>\n",
       "      <td>PH097332002</td>\n",
       "      <td>3.0</td>\n",
       "      <td>1</td>\n",
       "      <td>1</td>\n",
       "    </tr>\n",
       "    <tr>\n",
       "      <th>7082</th>\n",
       "      <td>2014-06-02</td>\n",
       "      <td>PH097332002</td>\n",
       "      <td>6.0</td>\n",
       "      <td>1</td>\n",
       "      <td>3</td>\n",
       "    </tr>\n",
       "    <tr>\n",
       "      <th>7179</th>\n",
       "      <td>2014-06-09</td>\n",
       "      <td>PH097332002</td>\n",
       "      <td>6.0</td>\n",
       "      <td>1</td>\n",
       "      <td>3</td>\n",
       "    </tr>\n",
       "    <tr>\n",
       "      <th>...</th>\n",
       "      <td>...</td>\n",
       "      <td>...</td>\n",
       "      <td>...</td>\n",
       "      <td>...</td>\n",
       "      <td>...</td>\n",
       "    </tr>\n",
       "    <tr>\n",
       "      <th>33464</th>\n",
       "      <td>2019-08-12</td>\n",
       "      <td>PH097332104</td>\n",
       "      <td>0.0</td>\n",
       "      <td>1</td>\n",
       "      <td>539</td>\n",
       "    </tr>\n",
       "    <tr>\n",
       "      <th>33561</th>\n",
       "      <td>2019-08-19</td>\n",
       "      <td>PH097332104</td>\n",
       "      <td>1.0</td>\n",
       "      <td>1</td>\n",
       "      <td>539</td>\n",
       "    </tr>\n",
       "    <tr>\n",
       "      <th>33852</th>\n",
       "      <td>2019-09-09</td>\n",
       "      <td>PH097332104</td>\n",
       "      <td>6.0</td>\n",
       "      <td>1</td>\n",
       "      <td>541</td>\n",
       "    </tr>\n",
       "    <tr>\n",
       "      <th>33949</th>\n",
       "      <td>2019-09-16</td>\n",
       "      <td>PH097332104</td>\n",
       "      <td>1.0</td>\n",
       "      <td>1</td>\n",
       "      <td>541</td>\n",
       "    </tr>\n",
       "    <tr>\n",
       "      <th>34046</th>\n",
       "      <td>2019-09-23</td>\n",
       "      <td>PH097332104</td>\n",
       "      <td>2.0</td>\n",
       "      <td>1</td>\n",
       "      <td>541</td>\n",
       "    </tr>\n",
       "  </tbody>\n",
       "</table>\n",
       "<p>1484 rows × 5 columns</p>\n",
       "</div>"
      ],
      "text/plain": [
       "      start_of_week   ADM4_PCODE  NumCases  outbreak  outbreak_group\n",
       "6694     2014-05-05  PH097332002       8.0         1               1\n",
       "6791     2014-05-12  PH097332002       3.0         1               1\n",
       "6888     2014-05-19  PH097332002       3.0         1               1\n",
       "7082     2014-06-02  PH097332002       6.0         1               3\n",
       "7179     2014-06-09  PH097332002       6.0         1               3\n",
       "...             ...          ...       ...       ...             ...\n",
       "33464    2019-08-12  PH097332104       0.0         1             539\n",
       "33561    2019-08-19  PH097332104       1.0         1             539\n",
       "33852    2019-09-09  PH097332104       6.0         1             541\n",
       "33949    2019-09-16  PH097332104       1.0         1             541\n",
       "34046    2019-09-23  PH097332104       2.0         1             541\n",
       "\n",
       "[1484 rows x 5 columns]"
      ]
     },
     "execution_count": 126,
     "metadata": {},
     "output_type": "execute_result"
    }
   ],
   "source": [
    "outbreak_df"
   ]
  },
  {
   "cell_type": "code",
   "execution_count": 127,
   "metadata": {},
   "outputs": [
    {
     "data": {
      "text/html": [
       "<div>\n",
       "<style scoped>\n",
       "    .dataframe tbody tr th:only-of-type {\n",
       "        vertical-align: middle;\n",
       "    }\n",
       "\n",
       "    .dataframe tbody tr th {\n",
       "        vertical-align: top;\n",
       "    }\n",
       "\n",
       "    .dataframe thead th {\n",
       "        text-align: right;\n",
       "    }\n",
       "</style>\n",
       "<table border=\"1\" class=\"dataframe\">\n",
       "  <thead>\n",
       "    <tr style=\"text-align: right;\">\n",
       "      <th></th>\n",
       "      <th>ADM4_PCODE</th>\n",
       "      <th>outbreak_group</th>\n",
       "      <th>start_date</th>\n",
       "      <th>end_date</th>\n",
       "      <th>length_weeks</th>\n",
       "    </tr>\n",
       "  </thead>\n",
       "  <tbody>\n",
       "    <tr>\n",
       "      <th>0</th>\n",
       "      <td>PH097332002</td>\n",
       "      <td>1</td>\n",
       "      <td>2014-05-05</td>\n",
       "      <td>2014-05-19</td>\n",
       "      <td>3</td>\n",
       "    </tr>\n",
       "    <tr>\n",
       "      <th>1</th>\n",
       "      <td>PH097332002</td>\n",
       "      <td>3</td>\n",
       "      <td>2014-06-02</td>\n",
       "      <td>2014-08-04</td>\n",
       "      <td>10</td>\n",
       "    </tr>\n",
       "    <tr>\n",
       "      <th>2</th>\n",
       "      <td>PH097332002</td>\n",
       "      <td>5</td>\n",
       "      <td>2014-08-25</td>\n",
       "      <td>2014-09-08</td>\n",
       "      <td>3</td>\n",
       "    </tr>\n",
       "  </tbody>\n",
       "</table>\n",
       "</div>"
      ],
      "text/plain": [
       "    ADM4_PCODE  outbreak_group start_date   end_date  length_weeks\n",
       "0  PH097332002               1 2014-05-05 2014-05-19             3\n",
       "1  PH097332002               3 2014-06-02 2014-08-04            10\n",
       "2  PH097332002               5 2014-08-25 2014-09-08             3"
      ]
     },
     "execution_count": 127,
     "metadata": {},
     "output_type": "execute_result"
    }
   ],
   "source": [
    "# Group by 'barangay' and 'outbreak_group' and calculate start date, end date, and length\n",
    "outbreak_summary = (\n",
    "    outbreak_df.groupby([\"ADM4_PCODE\", \"outbreak_group\"])\n",
    "    .agg(\n",
    "        start_date=(\"start_of_week\", \"min\"),\n",
    "        end_date=(\"start_of_week\", \"max\"),\n",
    "        length_weeks=(\"outbreak\", \"count\"),\n",
    "    )\n",
    "    .reset_index()\n",
    ")\n",
    "\n",
    "outbreak_summary.head(3)"
   ]
  },
  {
   "cell_type": "code",
   "execution_count": 128,
   "metadata": {},
   "outputs": [
    {
     "data": {
      "text/html": [
       "<div>\n",
       "<style scoped>\n",
       "    .dataframe tbody tr th:only-of-type {\n",
       "        vertical-align: middle;\n",
       "    }\n",
       "\n",
       "    .dataframe tbody tr th {\n",
       "        vertical-align: top;\n",
       "    }\n",
       "\n",
       "    .dataframe thead th {\n",
       "        text-align: right;\n",
       "    }\n",
       "</style>\n",
       "<table border=\"1\" class=\"dataframe\">\n",
       "  <thead>\n",
       "    <tr style=\"text-align: right;\">\n",
       "      <th></th>\n",
       "      <th>ADM4_PCODE</th>\n",
       "      <th>outbreak_group</th>\n",
       "      <th>start_date</th>\n",
       "      <th>end_date</th>\n",
       "      <th>length_weeks</th>\n",
       "    </tr>\n",
       "  </thead>\n",
       "  <tbody>\n",
       "    <tr>\n",
       "      <th>0</th>\n",
       "      <td>PH097332002</td>\n",
       "      <td>1</td>\n",
       "      <td>2014-05-05</td>\n",
       "      <td>2014-05-19</td>\n",
       "      <td>3</td>\n",
       "    </tr>\n",
       "    <tr>\n",
       "      <th>1</th>\n",
       "      <td>PH097332002</td>\n",
       "      <td>3</td>\n",
       "      <td>2014-06-02</td>\n",
       "      <td>2014-08-04</td>\n",
       "      <td>10</td>\n",
       "    </tr>\n",
       "    <tr>\n",
       "      <th>2</th>\n",
       "      <td>PH097332002</td>\n",
       "      <td>5</td>\n",
       "      <td>2014-08-25</td>\n",
       "      <td>2014-09-08</td>\n",
       "      <td>3</td>\n",
       "    </tr>\n",
       "    <tr>\n",
       "      <th>3</th>\n",
       "      <td>PH097332002</td>\n",
       "      <td>7</td>\n",
       "      <td>2015-08-31</td>\n",
       "      <td>2015-09-14</td>\n",
       "      <td>3</td>\n",
       "    </tr>\n",
       "    <tr>\n",
       "      <th>4</th>\n",
       "      <td>PH097332002</td>\n",
       "      <td>9</td>\n",
       "      <td>2015-10-26</td>\n",
       "      <td>2015-11-09</td>\n",
       "      <td>3</td>\n",
       "    </tr>\n",
       "    <tr>\n",
       "      <th>...</th>\n",
       "      <td>...</td>\n",
       "      <td>...</td>\n",
       "      <td>...</td>\n",
       "      <td>...</td>\n",
       "      <td>...</td>\n",
       "    </tr>\n",
       "    <tr>\n",
       "      <th>266</th>\n",
       "      <td>PH097332101</td>\n",
       "      <td>533</td>\n",
       "      <td>2019-06-10</td>\n",
       "      <td>2019-06-24</td>\n",
       "      <td>3</td>\n",
       "    </tr>\n",
       "    <tr>\n",
       "      <th>267</th>\n",
       "      <td>PH097332103</td>\n",
       "      <td>535</td>\n",
       "      <td>2019-06-24</td>\n",
       "      <td>2019-07-08</td>\n",
       "      <td>3</td>\n",
       "    </tr>\n",
       "    <tr>\n",
       "      <th>268</th>\n",
       "      <td>PH097332104</td>\n",
       "      <td>537</td>\n",
       "      <td>2019-01-28</td>\n",
       "      <td>2019-02-11</td>\n",
       "      <td>3</td>\n",
       "    </tr>\n",
       "    <tr>\n",
       "      <th>269</th>\n",
       "      <td>PH097332104</td>\n",
       "      <td>539</td>\n",
       "      <td>2019-07-15</td>\n",
       "      <td>2019-08-19</td>\n",
       "      <td>6</td>\n",
       "    </tr>\n",
       "    <tr>\n",
       "      <th>270</th>\n",
       "      <td>PH097332104</td>\n",
       "      <td>541</td>\n",
       "      <td>2019-09-09</td>\n",
       "      <td>2019-09-23</td>\n",
       "      <td>3</td>\n",
       "    </tr>\n",
       "  </tbody>\n",
       "</table>\n",
       "<p>271 rows × 5 columns</p>\n",
       "</div>"
      ],
      "text/plain": [
       "      ADM4_PCODE  outbreak_group start_date   end_date  length_weeks\n",
       "0    PH097332002               1 2014-05-05 2014-05-19             3\n",
       "1    PH097332002               3 2014-06-02 2014-08-04            10\n",
       "2    PH097332002               5 2014-08-25 2014-09-08             3\n",
       "3    PH097332002               7 2015-08-31 2015-09-14             3\n",
       "4    PH097332002               9 2015-10-26 2015-11-09             3\n",
       "..           ...             ...        ...        ...           ...\n",
       "266  PH097332101             533 2019-06-10 2019-06-24             3\n",
       "267  PH097332103             535 2019-06-24 2019-07-08             3\n",
       "268  PH097332104             537 2019-01-28 2019-02-11             3\n",
       "269  PH097332104             539 2019-07-15 2019-08-19             6\n",
       "270  PH097332104             541 2019-09-09 2019-09-23             3\n",
       "\n",
       "[271 rows x 5 columns]"
      ]
     },
     "execution_count": 128,
     "metadata": {},
     "output_type": "execute_result"
    }
   ],
   "source": [
    "outbreak_summary"
   ]
  },
  {
   "cell_type": "code",
   "execution_count": 129,
   "metadata": {},
   "outputs": [
    {
     "data": {
      "text/html": [
       "<div>\n",
       "<style scoped>\n",
       "    .dataframe tbody tr th:only-of-type {\n",
       "        vertical-align: middle;\n",
       "    }\n",
       "\n",
       "    .dataframe tbody tr th {\n",
       "        vertical-align: top;\n",
       "    }\n",
       "\n",
       "    .dataframe thead th {\n",
       "        text-align: right;\n",
       "    }\n",
       "</style>\n",
       "<table border=\"1\" class=\"dataframe\">\n",
       "  <thead>\n",
       "    <tr style=\"text-align: right;\">\n",
       "      <th></th>\n",
       "      <th>ADM4_PCODE</th>\n",
       "      <th>outbreak_group</th>\n",
       "      <th>start_date</th>\n",
       "      <th>end_date</th>\n",
       "      <th>length_weeks</th>\n",
       "    </tr>\n",
       "  </thead>\n",
       "  <tbody>\n",
       "    <tr>\n",
       "      <th>215</th>\n",
       "      <td>PH097332087</td>\n",
       "      <td>431</td>\n",
       "      <td>2013-01-07</td>\n",
       "      <td>2013-04-08</td>\n",
       "      <td>14</td>\n",
       "    </tr>\n",
       "    <tr>\n",
       "      <th>216</th>\n",
       "      <td>PH097332087</td>\n",
       "      <td>433</td>\n",
       "      <td>2013-04-22</td>\n",
       "      <td>2013-07-29</td>\n",
       "      <td>15</td>\n",
       "    </tr>\n",
       "    <tr>\n",
       "      <th>217</th>\n",
       "      <td>PH097332087</td>\n",
       "      <td>435</td>\n",
       "      <td>2013-08-19</td>\n",
       "      <td>2013-09-02</td>\n",
       "      <td>3</td>\n",
       "    </tr>\n",
       "    <tr>\n",
       "      <th>218</th>\n",
       "      <td>PH097332087</td>\n",
       "      <td>437</td>\n",
       "      <td>2014-02-24</td>\n",
       "      <td>2014-03-10</td>\n",
       "      <td>3</td>\n",
       "    </tr>\n",
       "    <tr>\n",
       "      <th>219</th>\n",
       "      <td>PH097332087</td>\n",
       "      <td>439</td>\n",
       "      <td>2014-05-12</td>\n",
       "      <td>2014-08-18</td>\n",
       "      <td>15</td>\n",
       "    </tr>\n",
       "    <tr>\n",
       "      <th>220</th>\n",
       "      <td>PH097332087</td>\n",
       "      <td>441</td>\n",
       "      <td>2014-09-01</td>\n",
       "      <td>2014-09-15</td>\n",
       "      <td>3</td>\n",
       "    </tr>\n",
       "    <tr>\n",
       "      <th>221</th>\n",
       "      <td>PH097332087</td>\n",
       "      <td>443</td>\n",
       "      <td>2014-10-13</td>\n",
       "      <td>2014-12-01</td>\n",
       "      <td>8</td>\n",
       "    </tr>\n",
       "    <tr>\n",
       "      <th>222</th>\n",
       "      <td>PH097332087</td>\n",
       "      <td>445</td>\n",
       "      <td>2015-01-05</td>\n",
       "      <td>2015-01-19</td>\n",
       "      <td>3</td>\n",
       "    </tr>\n",
       "    <tr>\n",
       "      <th>223</th>\n",
       "      <td>PH097332087</td>\n",
       "      <td>447</td>\n",
       "      <td>2015-06-08</td>\n",
       "      <td>2015-06-22</td>\n",
       "      <td>3</td>\n",
       "    </tr>\n",
       "    <tr>\n",
       "      <th>224</th>\n",
       "      <td>PH097332087</td>\n",
       "      <td>449</td>\n",
       "      <td>2015-07-06</td>\n",
       "      <td>2015-08-10</td>\n",
       "      <td>6</td>\n",
       "    </tr>\n",
       "    <tr>\n",
       "      <th>225</th>\n",
       "      <td>PH097332087</td>\n",
       "      <td>451</td>\n",
       "      <td>2015-08-24</td>\n",
       "      <td>2015-09-21</td>\n",
       "      <td>5</td>\n",
       "    </tr>\n",
       "    <tr>\n",
       "      <th>226</th>\n",
       "      <td>PH097332087</td>\n",
       "      <td>453</td>\n",
       "      <td>2015-11-09</td>\n",
       "      <td>2015-12-14</td>\n",
       "      <td>6</td>\n",
       "    </tr>\n",
       "    <tr>\n",
       "      <th>227</th>\n",
       "      <td>PH097332087</td>\n",
       "      <td>455</td>\n",
       "      <td>2016-01-18</td>\n",
       "      <td>2016-02-01</td>\n",
       "      <td>3</td>\n",
       "    </tr>\n",
       "    <tr>\n",
       "      <th>228</th>\n",
       "      <td>PH097332087</td>\n",
       "      <td>457</td>\n",
       "      <td>2016-07-11</td>\n",
       "      <td>2016-11-21</td>\n",
       "      <td>20</td>\n",
       "    </tr>\n",
       "    <tr>\n",
       "      <th>229</th>\n",
       "      <td>PH097332087</td>\n",
       "      <td>459</td>\n",
       "      <td>2017-06-05</td>\n",
       "      <td>2017-07-10</td>\n",
       "      <td>6</td>\n",
       "    </tr>\n",
       "    <tr>\n",
       "      <th>230</th>\n",
       "      <td>PH097332087</td>\n",
       "      <td>461</td>\n",
       "      <td>2017-07-24</td>\n",
       "      <td>2017-08-07</td>\n",
       "      <td>3</td>\n",
       "    </tr>\n",
       "    <tr>\n",
       "      <th>231</th>\n",
       "      <td>PH097332087</td>\n",
       "      <td>463</td>\n",
       "      <td>2019-01-21</td>\n",
       "      <td>2019-02-11</td>\n",
       "      <td>4</td>\n",
       "    </tr>\n",
       "    <tr>\n",
       "      <th>232</th>\n",
       "      <td>PH097332087</td>\n",
       "      <td>465</td>\n",
       "      <td>2019-03-18</td>\n",
       "      <td>2019-04-01</td>\n",
       "      <td>3</td>\n",
       "    </tr>\n",
       "    <tr>\n",
       "      <th>233</th>\n",
       "      <td>PH097332087</td>\n",
       "      <td>467</td>\n",
       "      <td>2019-05-20</td>\n",
       "      <td>2019-10-14</td>\n",
       "      <td>22</td>\n",
       "    </tr>\n",
       "    <tr>\n",
       "      <th>234</th>\n",
       "      <td>PH097332087</td>\n",
       "      <td>469</td>\n",
       "      <td>2019-11-11</td>\n",
       "      <td>2019-11-25</td>\n",
       "      <td>3</td>\n",
       "    </tr>\n",
       "  </tbody>\n",
       "</table>\n",
       "</div>"
      ],
      "text/plain": [
       "      ADM4_PCODE  outbreak_group start_date   end_date  length_weeks\n",
       "215  PH097332087             431 2013-01-07 2013-04-08            14\n",
       "216  PH097332087             433 2013-04-22 2013-07-29            15\n",
       "217  PH097332087             435 2013-08-19 2013-09-02             3\n",
       "218  PH097332087             437 2014-02-24 2014-03-10             3\n",
       "219  PH097332087             439 2014-05-12 2014-08-18            15\n",
       "220  PH097332087             441 2014-09-01 2014-09-15             3\n",
       "221  PH097332087             443 2014-10-13 2014-12-01             8\n",
       "222  PH097332087             445 2015-01-05 2015-01-19             3\n",
       "223  PH097332087             447 2015-06-08 2015-06-22             3\n",
       "224  PH097332087             449 2015-07-06 2015-08-10             6\n",
       "225  PH097332087             451 2015-08-24 2015-09-21             5\n",
       "226  PH097332087             453 2015-11-09 2015-12-14             6\n",
       "227  PH097332087             455 2016-01-18 2016-02-01             3\n",
       "228  PH097332087             457 2016-07-11 2016-11-21            20\n",
       "229  PH097332087             459 2017-06-05 2017-07-10             6\n",
       "230  PH097332087             461 2017-07-24 2017-08-07             3\n",
       "231  PH097332087             463 2019-01-21 2019-02-11             4\n",
       "232  PH097332087             465 2019-03-18 2019-04-01             3\n",
       "233  PH097332087             467 2019-05-20 2019-10-14            22\n",
       "234  PH097332087             469 2019-11-11 2019-11-25             3"
      ]
     },
     "execution_count": 129,
     "metadata": {},
     "output_type": "execute_result"
    }
   ],
   "source": [
    "outbreak_summary[outbreak_summary[\"ADM4_PCODE\"] == \"PH097332087\"]"
   ]
  },
  {
   "cell_type": "code",
   "execution_count": 52,
   "metadata": {},
   "outputs": [],
   "source": [
    "# grouped.to_csv(LGU_DIR/\"outbreaks_weekly_zamboanga_v1.csv\")"
   ]
  },
  {
   "cell_type": "code",
   "execution_count": null,
   "metadata": {},
   "outputs": [],
   "source": []
  }
 ],
 "metadata": {
  "kernelspec": {
   "display_name": "lacuna-fund",
   "language": "python",
   "name": "python3"
  },
  "language_info": {
   "codemirror_mode": {
    "name": "ipython",
    "version": 3
   },
   "file_extension": ".py",
   "mimetype": "text/x-python",
   "name": "python",
   "nbconvert_exporter": "python",
   "pygments_lexer": "ipython3",
   "version": "3.9.18"
  },
  "orig_nbformat": 4
 },
 "nbformat": 4,
 "nbformat_minor": 2
}
